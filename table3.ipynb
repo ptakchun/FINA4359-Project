{
 "metadata": {
  "language_info": {
   "codemirror_mode": {
    "name": "ipython",
    "version": 3
   },
   "file_extension": ".py",
   "mimetype": "text/x-python",
   "name": "python",
   "nbconvert_exporter": "python",
   "pygments_lexer": "ipython3",
   "version": "3.8.1"
  },
  "orig_nbformat": 2,
  "kernelspec": {
   "name": "python381jvsc74a57bd017ea5540087fa84e9325eca06d4d2f7ee74750dd3fb7333b7294c3d5a3b2df48",
   "display_name": "Python 3.8.1 64-bit ('venv': virtualenvwrapper)"
  }
 },
 "nbformat": 4,
 "nbformat_minor": 2,
 "cells": [
  {
   "cell_type": "code",
   "execution_count": 3,
   "metadata": {},
   "outputs": [
    {
     "output_type": "stream",
     "name": "stdout",
     "text": [
      "Collecting matplotlib\n",
      "  Downloading matplotlib-3.4.2-cp38-cp38-macosx_10_9_x86_64.whl (7.2 MB)\n",
      "\u001b[K     |████████████████████████████████| 7.2 MB 2.0 MB/s \n",
      "\u001b[?25hCollecting kiwisolver>=1.0.1\n",
      "  Downloading kiwisolver-1.3.1-cp38-cp38-macosx_10_9_x86_64.whl (61 kB)\n",
      "\u001b[K     |████████████████████████████████| 61 kB 426 kB/s \n",
      "\u001b[?25hCollecting pyparsing>=2.2.1\n",
      "  Using cached pyparsing-2.4.7-py2.py3-none-any.whl (67 kB)\n",
      "Requirement already satisfied: numpy>=1.16 in /Users/snow/.virtualenvs/venv/lib/python3.8/site-packages (from matplotlib) (1.20.2)\n",
      "Requirement already satisfied: python-dateutil>=2.7 in /Users/snow/.virtualenvs/venv/lib/python3.8/site-packages (from matplotlib) (2.8.1)\n",
      "Collecting cycler>=0.10\n",
      "  Using cached cycler-0.10.0-py2.py3-none-any.whl (6.5 kB)\n",
      "Collecting pillow>=6.2.0\n",
      "  Downloading Pillow-8.2.0-cp38-cp38-macosx_10_10_x86_64.whl (2.8 MB)\n",
      "\u001b[K     |████████████████████████████████| 2.8 MB 9.1 MB/s \n",
      "\u001b[?25hRequirement already satisfied: six in /Users/snow/.virtualenvs/venv/lib/python3.8/site-packages (from cycler>=0.10->matplotlib) (1.15.0)\n",
      "Installing collected packages: pyparsing, pillow, kiwisolver, cycler, matplotlib\n",
      "Successfully installed cycler-0.10.0 kiwisolver-1.3.1 matplotlib-3.4.2 pillow-8.2.0 pyparsing-2.4.7\n",
      "\u001b[33mWARNING: You are using pip version 21.0.1; however, version 21.1.2 is available.\n",
      "You should consider upgrading via the '/Users/snow/.virtualenvs/venv/bin/python -m pip install --upgrade pip' command.\u001b[0m\n",
      "Note: you may need to restart the kernel to use updated packages.\n"
     ]
    }
   ],
   "source": [
    "pip install matplotlib"
   ]
  },
  {
   "cell_type": "code",
   "execution_count": 5,
   "metadata": {},
   "outputs": [
    {
     "output_type": "stream",
     "name": "stdout",
     "text": [
      "Collecting statsmodels\n",
      "  Downloading statsmodels-0.12.2-cp38-cp38-macosx_10_15_x86_64.whl (9.5 MB)\n",
      "\u001b[K     |████████████████████████████████| 9.5 MB 970 kB/s \n",
      "\u001b[?25hCollecting patsy>=0.5\n",
      "  Downloading patsy-0.5.1-py2.py3-none-any.whl (231 kB)\n",
      "\u001b[K     |████████████████████████████████| 231 kB 14.1 MB/s \n",
      "\u001b[?25hRequirement already satisfied: numpy>=1.15 in /Users/snow/.virtualenvs/venv/lib/python3.8/site-packages (from statsmodels) (1.20.2)\n",
      "Collecting scipy>=1.1\n",
      "  Downloading scipy-1.6.3-cp38-cp38-macosx_10_9_x86_64.whl (30.8 MB)\n",
      "\u001b[K     |████████████████████████████████| 30.8 MB 9.6 MB/s \n",
      "\u001b[?25hRequirement already satisfied: pandas>=0.21 in /Users/snow/.virtualenvs/venv/lib/python3.8/site-packages (from statsmodels) (1.2.3)\n",
      "Requirement already satisfied: python-dateutil>=2.7.3 in /Users/snow/.virtualenvs/venv/lib/python3.8/site-packages (from pandas>=0.21->statsmodels) (2.8.1)\n",
      "Requirement already satisfied: pytz>=2017.3 in /Users/snow/.virtualenvs/venv/lib/python3.8/site-packages (from pandas>=0.21->statsmodels) (2021.1)\n",
      "Requirement already satisfied: six in /Users/snow/.virtualenvs/venv/lib/python3.8/site-packages (from patsy>=0.5->statsmodels) (1.15.0)\n",
      "Installing collected packages: scipy, patsy, statsmodels\n",
      "Successfully installed patsy-0.5.1 scipy-1.6.3 statsmodels-0.12.2\n",
      "\u001b[33mWARNING: You are using pip version 21.0.1; however, version 21.1.2 is available.\n",
      "You should consider upgrading via the '/Users/snow/.virtualenvs/venv/bin/python -m pip install --upgrade pip' command.\u001b[0m\n",
      "Note: you may need to restart the kernel to use updated packages.\n"
     ]
    }
   ],
   "source": [
    "pip install statsmodels"
   ]
  },
  {
   "cell_type": "code",
   "execution_count": 7,
   "metadata": {},
   "outputs": [
    {
     "output_type": "stream",
     "name": "stdout",
     "text": [
      "Collecting tqdm\n",
      "  Downloading tqdm-4.60.0-py2.py3-none-any.whl (75 kB)\n",
      "\u001b[K     |████████████████████████████████| 75 kB 2.5 MB/s \n",
      "\u001b[?25hInstalling collected packages: tqdm\n",
      "Successfully installed tqdm-4.60.0\n",
      "\u001b[33mWARNING: You are using pip version 21.0.1; however, version 21.1.2 is available.\n",
      "You should consider upgrading via the '/Users/snow/.virtualenvs/venv/bin/python -m pip install --upgrade pip' command.\u001b[0m\n",
      "Note: you may need to restart the kernel to use updated packages.\n"
     ]
    }
   ],
   "source": [
    "pip install tqdm"
   ]
  },
  {
   "cell_type": "code",
   "execution_count": 12,
   "metadata": {},
   "outputs": [],
   "source": [
    "#In[]\n",
    "import pandas as pd\n",
    "import numpy as np\n",
    "import matplotlib.pyplot as plt\n",
    "from pandas.tseries.offsets import MonthEnd\n",
    "import statsmodels.api as sm\n",
    "from tqdm import tqdm\n",
    "from multiprocessing.dummy import Pool\n",
    "pd.set_option('display.max_rows', 500)\n",
    "# pd.set_option('display.max_columns', 500)"
   ]
  },
  {
   "cell_type": "code",
   "execution_count": 13,
   "metadata": {},
   "outputs": [
    {
     "output_type": "execute_result",
     "data": {
      "text/plain": [
       "         PERMNO       date SHRCD TICKER                 COMNAM     CUSIP  \\\n",
       "1359100   25881 1970-11-30    10     AE  A & E PLASTIK PAK INC  00003210   \n",
       "1359101   25881 1970-12-31    10     AE  A & E PLASTIK PAK INC  00003210   \n",
       "1359102   25881 1971-01-29    10     AE  A & E PLASTIK PAK INC  00003210   \n",
       "1359103   25881 1971-02-26    10     AE  A & E PLASTIK PAK INC  00003210   \n",
       "1359104   25881 1971-03-31    10     AE  A & E PLASTIK PAK INC  00003210   \n",
       "\n",
       "        DCLRDT RCRDDT DISTCD  DIVAMT     PRC     VOL        RET  SHROUT  \\\n",
       "1359100    NaT    NaT    NaN     NaN   9.000   318.0          C  2655.0   \n",
       "1359101    NaT    NaT    NaN     NaN  10.000   646.0   0.111111  2655.0   \n",
       "1359102    NaT    NaT    NaN     NaN   9.000   636.0  -0.100000  2655.0   \n",
       "1359103    NaT    NaT    NaN     NaN  11.125  2155.0   0.236111  2655.0   \n",
       "1359104    NaT    NaT    NaN     NaN   9.750  2062.0  -0.123596  2655.0   \n",
       "\n",
       "         SPREAD       RETX  year  month  PRC_t-1  \n",
       "1359100     NaN          C  1970     11      NaN  \n",
       "1359101     NaN   0.111111  1970     12    9.000  \n",
       "1359102     NaN  -0.100000  1971      1   10.000  \n",
       "1359103     NaN   0.236111  1971      2    9.000  \n",
       "1359104     NaN  -0.123596  1971      3   11.125  "
      ],
      "text/html": "<div>\n<style scoped>\n    .dataframe tbody tr th:only-of-type {\n        vertical-align: middle;\n    }\n\n    .dataframe tbody tr th {\n        vertical-align: top;\n    }\n\n    .dataframe thead th {\n        text-align: right;\n    }\n</style>\n<table border=\"1\" class=\"dataframe\">\n  <thead>\n    <tr style=\"text-align: right;\">\n      <th></th>\n      <th>PERMNO</th>\n      <th>date</th>\n      <th>SHRCD</th>\n      <th>TICKER</th>\n      <th>COMNAM</th>\n      <th>CUSIP</th>\n      <th>DCLRDT</th>\n      <th>RCRDDT</th>\n      <th>DISTCD</th>\n      <th>DIVAMT</th>\n      <th>PRC</th>\n      <th>VOL</th>\n      <th>RET</th>\n      <th>SHROUT</th>\n      <th>SPREAD</th>\n      <th>RETX</th>\n      <th>year</th>\n      <th>month</th>\n      <th>PRC_t-1</th>\n    </tr>\n  </thead>\n  <tbody>\n    <tr>\n      <th>1359100</th>\n      <td>25881</td>\n      <td>1970-11-30</td>\n      <td>10</td>\n      <td>AE</td>\n      <td>A &amp; E PLASTIK PAK INC</td>\n      <td>00003210</td>\n      <td>NaT</td>\n      <td>NaT</td>\n      <td>NaN</td>\n      <td>NaN</td>\n      <td>9.000</td>\n      <td>318.0</td>\n      <td>C</td>\n      <td>2655.0</td>\n      <td>NaN</td>\n      <td>C</td>\n      <td>1970</td>\n      <td>11</td>\n      <td>NaN</td>\n    </tr>\n    <tr>\n      <th>1359101</th>\n      <td>25881</td>\n      <td>1970-12-31</td>\n      <td>10</td>\n      <td>AE</td>\n      <td>A &amp; E PLASTIK PAK INC</td>\n      <td>00003210</td>\n      <td>NaT</td>\n      <td>NaT</td>\n      <td>NaN</td>\n      <td>NaN</td>\n      <td>10.000</td>\n      <td>646.0</td>\n      <td>0.111111</td>\n      <td>2655.0</td>\n      <td>NaN</td>\n      <td>0.111111</td>\n      <td>1970</td>\n      <td>12</td>\n      <td>9.000</td>\n    </tr>\n    <tr>\n      <th>1359102</th>\n      <td>25881</td>\n      <td>1971-01-29</td>\n      <td>10</td>\n      <td>AE</td>\n      <td>A &amp; E PLASTIK PAK INC</td>\n      <td>00003210</td>\n      <td>NaT</td>\n      <td>NaT</td>\n      <td>NaN</td>\n      <td>NaN</td>\n      <td>9.000</td>\n      <td>636.0</td>\n      <td>-0.100000</td>\n      <td>2655.0</td>\n      <td>NaN</td>\n      <td>-0.100000</td>\n      <td>1971</td>\n      <td>1</td>\n      <td>10.000</td>\n    </tr>\n    <tr>\n      <th>1359103</th>\n      <td>25881</td>\n      <td>1971-02-26</td>\n      <td>10</td>\n      <td>AE</td>\n      <td>A &amp; E PLASTIK PAK INC</td>\n      <td>00003210</td>\n      <td>NaT</td>\n      <td>NaT</td>\n      <td>NaN</td>\n      <td>NaN</td>\n      <td>11.125</td>\n      <td>2155.0</td>\n      <td>0.236111</td>\n      <td>2655.0</td>\n      <td>NaN</td>\n      <td>0.236111</td>\n      <td>1971</td>\n      <td>2</td>\n      <td>9.000</td>\n    </tr>\n    <tr>\n      <th>1359104</th>\n      <td>25881</td>\n      <td>1971-03-31</td>\n      <td>10</td>\n      <td>AE</td>\n      <td>A &amp; E PLASTIK PAK INC</td>\n      <td>00003210</td>\n      <td>NaT</td>\n      <td>NaT</td>\n      <td>NaN</td>\n      <td>NaN</td>\n      <td>9.750</td>\n      <td>2062.0</td>\n      <td>-0.123596</td>\n      <td>2655.0</td>\n      <td>NaN</td>\n      <td>-0.123596</td>\n      <td>1971</td>\n      <td>3</td>\n      <td>11.125</td>\n    </tr>\n  </tbody>\n</table>\n</div>"
     },
     "metadata": {},
     "execution_count": 13
    }
   ],
   "source": [
    "#In[]\n",
    "crsp_df = pd.read_csv(\"crsp.zip\", compression='zip',header=0,\n",
    "             parse_dates = ['date','DCLRDT','RCRDDT'],\n",
    "             dtype={\"PRC\": np.float64,\n",
    "                  \"VOL\": np.float64,\n",
    "                  \"SHROUT\": np.float64,\n",
    "                  \"DIVAMT\": np.float64,\n",
    "                  \"SPREAD\": np.float64,\n",
    "                  \"SHRCD\":str,\n",
    "                  \"DISTCD\":str,\n",
    "                  \"COMNAM\": str,\n",
    "                  \"TICKER\": str,\n",
    "                   'CUSIP': str})\n",
    "#Data Preprocessing\n",
    "crsp_df = crsp_df[(crsp_df.SHRCD.isin(('10','11')))]\n",
    "crsp_df = crsp_df[(crsp_df.date >= '1927-01-01')]\n",
    "crsp_df = crsp_df[(crsp_df.date <= '2011-12-31')]\n",
    "cusips_DISTCD_12 = crsp_df[crsp_df.DISTCD.apply(lambda x: x[:2]=='12' if isinstance(x, str) else False)].CUSIP.unique()\n",
    "crsp_df = crsp_df[crsp_df.CUSIP.isin(cusips_DISTCD_12)]\n",
    "\n",
    "crsp_df.PRC = crsp_df.PRC.abs()\n",
    "\n",
    "\n",
    "crsp_df['year'] = crsp_df['date'].dt.year\n",
    "crsp_df['month'] = crsp_df['date'].dt.month\n",
    "crsp_df.sort_values(by=['CUSIP','date'], ascending=True, inplace=True)\n",
    "crsp_df['PRC_t-1'] = crsp_df.groupby('CUSIP')['PRC'].shift(1)\n",
    "crsp_df.head()"
   ]
  },
  {
   "cell_type": "code",
   "execution_count": 14,
   "metadata": {},
   "outputs": [
    {
     "output_type": "execute_result",
     "data": {
      "text/plain": [
       "                    DCLRDT RCRDDT DISTCD  DIVAMT        RET        VOL  \\\n",
       "CUSIP    date                                                            \n",
       "00003210 1970-11-30    NaT    NaT   None     0.0          C      318.0   \n",
       "         1970-12-31    NaT    NaT   None     0.0   0.111111      646.0   \n",
       "         1971-01-29    NaT    NaT   None     0.0  -0.100000      636.0   \n",
       "         1971-02-26    NaT    NaT   None     0.0   0.236111     2155.0   \n",
       "         1971-03-31    NaT    NaT   None     0.0  -0.123596     2062.0   \n",
       "...                    ...    ...    ...     ...        ...        ...   \n",
       "N5946510 2011-08-31    NaT    NaT   None     0.0  -0.089113  2419635.0   \n",
       "         2011-09-30    NaT    NaT   None     0.0  -0.181205  1672860.0   \n",
       "         2011-10-31    NaT    NaT   None     0.0   0.151854  1538552.0   \n",
       "         2011-11-30    NaT    NaT   None     0.0  -0.002044  1220142.0   \n",
       "         2011-12-30    NaT    NaT   None     0.0   0.098822  1185432.0   \n",
       "\n",
       "                        PRC  SPREAD    SHROUT         MCAP  \n",
       "CUSIP    date                                               \n",
       "00003210 1970-11-30   9.000     NaN    2655.0    23895.000  \n",
       "         1970-12-31  10.000     NaN    2655.0    26550.000  \n",
       "         1971-01-29   9.000     NaN    2655.0    23895.000  \n",
       "         1971-02-26  11.125     NaN    2655.0    29536.875  \n",
       "         1971-03-31   9.750     NaN    2655.0    25886.250  \n",
       "...                     ...     ...       ...          ...  \n",
       "N5946510 2011-08-31  20.750     NaN  426263.0  8844957.250  \n",
       "         2011-09-30  16.990     NaN  426485.0  7245980.150  \n",
       "         2011-10-31  19.570     NaN  426512.0  8346839.840  \n",
       "         2011-11-30  19.530     NaN  426512.0  8329779.360  \n",
       "         2011-12-30  21.460     NaN  426678.0  9156509.880  \n",
       "\n",
       "[2097733 rows x 10 columns]"
      ],
      "text/html": "<div>\n<style scoped>\n    .dataframe tbody tr th:only-of-type {\n        vertical-align: middle;\n    }\n\n    .dataframe tbody tr th {\n        vertical-align: top;\n    }\n\n    .dataframe thead th {\n        text-align: right;\n    }\n</style>\n<table border=\"1\" class=\"dataframe\">\n  <thead>\n    <tr style=\"text-align: right;\">\n      <th></th>\n      <th></th>\n      <th>DCLRDT</th>\n      <th>RCRDDT</th>\n      <th>DISTCD</th>\n      <th>DIVAMT</th>\n      <th>RET</th>\n      <th>VOL</th>\n      <th>PRC</th>\n      <th>SPREAD</th>\n      <th>SHROUT</th>\n      <th>MCAP</th>\n    </tr>\n    <tr>\n      <th>CUSIP</th>\n      <th>date</th>\n      <th></th>\n      <th></th>\n      <th></th>\n      <th></th>\n      <th></th>\n      <th></th>\n      <th></th>\n      <th></th>\n      <th></th>\n      <th></th>\n    </tr>\n  </thead>\n  <tbody>\n    <tr>\n      <th rowspan=\"5\" valign=\"top\">00003210</th>\n      <th>1970-11-30</th>\n      <td>NaT</td>\n      <td>NaT</td>\n      <td>None</td>\n      <td>0.0</td>\n      <td>C</td>\n      <td>318.0</td>\n      <td>9.000</td>\n      <td>NaN</td>\n      <td>2655.0</td>\n      <td>23895.000</td>\n    </tr>\n    <tr>\n      <th>1970-12-31</th>\n      <td>NaT</td>\n      <td>NaT</td>\n      <td>None</td>\n      <td>0.0</td>\n      <td>0.111111</td>\n      <td>646.0</td>\n      <td>10.000</td>\n      <td>NaN</td>\n      <td>2655.0</td>\n      <td>26550.000</td>\n    </tr>\n    <tr>\n      <th>1971-01-29</th>\n      <td>NaT</td>\n      <td>NaT</td>\n      <td>None</td>\n      <td>0.0</td>\n      <td>-0.100000</td>\n      <td>636.0</td>\n      <td>9.000</td>\n      <td>NaN</td>\n      <td>2655.0</td>\n      <td>23895.000</td>\n    </tr>\n    <tr>\n      <th>1971-02-26</th>\n      <td>NaT</td>\n      <td>NaT</td>\n      <td>None</td>\n      <td>0.0</td>\n      <td>0.236111</td>\n      <td>2155.0</td>\n      <td>11.125</td>\n      <td>NaN</td>\n      <td>2655.0</td>\n      <td>29536.875</td>\n    </tr>\n    <tr>\n      <th>1971-03-31</th>\n      <td>NaT</td>\n      <td>NaT</td>\n      <td>None</td>\n      <td>0.0</td>\n      <td>-0.123596</td>\n      <td>2062.0</td>\n      <td>9.750</td>\n      <td>NaN</td>\n      <td>2655.0</td>\n      <td>25886.250</td>\n    </tr>\n    <tr>\n      <th>...</th>\n      <th>...</th>\n      <td>...</td>\n      <td>...</td>\n      <td>...</td>\n      <td>...</td>\n      <td>...</td>\n      <td>...</td>\n      <td>...</td>\n      <td>...</td>\n      <td>...</td>\n      <td>...</td>\n    </tr>\n    <tr>\n      <th rowspan=\"5\" valign=\"top\">N5946510</th>\n      <th>2011-08-31</th>\n      <td>NaT</td>\n      <td>NaT</td>\n      <td>None</td>\n      <td>0.0</td>\n      <td>-0.089113</td>\n      <td>2419635.0</td>\n      <td>20.750</td>\n      <td>NaN</td>\n      <td>426263.0</td>\n      <td>8844957.250</td>\n    </tr>\n    <tr>\n      <th>2011-09-30</th>\n      <td>NaT</td>\n      <td>NaT</td>\n      <td>None</td>\n      <td>0.0</td>\n      <td>-0.181205</td>\n      <td>1672860.0</td>\n      <td>16.990</td>\n      <td>NaN</td>\n      <td>426485.0</td>\n      <td>7245980.150</td>\n    </tr>\n    <tr>\n      <th>2011-10-31</th>\n      <td>NaT</td>\n      <td>NaT</td>\n      <td>None</td>\n      <td>0.0</td>\n      <td>0.151854</td>\n      <td>1538552.0</td>\n      <td>19.570</td>\n      <td>NaN</td>\n      <td>426512.0</td>\n      <td>8346839.840</td>\n    </tr>\n    <tr>\n      <th>2011-11-30</th>\n      <td>NaT</td>\n      <td>NaT</td>\n      <td>None</td>\n      <td>0.0</td>\n      <td>-0.002044</td>\n      <td>1220142.0</td>\n      <td>19.530</td>\n      <td>NaN</td>\n      <td>426512.0</td>\n      <td>8329779.360</td>\n    </tr>\n    <tr>\n      <th>2011-12-30</th>\n      <td>NaT</td>\n      <td>NaT</td>\n      <td>None</td>\n      <td>0.0</td>\n      <td>0.098822</td>\n      <td>1185432.0</td>\n      <td>21.460</td>\n      <td>NaN</td>\n      <td>426678.0</td>\n      <td>9156509.880</td>\n    </tr>\n  </tbody>\n</table>\n<p>2097733 rows × 10 columns</p>\n</div>"
     },
     "metadata": {},
     "execution_count": 14
    }
   ],
   "source": [
    "#In[]\n",
    "crsp_div_df = crsp_df[['date','CUSIP','DCLRDT','RCRDDT','DISTCD','DIVAMT','PRC','VOL','RET','SHROUT','SPREAD','year','month']].copy()\n",
    "crsp_div_df.sort_values(by=['CUSIP','date'], ascending=True, inplace=True)\n",
    "crsp_div_df = crsp_div_df.groupby(by=['CUSIP','date']).agg({\n",
    "     'DCLRDT': 'last',\n",
    "     'RCRDDT': 'last',\n",
    "     'DISTCD': 'last',\n",
    "     'DIVAMT': 'sum',\n",
    "     'RET':'max',\n",
    "     'VOL': 'last',\n",
    "     'PRC': 'last',\n",
    "     'SPREAD': 'last',\n",
    "     'SHROUT': 'last'})\n",
    "crsp_div_df['MCAP'] = crsp_div_df['PRC'] * crsp_div_df['SHROUT']\n",
    "crsp_div_df"
   ]
  },
  {
   "cell_type": "code",
   "execution_count": 31,
   "metadata": {},
   "outputs": [],
   "source": [
    "#In[]\n",
    "crsp_div_df.sort_values(by=['CUSIP','date'], ascending=True, inplace=True)\n",
    "crsp_div_df['freq'] = None\n",
    "crsp_div_df['freq'] = crsp_div_df[crsp_div_df.RCRDDT.isna()==False]['DISTCD'].apply(lambda x: x[2:3] if x is not None else None)\n",
    "crsp_div_df['freq'] = crsp_div_df.groupby(by=['CUSIP']).fillna(method='ffill', limit=11)['freq']\n"
   ]
  },
  {
   "cell_type": "code",
   "execution_count": 46,
   "metadata": {},
   "outputs": [],
   "source": [
    "crsp_div_df['div_yr']=crsp_div_df[crsp_div_df.freq=='6'].apply(lambda x:True )\n",
    "crsp_div_df['div_semi_annual']=crsp_div_df[crsp_div_df.freq=='4'].apply(lambda x:True )\n",
    "crsp_div_df['div_quarterly']=crsp_div_df[crsp_div_df.freq=='3'].apply(lambda x:True )\n",
    "crsp_div_df['div_unknown']=crsp_div_df[crsp_div_df.freq=='0'].apply(lambda x:True )\n",
    "crsp_div_df['div_monthly']=crsp_div_df[crsp_div_df.freq=='2'].apply(lambda x:True )\n",
    "crsp_temp=crsp_div_df\n"
   ]
  },
  {
   "cell_type": "code",
   "execution_count": 48,
   "metadata": {},
   "outputs": [
    {
     "output_type": "execute_result",
     "data": {
      "text/plain": [
       "                    DCLRDT RCRDDT DISTCD  DIVAMT        RET        VOL  \\\n",
       "CUSIP    date                                                            \n",
       "00003210 1970-11-30    NaT    NaT   None     0.0          C      318.0   \n",
       "         1970-12-31    NaT    NaT   None     0.0   0.111111      646.0   \n",
       "         1971-01-29    NaT    NaT   None     0.0  -0.100000      636.0   \n",
       "         1971-02-26    NaT    NaT   None     0.0   0.236111     2155.0   \n",
       "         1971-03-31    NaT    NaT   None     0.0  -0.123596     2062.0   \n",
       "...                    ...    ...    ...     ...        ...        ...   \n",
       "N5946510 2011-08-31    NaT    NaT   None     0.0  -0.089113  2419635.0   \n",
       "         2011-09-30    NaT    NaT   None     0.0  -0.181205  1672860.0   \n",
       "         2011-10-31    NaT    NaT   None     0.0   0.151854  1538552.0   \n",
       "         2011-11-30    NaT    NaT   None     0.0  -0.002044  1220142.0   \n",
       "         2011-12-30    NaT    NaT   None     0.0   0.098822  1185432.0   \n",
       "\n",
       "                        PRC  SPREAD    SHROUT         MCAP  ... lag_7 lag_10  \\\n",
       "CUSIP    date                                               ...                \n",
       "00003210 1970-11-30   9.000     NaN    2655.0    23895.000  ...   NaN    NaN   \n",
       "         1970-12-31  10.000     NaN    2655.0    26550.000  ...   NaN    NaN   \n",
       "         1971-01-29   9.000     NaN    2655.0    23895.000  ...   NaN    NaN   \n",
       "         1971-02-26  11.125     NaN    2655.0    29536.875  ...   NaN    NaN   \n",
       "         1971-03-31   9.750     NaN    2655.0    25886.250  ...   NaN    NaN   \n",
       "...                     ...     ...       ...          ...  ...   ...    ...   \n",
       "N5946510 2011-08-31  20.750     NaN  426263.0  8844957.250  ...   NaN    NaN   \n",
       "         2011-09-30  16.990     NaN  426485.0  7245980.150  ...   NaN    NaN   \n",
       "         2011-10-31  19.570     NaN  426512.0  8346839.840  ...   NaN    NaN   \n",
       "         2011-11-30  19.530     NaN  426512.0  8329779.360  ...   NaN    NaN   \n",
       "         2011-12-30  21.460     NaN  426678.0  9156509.880  ...   NaN    NaN   \n",
       "\n",
       "                    div_yr div_semi_annual div_quarterly div_unknown  \\\n",
       "CUSIP    date                                                          \n",
       "00003210 1970-11-30    NaN             NaN           NaN         NaN   \n",
       "         1970-12-31    NaN             NaN           NaN         NaN   \n",
       "         1971-01-29    NaN             NaN           NaN         NaN   \n",
       "         1971-02-26    NaN             NaN           NaN         NaN   \n",
       "         1971-03-31    NaN             NaN           NaN         NaN   \n",
       "...                    ...             ...           ...         ...   \n",
       "N5946510 2011-08-31    NaN             NaN           NaN         NaN   \n",
       "         2011-09-30    NaN             NaN           NaN         NaN   \n",
       "         2011-10-31    NaN             NaN           NaN         NaN   \n",
       "         2011-11-30    NaN             NaN           NaN         NaN   \n",
       "         2011-12-30    NaN             NaN           NaN         NaN   \n",
       "\n",
       "                    div_monthly lag_quarterly lag_semi_annual lag_div_yr  \n",
       "CUSIP    date                                                             \n",
       "00003210 1970-11-30         NaN           NaN             NaN        NaN  \n",
       "         1970-12-31         NaN           NaN             NaN        NaN  \n",
       "         1971-01-29         NaN           NaN             NaN        NaN  \n",
       "         1971-02-26         NaN           NaN             NaN        NaN  \n",
       "         1971-03-31         NaN           NaN             NaN        NaN  \n",
       "...                         ...           ...             ...        ...  \n",
       "N5946510 2011-08-31         NaN           NaN             NaN        NaN  \n",
       "         2011-09-30         NaN           NaN             NaN        NaN  \n",
       "         2011-10-31         NaN           NaN             NaN        NaN  \n",
       "         2011-11-30         NaN           NaN             NaN        NaN  \n",
       "         2011-12-30         NaN           NaN             NaN        NaN  \n",
       "\n",
       "[2097733 rows x 28 columns]"
      ],
      "text/html": "<div>\n<style scoped>\n    .dataframe tbody tr th:only-of-type {\n        vertical-align: middle;\n    }\n\n    .dataframe tbody tr th {\n        vertical-align: top;\n    }\n\n    .dataframe thead th {\n        text-align: right;\n    }\n</style>\n<table border=\"1\" class=\"dataframe\">\n  <thead>\n    <tr style=\"text-align: right;\">\n      <th></th>\n      <th></th>\n      <th>DCLRDT</th>\n      <th>RCRDDT</th>\n      <th>DISTCD</th>\n      <th>DIVAMT</th>\n      <th>RET</th>\n      <th>VOL</th>\n      <th>PRC</th>\n      <th>SPREAD</th>\n      <th>SHROUT</th>\n      <th>MCAP</th>\n      <th>...</th>\n      <th>lag_7</th>\n      <th>lag_10</th>\n      <th>div_yr</th>\n      <th>div_semi_annual</th>\n      <th>div_quarterly</th>\n      <th>div_unknown</th>\n      <th>div_monthly</th>\n      <th>lag_quarterly</th>\n      <th>lag_semi_annual</th>\n      <th>lag_div_yr</th>\n    </tr>\n    <tr>\n      <th>CUSIP</th>\n      <th>date</th>\n      <th></th>\n      <th></th>\n      <th></th>\n      <th></th>\n      <th></th>\n      <th></th>\n      <th></th>\n      <th></th>\n      <th></th>\n      <th></th>\n      <th></th>\n      <th></th>\n      <th></th>\n      <th></th>\n      <th></th>\n      <th></th>\n      <th></th>\n      <th></th>\n      <th></th>\n      <th></th>\n      <th></th>\n    </tr>\n  </thead>\n  <tbody>\n    <tr>\n      <th rowspan=\"5\" valign=\"top\">00003210</th>\n      <th>1970-11-30</th>\n      <td>NaT</td>\n      <td>NaT</td>\n      <td>None</td>\n      <td>0.0</td>\n      <td>C</td>\n      <td>318.0</td>\n      <td>9.000</td>\n      <td>NaN</td>\n      <td>2655.0</td>\n      <td>23895.000</td>\n      <td>...</td>\n      <td>NaN</td>\n      <td>NaN</td>\n      <td>NaN</td>\n      <td>NaN</td>\n      <td>NaN</td>\n      <td>NaN</td>\n      <td>NaN</td>\n      <td>NaN</td>\n      <td>NaN</td>\n      <td>NaN</td>\n    </tr>\n    <tr>\n      <th>1970-12-31</th>\n      <td>NaT</td>\n      <td>NaT</td>\n      <td>None</td>\n      <td>0.0</td>\n      <td>0.111111</td>\n      <td>646.0</td>\n      <td>10.000</td>\n      <td>NaN</td>\n      <td>2655.0</td>\n      <td>26550.000</td>\n      <td>...</td>\n      <td>NaN</td>\n      <td>NaN</td>\n      <td>NaN</td>\n      <td>NaN</td>\n      <td>NaN</td>\n      <td>NaN</td>\n      <td>NaN</td>\n      <td>NaN</td>\n      <td>NaN</td>\n      <td>NaN</td>\n    </tr>\n    <tr>\n      <th>1971-01-29</th>\n      <td>NaT</td>\n      <td>NaT</td>\n      <td>None</td>\n      <td>0.0</td>\n      <td>-0.100000</td>\n      <td>636.0</td>\n      <td>9.000</td>\n      <td>NaN</td>\n      <td>2655.0</td>\n      <td>23895.000</td>\n      <td>...</td>\n      <td>NaN</td>\n      <td>NaN</td>\n      <td>NaN</td>\n      <td>NaN</td>\n      <td>NaN</td>\n      <td>NaN</td>\n      <td>NaN</td>\n      <td>NaN</td>\n      <td>NaN</td>\n      <td>NaN</td>\n    </tr>\n    <tr>\n      <th>1971-02-26</th>\n      <td>NaT</td>\n      <td>NaT</td>\n      <td>None</td>\n      <td>0.0</td>\n      <td>0.236111</td>\n      <td>2155.0</td>\n      <td>11.125</td>\n      <td>NaN</td>\n      <td>2655.0</td>\n      <td>29536.875</td>\n      <td>...</td>\n      <td>NaN</td>\n      <td>NaN</td>\n      <td>NaN</td>\n      <td>NaN</td>\n      <td>NaN</td>\n      <td>NaN</td>\n      <td>NaN</td>\n      <td>NaN</td>\n      <td>NaN</td>\n      <td>NaN</td>\n    </tr>\n    <tr>\n      <th>1971-03-31</th>\n      <td>NaT</td>\n      <td>NaT</td>\n      <td>None</td>\n      <td>0.0</td>\n      <td>-0.123596</td>\n      <td>2062.0</td>\n      <td>9.750</td>\n      <td>NaN</td>\n      <td>2655.0</td>\n      <td>25886.250</td>\n      <td>...</td>\n      <td>NaN</td>\n      <td>NaN</td>\n      <td>NaN</td>\n      <td>NaN</td>\n      <td>NaN</td>\n      <td>NaN</td>\n      <td>NaN</td>\n      <td>NaN</td>\n      <td>NaN</td>\n      <td>NaN</td>\n    </tr>\n    <tr>\n      <th>...</th>\n      <th>...</th>\n      <td>...</td>\n      <td>...</td>\n      <td>...</td>\n      <td>...</td>\n      <td>...</td>\n      <td>...</td>\n      <td>...</td>\n      <td>...</td>\n      <td>...</td>\n      <td>...</td>\n      <td>...</td>\n      <td>...</td>\n      <td>...</td>\n      <td>...</td>\n      <td>...</td>\n      <td>...</td>\n      <td>...</td>\n      <td>...</td>\n      <td>...</td>\n      <td>...</td>\n      <td>...</td>\n    </tr>\n    <tr>\n      <th rowspan=\"5\" valign=\"top\">N5946510</th>\n      <th>2011-08-31</th>\n      <td>NaT</td>\n      <td>NaT</td>\n      <td>None</td>\n      <td>0.0</td>\n      <td>-0.089113</td>\n      <td>2419635.0</td>\n      <td>20.750</td>\n      <td>NaN</td>\n      <td>426263.0</td>\n      <td>8844957.250</td>\n      <td>...</td>\n      <td>NaN</td>\n      <td>NaN</td>\n      <td>NaN</td>\n      <td>NaN</td>\n      <td>NaN</td>\n      <td>NaN</td>\n      <td>NaN</td>\n      <td>NaN</td>\n      <td>NaN</td>\n      <td>NaN</td>\n    </tr>\n    <tr>\n      <th>2011-09-30</th>\n      <td>NaT</td>\n      <td>NaT</td>\n      <td>None</td>\n      <td>0.0</td>\n      <td>-0.181205</td>\n      <td>1672860.0</td>\n      <td>16.990</td>\n      <td>NaN</td>\n      <td>426485.0</td>\n      <td>7245980.150</td>\n      <td>...</td>\n      <td>NaN</td>\n      <td>NaN</td>\n      <td>NaN</td>\n      <td>NaN</td>\n      <td>NaN</td>\n      <td>NaN</td>\n      <td>NaN</td>\n      <td>NaN</td>\n      <td>NaN</td>\n      <td>NaN</td>\n    </tr>\n    <tr>\n      <th>2011-10-31</th>\n      <td>NaT</td>\n      <td>NaT</td>\n      <td>None</td>\n      <td>0.0</td>\n      <td>0.151854</td>\n      <td>1538552.0</td>\n      <td>19.570</td>\n      <td>NaN</td>\n      <td>426512.0</td>\n      <td>8346839.840</td>\n      <td>...</td>\n      <td>NaN</td>\n      <td>NaN</td>\n      <td>NaN</td>\n      <td>NaN</td>\n      <td>NaN</td>\n      <td>NaN</td>\n      <td>NaN</td>\n      <td>NaN</td>\n      <td>NaN</td>\n      <td>NaN</td>\n    </tr>\n    <tr>\n      <th>2011-11-30</th>\n      <td>NaT</td>\n      <td>NaT</td>\n      <td>None</td>\n      <td>0.0</td>\n      <td>-0.002044</td>\n      <td>1220142.0</td>\n      <td>19.530</td>\n      <td>NaN</td>\n      <td>426512.0</td>\n      <td>8329779.360</td>\n      <td>...</td>\n      <td>NaN</td>\n      <td>NaN</td>\n      <td>NaN</td>\n      <td>NaN</td>\n      <td>NaN</td>\n      <td>NaN</td>\n      <td>NaN</td>\n      <td>NaN</td>\n      <td>NaN</td>\n      <td>NaN</td>\n    </tr>\n    <tr>\n      <th>2011-12-30</th>\n      <td>NaT</td>\n      <td>NaT</td>\n      <td>None</td>\n      <td>0.0</td>\n      <td>0.098822</td>\n      <td>1185432.0</td>\n      <td>21.460</td>\n      <td>NaN</td>\n      <td>426678.0</td>\n      <td>9156509.880</td>\n      <td>...</td>\n      <td>NaN</td>\n      <td>NaN</td>\n      <td>NaN</td>\n      <td>NaN</td>\n      <td>NaN</td>\n      <td>NaN</td>\n      <td>NaN</td>\n      <td>NaN</td>\n      <td>NaN</td>\n      <td>NaN</td>\n    </tr>\n  </tbody>\n</table>\n<p>2097733 rows × 28 columns</p>\n</div>"
     },
     "metadata": {},
     "execution_count": 48
    }
   ],
   "source": [
    "crsp_temp['lag_3']=crsp_temp.groupby('CUSIP')['div_unknown'].shift(3)\n",
    "crsp_temp['lag_6']=crsp_temp.groupby('CUSIP')['div_unknown'].shift(6)\n",
    "crsp_temp['lag_9']=crsp_temp.groupby('CUSIP')['div_unknown'].shift(9)\n",
    "crsp_temp['lag_12']=crsp_temp.groupby('CUSIP')['div_unknown'].shift(12)\n",
    "crsp_temp['lag_quarterly']=crsp_temp.groupby('CUSIP')['div_quarterly'].shift(3)\n",
    "crsp_temp['lag_semi_annual']=crsp_temp.groupby('CUSIP')['div_semi_annual'].shift(6)\n",
    "crsp_temp['lag_div_yr']=crsp_temp.groupby('CUSIP')['div_yr'].shift(12)\n",
    "crsp_temp['lag_1']=crsp_temp.groupby('CUSIP')['div_monthly'].shift(1)\n",
    "crsp_temp['lag_4']=crsp_temp.groupby('CUSIP')['div_monthly'].shift(4)\n",
    "crsp_temp['lag_7']=crsp_temp.groupby('CUSIP')['div_monthly'].shift(7)\n",
    "crsp_temp['lag_10']=crsp_temp.groupby('CUSIP')['div_monthly'].shift(10)\n",
    "\n",
    "\n",
    "crsp_temp"
   ]
  },
  {
   "cell_type": "code",
   "execution_count": 54,
   "metadata": {},
   "outputs": [
    {
     "output_type": "error",
     "ename": "ValueError",
     "evalue": "The truth value of a Series is ambiguous. Use a.empty, a.bool(), a.item(), a.any() or a.all().",
     "traceback": [
      "\u001b[0;31m---------------------------------------------------------------------------\u001b[0m",
      "\u001b[0;31mValueError\u001b[0m                                Traceback (most recent call last)",
      "\u001b[0;32m<ipython-input-54-74b2989a716a>\u001b[0m in \u001b[0;36m<module>\u001b[0;34m\u001b[0m\n\u001b[1;32m      1\u001b[0m \u001b[0;31m# Strategies 1: Long predicted dividend and short all other companies\u001b[0m\u001b[0;34m\u001b[0m\u001b[0;34m\u001b[0m\u001b[0;34m\u001b[0m\u001b[0m\n\u001b[0;32m----> 2\u001b[0;31m \u001b[0mcrsp_temp\u001b[0m\u001b[0;34m[\u001b[0m\u001b[0;34m'long_stocks'\u001b[0m\u001b[0;34m]\u001b[0m \u001b[0;34m=\u001b[0m \u001b[0;34m(\u001b[0m\u001b[0mcrsp_temp\u001b[0m\u001b[0;34m[\u001b[0m\u001b[0;34m'lag_3'\u001b[0m\u001b[0;34m]\u001b[0m \u001b[0;34m==\u001b[0m\u001b[0;32mTrue\u001b[0m \u001b[0;32mor\u001b[0m \u001b[0mcrsp_temp\u001b[0m\u001b[0;34m[\u001b[0m\u001b[0;34m'lag_6'\u001b[0m\u001b[0;34m]\u001b[0m \u001b[0;34m==\u001b[0m\u001b[0;32mTrue\u001b[0m \u001b[0;32mor\u001b[0m \u001b[0mcrsp_temp\u001b[0m\u001b[0;34m[\u001b[0m\u001b[0;34m'lag_9'\u001b[0m\u001b[0;34m]\u001b[0m \u001b[0;34m==\u001b[0m\u001b[0;32mTrue\u001b[0m \u001b[0;32mor\u001b[0m \u001b[0mcrsp_temp\u001b[0m\u001b[0;34m[\u001b[0m\u001b[0;34m'lag_12'\u001b[0m\u001b[0;34m]\u001b[0m \u001b[0;34m==\u001b[0m\u001b[0;32mTrue\u001b[0m \u001b[0;32mor\u001b[0m \u001b[0mcrsp_temp\u001b[0m\u001b[0;34m[\u001b[0m\u001b[0;34m'lag_quarterly'\u001b[0m\u001b[0;34m]\u001b[0m \u001b[0;34m==\u001b[0m\u001b[0;32mTrue\u001b[0m \u001b[0;32mor\u001b[0m \u001b[0mcrsp_temp\u001b[0m\u001b[0;34m[\u001b[0m\u001b[0;34m'lag_semi_annual'\u001b[0m\u001b[0;34m]\u001b[0m \u001b[0;34m==\u001b[0m\u001b[0;32mTrue\u001b[0m \u001b[0;32mor\u001b[0m \u001b[0mcrsp_temp\u001b[0m\u001b[0;34m[\u001b[0m\u001b[0;34m'lag_div_yr'\u001b[0m\u001b[0;34m]\u001b[0m \u001b[0;34m==\u001b[0m\u001b[0;32mTrue\u001b[0m  \u001b[0;34m)\u001b[0m\u001b[0;34m\u001b[0m\u001b[0;34m\u001b[0m\u001b[0m\n\u001b[0m\u001b[1;32m      3\u001b[0m \u001b[0;34m\u001b[0m\u001b[0m\n\u001b[1;32m      4\u001b[0m \u001b[0;34m\u001b[0m\u001b[0m\n\u001b[1;32m      5\u001b[0m \u001b[0mcrsp_temp\u001b[0m\u001b[0;34m[\u001b[0m\u001b[0;34m'short_stocks'\u001b[0m\u001b[0;34m]\u001b[0m \u001b[0;34m=\u001b[0m \u001b[0;34m(\u001b[0m\u001b[0mcrsp_temp\u001b[0m\u001b[0;34m[\u001b[0m\u001b[0;34m'lag_3'\u001b[0m\u001b[0;34m]\u001b[0m \u001b[0;34m==\u001b[0m\u001b[0;32mFalse\u001b[0m \u001b[0;34m&\u001b[0m \u001b[0mcrsp_temp\u001b[0m\u001b[0;34m[\u001b[0m\u001b[0;34m'lag_6'\u001b[0m\u001b[0;34m]\u001b[0m \u001b[0;34m==\u001b[0m\u001b[0;32mFalse\u001b[0m \u001b[0;34m&\u001b[0m \u001b[0mcrsp_temp\u001b[0m\u001b[0;34m[\u001b[0m\u001b[0;34m'lag_9'\u001b[0m\u001b[0;34m]\u001b[0m \u001b[0;34m==\u001b[0m\u001b[0;32mFalse\u001b[0m \u001b[0;34m&\u001b[0m \u001b[0mcrsp_temp\u001b[0m\u001b[0;34m[\u001b[0m\u001b[0;34m'lag_12'\u001b[0m\u001b[0;34m]\u001b[0m \u001b[0;34m==\u001b[0m\u001b[0;32mFalse\u001b[0m \u001b[0;34m&\u001b[0m \u001b[0mcrsp_temp\u001b[0m\u001b[0;34m[\u001b[0m\u001b[0;34m'lag_quarterly'\u001b[0m\u001b[0;34m]\u001b[0m \u001b[0;34m==\u001b[0m\u001b[0;32mFalse\u001b[0m \u001b[0;34m&\u001b[0m \u001b[0mcrsp_temp\u001b[0m\u001b[0;34m[\u001b[0m\u001b[0;34m'lag_semi_annual'\u001b[0m\u001b[0;34m]\u001b[0m \u001b[0;34m==\u001b[0m\u001b[0;32mFalse\u001b[0m \u001b[0;34m&\u001b[0m \u001b[0mcrsp_temp\u001b[0m\u001b[0;34m[\u001b[0m\u001b[0;34m'lag_div_yr'\u001b[0m\u001b[0;34m]\u001b[0m \u001b[0;34m==\u001b[0m\u001b[0;32mFalse\u001b[0m  \u001b[0;34m)\u001b[0m\u001b[0;34m\u001b[0m\u001b[0;34m\u001b[0m\u001b[0m\n",
      "\u001b[0;32m~/.virtualenvs/venv/lib/python3.8/site-packages/pandas/core/generic.py\u001b[0m in \u001b[0;36m__nonzero__\u001b[0;34m(self)\u001b[0m\n\u001b[1;32m   1440\u001b[0m     \u001b[0;34m@\u001b[0m\u001b[0mfinal\u001b[0m\u001b[0;34m\u001b[0m\u001b[0;34m\u001b[0m\u001b[0m\n\u001b[1;32m   1441\u001b[0m     \u001b[0;32mdef\u001b[0m \u001b[0m__nonzero__\u001b[0m\u001b[0;34m(\u001b[0m\u001b[0mself\u001b[0m\u001b[0;34m)\u001b[0m\u001b[0;34m:\u001b[0m\u001b[0;34m\u001b[0m\u001b[0;34m\u001b[0m\u001b[0m\n\u001b[0;32m-> 1442\u001b[0;31m         raise ValueError(\n\u001b[0m\u001b[1;32m   1443\u001b[0m             \u001b[0;34mf\"The truth value of a {type(self).__name__} is ambiguous. \"\u001b[0m\u001b[0;34m\u001b[0m\u001b[0;34m\u001b[0m\u001b[0m\n\u001b[1;32m   1444\u001b[0m             \u001b[0;34m\"Use a.empty, a.bool(), a.item(), a.any() or a.all().\"\u001b[0m\u001b[0;34m\u001b[0m\u001b[0;34m\u001b[0m\u001b[0m\n",
      "\u001b[0;31mValueError\u001b[0m: The truth value of a Series is ambiguous. Use a.empty, a.bool(), a.item(), a.any() or a.all()."
     ]
    }
   ],
   "source": [
    "# Strategies 1: Long predicted dividend and short all other companies\n",
    "crsp_temp['long_stocks'] = (crsp_temp['lag_3'] ==True or crsp_temp['lag_6'] ==True or crsp_temp['lag_9'] ==True or crsp_temp['lag_12'] ==True or crsp_temp['lag_quarterly'] ==True or crsp_temp['lag_semi_annual'] ==True or crsp_temp['lag_div_yr'] ==True  )\n",
    "\n",
    "\n",
    "crsp_temp['short_stocks'] = (crsp_temp['lag_3'] ==False & crsp_temp['lag_6'] ==False & crsp_temp['lag_9'] ==False & crsp_temp['lag_12'] ==False & crsp_temp['lag_quarterly'] ==False & crsp_temp['lag_semi_annual'] ==False & crsp_temp['lag_div_yr'] ==False  )\n",
    "\n",
    "crsp_temp"
   ]
  }
 ]
}