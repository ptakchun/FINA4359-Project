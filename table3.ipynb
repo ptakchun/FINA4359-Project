{
 "metadata": {
  "language_info": {
   "codemirror_mode": {
    "name": "ipython",
    "version": 3
   },
   "file_extension": ".py",
   "mimetype": "text/x-python",
   "name": "python",
   "nbconvert_exporter": "python",
   "pygments_lexer": "ipython3",
   "version": "3.8.1"
  },
  "orig_nbformat": 2,
  "kernelspec": {
   "name": "python381jvsc74a57bd017ea5540087fa84e9325eca06d4d2f7ee74750dd3fb7333b7294c3d5a3b2df48",
   "display_name": "Python 3.8.1 64-bit ('venv': virtualenvwrapper)"
  }
 },
 "nbformat": 4,
 "nbformat_minor": 2,
 "cells": [
  {
   "cell_type": "code",
   "execution_count": 146,
   "metadata": {},
   "outputs": [
    {
     "output_type": "stream",
     "name": "stdout",
     "text": [
      "Requirement already satisfied: matplotlib in /Users/snow/.virtualenvs/venv/lib/python3.8/site-packages (3.4.2)\n",
      "Requirement already satisfied: numpy>=1.16 in /Users/snow/.virtualenvs/venv/lib/python3.8/site-packages (from matplotlib) (1.20.2)\n",
      "Requirement already satisfied: python-dateutil>=2.7 in /Users/snow/.virtualenvs/venv/lib/python3.8/site-packages (from matplotlib) (2.8.1)\n",
      "Requirement already satisfied: cycler>=0.10 in /Users/snow/.virtualenvs/venv/lib/python3.8/site-packages (from matplotlib) (0.10.0)\n",
      "Requirement already satisfied: pillow>=6.2.0 in /Users/snow/.virtualenvs/venv/lib/python3.8/site-packages (from matplotlib) (8.2.0)\n",
      "Requirement already satisfied: kiwisolver>=1.0.1 in /Users/snow/.virtualenvs/venv/lib/python3.8/site-packages (from matplotlib) (1.3.1)\n",
      "Requirement already satisfied: pyparsing>=2.2.1 in /Users/snow/.virtualenvs/venv/lib/python3.8/site-packages (from matplotlib) (2.4.7)\n",
      "Requirement already satisfied: six in /Users/snow/.virtualenvs/venv/lib/python3.8/site-packages (from cycler>=0.10->matplotlib) (1.15.0)\n",
      "\u001b[33mWARNING: You are using pip version 21.0.1; however, version 21.1.2 is available.\n",
      "You should consider upgrading via the '/Users/snow/.virtualenvs/venv/bin/python -m pip install --upgrade pip' command.\u001b[0m\n",
      "Note: you may need to restart the kernel to use updated packages.\n"
     ]
    }
   ],
   "source": [
    "pip install matplotlib"
   ]
  },
  {
   "cell_type": "code",
   "execution_count": 147,
   "metadata": {},
   "outputs": [
    {
     "output_type": "stream",
     "name": "stdout",
     "text": [
      "Requirement already satisfied: statsmodels in /Users/snow/.virtualenvs/venv/lib/python3.8/site-packages (0.12.2)\n",
      "Requirement already satisfied: numpy>=1.15 in /Users/snow/.virtualenvs/venv/lib/python3.8/site-packages (from statsmodels) (1.20.2)\n",
      "Requirement already satisfied: pandas>=0.21 in /Users/snow/.virtualenvs/venv/lib/python3.8/site-packages (from statsmodels) (1.2.3)\n",
      "Requirement already satisfied: patsy>=0.5 in /Users/snow/.virtualenvs/venv/lib/python3.8/site-packages (from statsmodels) (0.5.1)\n",
      "Requirement already satisfied: scipy>=1.1 in /Users/snow/.virtualenvs/venv/lib/python3.8/site-packages (from statsmodels) (1.6.3)\n",
      "Requirement already satisfied: pytz>=2017.3 in /Users/snow/.virtualenvs/venv/lib/python3.8/site-packages (from pandas>=0.21->statsmodels) (2021.1)\n",
      "Requirement already satisfied: python-dateutil>=2.7.3 in /Users/snow/.virtualenvs/venv/lib/python3.8/site-packages (from pandas>=0.21->statsmodels) (2.8.1)\n",
      "Requirement already satisfied: six in /Users/snow/.virtualenvs/venv/lib/python3.8/site-packages (from patsy>=0.5->statsmodels) (1.15.0)\n",
      "\u001b[33mWARNING: You are using pip version 21.0.1; however, version 21.1.2 is available.\n",
      "You should consider upgrading via the '/Users/snow/.virtualenvs/venv/bin/python -m pip install --upgrade pip' command.\u001b[0m\n",
      "Note: you may need to restart the kernel to use updated packages.\n"
     ]
    }
   ],
   "source": [
    "pip install statsmodels"
   ]
  },
  {
   "cell_type": "code",
   "execution_count": 148,
   "metadata": {},
   "outputs": [
    {
     "output_type": "stream",
     "name": "stdout",
     "text": [
      "Requirement already satisfied: tqdm in /Users/snow/.virtualenvs/venv/lib/python3.8/site-packages (4.60.0)\n",
      "\u001b[33mWARNING: You are using pip version 21.0.1; however, version 21.1.2 is available.\n",
      "You should consider upgrading via the '/Users/snow/.virtualenvs/venv/bin/python -m pip install --upgrade pip' command.\u001b[0m\n",
      "Note: you may need to restart the kernel to use updated packages.\n"
     ]
    }
   ],
   "source": [
    "pip install tqdm"
   ]
  },
  {
   "cell_type": "code",
   "execution_count": 1,
   "metadata": {},
   "outputs": [],
   "source": [
    "import pandas as pd\n",
    "import numpy as np\n",
    "import matplotlib.pyplot as plt\n",
    "from pandas.tseries.offsets import MonthEnd\n",
    "import statsmodels.api as sm\n",
    "from tqdm import tqdm\n",
    "from multiprocessing.dummy import Pool\n",
    "import statsmodels.formula.api as smf\n",
    "pd.set_option('display.max_rows', 500)\n",
    "# pd.set_option('display.max_columns', 500)"
   ]
  },
  {
   "cell_type": "code",
   "execution_count": 25,
   "metadata": {},
   "outputs": [
    {
     "output_type": "execute_result",
     "data": {
      "text/plain": [
       "         PERMNO       date SHRCD TICKER                 COMNAM     CUSIP  \\\n",
       "1359100   25881 1970-11-30    10     AE  A & E PLASTIK PAK INC  00003210   \n",
       "1359101   25881 1970-12-31    10     AE  A & E PLASTIK PAK INC  00003210   \n",
       "1359102   25881 1971-01-29    10     AE  A & E PLASTIK PAK INC  00003210   \n",
       "1359103   25881 1971-02-26    10     AE  A & E PLASTIK PAK INC  00003210   \n",
       "1359104   25881 1971-03-31    10     AE  A & E PLASTIK PAK INC  00003210   \n",
       "\n",
       "        DCLRDT RCRDDT DISTCD  DIVAMT     PRC     VOL        RET  SHROUT  \\\n",
       "1359100    NaT    NaT    NaN     NaN   9.000   318.0          C  2655.0   \n",
       "1359101    NaT    NaT    NaN     NaN  10.000   646.0   0.111111  2655.0   \n",
       "1359102    NaT    NaT    NaN     NaN   9.000   636.0  -0.100000  2655.0   \n",
       "1359103    NaT    NaT    NaN     NaN  11.125  2155.0   0.236111  2655.0   \n",
       "1359104    NaT    NaT    NaN     NaN   9.750  2062.0  -0.123596  2655.0   \n",
       "\n",
       "         SPREAD       RETX  year  month  PRC_t-1  \n",
       "1359100     NaN          C  1970     11      NaN  \n",
       "1359101     NaN   0.111111  1970     12    9.000  \n",
       "1359102     NaN  -0.100000  1971      1   10.000  \n",
       "1359103     NaN   0.236111  1971      2    9.000  \n",
       "1359104     NaN  -0.123596  1971      3   11.125  "
      ],
      "text/html": "<div>\n<style scoped>\n    .dataframe tbody tr th:only-of-type {\n        vertical-align: middle;\n    }\n\n    .dataframe tbody tr th {\n        vertical-align: top;\n    }\n\n    .dataframe thead th {\n        text-align: right;\n    }\n</style>\n<table border=\"1\" class=\"dataframe\">\n  <thead>\n    <tr style=\"text-align: right;\">\n      <th></th>\n      <th>PERMNO</th>\n      <th>date</th>\n      <th>SHRCD</th>\n      <th>TICKER</th>\n      <th>COMNAM</th>\n      <th>CUSIP</th>\n      <th>DCLRDT</th>\n      <th>RCRDDT</th>\n      <th>DISTCD</th>\n      <th>DIVAMT</th>\n      <th>PRC</th>\n      <th>VOL</th>\n      <th>RET</th>\n      <th>SHROUT</th>\n      <th>SPREAD</th>\n      <th>RETX</th>\n      <th>year</th>\n      <th>month</th>\n      <th>PRC_t-1</th>\n    </tr>\n  </thead>\n  <tbody>\n    <tr>\n      <th>1359100</th>\n      <td>25881</td>\n      <td>1970-11-30</td>\n      <td>10</td>\n      <td>AE</td>\n      <td>A &amp; E PLASTIK PAK INC</td>\n      <td>00003210</td>\n      <td>NaT</td>\n      <td>NaT</td>\n      <td>NaN</td>\n      <td>NaN</td>\n      <td>9.000</td>\n      <td>318.0</td>\n      <td>C</td>\n      <td>2655.0</td>\n      <td>NaN</td>\n      <td>C</td>\n      <td>1970</td>\n      <td>11</td>\n      <td>NaN</td>\n    </tr>\n    <tr>\n      <th>1359101</th>\n      <td>25881</td>\n      <td>1970-12-31</td>\n      <td>10</td>\n      <td>AE</td>\n      <td>A &amp; E PLASTIK PAK INC</td>\n      <td>00003210</td>\n      <td>NaT</td>\n      <td>NaT</td>\n      <td>NaN</td>\n      <td>NaN</td>\n      <td>10.000</td>\n      <td>646.0</td>\n      <td>0.111111</td>\n      <td>2655.0</td>\n      <td>NaN</td>\n      <td>0.111111</td>\n      <td>1970</td>\n      <td>12</td>\n      <td>9.000</td>\n    </tr>\n    <tr>\n      <th>1359102</th>\n      <td>25881</td>\n      <td>1971-01-29</td>\n      <td>10</td>\n      <td>AE</td>\n      <td>A &amp; E PLASTIK PAK INC</td>\n      <td>00003210</td>\n      <td>NaT</td>\n      <td>NaT</td>\n      <td>NaN</td>\n      <td>NaN</td>\n      <td>9.000</td>\n      <td>636.0</td>\n      <td>-0.100000</td>\n      <td>2655.0</td>\n      <td>NaN</td>\n      <td>-0.100000</td>\n      <td>1971</td>\n      <td>1</td>\n      <td>10.000</td>\n    </tr>\n    <tr>\n      <th>1359103</th>\n      <td>25881</td>\n      <td>1971-02-26</td>\n      <td>10</td>\n      <td>AE</td>\n      <td>A &amp; E PLASTIK PAK INC</td>\n      <td>00003210</td>\n      <td>NaT</td>\n      <td>NaT</td>\n      <td>NaN</td>\n      <td>NaN</td>\n      <td>11.125</td>\n      <td>2155.0</td>\n      <td>0.236111</td>\n      <td>2655.0</td>\n      <td>NaN</td>\n      <td>0.236111</td>\n      <td>1971</td>\n      <td>2</td>\n      <td>9.000</td>\n    </tr>\n    <tr>\n      <th>1359104</th>\n      <td>25881</td>\n      <td>1971-03-31</td>\n      <td>10</td>\n      <td>AE</td>\n      <td>A &amp; E PLASTIK PAK INC</td>\n      <td>00003210</td>\n      <td>NaT</td>\n      <td>NaT</td>\n      <td>NaN</td>\n      <td>NaN</td>\n      <td>9.750</td>\n      <td>2062.0</td>\n      <td>-0.123596</td>\n      <td>2655.0</td>\n      <td>NaN</td>\n      <td>-0.123596</td>\n      <td>1971</td>\n      <td>3</td>\n      <td>11.125</td>\n    </tr>\n  </tbody>\n</table>\n</div>"
     },
     "metadata": {},
     "execution_count": 25
    }
   ],
   "source": [
    "crsp_df = pd.read_csv(\"crsp.zip\", compression='zip',header=0,\n",
    "             parse_dates = ['date','DCLRDT','RCRDDT'],\n",
    "             dtype={\"PRC\": np.float64,\n",
    "                  \"VOL\": np.float64,\n",
    "                  \"SHROUT\": np.float64,\n",
    "                  \"DIVAMT\": np.float64,\n",
    "                  \"SPREAD\": np.float64,\n",
    "                  \"SHRCD\":str,\n",
    "                  \"DISTCD\":str,\n",
    "                  \"COMNAM\": str,\n",
    "                  \"TICKER\": str,\n",
    "                   'CUSIP': str})\n",
    "#Data Preprocessing\n",
    "crsp_df = crsp_df[(crsp_df.SHRCD.isin(('10','11')))]\n",
    "crsp_df = crsp_df[(crsp_df.date >= '1927-01-01')]\n",
    "crsp_df = crsp_df[(crsp_df.date <= '2011-12-31')]\n",
    "cusips_DISTCD_12 = crsp_df[crsp_df.DISTCD.apply(lambda x: x[:2]=='12' if isinstance(x, str) else False)].CUSIP.unique()\n",
    "crsp_df = crsp_df[crsp_df.CUSIP.isin(cusips_DISTCD_12)]\n",
    "\n",
    "crsp_df.PRC = crsp_df.PRC.abs()\n",
    "\n",
    "\n",
    "crsp_df['year'] = crsp_df['date'].dt.year\n",
    "crsp_df['month'] = crsp_df['date'].dt.month\n",
    "crsp_df.sort_values(by=['CUSIP','date'], ascending=True, inplace=True)\n",
    "crsp_df['PRC_t-1'] = crsp_df.groupby('CUSIP')['PRC'].shift(1)\n",
    "crsp_df.head()"
   ]
  },
  {
   "cell_type": "code",
   "execution_count": 38,
   "metadata": {},
   "outputs": [
    {
     "output_type": "execute_result",
     "data": {
      "text/plain": [
       "                        DCLRDT     RCRDDT DISTCD  DIVAMT        RET     PRC  \\\n",
       "CUSIP    date                                                                 \n",
       "00003210 1977-06-30 1977-05-25 1977-06-24   1232    0.05   0.069388   6.500   \n",
       "         1977-07-29        NaT        NaT   None    0.00   0.230769   8.000   \n",
       "         1977-08-31        NaT        NaT   None    0.00   0.046875   8.375   \n",
       "         1977-09-30 1977-08-02 1977-09-23   1232    0.05   0.080597   9.000   \n",
       "         1977-10-31        NaT        NaT   None    0.00  -0.041667   8.625   \n",
       "...                        ...        ...    ...     ...        ...     ...   \n",
       "N5946510 2008-01-31        NaT        NaT   None    0.00   0.055477  14.840   \n",
       "         2008-02-29        NaT        NaT   None    0.00  -0.202156  11.840   \n",
       "         2008-03-31        NaT        NaT   None    0.00  -0.020270  11.600   \n",
       "         2008-04-30        NaT        NaT   None    0.00   0.135345  13.170   \n",
       "         2008-05-30        NaT        NaT   None    0.00   0.013667  13.350   \n",
       "\n",
       "                     PRC_t-1    SHROUT freq         MCAP  \n",
       "CUSIP    date                                             \n",
       "00003210 1977-06-30    6.125    2209.0    3    14358.500  \n",
       "         1977-07-29    6.500    2209.0    3    17672.000  \n",
       "         1977-08-31    8.000    2209.0    3    18500.375  \n",
       "         1977-09-30    8.375    2223.0    3    20007.000  \n",
       "         1977-10-31    9.000    2223.0    3    19173.375  \n",
       "...                      ...       ...  ...          ...  \n",
       "N5946510 2008-01-31   14.060  304332.0    3  4516286.880  \n",
       "         2008-02-29   14.840  304332.0    3  3603290.880  \n",
       "         2008-03-31   11.840  304439.0    3  3531492.400  \n",
       "         2008-04-30   11.600  304439.0    3  4009461.630  \n",
       "         2008-05-30   13.170  304449.0    3  4064394.150  \n",
       "\n",
       "[1494129 rows x 10 columns]"
      ],
      "text/html": "<div>\n<style scoped>\n    .dataframe tbody tr th:only-of-type {\n        vertical-align: middle;\n    }\n\n    .dataframe tbody tr th {\n        vertical-align: top;\n    }\n\n    .dataframe thead th {\n        text-align: right;\n    }\n</style>\n<table border=\"1\" class=\"dataframe\">\n  <thead>\n    <tr style=\"text-align: right;\">\n      <th></th>\n      <th></th>\n      <th>DCLRDT</th>\n      <th>RCRDDT</th>\n      <th>DISTCD</th>\n      <th>DIVAMT</th>\n      <th>RET</th>\n      <th>PRC</th>\n      <th>PRC_t-1</th>\n      <th>SHROUT</th>\n      <th>freq</th>\n      <th>MCAP</th>\n    </tr>\n    <tr>\n      <th>CUSIP</th>\n      <th>date</th>\n      <th></th>\n      <th></th>\n      <th></th>\n      <th></th>\n      <th></th>\n      <th></th>\n      <th></th>\n      <th></th>\n      <th></th>\n      <th></th>\n    </tr>\n  </thead>\n  <tbody>\n    <tr>\n      <th rowspan=\"5\" valign=\"top\">00003210</th>\n      <th>1977-06-30</th>\n      <td>1977-05-25</td>\n      <td>1977-06-24</td>\n      <td>1232</td>\n      <td>0.05</td>\n      <td>0.069388</td>\n      <td>6.500</td>\n      <td>6.125</td>\n      <td>2209.0</td>\n      <td>3</td>\n      <td>14358.500</td>\n    </tr>\n    <tr>\n      <th>1977-07-29</th>\n      <td>NaT</td>\n      <td>NaT</td>\n      <td>None</td>\n      <td>0.00</td>\n      <td>0.230769</td>\n      <td>8.000</td>\n      <td>6.500</td>\n      <td>2209.0</td>\n      <td>3</td>\n      <td>17672.000</td>\n    </tr>\n    <tr>\n      <th>1977-08-31</th>\n      <td>NaT</td>\n      <td>NaT</td>\n      <td>None</td>\n      <td>0.00</td>\n      <td>0.046875</td>\n      <td>8.375</td>\n      <td>8.000</td>\n      <td>2209.0</td>\n      <td>3</td>\n      <td>18500.375</td>\n    </tr>\n    <tr>\n      <th>1977-09-30</th>\n      <td>1977-08-02</td>\n      <td>1977-09-23</td>\n      <td>1232</td>\n      <td>0.05</td>\n      <td>0.080597</td>\n      <td>9.000</td>\n      <td>8.375</td>\n      <td>2223.0</td>\n      <td>3</td>\n      <td>20007.000</td>\n    </tr>\n    <tr>\n      <th>1977-10-31</th>\n      <td>NaT</td>\n      <td>NaT</td>\n      <td>None</td>\n      <td>0.00</td>\n      <td>-0.041667</td>\n      <td>8.625</td>\n      <td>9.000</td>\n      <td>2223.0</td>\n      <td>3</td>\n      <td>19173.375</td>\n    </tr>\n    <tr>\n      <th>...</th>\n      <th>...</th>\n      <td>...</td>\n      <td>...</td>\n      <td>...</td>\n      <td>...</td>\n      <td>...</td>\n      <td>...</td>\n      <td>...</td>\n      <td>...</td>\n      <td>...</td>\n      <td>...</td>\n    </tr>\n    <tr>\n      <th rowspan=\"5\" valign=\"top\">N5946510</th>\n      <th>2008-01-31</th>\n      <td>NaT</td>\n      <td>NaT</td>\n      <td>None</td>\n      <td>0.00</td>\n      <td>0.055477</td>\n      <td>14.840</td>\n      <td>14.060</td>\n      <td>304332.0</td>\n      <td>3</td>\n      <td>4516286.880</td>\n    </tr>\n    <tr>\n      <th>2008-02-29</th>\n      <td>NaT</td>\n      <td>NaT</td>\n      <td>None</td>\n      <td>0.00</td>\n      <td>-0.202156</td>\n      <td>11.840</td>\n      <td>14.840</td>\n      <td>304332.0</td>\n      <td>3</td>\n      <td>3603290.880</td>\n    </tr>\n    <tr>\n      <th>2008-03-31</th>\n      <td>NaT</td>\n      <td>NaT</td>\n      <td>None</td>\n      <td>0.00</td>\n      <td>-0.020270</td>\n      <td>11.600</td>\n      <td>11.840</td>\n      <td>304439.0</td>\n      <td>3</td>\n      <td>3531492.400</td>\n    </tr>\n    <tr>\n      <th>2008-04-30</th>\n      <td>NaT</td>\n      <td>NaT</td>\n      <td>None</td>\n      <td>0.00</td>\n      <td>0.135345</td>\n      <td>13.170</td>\n      <td>11.600</td>\n      <td>304439.0</td>\n      <td>3</td>\n      <td>4009461.630</td>\n    </tr>\n    <tr>\n      <th>2008-05-30</th>\n      <td>NaT</td>\n      <td>NaT</td>\n      <td>None</td>\n      <td>0.00</td>\n      <td>0.013667</td>\n      <td>13.350</td>\n      <td>13.170</td>\n      <td>304449.0</td>\n      <td>3</td>\n      <td>4064394.150</td>\n    </tr>\n  </tbody>\n</table>\n<p>1494129 rows × 10 columns</p>\n</div>"
     },
     "metadata": {},
     "execution_count": 38
    }
   ],
   "source": [
    "crsp_div_df = crsp_df[['date','CUSIP','DCLRDT','RCRDDT','DISTCD','DIVAMT','PRC','PRC_t-1','RET','SHROUT','month']].copy()\n",
    "crsp_div_df \n",
    "crsp_div_df.sort_values(by=['CUSIP','date'], ascending=True, inplace=True)\n",
    "crsp_div_df = crsp_div_df.groupby(by=['CUSIP','date']).agg({\n",
    "     'DCLRDT': 'last',\n",
    "     'RCRDDT': 'last',\n",
    "     'DISTCD': 'last',\n",
    "     'DIVAMT': 'sum',\n",
    "     'RET':'max',\n",
    "     'PRC': 'last',\n",
    "     'PRC_t-1': 'last',\n",
    "     'SHROUT': 'last'})\n",
    "crsp_div_df.sort_values(by=['CUSIP','date'], ascending=True, inplace=True)\n",
    "crsp_div_df['freq'] = None\n",
    "crsp_div_df['freq'] = crsp_div_df[crsp_div_df.RCRDDT.isna()==False]['DISTCD'].apply(lambda x: x[2:3] if x is not None else None)\n",
    "crsp_div_df['freq'] = crsp_div_df.groupby(by=['CUSIP']).fillna(method='ffill', limit=11)['freq']\n",
    "\n",
    "fil_C = (crsp_div_df[\"PRC_t-1\"] >= 5) & (crsp_div_df.freq < '6')\n",
    "crsp_div_df = crsp_div_df[fil_C]\n",
    "\n",
    "crsp_div_df['MCAP'] = crsp_div_df['PRC'] * crsp_div_df['SHROUT']\n",
    "crsp_div_df"
   ]
  },
  {
   "cell_type": "code",
   "execution_count": null,
   "metadata": {},
   "outputs": [],
   "source": [
    "\n",
    "\n",
    "\n"
   ]
  },
  {
   "cell_type": "code",
   "execution_count": 39,
   "metadata": {},
   "outputs": [],
   "source": [
    "crsp_div_df['div_yr']=np.where(crsp_div_df['freq']=='6',True,False )\n",
    "crsp_div_df['div_semi_annual']=np.where(crsp_div_df['freq']=='4',True,False)\n",
    "crsp_div_df['div_quarterly']=np.where(crsp_div_df['freq']=='3',True,False)\n",
    "crsp_div_df['div_unknown']=np.where(crsp_div_df['freq']=='0',True,False )\n",
    "crsp_div_df['div_monthly']=np.where(crsp_div_df['freq']=='2',True,False )\n",
    "crsp_temp=crsp_div_df\n"
   ]
  },
  {
   "cell_type": "code",
   "execution_count": 47,
   "metadata": {},
   "outputs": [
    {
     "output_type": "execute_result",
     "data": {
      "text/plain": [
       "                        DCLRDT     RCRDDT DISTCD  DIVAMT        RET     PRC  \\\n",
       "CUSIP    date                                                                 \n",
       "00003210 1977-06-30 1977-05-25 1977-06-24   1232    0.05   0.069388   6.500   \n",
       "         1977-07-29        NaT        NaT   None    0.00   0.230769   8.000   \n",
       "         1977-08-31        NaT        NaT   None    0.00   0.046875   8.375   \n",
       "         1977-09-30 1977-08-02 1977-09-23   1232    0.05   0.080597   9.000   \n",
       "         1977-10-31        NaT        NaT   None    0.00  -0.041667   8.625   \n",
       "...                        ...        ...    ...     ...        ...     ...   \n",
       "N5946510 2008-01-31        NaT        NaT   None    0.00   0.055477  14.840   \n",
       "         2008-02-29        NaT        NaT   None    0.00  -0.202156  11.840   \n",
       "         2008-03-31        NaT        NaT   None    0.00  -0.020270  11.600   \n",
       "         2008-04-30        NaT        NaT   None    0.00   0.135345  13.170   \n",
       "         2008-05-30        NaT        NaT   None    0.00   0.013667  13.350   \n",
       "\n",
       "                     PRC_t-1    SHROUT freq         MCAP  ...  lag_u_12  \\\n",
       "CUSIP    date                                             ...             \n",
       "00003210 1977-06-30    6.125    2209.0    3    14358.500  ...       NaN   \n",
       "         1977-07-29    6.500    2209.0    3    17672.000  ...       NaN   \n",
       "         1977-08-31    8.000    2209.0    3    18500.375  ...       NaN   \n",
       "         1977-09-30    8.375    2223.0    3    20007.000  ...       NaN   \n",
       "         1977-10-31    9.000    2223.0    3    19173.375  ...       NaN   \n",
       "...                      ...       ...  ...          ...  ...       ...   \n",
       "N5946510 2008-01-31   14.060  304332.0    3  4516286.880  ...     False   \n",
       "         2008-02-29   14.840  304332.0    3  3603290.880  ...     False   \n",
       "         2008-03-31   11.840  304439.0    3  3531492.400  ...     False   \n",
       "         2008-04-30   11.600  304439.0    3  4009461.630  ...     False   \n",
       "         2008-05-30   13.170  304449.0    3  4064394.150  ...     False   \n",
       "\n",
       "                     lag_quarterly  lag_semi_annual_six  lag_semi_annual_twl  \\\n",
       "CUSIP    date                                                                  \n",
       "00003210 1977-06-30            NaN                  NaN                  NaN   \n",
       "         1977-07-29            NaN                  NaN                  NaN   \n",
       "         1977-08-31            NaN                  NaN                  NaN   \n",
       "         1977-09-30           True                  NaN                  NaN   \n",
       "         1977-10-31           True                  NaN                  NaN   \n",
       "...                            ...                  ...                  ...   \n",
       "N5946510 2008-01-31           True                False                False   \n",
       "         2008-02-29           True                False                False   \n",
       "         2008-03-31           True                False                False   \n",
       "         2008-04-30           True                False                False   \n",
       "         2008-05-30           True                False                False   \n",
       "\n",
       "                     lag_div_yr  lag_1  lag_4  lag_7  lag_10 lag_month  \n",
       "CUSIP    date                                                           \n",
       "00003210 1977-06-30         NaN    NaN    NaN    NaN     NaN       NaN  \n",
       "         1977-07-29         NaN  False    NaN    NaN     NaN     False  \n",
       "         1977-08-31         NaN  False    NaN    NaN     NaN     False  \n",
       "         1977-09-30         NaN  False    NaN    NaN     NaN     False  \n",
       "         1977-10-31         NaN  False  False    NaN     NaN     False  \n",
       "...                         ...    ...    ...    ...     ...       ...  \n",
       "N5946510 2008-01-31       False  False  False  False   False     False  \n",
       "         2008-02-29       False  False  False  False   False     False  \n",
       "         2008-03-31       False  False  False  False   False     False  \n",
       "         2008-04-30       False  False  False  False   False     False  \n",
       "         2008-05-30       False  False  False  False   False     False  \n",
       "\n",
       "[1494129 rows x 40 columns]"
      ],
      "text/html": "<div>\n<style scoped>\n    .dataframe tbody tr th:only-of-type {\n        vertical-align: middle;\n    }\n\n    .dataframe tbody tr th {\n        vertical-align: top;\n    }\n\n    .dataframe thead th {\n        text-align: right;\n    }\n</style>\n<table border=\"1\" class=\"dataframe\">\n  <thead>\n    <tr style=\"text-align: right;\">\n      <th></th>\n      <th></th>\n      <th>DCLRDT</th>\n      <th>RCRDDT</th>\n      <th>DISTCD</th>\n      <th>DIVAMT</th>\n      <th>RET</th>\n      <th>PRC</th>\n      <th>PRC_t-1</th>\n      <th>SHROUT</th>\n      <th>freq</th>\n      <th>MCAP</th>\n      <th>...</th>\n      <th>lag_u_12</th>\n      <th>lag_quarterly</th>\n      <th>lag_semi_annual_six</th>\n      <th>lag_semi_annual_twl</th>\n      <th>lag_div_yr</th>\n      <th>lag_1</th>\n      <th>lag_4</th>\n      <th>lag_7</th>\n      <th>lag_10</th>\n      <th>lag_month</th>\n    </tr>\n    <tr>\n      <th>CUSIP</th>\n      <th>date</th>\n      <th></th>\n      <th></th>\n      <th></th>\n      <th></th>\n      <th></th>\n      <th></th>\n      <th></th>\n      <th></th>\n      <th></th>\n      <th></th>\n      <th></th>\n      <th></th>\n      <th></th>\n      <th></th>\n      <th></th>\n      <th></th>\n      <th></th>\n      <th></th>\n      <th></th>\n      <th></th>\n      <th></th>\n    </tr>\n  </thead>\n  <tbody>\n    <tr>\n      <th rowspan=\"5\" valign=\"top\">00003210</th>\n      <th>1977-06-30</th>\n      <td>1977-05-25</td>\n      <td>1977-06-24</td>\n      <td>1232</td>\n      <td>0.05</td>\n      <td>0.069388</td>\n      <td>6.500</td>\n      <td>6.125</td>\n      <td>2209.0</td>\n      <td>3</td>\n      <td>14358.500</td>\n      <td>...</td>\n      <td>NaN</td>\n      <td>NaN</td>\n      <td>NaN</td>\n      <td>NaN</td>\n      <td>NaN</td>\n      <td>NaN</td>\n      <td>NaN</td>\n      <td>NaN</td>\n      <td>NaN</td>\n      <td>NaN</td>\n    </tr>\n    <tr>\n      <th>1977-07-29</th>\n      <td>NaT</td>\n      <td>NaT</td>\n      <td>None</td>\n      <td>0.00</td>\n      <td>0.230769</td>\n      <td>8.000</td>\n      <td>6.500</td>\n      <td>2209.0</td>\n      <td>3</td>\n      <td>17672.000</td>\n      <td>...</td>\n      <td>NaN</td>\n      <td>NaN</td>\n      <td>NaN</td>\n      <td>NaN</td>\n      <td>NaN</td>\n      <td>False</td>\n      <td>NaN</td>\n      <td>NaN</td>\n      <td>NaN</td>\n      <td>False</td>\n    </tr>\n    <tr>\n      <th>1977-08-31</th>\n      <td>NaT</td>\n      <td>NaT</td>\n      <td>None</td>\n      <td>0.00</td>\n      <td>0.046875</td>\n      <td>8.375</td>\n      <td>8.000</td>\n      <td>2209.0</td>\n      <td>3</td>\n      <td>18500.375</td>\n      <td>...</td>\n      <td>NaN</td>\n      <td>NaN</td>\n      <td>NaN</td>\n      <td>NaN</td>\n      <td>NaN</td>\n      <td>False</td>\n      <td>NaN</td>\n      <td>NaN</td>\n      <td>NaN</td>\n      <td>False</td>\n    </tr>\n    <tr>\n      <th>1977-09-30</th>\n      <td>1977-08-02</td>\n      <td>1977-09-23</td>\n      <td>1232</td>\n      <td>0.05</td>\n      <td>0.080597</td>\n      <td>9.000</td>\n      <td>8.375</td>\n      <td>2223.0</td>\n      <td>3</td>\n      <td>20007.000</td>\n      <td>...</td>\n      <td>NaN</td>\n      <td>True</td>\n      <td>NaN</td>\n      <td>NaN</td>\n      <td>NaN</td>\n      <td>False</td>\n      <td>NaN</td>\n      <td>NaN</td>\n      <td>NaN</td>\n      <td>False</td>\n    </tr>\n    <tr>\n      <th>1977-10-31</th>\n      <td>NaT</td>\n      <td>NaT</td>\n      <td>None</td>\n      <td>0.00</td>\n      <td>-0.041667</td>\n      <td>8.625</td>\n      <td>9.000</td>\n      <td>2223.0</td>\n      <td>3</td>\n      <td>19173.375</td>\n      <td>...</td>\n      <td>NaN</td>\n      <td>True</td>\n      <td>NaN</td>\n      <td>NaN</td>\n      <td>NaN</td>\n      <td>False</td>\n      <td>False</td>\n      <td>NaN</td>\n      <td>NaN</td>\n      <td>False</td>\n    </tr>\n    <tr>\n      <th>...</th>\n      <th>...</th>\n      <td>...</td>\n      <td>...</td>\n      <td>...</td>\n      <td>...</td>\n      <td>...</td>\n      <td>...</td>\n      <td>...</td>\n      <td>...</td>\n      <td>...</td>\n      <td>...</td>\n      <td>...</td>\n      <td>...</td>\n      <td>...</td>\n      <td>...</td>\n      <td>...</td>\n      <td>...</td>\n      <td>...</td>\n      <td>...</td>\n      <td>...</td>\n      <td>...</td>\n      <td>...</td>\n    </tr>\n    <tr>\n      <th rowspan=\"5\" valign=\"top\">N5946510</th>\n      <th>2008-01-31</th>\n      <td>NaT</td>\n      <td>NaT</td>\n      <td>None</td>\n      <td>0.00</td>\n      <td>0.055477</td>\n      <td>14.840</td>\n      <td>14.060</td>\n      <td>304332.0</td>\n      <td>3</td>\n      <td>4516286.880</td>\n      <td>...</td>\n      <td>False</td>\n      <td>True</td>\n      <td>False</td>\n      <td>False</td>\n      <td>False</td>\n      <td>False</td>\n      <td>False</td>\n      <td>False</td>\n      <td>False</td>\n      <td>False</td>\n    </tr>\n    <tr>\n      <th>2008-02-29</th>\n      <td>NaT</td>\n      <td>NaT</td>\n      <td>None</td>\n      <td>0.00</td>\n      <td>-0.202156</td>\n      <td>11.840</td>\n      <td>14.840</td>\n      <td>304332.0</td>\n      <td>3</td>\n      <td>3603290.880</td>\n      <td>...</td>\n      <td>False</td>\n      <td>True</td>\n      <td>False</td>\n      <td>False</td>\n      <td>False</td>\n      <td>False</td>\n      <td>False</td>\n      <td>False</td>\n      <td>False</td>\n      <td>False</td>\n    </tr>\n    <tr>\n      <th>2008-03-31</th>\n      <td>NaT</td>\n      <td>NaT</td>\n      <td>None</td>\n      <td>0.00</td>\n      <td>-0.020270</td>\n      <td>11.600</td>\n      <td>11.840</td>\n      <td>304439.0</td>\n      <td>3</td>\n      <td>3531492.400</td>\n      <td>...</td>\n      <td>False</td>\n      <td>True</td>\n      <td>False</td>\n      <td>False</td>\n      <td>False</td>\n      <td>False</td>\n      <td>False</td>\n      <td>False</td>\n      <td>False</td>\n      <td>False</td>\n    </tr>\n    <tr>\n      <th>2008-04-30</th>\n      <td>NaT</td>\n      <td>NaT</td>\n      <td>None</td>\n      <td>0.00</td>\n      <td>0.135345</td>\n      <td>13.170</td>\n      <td>11.600</td>\n      <td>304439.0</td>\n      <td>3</td>\n      <td>4009461.630</td>\n      <td>...</td>\n      <td>False</td>\n      <td>True</td>\n      <td>False</td>\n      <td>False</td>\n      <td>False</td>\n      <td>False</td>\n      <td>False</td>\n      <td>False</td>\n      <td>False</td>\n      <td>False</td>\n    </tr>\n    <tr>\n      <th>2008-05-30</th>\n      <td>NaT</td>\n      <td>NaT</td>\n      <td>None</td>\n      <td>0.00</td>\n      <td>0.013667</td>\n      <td>13.350</td>\n      <td>13.170</td>\n      <td>304449.0</td>\n      <td>3</td>\n      <td>4064394.150</td>\n      <td>...</td>\n      <td>False</td>\n      <td>True</td>\n      <td>False</td>\n      <td>False</td>\n      <td>False</td>\n      <td>False</td>\n      <td>False</td>\n      <td>False</td>\n      <td>False</td>\n      <td>False</td>\n    </tr>\n  </tbody>\n</table>\n<p>1494129 rows × 40 columns</p>\n</div>"
     },
     "metadata": {},
     "execution_count": 47
    }
   ],
   "source": [
    "crsp_temp['lag_u_1']=crsp_temp.groupby('CUSIP')['div_unknown'].shift(1)\n",
    "crsp_temp['lag_u_2']=crsp_temp.groupby('CUSIP')['div_unknown'].shift(2)\n",
    "crsp_temp['lag_u_3']=crsp_temp.groupby('CUSIP')['div_unknown'].shift(3)\n",
    "crsp_temp['lag_u_4']=crsp_temp.groupby('CUSIP')['div_unknown'].shift(4)\n",
    "crsp_temp['lag_u_5']=crsp_temp.groupby('CUSIP')['div_unknown'].shift(5)\n",
    "crsp_temp['lag_u_6']=crsp_temp.groupby('CUSIP')['div_unknown'].shift(6)\n",
    "crsp_temp['lag_u_7']=crsp_temp.groupby('CUSIP')['div_unknown'].shift(7)\n",
    "crsp_temp['lag_u_8']=crsp_temp.groupby('CUSIP')['div_unknown'].shift(8)\n",
    "crsp_temp['lag_u_9']=crsp_temp.groupby('CUSIP')['div_unknown'].shift(9)\n",
    "crsp_temp['lag_u_10']=crsp_temp.groupby('CUSIP')['div_unknown'].shift(10)\n",
    "crsp_temp['lag_u_11']=crsp_temp.groupby('CUSIP')['div_unknown'].shift(11)\n",
    "crsp_temp['lag_u_12']=crsp_temp.groupby('CUSIP')['div_unknown'].shift(12)\n",
    "\n",
    "crsp_temp['lag_quarterly']=crsp_temp.groupby('CUSIP')['div_quarterly'].shift(3)\n",
    "crsp_temp['lag_semi_annual_six']=crsp_temp.groupby('CUSIP')['div_semi_annual'].shift(6)\n",
    "crsp_temp['lag_semi_annual_twl']=crsp_temp.groupby('CUSIP')['div_semi_annual'].shift(12)\n",
    "crsp_temp['lag_div_yr']=crsp_temp.groupby('CUSIP')['div_yr'].shift(12)\n",
    "crsp_temp['lag_1']=crsp_temp.groupby('CUSIP')['div_monthly'].shift(1)\n",
    "crsp_temp['lag_4']=crsp_temp.groupby('CUSIP')['div_monthly'].shift(4)\n",
    "crsp_temp['lag_7']=crsp_temp.groupby('CUSIP')['div_monthly'].shift(7)\n",
    "crsp_temp['lag_10']=crsp_temp.groupby('CUSIP')['div_monthly'].shift(10)\n",
    "\n",
    "crsp_div_df['lag_month']=crsp_temp.groupby('CUSIP')['div_monthly'].shift(1)\n",
    "\n",
    "crsp_temp"
   ]
  },
  {
   "cell_type": "code",
   "execution_count": 48,
   "metadata": {},
   "outputs": [],
   "source": [
    "# Strategies 1: Long predicted dividend and short all other companies\n",
    "crsp_temp['long_stocks'] = (crsp_temp['lag_u_3'] ==True) | (crsp_temp['lag_u_6'] ==True) | ( crsp_temp['lag_u_9'] ==True ) | (crsp_temp['lag_u_12'] ==True ) | ( crsp_temp['lag_quarterly'] ==True ) | (crsp_temp['lag_semi_annual_six'] ==True ) | (crsp_temp['lag_semi_annual_twl'] ==True) |(crsp_temp['lag_div_yr'] ==True)\n",
    "\n",
    "# crsp_temp['long_stocks'] = (crsp_temp['div_yr'] ==True) | (crsp_temp['div_semi_annual'] ==True) | ( crsp_temp['div_quarterly'] ==True ) | (crsp_temp['div_unknown'] ==True ) \n",
    "\n",
    "crsp_temp['short_stocks'] = np.where(crsp_temp['long_stocks']==False,True,False)\n",
    "\n",
    "# Strategies 2: Long predicted dividend and short all other dividend payers companies\n",
    "# crsp_temp['short_stocks'] = (crsp_temp['lag_u_1'] ==True) | (crsp_temp['lag_u_2'] ==True) | ( crsp_temp['lag_u_4'] ==True ) | (crsp_temp['lag_u_5'] ==True ) | ( crsp_temp['lag_u_8'] ==True ) | (crsp_temp['lag_u_10'] ==True ) | (crsp_temp['lag_u_11'] ==True )| (crsp_div_df['lag_month']==True)\n",
    "\n",
    "# Strategies 3: Long predicted dividend and short all months occurring 1,4,7 or 10 months ago\n",
    "# crsp_temp['short_stocks'] = (crsp_temp['lag_1'] ==True) | (crsp_temp['lag_4'] ==True) | ( crsp_temp['lag_7'] ==True ) | (crsp_temp['lag_10'] ==True ) \n",
    "# crsp_temp['short_stocks'].describe()\n",
    "\n"
   ]
  },
  {
   "cell_type": "code",
   "execution_count": 49,
   "metadata": {},
   "outputs": [
    {
     "output_type": "stream",
     "name": "stderr",
     "text": [
      "<ipython-input-49-3e615cdcae9c>:26: SettingWithCopyWarning: \n",
      "A value is trying to be set on a copy of a slice from a DataFrame.\n",
      "Try using .loc[row_indexer,col_indexer] = value instead\n",
      "\n",
      "See the caveats in the documentation: https://pandas.pydata.org/pandas-docs/stable/user_guide/indexing.html#returning-a-view-versus-a-copy\n",
      "  group['port_return_long_vw'] = pd.to_numeric(group['RET']) * pd.to_numeric(group['long_weight'])\n",
      "<ipython-input-49-3e615cdcae9c>:29: SettingWithCopyWarning: \n",
      "A value is trying to be set on a copy of a slice from a DataFrame.\n",
      "Try using .loc[row_indexer,col_indexer] = value instead\n",
      "\n",
      "See the caveats in the documentation: https://pandas.pydata.org/pandas-docs/stable/user_guide/indexing.html#returning-a-view-versus-a-copy\n",
      "  group['port_return_short_vw'] = pd.to_numeric(group['RET']) * pd.to_numeric(group['short_weight'])\n",
      "            port_return_long_eq  port_return_short_eq  longshort_eq\n",
      "date                                                               \n",
      "1927-04-30             0.133511              3.760288     -3.626777\n",
      "1927-05-31             1.565723              2.434546     -0.868823\n",
      "1927-06-30             3.459155              0.711080      2.748075\n",
      "1927-07-30             3.604803              0.602610      3.002193\n",
      "1927-08-31             3.689765              0.530297      3.159468\n",
      "...                         ...                   ...           ...\n",
      "2011-08-31            15.717914              0.903915     14.813998\n",
      "2011-09-30            15.511578              1.000333     14.511245\n",
      "2011-10-31            15.232419              1.060594     14.171824\n",
      "2011-11-30            15.511578              1.024437     14.487141\n",
      "2011-12-30            15.547991              0.940072     14.607918\n",
      "\n",
      "[1017 rows x 3 columns]\n"
     ]
    }
   ],
   "source": [
    "def long_weights(group):\n",
    "    # Select all stocks with long position from the group\n",
    "    longs = group.loc[group['long_stocks'] == True]\n",
    "    # Get market capitalization of each long stock\n",
    "    mktcap = longs['SHROUT'] * longs['PRC']\n",
    "    # Calculate long weights by market captalization\n",
    "    longweights = mktcap / mktcap.sum()\n",
    "    # Assign weights for the group of long stocks\n",
    "    group.loc[group['long_stocks']==True, 'long_weight'] = longweights\n",
    "    group['long_weight'] = group['long_weight'].shift(1)\n",
    "    return group\n",
    "\n",
    "def short_weights(group):\n",
    "    # Select all stocks with short position from the group\n",
    "    shorts = group.loc[group['short_stocks'] == True]\n",
    "    # Get market capitalization of each long stock\n",
    "    mktcap = shorts['SHROUT'] * shorts['PRC']\n",
    "    # Calculate long weights by market captalization\n",
    "    shortweights = mktcap / mktcap.sum()\n",
    "    # Assign weights for the group of long stocks\n",
    "    group.loc[group['short_stocks']==True, 'short_weight'] = shortweights\n",
    "    return group\n",
    "\n",
    "def cal_return_vw(group):\n",
    "    group=group[(group.RET<='65')]\n",
    "    group['port_return_long_vw'] = pd.to_numeric(group['RET']) * pd.to_numeric(group['long_weight'])\n",
    "    longport = pd.pivot_table(group, values='port_return_long_vw', index='date', aggfunc=np.sum)\n",
    "\n",
    "    group['port_return_short_vw'] = pd.to_numeric(group['RET']) * pd.to_numeric(group['short_weight'])\n",
    "    shortport = pd.pivot_table(group, values='port_return_short_vw', index='date', aggfunc=np.sum)\n",
    "\n",
    "    data=pd.merge(longport, shortport, on='date')\n",
    "    # print(data)\n",
    "    data['longshort_eq'] = data['port_return_long_vw'] - data['port_return_short_vw']\n",
    "    return longport,shortport,data\n",
    "\n",
    "def cal_return_eq(group):\n",
    "    \n",
    "    longs = group.loc[group['long_stocks'] == True]\n",
    "\n",
    "    shorts = group.loc[group['short_stocks'] == True]\n",
    "    \n",
    "    longs=longs[(longs.RET<='65')]\n",
    "    shorts=shorts[(shorts.RET<='65')]\n",
    "    longs['port_return_long_eq'] = pd.to_numeric(longs['RET']).mean()\n",
    "    longport = pd.pivot_table(longs, values='port_return_long_eq', index='date', aggfunc=np.sum)\n",
    "\n",
    "    shorts['port_return_short_eq'] = pd.to_numeric(shorts['RET']).mean()\n",
    "    shortport = pd.pivot_table(shorts, values='port_return_short_eq', index='date', aggfunc=np.sum)\n",
    "\n",
    "    data=pd.merge(longport, shortport, on='date')\n",
    "    # print(data)\n",
    "    data['longshort_eq'] = data['port_return_long_eq'] - data['port_return_short_eq']\n",
    "    print(data)\n",
    "    # print(shortport)\n",
    "    # print(longshortport)\n",
    "    \n",
    "    return longport,shortport,data\n",
    "\n",
    "panel=long_weights(crsp_temp)\n",
    "panel=short_weights(panel)\n",
    "longport_vw,shortport_vw,longshortport_vw=cal_return_vw(panel)\n",
    "longport_eq,shortport_eq,longshortport_eq=cal_return_eq(crsp_temp)\n",
    "\n"
   ]
  },
  {
   "cell_type": "code",
   "execution_count": 50,
   "metadata": {},
   "outputs": [],
   "source": [
    "ff4=pd.read_csv('four_factor_monthly.csv',index_col='date')\n",
    "ff4.index = pd.to_datetime(ff4.index)"
   ]
  },
  {
   "cell_type": "code",
   "execution_count": 52,
   "metadata": {},
   "outputs": [
    {
     "output_type": "execute_result",
     "data": {
      "text/plain": [
       "<class 'statsmodels.iolib.summary.Summary'>\n",
       "\"\"\"\n",
       "                             OLS Regression Results                            \n",
       "===============================================================================\n",
       "Dep. Variable:     port_return_long_eq   R-squared:                       0.004\n",
       "Model:                             OLS   Adj. R-squared:                 -0.002\n",
       "Method:                  Least Squares   F-statistic:                    0.6940\n",
       "Date:                 Sat, 29 May 2021   Prob (F-statistic):              0.596\n",
       "Time:                         21:36:59   Log-Likelihood:                -2768.6\n",
       "No. Observations:                  744   AIC:                             5547.\n",
       "Df Residuals:                      739   BIC:                             5570.\n",
       "Df Model:                            4                                         \n",
       "Covariance Type:             nonrobust                                         \n",
       "==============================================================================\n",
       "                 coef    std err          t      P>|t|      [0.025      0.975]\n",
       "------------------------------------------------------------------------------\n",
       "Intercept     14.2531      0.377     37.776      0.000      13.512      14.994\n",
       "hml           12.7363     11.273      1.130      0.259      -9.394      34.867\n",
       "mkt_rf        -1.6558      7.608     -0.218      0.828     -16.592      13.281\n",
       "smb            2.7465     12.013      0.229      0.819     -20.838      26.331\n",
       "Mom           11.4890      8.522      1.348      0.178      -5.240      28.218\n",
       "==============================================================================\n",
       "Omnibus:                    17096.714   Durbin-Watson:                   0.009\n",
       "Prob(Omnibus):                  0.000   Jarque-Bera (JB):               61.312\n",
       "Skew:                           0.103   Prob(JB):                     4.86e-14\n",
       "Kurtosis:                       1.609   Cond. No.                         33.9\n",
       "==============================================================================\n",
       "\n",
       "Notes:\n",
       "[1] Standard Errors assume that the covariance matrix of the errors is correctly specified.\n",
       "\"\"\""
      ],
      "text/html": "<table class=\"simpletable\">\n<caption>OLS Regression Results</caption>\n<tr>\n  <th>Dep. Variable:</th>    <td>port_return_long_eq</td> <th>  R-squared:         </th> <td>   0.004</td>\n</tr>\n<tr>\n  <th>Model:</th>                    <td>OLS</td>         <th>  Adj. R-squared:    </th> <td>  -0.002</td>\n</tr>\n<tr>\n  <th>Method:</th>              <td>Least Squares</td>    <th>  F-statistic:       </th> <td>  0.6940</td>\n</tr>\n<tr>\n  <th>Date:</th>              <td>Sat, 29 May 2021</td>   <th>  Prob (F-statistic):</th>  <td> 0.596</td> \n</tr>\n<tr>\n  <th>Time:</th>                  <td>21:36:59</td>       <th>  Log-Likelihood:    </th> <td> -2768.6</td>\n</tr>\n<tr>\n  <th>No. Observations:</th>       <td>   744</td>        <th>  AIC:               </th> <td>   5547.</td>\n</tr>\n<tr>\n  <th>Df Residuals:</th>           <td>   739</td>        <th>  BIC:               </th> <td>   5570.</td>\n</tr>\n<tr>\n  <th>Df Model:</th>               <td>     4</td>        <th>                     </th>     <td> </td>   \n</tr>\n<tr>\n  <th>Covariance Type:</th>       <td>nonrobust</td>      <th>                     </th>     <td> </td>   \n</tr>\n</table>\n<table class=\"simpletable\">\n<tr>\n      <td></td>         <th>coef</th>     <th>std err</th>      <th>t</th>      <th>P>|t|</th>  <th>[0.025</th>    <th>0.975]</th>  \n</tr>\n<tr>\n  <th>Intercept</th> <td>   14.2531</td> <td>    0.377</td> <td>   37.776</td> <td> 0.000</td> <td>   13.512</td> <td>   14.994</td>\n</tr>\n<tr>\n  <th>hml</th>       <td>   12.7363</td> <td>   11.273</td> <td>    1.130</td> <td> 0.259</td> <td>   -9.394</td> <td>   34.867</td>\n</tr>\n<tr>\n  <th>mkt_rf</th>    <td>   -1.6558</td> <td>    7.608</td> <td>   -0.218</td> <td> 0.828</td> <td>  -16.592</td> <td>   13.281</td>\n</tr>\n<tr>\n  <th>smb</th>       <td>    2.7465</td> <td>   12.013</td> <td>    0.229</td> <td> 0.819</td> <td>  -20.838</td> <td>   26.331</td>\n</tr>\n<tr>\n  <th>Mom</th>       <td>   11.4890</td> <td>    8.522</td> <td>    1.348</td> <td> 0.178</td> <td>   -5.240</td> <td>   28.218</td>\n</tr>\n</table>\n<table class=\"simpletable\">\n<tr>\n  <th>Omnibus:</th>       <td>17096.714</td> <th>  Durbin-Watson:     </th> <td>   0.009</td>\n</tr>\n<tr>\n  <th>Prob(Omnibus):</th>  <td> 0.000</td>   <th>  Jarque-Bera (JB):  </th> <td>  61.312</td>\n</tr>\n<tr>\n  <th>Skew:</th>           <td> 0.103</td>   <th>  Prob(JB):          </th> <td>4.86e-14</td>\n</tr>\n<tr>\n  <th>Kurtosis:</th>       <td> 1.609</td>   <th>  Cond. No.          </th> <td>    33.9</td>\n</tr>\n</table><br/><br/>Notes:<br/>[1] Standard Errors assume that the covariance matrix of the errors is correctly specified."
     },
     "metadata": {},
     "execution_count": 52
    }
   ],
   "source": [
    "# equal_weighted_long\n",
    "# data=pd.merge(ff4, longport_eq, on='date')\n",
    "\n",
    "(\n",
    "    smf.ols('port_return_long_eq ~ 1 + hml + mkt_rf + smb + Mom', data=pd.merge(ff4, longport_eq, on='date'))\n",
    "    .fit().summary()\n",
    ")\n",
    "\n",
    "# equal_weighted_short\n",
    "# (\n",
    "#     smf.ols('port_return_short_eq ~ 1 + hml + mkt_rf + smb + Mom', data=pd.merge(ff4, shortport_eq, on='date'))\n",
    "#     .fit().summary()\n",
    "# )\n",
    "# equal_weighted_diff\n",
    "# (\n",
    "#     smf.ols('longshort_eq ~ 1 + hml + mkt_rf + smb + Mom', data=pd.merge(ff4, longshortport_eq, on='date'))\n",
    "#     .fit().summary()\n",
    "# )"
   ]
  },
  {
   "cell_type": "code",
   "execution_count": 55,
   "metadata": {},
   "outputs": [
    {
     "output_type": "execute_result",
     "data": {
      "text/plain": [
       "<class 'statsmodels.iolib.summary.Summary'>\n",
       "\"\"\"\n",
       "                             OLS Regression Results                            \n",
       "===============================================================================\n",
       "Dep. Variable:     port_return_long_vw   R-squared:                       0.230\n",
       "Model:                             OLS   Adj. R-squared:                  0.225\n",
       "Method:                  Least Squares   F-statistic:                     55.29\n",
       "Date:                 Sat, 29 May 2021   Prob (F-statistic):           7.94e-41\n",
       "Time:                         21:39:01   Log-Likelihood:                 6141.4\n",
       "No. Observations:                  747   AIC:                        -1.227e+04\n",
       "Df Residuals:                      742   BIC:                        -1.225e+04\n",
       "Df Model:                            4                                         \n",
       "Covariance Type:             nonrobust                                         \n",
       "==============================================================================\n",
       "                 coef    std err          t      P>|t|      [0.025      0.975]\n",
       "------------------------------------------------------------------------------\n",
       "Intercept   5.541e-06   2.45e-06      2.260      0.024    7.28e-07    1.04e-05\n",
       "hml           -0.0003   7.32e-05     -4.165      0.000      -0.000      -0.000\n",
       "mkt_rf         0.0007   4.95e-05     13.475      0.000       0.001       0.001\n",
       "smb           -0.0003   7.81e-05     -4.168      0.000      -0.000      -0.000\n",
       "Mom           -0.0001   5.54e-05     -2.304      0.021      -0.000   -1.89e-05\n",
       "==============================================================================\n",
       "Omnibus:                      276.182   Durbin-Watson:                   1.763\n",
       "Prob(Omnibus):                  0.000   Jarque-Bera (JB):             7827.092\n",
       "Skew:                          -1.043   Prob(JB):                         0.00\n",
       "Kurtosis:                      18.720   Cond. No.                         34.0\n",
       "==============================================================================\n",
       "\n",
       "Notes:\n",
       "[1] Standard Errors assume that the covariance matrix of the errors is correctly specified.\n",
       "\"\"\""
      ],
      "text/html": "<table class=\"simpletable\">\n<caption>OLS Regression Results</caption>\n<tr>\n  <th>Dep. Variable:</th>    <td>port_return_long_vw</td> <th>  R-squared:         </th>  <td>   0.230</td> \n</tr>\n<tr>\n  <th>Model:</th>                    <td>OLS</td>         <th>  Adj. R-squared:    </th>  <td>   0.225</td> \n</tr>\n<tr>\n  <th>Method:</th>              <td>Least Squares</td>    <th>  F-statistic:       </th>  <td>   55.29</td> \n</tr>\n<tr>\n  <th>Date:</th>              <td>Sat, 29 May 2021</td>   <th>  Prob (F-statistic):</th>  <td>7.94e-41</td> \n</tr>\n<tr>\n  <th>Time:</th>                  <td>21:39:01</td>       <th>  Log-Likelihood:    </th>  <td>  6141.4</td> \n</tr>\n<tr>\n  <th>No. Observations:</th>       <td>   747</td>        <th>  AIC:               </th> <td>-1.227e+04</td>\n</tr>\n<tr>\n  <th>Df Residuals:</th>           <td>   742</td>        <th>  BIC:               </th> <td>-1.225e+04</td>\n</tr>\n<tr>\n  <th>Df Model:</th>               <td>     4</td>        <th>                     </th>      <td> </td>    \n</tr>\n<tr>\n  <th>Covariance Type:</th>       <td>nonrobust</td>      <th>                     </th>      <td> </td>    \n</tr>\n</table>\n<table class=\"simpletable\">\n<tr>\n      <td></td>         <th>coef</th>     <th>std err</th>      <th>t</th>      <th>P>|t|</th>  <th>[0.025</th>    <th>0.975]</th>  \n</tr>\n<tr>\n  <th>Intercept</th> <td> 5.541e-06</td> <td> 2.45e-06</td> <td>    2.260</td> <td> 0.024</td> <td> 7.28e-07</td> <td> 1.04e-05</td>\n</tr>\n<tr>\n  <th>hml</th>       <td>   -0.0003</td> <td> 7.32e-05</td> <td>   -4.165</td> <td> 0.000</td> <td>   -0.000</td> <td>   -0.000</td>\n</tr>\n<tr>\n  <th>mkt_rf</th>    <td>    0.0007</td> <td> 4.95e-05</td> <td>   13.475</td> <td> 0.000</td> <td>    0.001</td> <td>    0.001</td>\n</tr>\n<tr>\n  <th>smb</th>       <td>   -0.0003</td> <td> 7.81e-05</td> <td>   -4.168</td> <td> 0.000</td> <td>   -0.000</td> <td>   -0.000</td>\n</tr>\n<tr>\n  <th>Mom</th>       <td>   -0.0001</td> <td> 5.54e-05</td> <td>   -2.304</td> <td> 0.021</td> <td>   -0.000</td> <td>-1.89e-05</td>\n</tr>\n</table>\n<table class=\"simpletable\">\n<tr>\n  <th>Omnibus:</th>       <td>276.182</td> <th>  Durbin-Watson:     </th> <td>   1.763</td>\n</tr>\n<tr>\n  <th>Prob(Omnibus):</th> <td> 0.000</td>  <th>  Jarque-Bera (JB):  </th> <td>7827.092</td>\n</tr>\n<tr>\n  <th>Skew:</th>          <td>-1.043</td>  <th>  Prob(JB):          </th> <td>    0.00</td>\n</tr>\n<tr>\n  <th>Kurtosis:</th>      <td>18.720</td>  <th>  Cond. No.          </th> <td>    34.0</td>\n</tr>\n</table><br/><br/>Notes:<br/>[1] Standard Errors assume that the covariance matrix of the errors is correctly specified."
     },
     "metadata": {},
     "execution_count": 55
    }
   ],
   "source": [
    "# value_weighted_long\n",
    "data=pd.merge(ff4, longport_eq, on='date')\n",
    "\n",
    "(\n",
    "    smf.ols('port_return_long_vw ~ 1 + hml + mkt_rf + smb + Mom', data=pd.merge(ff4, longport_vw, on='date'))\n",
    "    .fit().summary()\n",
    ")\n",
    "\n",
    "# value_weighted_short\n",
    "# (\n",
    "#     smf.ols('port_return_short_vw ~ 1 + hml + mkt_rf + smb + Mom', data=pd.merge(ff4, shortport_vw, on='date'))\n",
    "#     .fit().summary()\n",
    "# )\n",
    "# value_weighted_diff\n",
    "# (\n",
    "#     smf.ols('longshort_eq ~ 1 + hml + mkt_rf + smb + Mom', data=pd.merge(ff4, longshortport_vw, on='date'))\n",
    "#     .fit().summary()\n",
    "# )"
   ]
  },
  {
   "cell_type": "code",
   "execution_count": 160,
   "metadata": {},
   "outputs": [
    {
     "output_type": "execute_result",
     "data": {
      "text/plain": [
       "<class 'statsmodels.iolib.summary.Summary'>\n",
       "\"\"\"\n",
       "                             OLS Regression Results                            \n",
       "===============================================================================\n",
       "Dep. Variable:     port_return_long_eq   R-squared:                       0.000\n",
       "Model:                             OLS   Adj. R-squared:                 -0.001\n",
       "Method:                  Least Squares   F-statistic:                   0.04730\n",
       "Date:                 Sat, 29 May 2021   Prob (F-statistic):              0.828\n",
       "Time:                         01:24:25   Log-Likelihood:                -2844.0\n",
       "No. Observations:                  744   AIC:                             5692.\n",
       "Df Residuals:                      742   BIC:                             5701.\n",
       "Df Model:                            1                                         \n",
       "Covariance Type:             nonrobust                                         \n",
       "==============================================================================\n",
       "                 coef    std err          t      P>|t|      [0.025      0.975]\n",
       "------------------------------------------------------------------------------\n",
       "Intercept     15.6335      0.408     38.324      0.000      14.833      16.434\n",
       "mkt_rf        -1.6002      7.358     -0.217      0.828     -16.045      12.845\n",
       "==============================================================================\n",
       "Omnibus:                     4247.691   Durbin-Watson:                   0.001\n",
       "Prob(Omnibus):                  0.000   Jarque-Bera (JB):               59.673\n",
       "Skew:                           0.156   Prob(JB):                     1.10e-13\n",
       "Kurtosis:                       1.648   Cond. No.                         18.1\n",
       "==============================================================================\n",
       "\n",
       "Notes:\n",
       "[1] Standard Errors assume that the covariance matrix of the errors is correctly specified.\n",
       "\"\"\""
      ],
      "text/html": "<table class=\"simpletable\">\n<caption>OLS Regression Results</caption>\n<tr>\n  <th>Dep. Variable:</th>    <td>port_return_long_eq</td> <th>  R-squared:         </th> <td>   0.000</td>\n</tr>\n<tr>\n  <th>Model:</th>                    <td>OLS</td>         <th>  Adj. R-squared:    </th> <td>  -0.001</td>\n</tr>\n<tr>\n  <th>Method:</th>              <td>Least Squares</td>    <th>  F-statistic:       </th> <td> 0.04730</td>\n</tr>\n<tr>\n  <th>Date:</th>              <td>Sat, 29 May 2021</td>   <th>  Prob (F-statistic):</th>  <td> 0.828</td> \n</tr>\n<tr>\n  <th>Time:</th>                  <td>01:24:25</td>       <th>  Log-Likelihood:    </th> <td> -2844.0</td>\n</tr>\n<tr>\n  <th>No. Observations:</th>       <td>   744</td>        <th>  AIC:               </th> <td>   5692.</td>\n</tr>\n<tr>\n  <th>Df Residuals:</th>           <td>   742</td>        <th>  BIC:               </th> <td>   5701.</td>\n</tr>\n<tr>\n  <th>Df Model:</th>               <td>     1</td>        <th>                     </th>     <td> </td>   \n</tr>\n<tr>\n  <th>Covariance Type:</th>       <td>nonrobust</td>      <th>                     </th>     <td> </td>   \n</tr>\n</table>\n<table class=\"simpletable\">\n<tr>\n      <td></td>         <th>coef</th>     <th>std err</th>      <th>t</th>      <th>P>|t|</th>  <th>[0.025</th>    <th>0.975]</th>  \n</tr>\n<tr>\n  <th>Intercept</th> <td>   15.6335</td> <td>    0.408</td> <td>   38.324</td> <td> 0.000</td> <td>   14.833</td> <td>   16.434</td>\n</tr>\n<tr>\n  <th>mkt_rf</th>    <td>   -1.6002</td> <td>    7.358</td> <td>   -0.217</td> <td> 0.828</td> <td>  -16.045</td> <td>   12.845</td>\n</tr>\n</table>\n<table class=\"simpletable\">\n<tr>\n  <th>Omnibus:</th>       <td>4247.691</td> <th>  Durbin-Watson:     </th> <td>   0.001</td>\n</tr>\n<tr>\n  <th>Prob(Omnibus):</th>  <td> 0.000</td>  <th>  Jarque-Bera (JB):  </th> <td>  59.673</td>\n</tr>\n<tr>\n  <th>Skew:</th>           <td> 0.156</td>  <th>  Prob(JB):          </th> <td>1.10e-13</td>\n</tr>\n<tr>\n  <th>Kurtosis:</th>       <td> 1.648</td>  <th>  Cond. No.          </th> <td>    18.1</td>\n</tr>\n</table><br/><br/>Notes:<br/>[1] Standard Errors assume that the covariance matrix of the errors is correctly specified."
     },
     "metadata": {},
     "execution_count": 160
    }
   ],
   "source": [
    "# panel B do one strategies 1 & 2 \n",
    "# CAPM Alpha\n",
    "(\n",
    "    smf.ols('port_return_long_eq ~ 1 + mkt_rf', data=pd.merge(ff4, longport_eq, on='date'))\n",
    "    .fit().summary()\n",
    ")\n",
    "\n"
   ]
  },
  {
   "cell_type": "code",
   "execution_count": 161,
   "metadata": {},
   "outputs": [
    {
     "output_type": "execute_result",
     "data": {
      "text/plain": [
       "<class 'statsmodels.iolib.summary.Summary'>\n",
       "\"\"\"\n",
       "                             OLS Regression Results                             \n",
       "================================================================================\n",
       "Dep. Variable:     port_return_short_eq   R-squared:                       0.003\n",
       "Model:                              OLS   Adj. R-squared:                 -0.001\n",
       "Method:                   Least Squares   F-statistic:                    0.7856\n",
       "Date:                  Sat, 29 May 2021   Prob (F-statistic):              0.502\n",
       "Time:                          01:24:25   Log-Likelihood:                -1279.6\n",
       "No. Observations:                   746   AIC:                             2567.\n",
       "Df Residuals:                       742   BIC:                             2586.\n",
       "Df Model:                             3                                         \n",
       "Covariance Type:              nonrobust                                         \n",
       "==============================================================================\n",
       "                 coef    std err          t      P>|t|      [0.025      0.975]\n",
       "------------------------------------------------------------------------------\n",
       "Intercept      1.4448      0.050     29.048      0.000       1.347       1.542\n",
       "hml            1.1131      1.482      0.751      0.453      -1.796       4.022\n",
       "mkt_rf        -0.5628      0.986     -0.571      0.568      -2.499       1.373\n",
       "smb           -1.6585      1.614     -1.027      0.305      -4.828       1.511\n",
       "==============================================================================\n",
       "Omnibus:                      109.431   Durbin-Watson:                   0.029\n",
       "Prob(Omnibus):                  0.000   Jarque-Bera (JB):              156.886\n",
       "Skew:                           1.102   Prob(JB):                     8.56e-35\n",
       "Kurtosis:                       3.440   Cond. No.                         33.9\n",
       "==============================================================================\n",
       "\n",
       "Notes:\n",
       "[1] Standard Errors assume that the covariance matrix of the errors is correctly specified.\n",
       "\"\"\""
      ],
      "text/html": "<table class=\"simpletable\">\n<caption>OLS Regression Results</caption>\n<tr>\n  <th>Dep. Variable:</th>    <td>port_return_short_eq</td> <th>  R-squared:         </th> <td>   0.003</td>\n</tr>\n<tr>\n  <th>Model:</th>                     <td>OLS</td>         <th>  Adj. R-squared:    </th> <td>  -0.001</td>\n</tr>\n<tr>\n  <th>Method:</th>               <td>Least Squares</td>    <th>  F-statistic:       </th> <td>  0.7856</td>\n</tr>\n<tr>\n  <th>Date:</th>               <td>Sat, 29 May 2021</td>   <th>  Prob (F-statistic):</th>  <td> 0.502</td> \n</tr>\n<tr>\n  <th>Time:</th>                   <td>01:24:25</td>       <th>  Log-Likelihood:    </th> <td> -1279.6</td>\n</tr>\n<tr>\n  <th>No. Observations:</th>        <td>   746</td>        <th>  AIC:               </th> <td>   2567.</td>\n</tr>\n<tr>\n  <th>Df Residuals:</th>            <td>   742</td>        <th>  BIC:               </th> <td>   2586.</td>\n</tr>\n<tr>\n  <th>Df Model:</th>                <td>     3</td>        <th>                     </th>     <td> </td>   \n</tr>\n<tr>\n  <th>Covariance Type:</th>        <td>nonrobust</td>      <th>                     </th>     <td> </td>   \n</tr>\n</table>\n<table class=\"simpletable\">\n<tr>\n      <td></td>         <th>coef</th>     <th>std err</th>      <th>t</th>      <th>P>|t|</th>  <th>[0.025</th>    <th>0.975]</th>  \n</tr>\n<tr>\n  <th>Intercept</th> <td>    1.4448</td> <td>    0.050</td> <td>   29.048</td> <td> 0.000</td> <td>    1.347</td> <td>    1.542</td>\n</tr>\n<tr>\n  <th>hml</th>       <td>    1.1131</td> <td>    1.482</td> <td>    0.751</td> <td> 0.453</td> <td>   -1.796</td> <td>    4.022</td>\n</tr>\n<tr>\n  <th>mkt_rf</th>    <td>   -0.5628</td> <td>    0.986</td> <td>   -0.571</td> <td> 0.568</td> <td>   -2.499</td> <td>    1.373</td>\n</tr>\n<tr>\n  <th>smb</th>       <td>   -1.6585</td> <td>    1.614</td> <td>   -1.027</td> <td> 0.305</td> <td>   -4.828</td> <td>    1.511</td>\n</tr>\n</table>\n<table class=\"simpletable\">\n<tr>\n  <th>Omnibus:</th>       <td>109.431</td> <th>  Durbin-Watson:     </th> <td>   0.029</td>\n</tr>\n<tr>\n  <th>Prob(Omnibus):</th> <td> 0.000</td>  <th>  Jarque-Bera (JB):  </th> <td> 156.886</td>\n</tr>\n<tr>\n  <th>Skew:</th>          <td> 1.102</td>  <th>  Prob(JB):          </th> <td>8.56e-35</td>\n</tr>\n<tr>\n  <th>Kurtosis:</th>      <td> 3.440</td>  <th>  Cond. No.          </th> <td>    33.9</td>\n</tr>\n</table><br/><br/>Notes:<br/>[1] Standard Errors assume that the covariance matrix of the errors is correctly specified."
     },
     "metadata": {},
     "execution_count": 161
    }
   ],
   "source": [
    "# 3-factor Alpha\n",
    "(\n",
    "    smf.ols('port_return_short_eq ~ 1 + hml + mkt_rf + smb', data=pd.merge(ff4, shortport_eq, on='date'))\n",
    "    .fit().summary()\n",
    ")"
   ]
  }
 ]
}