{
 "metadata": {
  "language_info": {
   "codemirror_mode": {
    "name": "ipython",
    "version": 3
   },
   "file_extension": ".py",
   "mimetype": "text/x-python",
   "name": "python",
   "nbconvert_exporter": "python",
   "pygments_lexer": "ipython3",
   "version": "3.8.1"
  },
  "orig_nbformat": 2,
  "kernelspec": {
   "name": "python381jvsc74a57bd017ea5540087fa84e9325eca06d4d2f7ee74750dd3fb7333b7294c3d5a3b2df48",
   "display_name": "Python 3.8.1 64-bit ('venv': virtualenvwrapper)"
  }
 },
 "nbformat": 4,
 "nbformat_minor": 2,
 "cells": [
  {
   "cell_type": "code",
   "execution_count": 146,
   "metadata": {},
   "outputs": [
    {
     "output_type": "stream",
     "name": "stdout",
     "text": [
      "Requirement already satisfied: matplotlib in /Users/snow/.virtualenvs/venv/lib/python3.8/site-packages (3.4.2)\n",
      "Requirement already satisfied: numpy>=1.16 in /Users/snow/.virtualenvs/venv/lib/python3.8/site-packages (from matplotlib) (1.20.2)\n",
      "Requirement already satisfied: python-dateutil>=2.7 in /Users/snow/.virtualenvs/venv/lib/python3.8/site-packages (from matplotlib) (2.8.1)\n",
      "Requirement already satisfied: cycler>=0.10 in /Users/snow/.virtualenvs/venv/lib/python3.8/site-packages (from matplotlib) (0.10.0)\n",
      "Requirement already satisfied: pillow>=6.2.0 in /Users/snow/.virtualenvs/venv/lib/python3.8/site-packages (from matplotlib) (8.2.0)\n",
      "Requirement already satisfied: kiwisolver>=1.0.1 in /Users/snow/.virtualenvs/venv/lib/python3.8/site-packages (from matplotlib) (1.3.1)\n",
      "Requirement already satisfied: pyparsing>=2.2.1 in /Users/snow/.virtualenvs/venv/lib/python3.8/site-packages (from matplotlib) (2.4.7)\n",
      "Requirement already satisfied: six in /Users/snow/.virtualenvs/venv/lib/python3.8/site-packages (from cycler>=0.10->matplotlib) (1.15.0)\n",
      "\u001b[33mWARNING: You are using pip version 21.0.1; however, version 21.1.2 is available.\n",
      "You should consider upgrading via the '/Users/snow/.virtualenvs/venv/bin/python -m pip install --upgrade pip' command.\u001b[0m\n",
      "Note: you may need to restart the kernel to use updated packages.\n"
     ]
    }
   ],
   "source": [
    "pip install matplotlib"
   ]
  },
  {
   "cell_type": "code",
   "execution_count": 147,
   "metadata": {},
   "outputs": [
    {
     "output_type": "stream",
     "name": "stdout",
     "text": [
      "Requirement already satisfied: statsmodels in /Users/snow/.virtualenvs/venv/lib/python3.8/site-packages (0.12.2)\n",
      "Requirement already satisfied: numpy>=1.15 in /Users/snow/.virtualenvs/venv/lib/python3.8/site-packages (from statsmodels) (1.20.2)\n",
      "Requirement already satisfied: pandas>=0.21 in /Users/snow/.virtualenvs/venv/lib/python3.8/site-packages (from statsmodels) (1.2.3)\n",
      "Requirement already satisfied: patsy>=0.5 in /Users/snow/.virtualenvs/venv/lib/python3.8/site-packages (from statsmodels) (0.5.1)\n",
      "Requirement already satisfied: scipy>=1.1 in /Users/snow/.virtualenvs/venv/lib/python3.8/site-packages (from statsmodels) (1.6.3)\n",
      "Requirement already satisfied: pytz>=2017.3 in /Users/snow/.virtualenvs/venv/lib/python3.8/site-packages (from pandas>=0.21->statsmodels) (2021.1)\n",
      "Requirement already satisfied: python-dateutil>=2.7.3 in /Users/snow/.virtualenvs/venv/lib/python3.8/site-packages (from pandas>=0.21->statsmodels) (2.8.1)\n",
      "Requirement already satisfied: six in /Users/snow/.virtualenvs/venv/lib/python3.8/site-packages (from patsy>=0.5->statsmodels) (1.15.0)\n",
      "\u001b[33mWARNING: You are using pip version 21.0.1; however, version 21.1.2 is available.\n",
      "You should consider upgrading via the '/Users/snow/.virtualenvs/venv/bin/python -m pip install --upgrade pip' command.\u001b[0m\n",
      "Note: you may need to restart the kernel to use updated packages.\n"
     ]
    }
   ],
   "source": [
    "pip install statsmodels"
   ]
  },
  {
   "cell_type": "code",
   "execution_count": 148,
   "metadata": {},
   "outputs": [
    {
     "output_type": "stream",
     "name": "stdout",
     "text": [
      "Requirement already satisfied: tqdm in /Users/snow/.virtualenvs/venv/lib/python3.8/site-packages (4.60.0)\n",
      "\u001b[33mWARNING: You are using pip version 21.0.1; however, version 21.1.2 is available.\n",
      "You should consider upgrading via the '/Users/snow/.virtualenvs/venv/bin/python -m pip install --upgrade pip' command.\u001b[0m\n",
      "Note: you may need to restart the kernel to use updated packages.\n"
     ]
    }
   ],
   "source": [
    "pip install tqdm"
   ]
  },
  {
   "cell_type": "code",
   "execution_count": 149,
   "metadata": {},
   "outputs": [],
   "source": [
    "import pandas as pd\n",
    "import numpy as np\n",
    "import matplotlib.pyplot as plt\n",
    "from pandas.tseries.offsets import MonthEnd\n",
    "import statsmodels.api as sm\n",
    "from tqdm import tqdm\n",
    "from multiprocessing.dummy import Pool\n",
    "import statsmodels.formula.api as smf\n",
    "pd.set_option('display.max_rows', 500)\n",
    "# pd.set_option('display.max_columns', 500)"
   ]
  },
  {
   "cell_type": "code",
   "execution_count": 150,
   "metadata": {},
   "outputs": [
    {
     "output_type": "execute_result",
     "data": {
      "text/plain": [
       "         PERMNO       date SHRCD TICKER                 COMNAM     CUSIP  \\\n",
       "1359100   25881 1970-11-30    10     AE  A & E PLASTIK PAK INC  00003210   \n",
       "1359101   25881 1970-12-31    10     AE  A & E PLASTIK PAK INC  00003210   \n",
       "1359102   25881 1971-01-29    10     AE  A & E PLASTIK PAK INC  00003210   \n",
       "1359103   25881 1971-02-26    10     AE  A & E PLASTIK PAK INC  00003210   \n",
       "1359104   25881 1971-03-31    10     AE  A & E PLASTIK PAK INC  00003210   \n",
       "\n",
       "        DCLRDT RCRDDT DISTCD  DIVAMT     PRC     VOL        RET  SHROUT  \\\n",
       "1359100    NaT    NaT    NaN     NaN   9.000   318.0          C  2655.0   \n",
       "1359101    NaT    NaT    NaN     NaN  10.000   646.0   0.111111  2655.0   \n",
       "1359102    NaT    NaT    NaN     NaN   9.000   636.0  -0.100000  2655.0   \n",
       "1359103    NaT    NaT    NaN     NaN  11.125  2155.0   0.236111  2655.0   \n",
       "1359104    NaT    NaT    NaN     NaN   9.750  2062.0  -0.123596  2655.0   \n",
       "\n",
       "         SPREAD       RETX  year  month  PRC_t-1  \n",
       "1359100     NaN          C  1970     11      NaN  \n",
       "1359101     NaN   0.111111  1970     12    9.000  \n",
       "1359102     NaN  -0.100000  1971      1   10.000  \n",
       "1359103     NaN   0.236111  1971      2    9.000  \n",
       "1359104     NaN  -0.123596  1971      3   11.125  "
      ],
      "text/html": "<div>\n<style scoped>\n    .dataframe tbody tr th:only-of-type {\n        vertical-align: middle;\n    }\n\n    .dataframe tbody tr th {\n        vertical-align: top;\n    }\n\n    .dataframe thead th {\n        text-align: right;\n    }\n</style>\n<table border=\"1\" class=\"dataframe\">\n  <thead>\n    <tr style=\"text-align: right;\">\n      <th></th>\n      <th>PERMNO</th>\n      <th>date</th>\n      <th>SHRCD</th>\n      <th>TICKER</th>\n      <th>COMNAM</th>\n      <th>CUSIP</th>\n      <th>DCLRDT</th>\n      <th>RCRDDT</th>\n      <th>DISTCD</th>\n      <th>DIVAMT</th>\n      <th>PRC</th>\n      <th>VOL</th>\n      <th>RET</th>\n      <th>SHROUT</th>\n      <th>SPREAD</th>\n      <th>RETX</th>\n      <th>year</th>\n      <th>month</th>\n      <th>PRC_t-1</th>\n    </tr>\n  </thead>\n  <tbody>\n    <tr>\n      <th>1359100</th>\n      <td>25881</td>\n      <td>1970-11-30</td>\n      <td>10</td>\n      <td>AE</td>\n      <td>A &amp; E PLASTIK PAK INC</td>\n      <td>00003210</td>\n      <td>NaT</td>\n      <td>NaT</td>\n      <td>NaN</td>\n      <td>NaN</td>\n      <td>9.000</td>\n      <td>318.0</td>\n      <td>C</td>\n      <td>2655.0</td>\n      <td>NaN</td>\n      <td>C</td>\n      <td>1970</td>\n      <td>11</td>\n      <td>NaN</td>\n    </tr>\n    <tr>\n      <th>1359101</th>\n      <td>25881</td>\n      <td>1970-12-31</td>\n      <td>10</td>\n      <td>AE</td>\n      <td>A &amp; E PLASTIK PAK INC</td>\n      <td>00003210</td>\n      <td>NaT</td>\n      <td>NaT</td>\n      <td>NaN</td>\n      <td>NaN</td>\n      <td>10.000</td>\n      <td>646.0</td>\n      <td>0.111111</td>\n      <td>2655.0</td>\n      <td>NaN</td>\n      <td>0.111111</td>\n      <td>1970</td>\n      <td>12</td>\n      <td>9.000</td>\n    </tr>\n    <tr>\n      <th>1359102</th>\n      <td>25881</td>\n      <td>1971-01-29</td>\n      <td>10</td>\n      <td>AE</td>\n      <td>A &amp; E PLASTIK PAK INC</td>\n      <td>00003210</td>\n      <td>NaT</td>\n      <td>NaT</td>\n      <td>NaN</td>\n      <td>NaN</td>\n      <td>9.000</td>\n      <td>636.0</td>\n      <td>-0.100000</td>\n      <td>2655.0</td>\n      <td>NaN</td>\n      <td>-0.100000</td>\n      <td>1971</td>\n      <td>1</td>\n      <td>10.000</td>\n    </tr>\n    <tr>\n      <th>1359103</th>\n      <td>25881</td>\n      <td>1971-02-26</td>\n      <td>10</td>\n      <td>AE</td>\n      <td>A &amp; E PLASTIK PAK INC</td>\n      <td>00003210</td>\n      <td>NaT</td>\n      <td>NaT</td>\n      <td>NaN</td>\n      <td>NaN</td>\n      <td>11.125</td>\n      <td>2155.0</td>\n      <td>0.236111</td>\n      <td>2655.0</td>\n      <td>NaN</td>\n      <td>0.236111</td>\n      <td>1971</td>\n      <td>2</td>\n      <td>9.000</td>\n    </tr>\n    <tr>\n      <th>1359104</th>\n      <td>25881</td>\n      <td>1971-03-31</td>\n      <td>10</td>\n      <td>AE</td>\n      <td>A &amp; E PLASTIK PAK INC</td>\n      <td>00003210</td>\n      <td>NaT</td>\n      <td>NaT</td>\n      <td>NaN</td>\n      <td>NaN</td>\n      <td>9.750</td>\n      <td>2062.0</td>\n      <td>-0.123596</td>\n      <td>2655.0</td>\n      <td>NaN</td>\n      <td>-0.123596</td>\n      <td>1971</td>\n      <td>3</td>\n      <td>11.125</td>\n    </tr>\n  </tbody>\n</table>\n</div>"
     },
     "metadata": {},
     "execution_count": 150
    }
   ],
   "source": [
    "crsp_df = pd.read_csv(\"crsp.zip\", compression='zip',header=0,\n",
    "             parse_dates = ['date','DCLRDT','RCRDDT'],\n",
    "             dtype={\"PRC\": np.float64,\n",
    "                  \"VOL\": np.float64,\n",
    "                  \"SHROUT\": np.float64,\n",
    "                  \"DIVAMT\": np.float64,\n",
    "                  \"SPREAD\": np.float64,\n",
    "                  \"SHRCD\":str,\n",
    "                  \"DISTCD\":str,\n",
    "                  \"COMNAM\": str,\n",
    "                  \"TICKER\": str,\n",
    "                   'CUSIP': str})\n",
    "#Data Preprocessing\n",
    "crsp_df = crsp_df[(crsp_df.SHRCD.isin(('10','11')))]\n",
    "crsp_df = crsp_df[(crsp_df.date >= '1927-01-01')]\n",
    "crsp_df = crsp_df[(crsp_df.date <= '2011-12-31')]\n",
    "cusips_DISTCD_12 = crsp_df[crsp_df.DISTCD.apply(lambda x: x[:2]=='12' if isinstance(x, str) else False)].CUSIP.unique()\n",
    "crsp_df = crsp_df[crsp_df.CUSIP.isin(cusips_DISTCD_12)]\n",
    "\n",
    "crsp_df.PRC = crsp_df.PRC.abs()\n",
    "\n",
    "\n",
    "crsp_df['year'] = crsp_df['date'].dt.year\n",
    "crsp_df['month'] = crsp_df['date'].dt.month\n",
    "crsp_df.sort_values(by=['CUSIP','date'], ascending=True, inplace=True)\n",
    "crsp_df['PRC_t-1'] = crsp_df.groupby('CUSIP')['PRC'].shift(1)\n",
    "crsp_df.head()"
   ]
  },
  {
   "cell_type": "code",
   "execution_count": 151,
   "metadata": {},
   "outputs": [
    {
     "output_type": "execute_result",
     "data": {
      "text/plain": [
       "                    DCLRDT RCRDDT DISTCD  DIVAMT        RET        VOL  \\\n",
       "CUSIP    date                                                            \n",
       "00003210 1970-11-30    NaT    NaT   None     0.0          C      318.0   \n",
       "         1970-12-31    NaT    NaT   None     0.0   0.111111      646.0   \n",
       "         1971-01-29    NaT    NaT   None     0.0  -0.100000      636.0   \n",
       "         1971-02-26    NaT    NaT   None     0.0   0.236111     2155.0   \n",
       "         1971-03-31    NaT    NaT   None     0.0  -0.123596     2062.0   \n",
       "...                    ...    ...    ...     ...        ...        ...   \n",
       "N5946510 2011-08-31    NaT    NaT   None     0.0  -0.089113  2419635.0   \n",
       "         2011-09-30    NaT    NaT   None     0.0  -0.181205  1672860.0   \n",
       "         2011-10-31    NaT    NaT   None     0.0   0.151854  1538552.0   \n",
       "         2011-11-30    NaT    NaT   None     0.0  -0.002044  1220142.0   \n",
       "         2011-12-30    NaT    NaT   None     0.0   0.098822  1185432.0   \n",
       "\n",
       "                        PRC  SPREAD    SHROUT         MCAP  \n",
       "CUSIP    date                                               \n",
       "00003210 1970-11-30   9.000     NaN    2655.0    23895.000  \n",
       "         1970-12-31  10.000     NaN    2655.0    26550.000  \n",
       "         1971-01-29   9.000     NaN    2655.0    23895.000  \n",
       "         1971-02-26  11.125     NaN    2655.0    29536.875  \n",
       "         1971-03-31   9.750     NaN    2655.0    25886.250  \n",
       "...                     ...     ...       ...          ...  \n",
       "N5946510 2011-08-31  20.750     NaN  426263.0  8844957.250  \n",
       "         2011-09-30  16.990     NaN  426485.0  7245980.150  \n",
       "         2011-10-31  19.570     NaN  426512.0  8346839.840  \n",
       "         2011-11-30  19.530     NaN  426512.0  8329779.360  \n",
       "         2011-12-30  21.460     NaN  426678.0  9156509.880  \n",
       "\n",
       "[2097733 rows x 10 columns]"
      ],
      "text/html": "<div>\n<style scoped>\n    .dataframe tbody tr th:only-of-type {\n        vertical-align: middle;\n    }\n\n    .dataframe tbody tr th {\n        vertical-align: top;\n    }\n\n    .dataframe thead th {\n        text-align: right;\n    }\n</style>\n<table border=\"1\" class=\"dataframe\">\n  <thead>\n    <tr style=\"text-align: right;\">\n      <th></th>\n      <th></th>\n      <th>DCLRDT</th>\n      <th>RCRDDT</th>\n      <th>DISTCD</th>\n      <th>DIVAMT</th>\n      <th>RET</th>\n      <th>VOL</th>\n      <th>PRC</th>\n      <th>SPREAD</th>\n      <th>SHROUT</th>\n      <th>MCAP</th>\n    </tr>\n    <tr>\n      <th>CUSIP</th>\n      <th>date</th>\n      <th></th>\n      <th></th>\n      <th></th>\n      <th></th>\n      <th></th>\n      <th></th>\n      <th></th>\n      <th></th>\n      <th></th>\n      <th></th>\n    </tr>\n  </thead>\n  <tbody>\n    <tr>\n      <th rowspan=\"5\" valign=\"top\">00003210</th>\n      <th>1970-11-30</th>\n      <td>NaT</td>\n      <td>NaT</td>\n      <td>None</td>\n      <td>0.0</td>\n      <td>C</td>\n      <td>318.0</td>\n      <td>9.000</td>\n      <td>NaN</td>\n      <td>2655.0</td>\n      <td>23895.000</td>\n    </tr>\n    <tr>\n      <th>1970-12-31</th>\n      <td>NaT</td>\n      <td>NaT</td>\n      <td>None</td>\n      <td>0.0</td>\n      <td>0.111111</td>\n      <td>646.0</td>\n      <td>10.000</td>\n      <td>NaN</td>\n      <td>2655.0</td>\n      <td>26550.000</td>\n    </tr>\n    <tr>\n      <th>1971-01-29</th>\n      <td>NaT</td>\n      <td>NaT</td>\n      <td>None</td>\n      <td>0.0</td>\n      <td>-0.100000</td>\n      <td>636.0</td>\n      <td>9.000</td>\n      <td>NaN</td>\n      <td>2655.0</td>\n      <td>23895.000</td>\n    </tr>\n    <tr>\n      <th>1971-02-26</th>\n      <td>NaT</td>\n      <td>NaT</td>\n      <td>None</td>\n      <td>0.0</td>\n      <td>0.236111</td>\n      <td>2155.0</td>\n      <td>11.125</td>\n      <td>NaN</td>\n      <td>2655.0</td>\n      <td>29536.875</td>\n    </tr>\n    <tr>\n      <th>1971-03-31</th>\n      <td>NaT</td>\n      <td>NaT</td>\n      <td>None</td>\n      <td>0.0</td>\n      <td>-0.123596</td>\n      <td>2062.0</td>\n      <td>9.750</td>\n      <td>NaN</td>\n      <td>2655.0</td>\n      <td>25886.250</td>\n    </tr>\n    <tr>\n      <th>...</th>\n      <th>...</th>\n      <td>...</td>\n      <td>...</td>\n      <td>...</td>\n      <td>...</td>\n      <td>...</td>\n      <td>...</td>\n      <td>...</td>\n      <td>...</td>\n      <td>...</td>\n      <td>...</td>\n    </tr>\n    <tr>\n      <th rowspan=\"5\" valign=\"top\">N5946510</th>\n      <th>2011-08-31</th>\n      <td>NaT</td>\n      <td>NaT</td>\n      <td>None</td>\n      <td>0.0</td>\n      <td>-0.089113</td>\n      <td>2419635.0</td>\n      <td>20.750</td>\n      <td>NaN</td>\n      <td>426263.0</td>\n      <td>8844957.250</td>\n    </tr>\n    <tr>\n      <th>2011-09-30</th>\n      <td>NaT</td>\n      <td>NaT</td>\n      <td>None</td>\n      <td>0.0</td>\n      <td>-0.181205</td>\n      <td>1672860.0</td>\n      <td>16.990</td>\n      <td>NaN</td>\n      <td>426485.0</td>\n      <td>7245980.150</td>\n    </tr>\n    <tr>\n      <th>2011-10-31</th>\n      <td>NaT</td>\n      <td>NaT</td>\n      <td>None</td>\n      <td>0.0</td>\n      <td>0.151854</td>\n      <td>1538552.0</td>\n      <td>19.570</td>\n      <td>NaN</td>\n      <td>426512.0</td>\n      <td>8346839.840</td>\n    </tr>\n    <tr>\n      <th>2011-11-30</th>\n      <td>NaT</td>\n      <td>NaT</td>\n      <td>None</td>\n      <td>0.0</td>\n      <td>-0.002044</td>\n      <td>1220142.0</td>\n      <td>19.530</td>\n      <td>NaN</td>\n      <td>426512.0</td>\n      <td>8329779.360</td>\n    </tr>\n    <tr>\n      <th>2011-12-30</th>\n      <td>NaT</td>\n      <td>NaT</td>\n      <td>None</td>\n      <td>0.0</td>\n      <td>0.098822</td>\n      <td>1185432.0</td>\n      <td>21.460</td>\n      <td>NaN</td>\n      <td>426678.0</td>\n      <td>9156509.880</td>\n    </tr>\n  </tbody>\n</table>\n<p>2097733 rows × 10 columns</p>\n</div>"
     },
     "metadata": {},
     "execution_count": 151
    }
   ],
   "source": [
    "crsp_div_df = crsp_df[['date','CUSIP','DCLRDT','RCRDDT','DISTCD','DIVAMT','PRC','VOL','RET','SHROUT','SPREAD','year','month']].copy()\n",
    "crsp_div_df.sort_values(by=['CUSIP','date'], ascending=True, inplace=True)\n",
    "crsp_div_df = crsp_div_df.groupby(by=['CUSIP','date']).agg({\n",
    "     'DCLRDT': 'last',\n",
    "     'RCRDDT': 'last',\n",
    "     'DISTCD': 'last',\n",
    "     'DIVAMT': 'sum',\n",
    "     'RET':'max',\n",
    "     'VOL': 'last',\n",
    "     'PRC': 'last',\n",
    "     'SPREAD': 'last',\n",
    "     'SHROUT': 'last'})\n",
    "crsp_div_df['MCAP'] = crsp_div_df['PRC'] * crsp_div_df['SHROUT']\n",
    "crsp_div_df"
   ]
  },
  {
   "cell_type": "code",
   "execution_count": 152,
   "metadata": {},
   "outputs": [],
   "source": [
    "crsp_div_df.sort_values(by=['CUSIP','date'], ascending=True, inplace=True)\n",
    "crsp_div_df['freq'] = None\n",
    "crsp_div_df['freq'] = crsp_div_df[crsp_div_df.RCRDDT.isna()==False]['DISTCD'].apply(lambda x: x[2:3] if x is not None else None)\n",
    "crsp_div_df['freq'] = crsp_div_df.groupby(by=['CUSIP']).fillna(method='ffill', limit=11)['freq']\n"
   ]
  },
  {
   "cell_type": "code",
   "execution_count": 153,
   "metadata": {},
   "outputs": [],
   "source": [
    "crsp_div_df['div_yr']=np.where(crsp_div_df['freq']=='6',True,False )\n",
    "crsp_div_df['div_semi_annual']=np.where(crsp_div_df['freq']=='4',True,False)\n",
    "crsp_div_df['div_quarterly']=np.where(crsp_div_df['freq']=='3',True,False)\n",
    "crsp_div_df['div_unknown']=np.where(crsp_div_df['freq']=='0',True,False )\n",
    "crsp_div_df['div_monthly']=np.where(crsp_div_df['freq']=='2',True,False )\n",
    "crsp_temp=crsp_div_df\n"
   ]
  },
  {
   "cell_type": "code",
   "execution_count": 154,
   "metadata": {},
   "outputs": [
    {
     "output_type": "execute_result",
     "data": {
      "text/plain": [
       "                    DCLRDT RCRDDT DISTCD  DIVAMT        RET        VOL  \\\n",
       "CUSIP    date                                                            \n",
       "00003210 1970-11-30    NaT    NaT   None     0.0          C      318.0   \n",
       "         1970-12-31    NaT    NaT   None     0.0   0.111111      646.0   \n",
       "         1971-01-29    NaT    NaT   None     0.0  -0.100000      636.0   \n",
       "         1971-02-26    NaT    NaT   None     0.0   0.236111     2155.0   \n",
       "         1971-03-31    NaT    NaT   None     0.0  -0.123596     2062.0   \n",
       "...                    ...    ...    ...     ...        ...        ...   \n",
       "N5946510 2011-08-31    NaT    NaT   None     0.0  -0.089113  2419635.0   \n",
       "         2011-09-30    NaT    NaT   None     0.0  -0.181205  1672860.0   \n",
       "         2011-10-31    NaT    NaT   None     0.0   0.151854  1538552.0   \n",
       "         2011-11-30    NaT    NaT   None     0.0  -0.002044  1220142.0   \n",
       "         2011-12-30    NaT    NaT   None     0.0   0.098822  1185432.0   \n",
       "\n",
       "                        PRC  SPREAD    SHROUT         MCAP  ... lag_u_12  \\\n",
       "CUSIP    date                                               ...            \n",
       "00003210 1970-11-30   9.000     NaN    2655.0    23895.000  ...      NaN   \n",
       "         1970-12-31  10.000     NaN    2655.0    26550.000  ...      NaN   \n",
       "         1971-01-29   9.000     NaN    2655.0    23895.000  ...      NaN   \n",
       "         1971-02-26  11.125     NaN    2655.0    29536.875  ...      NaN   \n",
       "         1971-03-31   9.750     NaN    2655.0    25886.250  ...      NaN   \n",
       "...                     ...     ...       ...          ...  ...      ...   \n",
       "N5946510 2011-08-31  20.750     NaN  426263.0  8844957.250  ...    False   \n",
       "         2011-09-30  16.990     NaN  426485.0  7245980.150  ...    False   \n",
       "         2011-10-31  19.570     NaN  426512.0  8346839.840  ...    False   \n",
       "         2011-11-30  19.530     NaN  426512.0  8329779.360  ...    False   \n",
       "         2011-12-30  21.460     NaN  426678.0  9156509.880  ...    False   \n",
       "\n",
       "                     lag_quarterly  lag_semi_annual_six  lag_semi_annual_twl  \\\n",
       "CUSIP    date                                                                  \n",
       "00003210 1970-11-30            NaN                  NaN                  NaN   \n",
       "         1970-12-31            NaN                  NaN                  NaN   \n",
       "         1971-01-29            NaN                  NaN                  NaN   \n",
       "         1971-02-26          False                  NaN                  NaN   \n",
       "         1971-03-31          False                  NaN                  NaN   \n",
       "...                            ...                  ...                  ...   \n",
       "N5946510 2011-08-31          False                False                False   \n",
       "         2011-09-30          False                False                False   \n",
       "         2011-10-31          False                False                False   \n",
       "         2011-11-30          False                False                False   \n",
       "         2011-12-30          False                False                False   \n",
       "\n",
       "                     lag_div_yr  lag_1  lag_4  lag_7 lag_10 lag_month  \n",
       "CUSIP    date                                                          \n",
       "00003210 1970-11-30         NaN    NaN    NaN    NaN    NaN       NaN  \n",
       "         1970-12-31         NaN  False    NaN    NaN    NaN     False  \n",
       "         1971-01-29         NaN  False    NaN    NaN    NaN     False  \n",
       "         1971-02-26         NaN  False    NaN    NaN    NaN     False  \n",
       "         1971-03-31         NaN  False  False    NaN    NaN     False  \n",
       "...                         ...    ...    ...    ...    ...       ...  \n",
       "N5946510 2011-08-31       False  False  False  False  False     False  \n",
       "         2011-09-30       False  False  False  False  False     False  \n",
       "         2011-10-31       False  False  False  False  False     False  \n",
       "         2011-11-30       False  False  False  False  False     False  \n",
       "         2011-12-30       False  False  False  False  False     False  \n",
       "\n",
       "[2097733 rows x 37 columns]"
      ],
      "text/html": "<div>\n<style scoped>\n    .dataframe tbody tr th:only-of-type {\n        vertical-align: middle;\n    }\n\n    .dataframe tbody tr th {\n        vertical-align: top;\n    }\n\n    .dataframe thead th {\n        text-align: right;\n    }\n</style>\n<table border=\"1\" class=\"dataframe\">\n  <thead>\n    <tr style=\"text-align: right;\">\n      <th></th>\n      <th></th>\n      <th>DCLRDT</th>\n      <th>RCRDDT</th>\n      <th>DISTCD</th>\n      <th>DIVAMT</th>\n      <th>RET</th>\n      <th>VOL</th>\n      <th>PRC</th>\n      <th>SPREAD</th>\n      <th>SHROUT</th>\n      <th>MCAP</th>\n      <th>...</th>\n      <th>lag_u_12</th>\n      <th>lag_quarterly</th>\n      <th>lag_semi_annual_six</th>\n      <th>lag_semi_annual_twl</th>\n      <th>lag_div_yr</th>\n      <th>lag_1</th>\n      <th>lag_4</th>\n      <th>lag_7</th>\n      <th>lag_10</th>\n      <th>lag_month</th>\n    </tr>\n    <tr>\n      <th>CUSIP</th>\n      <th>date</th>\n      <th></th>\n      <th></th>\n      <th></th>\n      <th></th>\n      <th></th>\n      <th></th>\n      <th></th>\n      <th></th>\n      <th></th>\n      <th></th>\n      <th></th>\n      <th></th>\n      <th></th>\n      <th></th>\n      <th></th>\n      <th></th>\n      <th></th>\n      <th></th>\n      <th></th>\n      <th></th>\n      <th></th>\n    </tr>\n  </thead>\n  <tbody>\n    <tr>\n      <th rowspan=\"5\" valign=\"top\">00003210</th>\n      <th>1970-11-30</th>\n      <td>NaT</td>\n      <td>NaT</td>\n      <td>None</td>\n      <td>0.0</td>\n      <td>C</td>\n      <td>318.0</td>\n      <td>9.000</td>\n      <td>NaN</td>\n      <td>2655.0</td>\n      <td>23895.000</td>\n      <td>...</td>\n      <td>NaN</td>\n      <td>NaN</td>\n      <td>NaN</td>\n      <td>NaN</td>\n      <td>NaN</td>\n      <td>NaN</td>\n      <td>NaN</td>\n      <td>NaN</td>\n      <td>NaN</td>\n      <td>NaN</td>\n    </tr>\n    <tr>\n      <th>1970-12-31</th>\n      <td>NaT</td>\n      <td>NaT</td>\n      <td>None</td>\n      <td>0.0</td>\n      <td>0.111111</td>\n      <td>646.0</td>\n      <td>10.000</td>\n      <td>NaN</td>\n      <td>2655.0</td>\n      <td>26550.000</td>\n      <td>...</td>\n      <td>NaN</td>\n      <td>NaN</td>\n      <td>NaN</td>\n      <td>NaN</td>\n      <td>NaN</td>\n      <td>False</td>\n      <td>NaN</td>\n      <td>NaN</td>\n      <td>NaN</td>\n      <td>False</td>\n    </tr>\n    <tr>\n      <th>1971-01-29</th>\n      <td>NaT</td>\n      <td>NaT</td>\n      <td>None</td>\n      <td>0.0</td>\n      <td>-0.100000</td>\n      <td>636.0</td>\n      <td>9.000</td>\n      <td>NaN</td>\n      <td>2655.0</td>\n      <td>23895.000</td>\n      <td>...</td>\n      <td>NaN</td>\n      <td>NaN</td>\n      <td>NaN</td>\n      <td>NaN</td>\n      <td>NaN</td>\n      <td>False</td>\n      <td>NaN</td>\n      <td>NaN</td>\n      <td>NaN</td>\n      <td>False</td>\n    </tr>\n    <tr>\n      <th>1971-02-26</th>\n      <td>NaT</td>\n      <td>NaT</td>\n      <td>None</td>\n      <td>0.0</td>\n      <td>0.236111</td>\n      <td>2155.0</td>\n      <td>11.125</td>\n      <td>NaN</td>\n      <td>2655.0</td>\n      <td>29536.875</td>\n      <td>...</td>\n      <td>NaN</td>\n      <td>False</td>\n      <td>NaN</td>\n      <td>NaN</td>\n      <td>NaN</td>\n      <td>False</td>\n      <td>NaN</td>\n      <td>NaN</td>\n      <td>NaN</td>\n      <td>False</td>\n    </tr>\n    <tr>\n      <th>1971-03-31</th>\n      <td>NaT</td>\n      <td>NaT</td>\n      <td>None</td>\n      <td>0.0</td>\n      <td>-0.123596</td>\n      <td>2062.0</td>\n      <td>9.750</td>\n      <td>NaN</td>\n      <td>2655.0</td>\n      <td>25886.250</td>\n      <td>...</td>\n      <td>NaN</td>\n      <td>False</td>\n      <td>NaN</td>\n      <td>NaN</td>\n      <td>NaN</td>\n      <td>False</td>\n      <td>False</td>\n      <td>NaN</td>\n      <td>NaN</td>\n      <td>False</td>\n    </tr>\n    <tr>\n      <th>...</th>\n      <th>...</th>\n      <td>...</td>\n      <td>...</td>\n      <td>...</td>\n      <td>...</td>\n      <td>...</td>\n      <td>...</td>\n      <td>...</td>\n      <td>...</td>\n      <td>...</td>\n      <td>...</td>\n      <td>...</td>\n      <td>...</td>\n      <td>...</td>\n      <td>...</td>\n      <td>...</td>\n      <td>...</td>\n      <td>...</td>\n      <td>...</td>\n      <td>...</td>\n      <td>...</td>\n      <td>...</td>\n    </tr>\n    <tr>\n      <th rowspan=\"5\" valign=\"top\">N5946510</th>\n      <th>2011-08-31</th>\n      <td>NaT</td>\n      <td>NaT</td>\n      <td>None</td>\n      <td>0.0</td>\n      <td>-0.089113</td>\n      <td>2419635.0</td>\n      <td>20.750</td>\n      <td>NaN</td>\n      <td>426263.0</td>\n      <td>8844957.250</td>\n      <td>...</td>\n      <td>False</td>\n      <td>False</td>\n      <td>False</td>\n      <td>False</td>\n      <td>False</td>\n      <td>False</td>\n      <td>False</td>\n      <td>False</td>\n      <td>False</td>\n      <td>False</td>\n    </tr>\n    <tr>\n      <th>2011-09-30</th>\n      <td>NaT</td>\n      <td>NaT</td>\n      <td>None</td>\n      <td>0.0</td>\n      <td>-0.181205</td>\n      <td>1672860.0</td>\n      <td>16.990</td>\n      <td>NaN</td>\n      <td>426485.0</td>\n      <td>7245980.150</td>\n      <td>...</td>\n      <td>False</td>\n      <td>False</td>\n      <td>False</td>\n      <td>False</td>\n      <td>False</td>\n      <td>False</td>\n      <td>False</td>\n      <td>False</td>\n      <td>False</td>\n      <td>False</td>\n    </tr>\n    <tr>\n      <th>2011-10-31</th>\n      <td>NaT</td>\n      <td>NaT</td>\n      <td>None</td>\n      <td>0.0</td>\n      <td>0.151854</td>\n      <td>1538552.0</td>\n      <td>19.570</td>\n      <td>NaN</td>\n      <td>426512.0</td>\n      <td>8346839.840</td>\n      <td>...</td>\n      <td>False</td>\n      <td>False</td>\n      <td>False</td>\n      <td>False</td>\n      <td>False</td>\n      <td>False</td>\n      <td>False</td>\n      <td>False</td>\n      <td>False</td>\n      <td>False</td>\n    </tr>\n    <tr>\n      <th>2011-11-30</th>\n      <td>NaT</td>\n      <td>NaT</td>\n      <td>None</td>\n      <td>0.0</td>\n      <td>-0.002044</td>\n      <td>1220142.0</td>\n      <td>19.530</td>\n      <td>NaN</td>\n      <td>426512.0</td>\n      <td>8329779.360</td>\n      <td>...</td>\n      <td>False</td>\n      <td>False</td>\n      <td>False</td>\n      <td>False</td>\n      <td>False</td>\n      <td>False</td>\n      <td>False</td>\n      <td>False</td>\n      <td>False</td>\n      <td>False</td>\n    </tr>\n    <tr>\n      <th>2011-12-30</th>\n      <td>NaT</td>\n      <td>NaT</td>\n      <td>None</td>\n      <td>0.0</td>\n      <td>0.098822</td>\n      <td>1185432.0</td>\n      <td>21.460</td>\n      <td>NaN</td>\n      <td>426678.0</td>\n      <td>9156509.880</td>\n      <td>...</td>\n      <td>False</td>\n      <td>False</td>\n      <td>False</td>\n      <td>False</td>\n      <td>False</td>\n      <td>False</td>\n      <td>False</td>\n      <td>False</td>\n      <td>False</td>\n      <td>False</td>\n    </tr>\n  </tbody>\n</table>\n<p>2097733 rows × 37 columns</p>\n</div>"
     },
     "metadata": {},
     "execution_count": 154
    }
   ],
   "source": [
    "crsp_temp['lag_u_1']=crsp_temp.groupby('CUSIP')['div_unknown'].shift(1)\n",
    "crsp_temp['lag_u_2']=crsp_temp.groupby('CUSIP')['div_unknown'].shift(2)\n",
    "crsp_temp['lag_u_3']=crsp_temp.groupby('CUSIP')['div_unknown'].shift(3)\n",
    "crsp_temp['lag_u_4']=crsp_temp.groupby('CUSIP')['div_unknown'].shift(4)\n",
    "crsp_temp['lag_u_5']=crsp_temp.groupby('CUSIP')['div_unknown'].shift(5)\n",
    "crsp_temp['lag_u_6']=crsp_temp.groupby('CUSIP')['div_unknown'].shift(6)\n",
    "crsp_temp['lag_u_7']=crsp_temp.groupby('CUSIP')['div_unknown'].shift(7)\n",
    "crsp_temp['lag_u_8']=crsp_temp.groupby('CUSIP')['div_unknown'].shift(8)\n",
    "crsp_temp['lag_u_9']=crsp_temp.groupby('CUSIP')['div_unknown'].shift(9)\n",
    "crsp_temp['lag_u_10']=crsp_temp.groupby('CUSIP')['div_unknown'].shift(10)\n",
    "crsp_temp['lag_u_11']=crsp_temp.groupby('CUSIP')['div_unknown'].shift(11)\n",
    "crsp_temp['lag_u_12']=crsp_temp.groupby('CUSIP')['div_unknown'].shift(12)\n",
    "\n",
    "crsp_temp['lag_quarterly']=crsp_temp.groupby('CUSIP')['div_quarterly'].shift(3)\n",
    "crsp_temp['lag_semi_annual_six']=crsp_temp.groupby('CUSIP')['div_semi_annual'].shift(6)\n",
    "crsp_temp['lag_semi_annual_twl']=crsp_temp.groupby('CUSIP')['div_semi_annual'].shift(12)\n",
    "crsp_temp['lag_div_yr']=crsp_temp.groupby('CUSIP')['div_yr'].shift(12)\n",
    "crsp_temp['lag_1']=crsp_temp.groupby('CUSIP')['div_monthly'].shift(1)\n",
    "crsp_temp['lag_4']=crsp_temp.groupby('CUSIP')['div_monthly'].shift(4)\n",
    "crsp_temp['lag_7']=crsp_temp.groupby('CUSIP')['div_monthly'].shift(7)\n",
    "crsp_temp['lag_10']=crsp_temp.groupby('CUSIP')['div_monthly'].shift(10)\n",
    "\n",
    "crsp_div_df['lag_month']=crsp_temp.groupby('CUSIP')['div_monthly'].shift(1)\n",
    "\n",
    "crsp_temp"
   ]
  },
  {
   "cell_type": "code",
   "execution_count": 155,
   "metadata": {},
   "outputs": [
    {
     "output_type": "execute_result",
     "data": {
      "text/plain": [
       "count     2097733\n",
       "unique          2\n",
       "top         False\n",
       "freq      1969796\n",
       "Name: short_stocks, dtype: object"
      ]
     },
     "metadata": {},
     "execution_count": 155
    }
   ],
   "source": [
    "# Strategies 1: Long predicted dividend and short all other companies\n",
    "crsp_temp['long_stocks'] = (crsp_temp['lag_u_3'] ==True) | (crsp_temp['lag_u_6'] ==True) | ( crsp_temp['lag_u_9'] ==True ) | (crsp_temp['lag_u_12'] ==True ) | ( crsp_temp['lag_quarterly'] ==True ) | (crsp_temp['lag_semi_annual_six'] ==True ) | (crsp_temp['lag_semi_annual_twl'] ==True) |(crsp_temp['lag_div_yr'] ==True)\n",
    "\n",
    "# crsp_temp['short_stocks'] = np.where(crsp_temp['long_stocks']==False,True,False)\n",
    "\n",
    "# Strategies 2: Long predicted dividend and short all other dividend payers companies\n",
    "# crsp_temp['short_stocks'] = (crsp_temp['lag_u_1'] ==True) | (crsp_temp['lag_u_2'] ==True) | ( crsp_temp['lag_u_4'] ==True ) | (crsp_temp['lag_u_5'] ==True ) | ( crsp_temp['lag_u_8'] ==True ) | (crsp_temp['lag_u_10'] ==True ) | (crsp_temp['lag_u_11'] ==True )| (crsp_div_df['lag_month']==True)\n",
    "\n",
    "# Strategies 3: Long predicted dividend and short all months occurring 1,4,7 or 10 months ago\n",
    "crsp_temp['short_stocks'] = (crsp_temp['lag_1'] ==True) | (crsp_temp['lag_4'] ==True) | ( crsp_temp['lag_7'] ==True ) | (crsp_temp['lag_10'] ==True ) \n",
    "crsp_temp['short_stocks'].describe()\n",
    "\n"
   ]
  },
  {
   "cell_type": "code",
   "execution_count": 156,
   "metadata": {},
   "outputs": [
    {
     "output_type": "stream",
     "name": "stderr",
     "text": [
      "<ipython-input-156-3e615cdcae9c>:26: SettingWithCopyWarning: \n",
      "A value is trying to be set on a copy of a slice from a DataFrame.\n",
      "Try using .loc[row_indexer,col_indexer] = value instead\n",
      "\n",
      "See the caveats in the documentation: https://pandas.pydata.org/pandas-docs/stable/user_guide/indexing.html#returning-a-view-versus-a-copy\n",
      "  group['port_return_long_vw'] = pd.to_numeric(group['RET']) * pd.to_numeric(group['long_weight'])\n",
      "<ipython-input-156-3e615cdcae9c>:29: SettingWithCopyWarning: \n",
      "A value is trying to be set on a copy of a slice from a DataFrame.\n",
      "Try using .loc[row_indexer,col_indexer] = value instead\n",
      "\n",
      "See the caveats in the documentation: https://pandas.pydata.org/pandas-docs/stable/user_guide/indexing.html#returning-a-view-versus-a-copy\n",
      "  group['port_return_short_vw'] = pd.to_numeric(group['RET']) * pd.to_numeric(group['short_weight'])\n",
      "            port_return_long_eq  port_return_short_eq  longshort_eq\n",
      "date                                                               \n",
      "1927-04-30             0.730717              0.096609      0.634108\n",
      "1927-05-31             1.650413              0.217370      1.433043\n",
      "1927-06-30             3.691382              0.205294      3.486087\n",
      "1927-07-30             3.842564              0.205294      3.637270\n",
      "1927-08-31             3.918156              0.313979      3.604177\n",
      "...                         ...                   ...           ...\n",
      "2011-08-31            16.768699              0.881558     15.887142\n",
      "2011-09-30            16.718305              0.748720     15.969585\n",
      "2011-10-31            16.642714              0.917786     15.724928\n",
      "2011-11-30            16.831692              0.917786     15.913906\n",
      "2011-12-30            16.869488              0.772872     16.096616\n",
      "\n",
      "[1017 rows x 3 columns]\n"
     ]
    }
   ],
   "source": [
    "def long_weights(group):\n",
    "    # Select all stocks with long position from the group\n",
    "    longs = group.loc[group['long_stocks'] == True]\n",
    "    # Get market capitalization of each long stock\n",
    "    mktcap = longs['SHROUT'] * longs['PRC']\n",
    "    # Calculate long weights by market captalization\n",
    "    longweights = mktcap / mktcap.sum()\n",
    "    # Assign weights for the group of long stocks\n",
    "    group.loc[group['long_stocks']==True, 'long_weight'] = longweights\n",
    "    group['long_weight'] = group['long_weight'].shift(1)\n",
    "    return group\n",
    "\n",
    "def short_weights(group):\n",
    "    # Select all stocks with short position from the group\n",
    "    shorts = group.loc[group['short_stocks'] == True]\n",
    "    # Get market capitalization of each long stock\n",
    "    mktcap = shorts['SHROUT'] * shorts['PRC']\n",
    "    # Calculate long weights by market captalization\n",
    "    shortweights = mktcap / mktcap.sum()\n",
    "    # Assign weights for the group of long stocks\n",
    "    group.loc[group['short_stocks']==True, 'short_weight'] = shortweights\n",
    "    return group\n",
    "\n",
    "def cal_return_vw(group):\n",
    "    group=group[(group.RET<='65')]\n",
    "    group['port_return_long_vw'] = pd.to_numeric(group['RET']) * pd.to_numeric(group['long_weight'])\n",
    "    longport = pd.pivot_table(group, values='port_return_long_vw', index='date', aggfunc=np.sum)\n",
    "\n",
    "    group['port_return_short_vw'] = pd.to_numeric(group['RET']) * pd.to_numeric(group['short_weight'])\n",
    "    shortport = pd.pivot_table(group, values='port_return_short_vw', index='date', aggfunc=np.sum)\n",
    "\n",
    "    data=pd.merge(longport, shortport, on='date')\n",
    "    # print(data)\n",
    "    data['longshort_eq'] = data['port_return_long_vw'] - data['port_return_short_vw']\n",
    "    return longport,shortport,data\n",
    "\n",
    "def cal_return_eq(group):\n",
    "    \n",
    "    longs = group.loc[group['long_stocks'] == True]\n",
    "\n",
    "    shorts = group.loc[group['short_stocks'] == True]\n",
    "    \n",
    "    longs=longs[(longs.RET<='65')]\n",
    "    shorts=shorts[(shorts.RET<='65')]\n",
    "    longs['port_return_long_eq'] = pd.to_numeric(longs['RET']).mean()\n",
    "    longport = pd.pivot_table(longs, values='port_return_long_eq', index='date', aggfunc=np.sum)\n",
    "\n",
    "    shorts['port_return_short_eq'] = pd.to_numeric(shorts['RET']).mean()\n",
    "    shortport = pd.pivot_table(shorts, values='port_return_short_eq', index='date', aggfunc=np.sum)\n",
    "\n",
    "    data=pd.merge(longport, shortport, on='date')\n",
    "    # print(data)\n",
    "    data['longshort_eq'] = data['port_return_long_eq'] - data['port_return_short_eq']\n",
    "    print(data)\n",
    "    # print(shortport)\n",
    "    # print(longshortport)\n",
    "    \n",
    "    return longport,shortport,data\n",
    "\n",
    "panel=long_weights(crsp_temp)\n",
    "panel=short_weights(panel)\n",
    "longport_vw,shortport_vw,longshortport_vw=cal_return_vw(panel)\n",
    "longport_eq,shortport_eq,longshortport_eq=cal_return_eq(crsp_temp)\n",
    "\n"
   ]
  },
  {
   "cell_type": "code",
   "execution_count": 157,
   "metadata": {},
   "outputs": [],
   "source": [
    "ff4=pd.read_csv('four_factor_monthly.csv',index_col='date')\n",
    "ff4.index = pd.to_datetime(ff4.index)"
   ]
  },
  {
   "cell_type": "code",
   "execution_count": 163,
   "metadata": {},
   "outputs": [
    {
     "output_type": "execute_result",
     "data": {
      "text/plain": [
       "<class 'statsmodels.iolib.summary.Summary'>\n",
       "\"\"\"\n",
       "                            OLS Regression Results                            \n",
       "==============================================================================\n",
       "Dep. Variable:           longshort_eq   R-squared:                       0.003\n",
       "Model:                            OLS   Adj. R-squared:                 -0.003\n",
       "Method:                 Least Squares   F-statistic:                    0.5352\n",
       "Date:                Sat, 29 May 2021   Prob (F-statistic):              0.710\n",
       "Time:                        01:36:45   Log-Likelihood:                -2770.7\n",
       "No. Observations:                 744   AIC:                             5551.\n",
       "Df Residuals:                     739   BIC:                             5574.\n",
       "Df Model:                           4                                         \n",
       "Covariance Type:            nonrobust                                         \n",
       "==============================================================================\n",
       "                 coef    std err          t      P>|t|      [0.025      0.975]\n",
       "------------------------------------------------------------------------------\n",
       "Intercept     14.0827      0.378     37.218      0.000      13.340      14.826\n",
       "hml           12.3086     11.305      1.089      0.277      -9.885      34.502\n",
       "mkt_rf        -1.5785      7.630     -0.207      0.836     -16.558      13.401\n",
       "smb            6.4775     12.047      0.538      0.591     -17.174      30.129\n",
       "Mom            8.5506      8.546      1.001      0.317      -8.226      25.328\n",
       "==============================================================================\n",
       "Omnibus:                      492.702   Durbin-Watson:                   0.008\n",
       "Prob(Omnibus):                  0.000   Jarque-Bera (JB):               48.795\n",
       "Skew:                           0.195   Prob(JB):                     2.54e-11\n",
       "Kurtosis:                       1.808   Cond. No.                         33.9\n",
       "==============================================================================\n",
       "\n",
       "Notes:\n",
       "[1] Standard Errors assume that the covariance matrix of the errors is correctly specified.\n",
       "\"\"\""
      ],
      "text/html": "<table class=\"simpletable\">\n<caption>OLS Regression Results</caption>\n<tr>\n  <th>Dep. Variable:</th>      <td>longshort_eq</td>   <th>  R-squared:         </th> <td>   0.003</td>\n</tr>\n<tr>\n  <th>Model:</th>                   <td>OLS</td>       <th>  Adj. R-squared:    </th> <td>  -0.003</td>\n</tr>\n<tr>\n  <th>Method:</th>             <td>Least Squares</td>  <th>  F-statistic:       </th> <td>  0.5352</td>\n</tr>\n<tr>\n  <th>Date:</th>             <td>Sat, 29 May 2021</td> <th>  Prob (F-statistic):</th>  <td> 0.710</td> \n</tr>\n<tr>\n  <th>Time:</th>                 <td>01:36:45</td>     <th>  Log-Likelihood:    </th> <td> -2770.7</td>\n</tr>\n<tr>\n  <th>No. Observations:</th>      <td>   744</td>      <th>  AIC:               </th> <td>   5551.</td>\n</tr>\n<tr>\n  <th>Df Residuals:</th>          <td>   739</td>      <th>  BIC:               </th> <td>   5574.</td>\n</tr>\n<tr>\n  <th>Df Model:</th>              <td>     4</td>      <th>                     </th>     <td> </td>   \n</tr>\n<tr>\n  <th>Covariance Type:</th>      <td>nonrobust</td>    <th>                     </th>     <td> </td>   \n</tr>\n</table>\n<table class=\"simpletable\">\n<tr>\n      <td></td>         <th>coef</th>     <th>std err</th>      <th>t</th>      <th>P>|t|</th>  <th>[0.025</th>    <th>0.975]</th>  \n</tr>\n<tr>\n  <th>Intercept</th> <td>   14.0827</td> <td>    0.378</td> <td>   37.218</td> <td> 0.000</td> <td>   13.340</td> <td>   14.826</td>\n</tr>\n<tr>\n  <th>hml</th>       <td>   12.3086</td> <td>   11.305</td> <td>    1.089</td> <td> 0.277</td> <td>   -9.885</td> <td>   34.502</td>\n</tr>\n<tr>\n  <th>mkt_rf</th>    <td>   -1.5785</td> <td>    7.630</td> <td>   -0.207</td> <td> 0.836</td> <td>  -16.558</td> <td>   13.401</td>\n</tr>\n<tr>\n  <th>smb</th>       <td>    6.4775</td> <td>   12.047</td> <td>    0.538</td> <td> 0.591</td> <td>  -17.174</td> <td>   30.129</td>\n</tr>\n<tr>\n  <th>Mom</th>       <td>    8.5506</td> <td>    8.546</td> <td>    1.001</td> <td> 0.317</td> <td>   -8.226</td> <td>   25.328</td>\n</tr>\n</table>\n<table class=\"simpletable\">\n<tr>\n  <th>Omnibus:</th>       <td>492.702</td> <th>  Durbin-Watson:     </th> <td>   0.008</td>\n</tr>\n<tr>\n  <th>Prob(Omnibus):</th> <td> 0.000</td>  <th>  Jarque-Bera (JB):  </th> <td>  48.795</td>\n</tr>\n<tr>\n  <th>Skew:</th>          <td> 0.195</td>  <th>  Prob(JB):          </th> <td>2.54e-11</td>\n</tr>\n<tr>\n  <th>Kurtosis:</th>      <td> 1.808</td>  <th>  Cond. No.          </th> <td>    33.9</td>\n</tr>\n</table><br/><br/>Notes:<br/>[1] Standard Errors assume that the covariance matrix of the errors is correctly specified."
     },
     "metadata": {},
     "execution_count": 163
    }
   ],
   "source": [
    "# equal_weighted_long\n",
    "# data=pd.merge(ff4, longport_eq, on='date')\n",
    "\n",
    "# (\n",
    "#     smf.ols('port_return_long_eq ~ 1 + hml + mkt_rf + smb + Mom', data=pd.merge(ff4, longport_eq, on='date'))\n",
    "#     .fit().summary()\n",
    "# )\n",
    "\n",
    "# equal_weighted_short\n",
    "# (\n",
    "#     smf.ols('port_return_short_eq ~ 1 + hml + mkt_rf + smb + Mom', data=pd.merge(ff4, shortport_eq, on='date'))\n",
    "#     .fit().summary()\n",
    "# )\n",
    "# equal_weighted_diff\n",
    "(\n",
    "    smf.ols('longshort_eq ~ 1 + hml + mkt_rf + smb + Mom', data=pd.merge(ff4, longshortport_eq, on='date'))\n",
    "    .fit().summary()\n",
    ")"
   ]
  },
  {
   "cell_type": "code",
   "execution_count": 165,
   "metadata": {},
   "outputs": [
    {
     "output_type": "execute_result",
     "data": {
      "text/plain": [
       "<class 'statsmodels.iolib.summary.Summary'>\n",
       "\"\"\"\n",
       "                            OLS Regression Results                            \n",
       "==============================================================================\n",
       "Dep. Variable:           longshort_eq   R-squared:                       0.122\n",
       "Model:                            OLS   Adj. R-squared:                  0.118\n",
       "Method:                 Least Squares   F-statistic:                     25.85\n",
       "Date:                Sat, 29 May 2021   Prob (F-statistic):           4.40e-20\n",
       "Time:                        01:37:39   Log-Likelihood:                 5405.2\n",
       "No. Observations:                 747   AIC:                        -1.080e+04\n",
       "Df Residuals:                     742   BIC:                        -1.078e+04\n",
       "Df Model:                           4                                         \n",
       "Covariance Type:            nonrobust                                         \n",
       "==============================================================================\n",
       "                 coef    std err          t      P>|t|      [0.025      0.975]\n",
       "------------------------------------------------------------------------------\n",
       "Intercept  -1.701e-05   6.57e-06     -2.590      0.010   -2.99e-05   -4.12e-06\n",
       "hml            0.0015      0.000      7.810      0.000       0.001       0.002\n",
       "mkt_rf        -0.0005      0.000     -4.145      0.000      -0.001      -0.000\n",
       "smb           -0.0006      0.000     -3.050      0.002      -0.001      -0.000\n",
       "Mom           -0.0005      0.000     -3.366      0.001      -0.001      -0.000\n",
       "==============================================================================\n",
       "Omnibus:                      788.319   Durbin-Watson:                   2.076\n",
       "Prob(Omnibus):                  0.000   Jarque-Bera (JB):            78417.063\n",
       "Skew:                          -4.697   Prob(JB):                         0.00\n",
       "Kurtosis:                      52.307   Cond. No.                         34.0\n",
       "==============================================================================\n",
       "\n",
       "Notes:\n",
       "[1] Standard Errors assume that the covariance matrix of the errors is correctly specified.\n",
       "\"\"\""
      ],
      "text/html": "<table class=\"simpletable\">\n<caption>OLS Regression Results</caption>\n<tr>\n  <th>Dep. Variable:</th>      <td>longshort_eq</td>   <th>  R-squared:         </th>  <td>   0.122</td> \n</tr>\n<tr>\n  <th>Model:</th>                   <td>OLS</td>       <th>  Adj. R-squared:    </th>  <td>   0.118</td> \n</tr>\n<tr>\n  <th>Method:</th>             <td>Least Squares</td>  <th>  F-statistic:       </th>  <td>   25.85</td> \n</tr>\n<tr>\n  <th>Date:</th>             <td>Sat, 29 May 2021</td> <th>  Prob (F-statistic):</th>  <td>4.40e-20</td> \n</tr>\n<tr>\n  <th>Time:</th>                 <td>01:37:39</td>     <th>  Log-Likelihood:    </th>  <td>  5405.2</td> \n</tr>\n<tr>\n  <th>No. Observations:</th>      <td>   747</td>      <th>  AIC:               </th> <td>-1.080e+04</td>\n</tr>\n<tr>\n  <th>Df Residuals:</th>          <td>   742</td>      <th>  BIC:               </th> <td>-1.078e+04</td>\n</tr>\n<tr>\n  <th>Df Model:</th>              <td>     4</td>      <th>                     </th>      <td> </td>    \n</tr>\n<tr>\n  <th>Covariance Type:</th>      <td>nonrobust</td>    <th>                     </th>      <td> </td>    \n</tr>\n</table>\n<table class=\"simpletable\">\n<tr>\n      <td></td>         <th>coef</th>     <th>std err</th>      <th>t</th>      <th>P>|t|</th>  <th>[0.025</th>    <th>0.975]</th>  \n</tr>\n<tr>\n  <th>Intercept</th> <td>-1.701e-05</td> <td> 6.57e-06</td> <td>   -2.590</td> <td> 0.010</td> <td>-2.99e-05</td> <td>-4.12e-06</td>\n</tr>\n<tr>\n  <th>hml</th>       <td>    0.0015</td> <td>    0.000</td> <td>    7.810</td> <td> 0.000</td> <td>    0.001</td> <td>    0.002</td>\n</tr>\n<tr>\n  <th>mkt_rf</th>    <td>   -0.0005</td> <td>    0.000</td> <td>   -4.145</td> <td> 0.000</td> <td>   -0.001</td> <td>   -0.000</td>\n</tr>\n<tr>\n  <th>smb</th>       <td>   -0.0006</td> <td>    0.000</td> <td>   -3.050</td> <td> 0.002</td> <td>   -0.001</td> <td>   -0.000</td>\n</tr>\n<tr>\n  <th>Mom</th>       <td>   -0.0005</td> <td>    0.000</td> <td>   -3.366</td> <td> 0.001</td> <td>   -0.001</td> <td>   -0.000</td>\n</tr>\n</table>\n<table class=\"simpletable\">\n<tr>\n  <th>Omnibus:</th>       <td>788.319</td> <th>  Durbin-Watson:     </th> <td>   2.076</td> \n</tr>\n<tr>\n  <th>Prob(Omnibus):</th> <td> 0.000</td>  <th>  Jarque-Bera (JB):  </th> <td>78417.063</td>\n</tr>\n<tr>\n  <th>Skew:</th>          <td>-4.697</td>  <th>  Prob(JB):          </th> <td>    0.00</td> \n</tr>\n<tr>\n  <th>Kurtosis:</th>      <td>52.307</td>  <th>  Cond. No.          </th> <td>    34.0</td> \n</tr>\n</table><br/><br/>Notes:<br/>[1] Standard Errors assume that the covariance matrix of the errors is correctly specified."
     },
     "metadata": {},
     "execution_count": 165
    }
   ],
   "source": [
    "# value_weighted_long\n",
    "data=pd.merge(ff4, longport_eq, on='date')\n",
    "\n",
    "# (\n",
    "#     smf.ols('port_return_long_vw ~ 1 + hml + mkt_rf + smb + Mom', data=pd.merge(ff4, longport_vw, on='date'))\n",
    "#     .fit().summary()\n",
    "# )\n",
    "\n",
    "# value_weighted_short\n",
    "# (\n",
    "#     smf.ols('port_return_short_vw ~ 1 + hml + mkt_rf + smb + Mom', data=pd.merge(ff4, shortport_vw, on='date'))\n",
    "#     .fit().summary()\n",
    "# )\n",
    "# value_weighted_diff\n",
    "(\n",
    "    smf.ols('longshort_eq ~ 1 + hml + mkt_rf + smb + Mom', data=pd.merge(ff4, longshortport_vw, on='date'))\n",
    "    .fit().summary()\n",
    ")"
   ]
  },
  {
   "cell_type": "code",
   "execution_count": 160,
   "metadata": {},
   "outputs": [
    {
     "output_type": "execute_result",
     "data": {
      "text/plain": [
       "<class 'statsmodels.iolib.summary.Summary'>\n",
       "\"\"\"\n",
       "                             OLS Regression Results                            \n",
       "===============================================================================\n",
       "Dep. Variable:     port_return_long_eq   R-squared:                       0.000\n",
       "Model:                             OLS   Adj. R-squared:                 -0.001\n",
       "Method:                  Least Squares   F-statistic:                   0.04730\n",
       "Date:                 Sat, 29 May 2021   Prob (F-statistic):              0.828\n",
       "Time:                         01:24:25   Log-Likelihood:                -2844.0\n",
       "No. Observations:                  744   AIC:                             5692.\n",
       "Df Residuals:                      742   BIC:                             5701.\n",
       "Df Model:                            1                                         \n",
       "Covariance Type:             nonrobust                                         \n",
       "==============================================================================\n",
       "                 coef    std err          t      P>|t|      [0.025      0.975]\n",
       "------------------------------------------------------------------------------\n",
       "Intercept     15.6335      0.408     38.324      0.000      14.833      16.434\n",
       "mkt_rf        -1.6002      7.358     -0.217      0.828     -16.045      12.845\n",
       "==============================================================================\n",
       "Omnibus:                     4247.691   Durbin-Watson:                   0.001\n",
       "Prob(Omnibus):                  0.000   Jarque-Bera (JB):               59.673\n",
       "Skew:                           0.156   Prob(JB):                     1.10e-13\n",
       "Kurtosis:                       1.648   Cond. No.                         18.1\n",
       "==============================================================================\n",
       "\n",
       "Notes:\n",
       "[1] Standard Errors assume that the covariance matrix of the errors is correctly specified.\n",
       "\"\"\""
      ],
      "text/html": "<table class=\"simpletable\">\n<caption>OLS Regression Results</caption>\n<tr>\n  <th>Dep. Variable:</th>    <td>port_return_long_eq</td> <th>  R-squared:         </th> <td>   0.000</td>\n</tr>\n<tr>\n  <th>Model:</th>                    <td>OLS</td>         <th>  Adj. R-squared:    </th> <td>  -0.001</td>\n</tr>\n<tr>\n  <th>Method:</th>              <td>Least Squares</td>    <th>  F-statistic:       </th> <td> 0.04730</td>\n</tr>\n<tr>\n  <th>Date:</th>              <td>Sat, 29 May 2021</td>   <th>  Prob (F-statistic):</th>  <td> 0.828</td> \n</tr>\n<tr>\n  <th>Time:</th>                  <td>01:24:25</td>       <th>  Log-Likelihood:    </th> <td> -2844.0</td>\n</tr>\n<tr>\n  <th>No. Observations:</th>       <td>   744</td>        <th>  AIC:               </th> <td>   5692.</td>\n</tr>\n<tr>\n  <th>Df Residuals:</th>           <td>   742</td>        <th>  BIC:               </th> <td>   5701.</td>\n</tr>\n<tr>\n  <th>Df Model:</th>               <td>     1</td>        <th>                     </th>     <td> </td>   \n</tr>\n<tr>\n  <th>Covariance Type:</th>       <td>nonrobust</td>      <th>                     </th>     <td> </td>   \n</tr>\n</table>\n<table class=\"simpletable\">\n<tr>\n      <td></td>         <th>coef</th>     <th>std err</th>      <th>t</th>      <th>P>|t|</th>  <th>[0.025</th>    <th>0.975]</th>  \n</tr>\n<tr>\n  <th>Intercept</th> <td>   15.6335</td> <td>    0.408</td> <td>   38.324</td> <td> 0.000</td> <td>   14.833</td> <td>   16.434</td>\n</tr>\n<tr>\n  <th>mkt_rf</th>    <td>   -1.6002</td> <td>    7.358</td> <td>   -0.217</td> <td> 0.828</td> <td>  -16.045</td> <td>   12.845</td>\n</tr>\n</table>\n<table class=\"simpletable\">\n<tr>\n  <th>Omnibus:</th>       <td>4247.691</td> <th>  Durbin-Watson:     </th> <td>   0.001</td>\n</tr>\n<tr>\n  <th>Prob(Omnibus):</th>  <td> 0.000</td>  <th>  Jarque-Bera (JB):  </th> <td>  59.673</td>\n</tr>\n<tr>\n  <th>Skew:</th>           <td> 0.156</td>  <th>  Prob(JB):          </th> <td>1.10e-13</td>\n</tr>\n<tr>\n  <th>Kurtosis:</th>       <td> 1.648</td>  <th>  Cond. No.          </th> <td>    18.1</td>\n</tr>\n</table><br/><br/>Notes:<br/>[1] Standard Errors assume that the covariance matrix of the errors is correctly specified."
     },
     "metadata": {},
     "execution_count": 160
    }
   ],
   "source": [
    "# panel B do one strategies 1 & 2 \n",
    "# CAPM Alpha\n",
    "(\n",
    "    smf.ols('port_return_long_eq ~ 1 + mkt_rf', data=pd.merge(ff4, longport_eq, on='date'))\n",
    "    .fit().summary()\n",
    ")\n",
    "\n"
   ]
  },
  {
   "cell_type": "code",
   "execution_count": 161,
   "metadata": {},
   "outputs": [
    {
     "output_type": "execute_result",
     "data": {
      "text/plain": [
       "<class 'statsmodels.iolib.summary.Summary'>\n",
       "\"\"\"\n",
       "                             OLS Regression Results                             \n",
       "================================================================================\n",
       "Dep. Variable:     port_return_short_eq   R-squared:                       0.003\n",
       "Model:                              OLS   Adj. R-squared:                 -0.001\n",
       "Method:                   Least Squares   F-statistic:                    0.7856\n",
       "Date:                  Sat, 29 May 2021   Prob (F-statistic):              0.502\n",
       "Time:                          01:24:25   Log-Likelihood:                -1279.6\n",
       "No. Observations:                   746   AIC:                             2567.\n",
       "Df Residuals:                       742   BIC:                             2586.\n",
       "Df Model:                             3                                         \n",
       "Covariance Type:              nonrobust                                         \n",
       "==============================================================================\n",
       "                 coef    std err          t      P>|t|      [0.025      0.975]\n",
       "------------------------------------------------------------------------------\n",
       "Intercept      1.4448      0.050     29.048      0.000       1.347       1.542\n",
       "hml            1.1131      1.482      0.751      0.453      -1.796       4.022\n",
       "mkt_rf        -0.5628      0.986     -0.571      0.568      -2.499       1.373\n",
       "smb           -1.6585      1.614     -1.027      0.305      -4.828       1.511\n",
       "==============================================================================\n",
       "Omnibus:                      109.431   Durbin-Watson:                   0.029\n",
       "Prob(Omnibus):                  0.000   Jarque-Bera (JB):              156.886\n",
       "Skew:                           1.102   Prob(JB):                     8.56e-35\n",
       "Kurtosis:                       3.440   Cond. No.                         33.9\n",
       "==============================================================================\n",
       "\n",
       "Notes:\n",
       "[1] Standard Errors assume that the covariance matrix of the errors is correctly specified.\n",
       "\"\"\""
      ],
      "text/html": "<table class=\"simpletable\">\n<caption>OLS Regression Results</caption>\n<tr>\n  <th>Dep. Variable:</th>    <td>port_return_short_eq</td> <th>  R-squared:         </th> <td>   0.003</td>\n</tr>\n<tr>\n  <th>Model:</th>                     <td>OLS</td>         <th>  Adj. R-squared:    </th> <td>  -0.001</td>\n</tr>\n<tr>\n  <th>Method:</th>               <td>Least Squares</td>    <th>  F-statistic:       </th> <td>  0.7856</td>\n</tr>\n<tr>\n  <th>Date:</th>               <td>Sat, 29 May 2021</td>   <th>  Prob (F-statistic):</th>  <td> 0.502</td> \n</tr>\n<tr>\n  <th>Time:</th>                   <td>01:24:25</td>       <th>  Log-Likelihood:    </th> <td> -1279.6</td>\n</tr>\n<tr>\n  <th>No. Observations:</th>        <td>   746</td>        <th>  AIC:               </th> <td>   2567.</td>\n</tr>\n<tr>\n  <th>Df Residuals:</th>            <td>   742</td>        <th>  BIC:               </th> <td>   2586.</td>\n</tr>\n<tr>\n  <th>Df Model:</th>                <td>     3</td>        <th>                     </th>     <td> </td>   \n</tr>\n<tr>\n  <th>Covariance Type:</th>        <td>nonrobust</td>      <th>                     </th>     <td> </td>   \n</tr>\n</table>\n<table class=\"simpletable\">\n<tr>\n      <td></td>         <th>coef</th>     <th>std err</th>      <th>t</th>      <th>P>|t|</th>  <th>[0.025</th>    <th>0.975]</th>  \n</tr>\n<tr>\n  <th>Intercept</th> <td>    1.4448</td> <td>    0.050</td> <td>   29.048</td> <td> 0.000</td> <td>    1.347</td> <td>    1.542</td>\n</tr>\n<tr>\n  <th>hml</th>       <td>    1.1131</td> <td>    1.482</td> <td>    0.751</td> <td> 0.453</td> <td>   -1.796</td> <td>    4.022</td>\n</tr>\n<tr>\n  <th>mkt_rf</th>    <td>   -0.5628</td> <td>    0.986</td> <td>   -0.571</td> <td> 0.568</td> <td>   -2.499</td> <td>    1.373</td>\n</tr>\n<tr>\n  <th>smb</th>       <td>   -1.6585</td> <td>    1.614</td> <td>   -1.027</td> <td> 0.305</td> <td>   -4.828</td> <td>    1.511</td>\n</tr>\n</table>\n<table class=\"simpletable\">\n<tr>\n  <th>Omnibus:</th>       <td>109.431</td> <th>  Durbin-Watson:     </th> <td>   0.029</td>\n</tr>\n<tr>\n  <th>Prob(Omnibus):</th> <td> 0.000</td>  <th>  Jarque-Bera (JB):  </th> <td> 156.886</td>\n</tr>\n<tr>\n  <th>Skew:</th>          <td> 1.102</td>  <th>  Prob(JB):          </th> <td>8.56e-35</td>\n</tr>\n<tr>\n  <th>Kurtosis:</th>      <td> 3.440</td>  <th>  Cond. No.          </th> <td>    33.9</td>\n</tr>\n</table><br/><br/>Notes:<br/>[1] Standard Errors assume that the covariance matrix of the errors is correctly specified."
     },
     "metadata": {},
     "execution_count": 161
    }
   ],
   "source": [
    "# 3-factor Alpha\n",
    "(\n",
    "    smf.ols('port_return_short_eq ~ 1 + hml + mkt_rf + smb', data=pd.merge(ff4, shortport_eq, on='date'))\n",
    "    .fit().summary()\n",
    ")"
   ]
  }
 ]
}