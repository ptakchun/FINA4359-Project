{
 "metadata": {
  "language_info": {
   "codemirror_mode": {
    "name": "ipython",
    "version": 3
   },
   "file_extension": ".py",
   "mimetype": "text/x-python",
   "name": "python",
   "nbconvert_exporter": "python",
   "pygments_lexer": "ipython3",
   "version": "3.7.10"
  },
  "orig_nbformat": 2,
  "kernelspec": {
   "name": "python3710jvsc74a57bd0276ff3ef4232bc81b07f38db7c38c0f89d44f1b9e7638fd97d8d47af6660e0bb",
   "display_name": "Python 3.7.10 64-bit ('fina4359': conda)"
  }
 },
 "nbformat": 4,
 "nbformat_minor": 2,
 "cells": [
  {
   "cell_type": "code",
   "execution_count": 146,
   "metadata": {},
   "outputs": [
    {
     "output_type": "stream",
     "name": "stdout",
     "text": [
      "Requirement already satisfied: matplotlib in /Users/snow/.virtualenvs/venv/lib/python3.8/site-packages (3.4.2)\n",
      "Requirement already satisfied: numpy>=1.16 in /Users/snow/.virtualenvs/venv/lib/python3.8/site-packages (from matplotlib) (1.20.2)\n",
      "Requirement already satisfied: python-dateutil>=2.7 in /Users/snow/.virtualenvs/venv/lib/python3.8/site-packages (from matplotlib) (2.8.1)\n",
      "Requirement already satisfied: cycler>=0.10 in /Users/snow/.virtualenvs/venv/lib/python3.8/site-packages (from matplotlib) (0.10.0)\n",
      "Requirement already satisfied: pillow>=6.2.0 in /Users/snow/.virtualenvs/venv/lib/python3.8/site-packages (from matplotlib) (8.2.0)\n",
      "Requirement already satisfied: kiwisolver>=1.0.1 in /Users/snow/.virtualenvs/venv/lib/python3.8/site-packages (from matplotlib) (1.3.1)\n",
      "Requirement already satisfied: pyparsing>=2.2.1 in /Users/snow/.virtualenvs/venv/lib/python3.8/site-packages (from matplotlib) (2.4.7)\n",
      "Requirement already satisfied: six in /Users/snow/.virtualenvs/venv/lib/python3.8/site-packages (from cycler>=0.10->matplotlib) (1.15.0)\n",
      "\u001b[33mWARNING: You are using pip version 21.0.1; however, version 21.1.2 is available.\n",
      "You should consider upgrading via the '/Users/snow/.virtualenvs/venv/bin/python -m pip install --upgrade pip' command.\u001b[0m\n",
      "Note: you may need to restart the kernel to use updated packages.\n"
     ]
    }
   ],
   "source": [
    "pip install matplotlib"
   ]
  },
  {
   "cell_type": "code",
   "execution_count": 147,
   "metadata": {},
   "outputs": [
    {
     "output_type": "stream",
     "name": "stdout",
     "text": [
      "Requirement already satisfied: statsmodels in /Users/snow/.virtualenvs/venv/lib/python3.8/site-packages (0.12.2)\n",
      "Requirement already satisfied: numpy>=1.15 in /Users/snow/.virtualenvs/venv/lib/python3.8/site-packages (from statsmodels) (1.20.2)\n",
      "Requirement already satisfied: pandas>=0.21 in /Users/snow/.virtualenvs/venv/lib/python3.8/site-packages (from statsmodels) (1.2.3)\n",
      "Requirement already satisfied: patsy>=0.5 in /Users/snow/.virtualenvs/venv/lib/python3.8/site-packages (from statsmodels) (0.5.1)\n",
      "Requirement already satisfied: scipy>=1.1 in /Users/snow/.virtualenvs/venv/lib/python3.8/site-packages (from statsmodels) (1.6.3)\n",
      "Requirement already satisfied: pytz>=2017.3 in /Users/snow/.virtualenvs/venv/lib/python3.8/site-packages (from pandas>=0.21->statsmodels) (2021.1)\n",
      "Requirement already satisfied: python-dateutil>=2.7.3 in /Users/snow/.virtualenvs/venv/lib/python3.8/site-packages (from pandas>=0.21->statsmodels) (2.8.1)\n",
      "Requirement already satisfied: six in /Users/snow/.virtualenvs/venv/lib/python3.8/site-packages (from patsy>=0.5->statsmodels) (1.15.0)\n",
      "\u001b[33mWARNING: You are using pip version 21.0.1; however, version 21.1.2 is available.\n",
      "You should consider upgrading via the '/Users/snow/.virtualenvs/venv/bin/python -m pip install --upgrade pip' command.\u001b[0m\n",
      "Note: you may need to restart the kernel to use updated packages.\n"
     ]
    }
   ],
   "source": [
    "pip install statsmodels"
   ]
  },
  {
   "cell_type": "code",
   "execution_count": 148,
   "metadata": {},
   "outputs": [
    {
     "output_type": "stream",
     "name": "stdout",
     "text": [
      "Requirement already satisfied: tqdm in /Users/snow/.virtualenvs/venv/lib/python3.8/site-packages (4.60.0)\n",
      "\u001b[33mWARNING: You are using pip version 21.0.1; however, version 21.1.2 is available.\n",
      "You should consider upgrading via the '/Users/snow/.virtualenvs/venv/bin/python -m pip install --upgrade pip' command.\u001b[0m\n",
      "Note: you may need to restart the kernel to use updated packages.\n"
     ]
    }
   ],
   "source": [
    "pip install tqdm"
   ]
  },
  {
   "cell_type": "code",
   "execution_count": 1,
   "metadata": {},
   "outputs": [],
   "source": [
    "import pandas as pd\n",
    "import numpy as np\n",
    "import matplotlib.pyplot as plt\n",
    "from pandas.tseries.offsets import MonthEnd\n",
    "import statsmodels.api as sm\n",
    "from tqdm import tqdm\n",
    "from multiprocessing.dummy import Pool\n",
    "import statsmodels.formula.api as smf\n",
    "pd.set_option('display.max_rows', 500)\n",
    "# pd.set_option('display.max_columns', 500)"
   ]
  },
  {
   "cell_type": "code",
   "execution_count": 2,
   "metadata": {},
   "outputs": [
    {
     "output_type": "execute_result",
     "data": {
      "text/plain": [
       "         PERMNO       date SHRCD TICKER                 COMNAM     CUSIP  \\\n",
       "1359100   25881 1970-11-30    10     AE  A & E PLASTIK PAK INC  00003210   \n",
       "1359101   25881 1970-12-31    10     AE  A & E PLASTIK PAK INC  00003210   \n",
       "1359102   25881 1971-01-29    10     AE  A & E PLASTIK PAK INC  00003210   \n",
       "1359103   25881 1971-02-26    10     AE  A & E PLASTIK PAK INC  00003210   \n",
       "1359104   25881 1971-03-31    10     AE  A & E PLASTIK PAK INC  00003210   \n",
       "\n",
       "        DCLRDT RCRDDT DISTCD  DIVAMT     PRC     VOL        RET  SHROUT  \\\n",
       "1359100    NaT    NaT    NaN     NaN   9.000   318.0          C  2655.0   \n",
       "1359101    NaT    NaT    NaN     NaN  10.000   646.0   0.111111  2655.0   \n",
       "1359102    NaT    NaT    NaN     NaN   9.000   636.0  -0.100000  2655.0   \n",
       "1359103    NaT    NaT    NaN     NaN  11.125  2155.0   0.236111  2655.0   \n",
       "1359104    NaT    NaT    NaN     NaN   9.750  2062.0  -0.123596  2655.0   \n",
       "\n",
       "         SPREAD       RETX  year  month  PRC_t-1  \n",
       "1359100     NaN          C  1970     11      NaN  \n",
       "1359101     NaN   0.111111  1970     12    9.000  \n",
       "1359102     NaN  -0.100000  1971      1   10.000  \n",
       "1359103     NaN   0.236111  1971      2    9.000  \n",
       "1359104     NaN  -0.123596  1971      3   11.125  "
      ],
      "text/html": "<div>\n<style scoped>\n    .dataframe tbody tr th:only-of-type {\n        vertical-align: middle;\n    }\n\n    .dataframe tbody tr th {\n        vertical-align: top;\n    }\n\n    .dataframe thead th {\n        text-align: right;\n    }\n</style>\n<table border=\"1\" class=\"dataframe\">\n  <thead>\n    <tr style=\"text-align: right;\">\n      <th></th>\n      <th>PERMNO</th>\n      <th>date</th>\n      <th>SHRCD</th>\n      <th>TICKER</th>\n      <th>COMNAM</th>\n      <th>CUSIP</th>\n      <th>DCLRDT</th>\n      <th>RCRDDT</th>\n      <th>DISTCD</th>\n      <th>DIVAMT</th>\n      <th>PRC</th>\n      <th>VOL</th>\n      <th>RET</th>\n      <th>SHROUT</th>\n      <th>SPREAD</th>\n      <th>RETX</th>\n      <th>year</th>\n      <th>month</th>\n      <th>PRC_t-1</th>\n    </tr>\n  </thead>\n  <tbody>\n    <tr>\n      <th>1359100</th>\n      <td>25881</td>\n      <td>1970-11-30</td>\n      <td>10</td>\n      <td>AE</td>\n      <td>A &amp; E PLASTIK PAK INC</td>\n      <td>00003210</td>\n      <td>NaT</td>\n      <td>NaT</td>\n      <td>NaN</td>\n      <td>NaN</td>\n      <td>9.000</td>\n      <td>318.0</td>\n      <td>C</td>\n      <td>2655.0</td>\n      <td>NaN</td>\n      <td>C</td>\n      <td>1970</td>\n      <td>11</td>\n      <td>NaN</td>\n    </tr>\n    <tr>\n      <th>1359101</th>\n      <td>25881</td>\n      <td>1970-12-31</td>\n      <td>10</td>\n      <td>AE</td>\n      <td>A &amp; E PLASTIK PAK INC</td>\n      <td>00003210</td>\n      <td>NaT</td>\n      <td>NaT</td>\n      <td>NaN</td>\n      <td>NaN</td>\n      <td>10.000</td>\n      <td>646.0</td>\n      <td>0.111111</td>\n      <td>2655.0</td>\n      <td>NaN</td>\n      <td>0.111111</td>\n      <td>1970</td>\n      <td>12</td>\n      <td>9.000</td>\n    </tr>\n    <tr>\n      <th>1359102</th>\n      <td>25881</td>\n      <td>1971-01-29</td>\n      <td>10</td>\n      <td>AE</td>\n      <td>A &amp; E PLASTIK PAK INC</td>\n      <td>00003210</td>\n      <td>NaT</td>\n      <td>NaT</td>\n      <td>NaN</td>\n      <td>NaN</td>\n      <td>9.000</td>\n      <td>636.0</td>\n      <td>-0.100000</td>\n      <td>2655.0</td>\n      <td>NaN</td>\n      <td>-0.100000</td>\n      <td>1971</td>\n      <td>1</td>\n      <td>10.000</td>\n    </tr>\n    <tr>\n      <th>1359103</th>\n      <td>25881</td>\n      <td>1971-02-26</td>\n      <td>10</td>\n      <td>AE</td>\n      <td>A &amp; E PLASTIK PAK INC</td>\n      <td>00003210</td>\n      <td>NaT</td>\n      <td>NaT</td>\n      <td>NaN</td>\n      <td>NaN</td>\n      <td>11.125</td>\n      <td>2155.0</td>\n      <td>0.236111</td>\n      <td>2655.0</td>\n      <td>NaN</td>\n      <td>0.236111</td>\n      <td>1971</td>\n      <td>2</td>\n      <td>9.000</td>\n    </tr>\n    <tr>\n      <th>1359104</th>\n      <td>25881</td>\n      <td>1971-03-31</td>\n      <td>10</td>\n      <td>AE</td>\n      <td>A &amp; E PLASTIK PAK INC</td>\n      <td>00003210</td>\n      <td>NaT</td>\n      <td>NaT</td>\n      <td>NaN</td>\n      <td>NaN</td>\n      <td>9.750</td>\n      <td>2062.0</td>\n      <td>-0.123596</td>\n      <td>2655.0</td>\n      <td>NaN</td>\n      <td>-0.123596</td>\n      <td>1971</td>\n      <td>3</td>\n      <td>11.125</td>\n    </tr>\n  </tbody>\n</table>\n</div>"
     },
     "metadata": {},
     "execution_count": 2
    }
   ],
   "source": [
    "crsp_df = pd.read_csv(\"crsp.zip\", compression='zip',header=0,\n",
    "             parse_dates = ['date','DCLRDT','RCRDDT'],\n",
    "             dtype={\"PRC\": np.float64,\n",
    "                  \"VOL\": np.float64,\n",
    "                  \"SHROUT\": np.float64,\n",
    "                  \"DIVAMT\": np.float64,\n",
    "                  \"SPREAD\": np.float64,\n",
    "                  \"SHRCD\":str,\n",
    "                  \"DISTCD\":str,\n",
    "                  \"COMNAM\": str,\n",
    "                  \"TICKER\": str,\n",
    "                   'CUSIP': str})\n",
    "#Data Preprocessing\n",
    "crsp_df = crsp_df[(crsp_df.SHRCD.isin(('10','11')))]\n",
    "crsp_df = crsp_df[(crsp_df.date >= '1927-01-01')]\n",
    "crsp_df = crsp_df[(crsp_df.date <= '2011-12-31')]\n",
    "cusips_DISTCD_12 = crsp_df[crsp_df.DISTCD.apply(lambda x: x[:2]=='12' if isinstance(x, str) else False)].CUSIP.unique()\n",
    "crsp_df = crsp_df[crsp_df.CUSIP.isin(cusips_DISTCD_12)]\n",
    "\n",
    "crsp_df.PRC = crsp_df.PRC.abs()\n",
    "\n",
    "\n",
    "crsp_df['year'] = crsp_df['date'].dt.year\n",
    "crsp_df['month'] = crsp_df['date'].dt.month\n",
    "crsp_df.sort_values(by=['CUSIP','date'], ascending=True, inplace=True)\n",
    "crsp_df['PRC_t-1'] = crsp_df.groupby('CUSIP')['PRC'].shift(1)\n",
    "crsp_df.head()"
   ]
  },
  {
   "cell_type": "code",
   "execution_count": 3,
   "metadata": {},
   "outputs": [
    {
     "output_type": "execute_result",
     "data": {
      "text/plain": [
       "                        DCLRDT     RCRDDT DISTCD  DIVAMT        RET     PRC  \\\n",
       "CUSIP    date                                                                 \n",
       "00003210 1977-06-30 1977-05-25 1977-06-24   1232    0.05   0.069388   6.500   \n",
       "         1977-07-29        NaT        NaT   None    0.00   0.230769   8.000   \n",
       "         1977-08-31        NaT        NaT   None    0.00   0.046875   8.375   \n",
       "         1977-09-30 1977-08-02 1977-09-23   1232    0.05   0.080597   9.000   \n",
       "         1977-10-31        NaT        NaT   None    0.00  -0.041667   8.625   \n",
       "...                        ...        ...    ...     ...        ...     ...   \n",
       "N5946510 2008-01-31        NaT        NaT   None    0.00   0.055477  14.840   \n",
       "         2008-02-29        NaT        NaT   None    0.00  -0.202156  11.840   \n",
       "         2008-03-31        NaT        NaT   None    0.00  -0.020270  11.600   \n",
       "         2008-04-30        NaT        NaT   None    0.00   0.135345  13.170   \n",
       "         2008-05-30        NaT        NaT   None    0.00   0.013667  13.350   \n",
       "\n",
       "                     PRC_t-1    SHROUT freq         MCAP  \n",
       "CUSIP    date                                             \n",
       "00003210 1977-06-30    6.125    2209.0    3    14358.500  \n",
       "         1977-07-29    6.500    2209.0    3    17672.000  \n",
       "         1977-08-31    8.000    2209.0    3    18500.375  \n",
       "         1977-09-30    8.375    2223.0    3    20007.000  \n",
       "         1977-10-31    9.000    2223.0    3    19173.375  \n",
       "...                      ...       ...  ...          ...  \n",
       "N5946510 2008-01-31   14.060  304332.0    3  4516286.880  \n",
       "         2008-02-29   14.840  304332.0    3  3603290.880  \n",
       "         2008-03-31   11.840  304439.0    3  3531492.400  \n",
       "         2008-04-30   11.600  304439.0    3  4009461.630  \n",
       "         2008-05-30   13.170  304449.0    3  4064394.150  \n",
       "\n",
       "[1494129 rows x 10 columns]"
      ],
      "text/html": "<div>\n<style scoped>\n    .dataframe tbody tr th:only-of-type {\n        vertical-align: middle;\n    }\n\n    .dataframe tbody tr th {\n        vertical-align: top;\n    }\n\n    .dataframe thead th {\n        text-align: right;\n    }\n</style>\n<table border=\"1\" class=\"dataframe\">\n  <thead>\n    <tr style=\"text-align: right;\">\n      <th></th>\n      <th></th>\n      <th>DCLRDT</th>\n      <th>RCRDDT</th>\n      <th>DISTCD</th>\n      <th>DIVAMT</th>\n      <th>RET</th>\n      <th>PRC</th>\n      <th>PRC_t-1</th>\n      <th>SHROUT</th>\n      <th>freq</th>\n      <th>MCAP</th>\n    </tr>\n    <tr>\n      <th>CUSIP</th>\n      <th>date</th>\n      <th></th>\n      <th></th>\n      <th></th>\n      <th></th>\n      <th></th>\n      <th></th>\n      <th></th>\n      <th></th>\n      <th></th>\n      <th></th>\n    </tr>\n  </thead>\n  <tbody>\n    <tr>\n      <th rowspan=\"5\" valign=\"top\">00003210</th>\n      <th>1977-06-30</th>\n      <td>1977-05-25</td>\n      <td>1977-06-24</td>\n      <td>1232</td>\n      <td>0.05</td>\n      <td>0.069388</td>\n      <td>6.500</td>\n      <td>6.125</td>\n      <td>2209.0</td>\n      <td>3</td>\n      <td>14358.500</td>\n    </tr>\n    <tr>\n      <th>1977-07-29</th>\n      <td>NaT</td>\n      <td>NaT</td>\n      <td>None</td>\n      <td>0.00</td>\n      <td>0.230769</td>\n      <td>8.000</td>\n      <td>6.500</td>\n      <td>2209.0</td>\n      <td>3</td>\n      <td>17672.000</td>\n    </tr>\n    <tr>\n      <th>1977-08-31</th>\n      <td>NaT</td>\n      <td>NaT</td>\n      <td>None</td>\n      <td>0.00</td>\n      <td>0.046875</td>\n      <td>8.375</td>\n      <td>8.000</td>\n      <td>2209.0</td>\n      <td>3</td>\n      <td>18500.375</td>\n    </tr>\n    <tr>\n      <th>1977-09-30</th>\n      <td>1977-08-02</td>\n      <td>1977-09-23</td>\n      <td>1232</td>\n      <td>0.05</td>\n      <td>0.080597</td>\n      <td>9.000</td>\n      <td>8.375</td>\n      <td>2223.0</td>\n      <td>3</td>\n      <td>20007.000</td>\n    </tr>\n    <tr>\n      <th>1977-10-31</th>\n      <td>NaT</td>\n      <td>NaT</td>\n      <td>None</td>\n      <td>0.00</td>\n      <td>-0.041667</td>\n      <td>8.625</td>\n      <td>9.000</td>\n      <td>2223.0</td>\n      <td>3</td>\n      <td>19173.375</td>\n    </tr>\n    <tr>\n      <th>...</th>\n      <th>...</th>\n      <td>...</td>\n      <td>...</td>\n      <td>...</td>\n      <td>...</td>\n      <td>...</td>\n      <td>...</td>\n      <td>...</td>\n      <td>...</td>\n      <td>...</td>\n      <td>...</td>\n    </tr>\n    <tr>\n      <th rowspan=\"5\" valign=\"top\">N5946510</th>\n      <th>2008-01-31</th>\n      <td>NaT</td>\n      <td>NaT</td>\n      <td>None</td>\n      <td>0.00</td>\n      <td>0.055477</td>\n      <td>14.840</td>\n      <td>14.060</td>\n      <td>304332.0</td>\n      <td>3</td>\n      <td>4516286.880</td>\n    </tr>\n    <tr>\n      <th>2008-02-29</th>\n      <td>NaT</td>\n      <td>NaT</td>\n      <td>None</td>\n      <td>0.00</td>\n      <td>-0.202156</td>\n      <td>11.840</td>\n      <td>14.840</td>\n      <td>304332.0</td>\n      <td>3</td>\n      <td>3603290.880</td>\n    </tr>\n    <tr>\n      <th>2008-03-31</th>\n      <td>NaT</td>\n      <td>NaT</td>\n      <td>None</td>\n      <td>0.00</td>\n      <td>-0.020270</td>\n      <td>11.600</td>\n      <td>11.840</td>\n      <td>304439.0</td>\n      <td>3</td>\n      <td>3531492.400</td>\n    </tr>\n    <tr>\n      <th>2008-04-30</th>\n      <td>NaT</td>\n      <td>NaT</td>\n      <td>None</td>\n      <td>0.00</td>\n      <td>0.135345</td>\n      <td>13.170</td>\n      <td>11.600</td>\n      <td>304439.0</td>\n      <td>3</td>\n      <td>4009461.630</td>\n    </tr>\n    <tr>\n      <th>2008-05-30</th>\n      <td>NaT</td>\n      <td>NaT</td>\n      <td>None</td>\n      <td>0.00</td>\n      <td>0.013667</td>\n      <td>13.350</td>\n      <td>13.170</td>\n      <td>304449.0</td>\n      <td>3</td>\n      <td>4064394.150</td>\n    </tr>\n  </tbody>\n</table>\n<p>1494129 rows × 10 columns</p>\n</div>"
     },
     "metadata": {},
     "execution_count": 3
    }
   ],
   "source": [
    "crsp_div_df = crsp_df[['date','CUSIP','DCLRDT','RCRDDT','DISTCD','DIVAMT','PRC','PRC_t-1','RET','SHROUT','month']].copy()\n",
    "crsp_div_df \n",
    "crsp_div_df.sort_values(by=['CUSIP','date'], ascending=True, inplace=True)\n",
    "crsp_div_df = crsp_div_df.groupby(by=['CUSIP','date']).agg({\n",
    "     'DCLRDT': 'last',\n",
    "     'RCRDDT': 'last',\n",
    "     'DISTCD': 'last',\n",
    "     'DIVAMT': 'sum',\n",
    "     'RET':'max',\n",
    "     'PRC': 'last',\n",
    "     'PRC_t-1': 'last',\n",
    "     'SHROUT': 'last'})\n",
    "crsp_div_df.sort_values(by=['CUSIP','date'], ascending=True, inplace=True)\n",
    "crsp_div_df['freq'] = None\n",
    "crsp_div_df['freq'] = crsp_div_df[crsp_div_df.RCRDDT.isna()==False]['DISTCD'].apply(lambda x: x[2:3] if x is not None else None)\n",
    "crsp_div_df['freq'] = crsp_div_df.groupby(by=['CUSIP']).fillna(method='ffill', limit=11)['freq']\n",
    "\n",
    "fil_C = (crsp_div_df[\"PRC_t-1\"] >= 5) & (crsp_div_df.freq < '6')\n",
    "crsp_div_df = crsp_div_df[fil_C]\n",
    "\n",
    "crsp_div_df['MCAP'] = crsp_div_df['PRC'] * crsp_div_df['SHROUT']\n",
    "crsp_div_df"
   ]
  },
  {
   "cell_type": "code",
   "execution_count": 18,
   "metadata": {},
   "outputs": [
    {
     "output_type": "execute_result",
     "data": {
      "text/plain": [
       "False"
      ]
     },
     "metadata": {},
     "execution_count": 18
    }
   ],
   "source": [
    "# a = pd.Series(['1.0',2.0,100.0,'C','B'])\n",
    "# a < '65'\n",
    "'B' < '65'"
   ]
  },
  {
   "cell_type": "code",
   "execution_count": 19,
   "metadata": {},
   "outputs": [],
   "source": [
    "crsp_div_df['div_yr']=np.where(crsp_div_df['freq']=='6',True,False )\n",
    "crsp_div_df['div_semi_annual']=np.where(crsp_div_df['freq']=='4',True,False)\n",
    "crsp_div_df['div_quarterly']=np.where(crsp_div_df['freq']=='3',True,False)\n",
    "crsp_div_df['div_unknown']=np.where(crsp_div_df['freq']=='0',True,False )\n",
    "crsp_div_df['div_monthly']=np.where(crsp_div_df['freq']=='2',True,False )\n",
    "crsp_temp=crsp_div_df\n"
   ]
  },
  {
   "cell_type": "code",
   "execution_count": 20,
   "metadata": {},
   "outputs": [
    {
     "output_type": "execute_result",
     "data": {
      "text/plain": [
       "                        DCLRDT     RCRDDT DISTCD  DIVAMT        RET     PRC  \\\n",
       "CUSIP    date                                                                 \n",
       "00003210 1977-06-30 1977-05-25 1977-06-24   1232    0.05   0.069388   6.500   \n",
       "         1977-07-29        NaT        NaT   None    0.00   0.230769   8.000   \n",
       "         1977-08-31        NaT        NaT   None    0.00   0.046875   8.375   \n",
       "         1977-09-30 1977-08-02 1977-09-23   1232    0.05   0.080597   9.000   \n",
       "         1977-10-31        NaT        NaT   None    0.00  -0.041667   8.625   \n",
       "...                        ...        ...    ...     ...        ...     ...   \n",
       "N5946510 2008-01-31        NaT        NaT   None    0.00   0.055477  14.840   \n",
       "         2008-02-29        NaT        NaT   None    0.00  -0.202156  11.840   \n",
       "         2008-03-31        NaT        NaT   None    0.00  -0.020270  11.600   \n",
       "         2008-04-30        NaT        NaT   None    0.00   0.135345  13.170   \n",
       "         2008-05-30        NaT        NaT   None    0.00   0.013667  13.350   \n",
       "\n",
       "                     PRC_t-1    SHROUT freq         MCAP  ...  lag_u_12  \\\n",
       "CUSIP    date                                             ...             \n",
       "00003210 1977-06-30    6.125    2209.0    3    14358.500  ...       NaN   \n",
       "         1977-07-29    6.500    2209.0    3    17672.000  ...       NaN   \n",
       "         1977-08-31    8.000    2209.0    3    18500.375  ...       NaN   \n",
       "         1977-09-30    8.375    2223.0    3    20007.000  ...       NaN   \n",
       "         1977-10-31    9.000    2223.0    3    19173.375  ...       NaN   \n",
       "...                      ...       ...  ...          ...  ...       ...   \n",
       "N5946510 2008-01-31   14.060  304332.0    3  4516286.880  ...     False   \n",
       "         2008-02-29   14.840  304332.0    3  3603290.880  ...     False   \n",
       "         2008-03-31   11.840  304439.0    3  3531492.400  ...     False   \n",
       "         2008-04-30   11.600  304439.0    3  4009461.630  ...     False   \n",
       "         2008-05-30   13.170  304449.0    3  4064394.150  ...     False   \n",
       "\n",
       "                     lag_quarterly  lag_semi_annual_six  lag_semi_annual_twl  \\\n",
       "CUSIP    date                                                                  \n",
       "00003210 1977-06-30            NaN                  NaN                  NaN   \n",
       "         1977-07-29            NaN                  NaN                  NaN   \n",
       "         1977-08-31            NaN                  NaN                  NaN   \n",
       "         1977-09-30           True                  NaN                  NaN   \n",
       "         1977-10-31           True                  NaN                  NaN   \n",
       "...                            ...                  ...                  ...   \n",
       "N5946510 2008-01-31           True                False                False   \n",
       "         2008-02-29           True                False                False   \n",
       "         2008-03-31           True                False                False   \n",
       "         2008-04-30           True                False                False   \n",
       "         2008-05-30           True                False                False   \n",
       "\n",
       "                     lag_div_yr  lag_1  lag_4  lag_7 lag_10 lag_month  \n",
       "CUSIP    date                                                          \n",
       "00003210 1977-06-30         NaN    NaN    NaN    NaN    NaN       NaN  \n",
       "         1977-07-29         NaN  False    NaN    NaN    NaN     False  \n",
       "         1977-08-31         NaN  False    NaN    NaN    NaN     False  \n",
       "         1977-09-30         NaN  False    NaN    NaN    NaN     False  \n",
       "         1977-10-31         NaN  False  False    NaN    NaN     False  \n",
       "...                         ...    ...    ...    ...    ...       ...  \n",
       "N5946510 2008-01-31       False  False  False  False  False     False  \n",
       "         2008-02-29       False  False  False  False  False     False  \n",
       "         2008-03-31       False  False  False  False  False     False  \n",
       "         2008-04-30       False  False  False  False  False     False  \n",
       "         2008-05-30       False  False  False  False  False     False  \n",
       "\n",
       "[1494129 rows x 36 columns]"
      ],
      "text/html": "<div>\n<style scoped>\n    .dataframe tbody tr th:only-of-type {\n        vertical-align: middle;\n    }\n\n    .dataframe tbody tr th {\n        vertical-align: top;\n    }\n\n    .dataframe thead th {\n        text-align: right;\n    }\n</style>\n<table border=\"1\" class=\"dataframe\">\n  <thead>\n    <tr style=\"text-align: right;\">\n      <th></th>\n      <th></th>\n      <th>DCLRDT</th>\n      <th>RCRDDT</th>\n      <th>DISTCD</th>\n      <th>DIVAMT</th>\n      <th>RET</th>\n      <th>PRC</th>\n      <th>PRC_t-1</th>\n      <th>SHROUT</th>\n      <th>freq</th>\n      <th>MCAP</th>\n      <th>...</th>\n      <th>lag_u_12</th>\n      <th>lag_quarterly</th>\n      <th>lag_semi_annual_six</th>\n      <th>lag_semi_annual_twl</th>\n      <th>lag_div_yr</th>\n      <th>lag_1</th>\n      <th>lag_4</th>\n      <th>lag_7</th>\n      <th>lag_10</th>\n      <th>lag_month</th>\n    </tr>\n    <tr>\n      <th>CUSIP</th>\n      <th>date</th>\n      <th></th>\n      <th></th>\n      <th></th>\n      <th></th>\n      <th></th>\n      <th></th>\n      <th></th>\n      <th></th>\n      <th></th>\n      <th></th>\n      <th></th>\n      <th></th>\n      <th></th>\n      <th></th>\n      <th></th>\n      <th></th>\n      <th></th>\n      <th></th>\n      <th></th>\n      <th></th>\n      <th></th>\n    </tr>\n  </thead>\n  <tbody>\n    <tr>\n      <th rowspan=\"5\" valign=\"top\">00003210</th>\n      <th>1977-06-30</th>\n      <td>1977-05-25</td>\n      <td>1977-06-24</td>\n      <td>1232</td>\n      <td>0.05</td>\n      <td>0.069388</td>\n      <td>6.500</td>\n      <td>6.125</td>\n      <td>2209.0</td>\n      <td>3</td>\n      <td>14358.500</td>\n      <td>...</td>\n      <td>NaN</td>\n      <td>NaN</td>\n      <td>NaN</td>\n      <td>NaN</td>\n      <td>NaN</td>\n      <td>NaN</td>\n      <td>NaN</td>\n      <td>NaN</td>\n      <td>NaN</td>\n      <td>NaN</td>\n    </tr>\n    <tr>\n      <th>1977-07-29</th>\n      <td>NaT</td>\n      <td>NaT</td>\n      <td>None</td>\n      <td>0.00</td>\n      <td>0.230769</td>\n      <td>8.000</td>\n      <td>6.500</td>\n      <td>2209.0</td>\n      <td>3</td>\n      <td>17672.000</td>\n      <td>...</td>\n      <td>NaN</td>\n      <td>NaN</td>\n      <td>NaN</td>\n      <td>NaN</td>\n      <td>NaN</td>\n      <td>False</td>\n      <td>NaN</td>\n      <td>NaN</td>\n      <td>NaN</td>\n      <td>False</td>\n    </tr>\n    <tr>\n      <th>1977-08-31</th>\n      <td>NaT</td>\n      <td>NaT</td>\n      <td>None</td>\n      <td>0.00</td>\n      <td>0.046875</td>\n      <td>8.375</td>\n      <td>8.000</td>\n      <td>2209.0</td>\n      <td>3</td>\n      <td>18500.375</td>\n      <td>...</td>\n      <td>NaN</td>\n      <td>NaN</td>\n      <td>NaN</td>\n      <td>NaN</td>\n      <td>NaN</td>\n      <td>False</td>\n      <td>NaN</td>\n      <td>NaN</td>\n      <td>NaN</td>\n      <td>False</td>\n    </tr>\n    <tr>\n      <th>1977-09-30</th>\n      <td>1977-08-02</td>\n      <td>1977-09-23</td>\n      <td>1232</td>\n      <td>0.05</td>\n      <td>0.080597</td>\n      <td>9.000</td>\n      <td>8.375</td>\n      <td>2223.0</td>\n      <td>3</td>\n      <td>20007.000</td>\n      <td>...</td>\n      <td>NaN</td>\n      <td>True</td>\n      <td>NaN</td>\n      <td>NaN</td>\n      <td>NaN</td>\n      <td>False</td>\n      <td>NaN</td>\n      <td>NaN</td>\n      <td>NaN</td>\n      <td>False</td>\n    </tr>\n    <tr>\n      <th>1977-10-31</th>\n      <td>NaT</td>\n      <td>NaT</td>\n      <td>None</td>\n      <td>0.00</td>\n      <td>-0.041667</td>\n      <td>8.625</td>\n      <td>9.000</td>\n      <td>2223.0</td>\n      <td>3</td>\n      <td>19173.375</td>\n      <td>...</td>\n      <td>NaN</td>\n      <td>True</td>\n      <td>NaN</td>\n      <td>NaN</td>\n      <td>NaN</td>\n      <td>False</td>\n      <td>False</td>\n      <td>NaN</td>\n      <td>NaN</td>\n      <td>False</td>\n    </tr>\n    <tr>\n      <th>...</th>\n      <th>...</th>\n      <td>...</td>\n      <td>...</td>\n      <td>...</td>\n      <td>...</td>\n      <td>...</td>\n      <td>...</td>\n      <td>...</td>\n      <td>...</td>\n      <td>...</td>\n      <td>...</td>\n      <td>...</td>\n      <td>...</td>\n      <td>...</td>\n      <td>...</td>\n      <td>...</td>\n      <td>...</td>\n      <td>...</td>\n      <td>...</td>\n      <td>...</td>\n      <td>...</td>\n      <td>...</td>\n    </tr>\n    <tr>\n      <th rowspan=\"5\" valign=\"top\">N5946510</th>\n      <th>2008-01-31</th>\n      <td>NaT</td>\n      <td>NaT</td>\n      <td>None</td>\n      <td>0.00</td>\n      <td>0.055477</td>\n      <td>14.840</td>\n      <td>14.060</td>\n      <td>304332.0</td>\n      <td>3</td>\n      <td>4516286.880</td>\n      <td>...</td>\n      <td>False</td>\n      <td>True</td>\n      <td>False</td>\n      <td>False</td>\n      <td>False</td>\n      <td>False</td>\n      <td>False</td>\n      <td>False</td>\n      <td>False</td>\n      <td>False</td>\n    </tr>\n    <tr>\n      <th>2008-02-29</th>\n      <td>NaT</td>\n      <td>NaT</td>\n      <td>None</td>\n      <td>0.00</td>\n      <td>-0.202156</td>\n      <td>11.840</td>\n      <td>14.840</td>\n      <td>304332.0</td>\n      <td>3</td>\n      <td>3603290.880</td>\n      <td>...</td>\n      <td>False</td>\n      <td>True</td>\n      <td>False</td>\n      <td>False</td>\n      <td>False</td>\n      <td>False</td>\n      <td>False</td>\n      <td>False</td>\n      <td>False</td>\n      <td>False</td>\n    </tr>\n    <tr>\n      <th>2008-03-31</th>\n      <td>NaT</td>\n      <td>NaT</td>\n      <td>None</td>\n      <td>0.00</td>\n      <td>-0.020270</td>\n      <td>11.600</td>\n      <td>11.840</td>\n      <td>304439.0</td>\n      <td>3</td>\n      <td>3531492.400</td>\n      <td>...</td>\n      <td>False</td>\n      <td>True</td>\n      <td>False</td>\n      <td>False</td>\n      <td>False</td>\n      <td>False</td>\n      <td>False</td>\n      <td>False</td>\n      <td>False</td>\n      <td>False</td>\n    </tr>\n    <tr>\n      <th>2008-04-30</th>\n      <td>NaT</td>\n      <td>NaT</td>\n      <td>None</td>\n      <td>0.00</td>\n      <td>0.135345</td>\n      <td>13.170</td>\n      <td>11.600</td>\n      <td>304439.0</td>\n      <td>3</td>\n      <td>4009461.630</td>\n      <td>...</td>\n      <td>False</td>\n      <td>True</td>\n      <td>False</td>\n      <td>False</td>\n      <td>False</td>\n      <td>False</td>\n      <td>False</td>\n      <td>False</td>\n      <td>False</td>\n      <td>False</td>\n    </tr>\n    <tr>\n      <th>2008-05-30</th>\n      <td>NaT</td>\n      <td>NaT</td>\n      <td>None</td>\n      <td>0.00</td>\n      <td>0.013667</td>\n      <td>13.350</td>\n      <td>13.170</td>\n      <td>304449.0</td>\n      <td>3</td>\n      <td>4064394.150</td>\n      <td>...</td>\n      <td>False</td>\n      <td>True</td>\n      <td>False</td>\n      <td>False</td>\n      <td>False</td>\n      <td>False</td>\n      <td>False</td>\n      <td>False</td>\n      <td>False</td>\n      <td>False</td>\n    </tr>\n  </tbody>\n</table>\n<p>1494129 rows × 36 columns</p>\n</div>"
     },
     "metadata": {},
     "execution_count": 20
    }
   ],
   "source": [
    "crsp_temp['lag_u_1']=crsp_temp.groupby('CUSIP')['div_unknown'].shift(1)\n",
    "crsp_temp['lag_u_2']=crsp_temp.groupby('CUSIP')['div_unknown'].shift(2)\n",
    "crsp_temp['lag_u_3']=crsp_temp.groupby('CUSIP')['div_unknown'].shift(3)\n",
    "crsp_temp['lag_u_4']=crsp_temp.groupby('CUSIP')['div_unknown'].shift(4)\n",
    "crsp_temp['lag_u_5']=crsp_temp.groupby('CUSIP')['div_unknown'].shift(5)\n",
    "crsp_temp['lag_u_6']=crsp_temp.groupby('CUSIP')['div_unknown'].shift(6)\n",
    "crsp_temp['lag_u_7']=crsp_temp.groupby('CUSIP')['div_unknown'].shift(7)\n",
    "crsp_temp['lag_u_8']=crsp_temp.groupby('CUSIP')['div_unknown'].shift(8)\n",
    "crsp_temp['lag_u_9']=crsp_temp.groupby('CUSIP')['div_unknown'].shift(9)\n",
    "crsp_temp['lag_u_10']=crsp_temp.groupby('CUSIP')['div_unknown'].shift(10)\n",
    "crsp_temp['lag_u_11']=crsp_temp.groupby('CUSIP')['div_unknown'].shift(11)\n",
    "crsp_temp['lag_u_12']=crsp_temp.groupby('CUSIP')['div_unknown'].shift(12)\n",
    "\n",
    "crsp_temp['lag_quarterly']=crsp_temp.groupby('CUSIP')['div_quarterly'].shift(3)\n",
    "crsp_temp['lag_semi_annual_six']=crsp_temp.groupby('CUSIP')['div_semi_annual'].shift(6)\n",
    "crsp_temp['lag_semi_annual_twl']=crsp_temp.groupby('CUSIP')['div_semi_annual'].shift(12)\n",
    "crsp_temp['lag_div_yr']=crsp_temp.groupby('CUSIP')['div_yr'].shift(12)\n",
    "crsp_temp['lag_1']=crsp_temp.groupby('CUSIP')['div_monthly'].shift(1)\n",
    "crsp_temp['lag_4']=crsp_temp.groupby('CUSIP')['div_monthly'].shift(4)\n",
    "crsp_temp['lag_7']=crsp_temp.groupby('CUSIP')['div_monthly'].shift(7)\n",
    "crsp_temp['lag_10']=crsp_temp.groupby('CUSIP')['div_monthly'].shift(10)\n",
    "\n",
    "crsp_div_df['lag_month']=crsp_temp.groupby('CUSIP')['div_monthly'].shift(1)\n",
    "\n",
    "crsp_temp"
   ]
  },
  {
   "cell_type": "code",
   "execution_count": 21,
   "metadata": {},
   "outputs": [],
   "source": [
    "# Strategies 1: Long predicted dividend and short all other companies\n",
    "crsp_temp['long_stocks'] = (crsp_temp['lag_u_3'] ==True) | (crsp_temp['lag_u_6'] ==True) | ( crsp_temp['lag_u_9'] ==True ) | (crsp_temp['lag_u_12'] ==True ) | ( crsp_temp['lag_quarterly'] ==True ) | (crsp_temp['lag_semi_annual_six'] ==True ) | (crsp_temp['lag_semi_annual_twl'] ==True) |(crsp_temp['lag_div_yr'] ==True)\n",
    "\n",
    "# crsp_temp['long_stocks'] = (crsp_temp['div_yr'] ==True) | (crsp_temp['div_semi_annual'] ==True) | ( crsp_temp['div_quarterly'] ==True ) | (crsp_temp['div_unknown'] ==True ) \n",
    "\n",
    "crsp_temp['short_stocks'] = np.where(crsp_temp['long_stocks']==False,True,False)\n",
    "\n",
    "# Strategies 2: Long predicted dividend and short all other dividend payers companies\n",
    "# crsp_temp['short_stocks'] = (crsp_temp['lag_u_1'] ==True) | (crsp_temp['lag_u_2'] ==True) | ( crsp_temp['lag_u_4'] ==True ) | (crsp_temp['lag_u_5'] ==True ) | ( crsp_temp['lag_u_8'] ==True ) | (crsp_temp['lag_u_10'] ==True ) | (crsp_temp['lag_u_11'] ==True )| (crsp_div_df['lag_month']==True)\n",
    "\n",
    "# Strategies 3: Long predicted dividend and short all months occurring 1,4,7 or 10 months ago\n",
    "# crsp_temp['short_stocks'] = (crsp_temp['lag_1'] ==True) | (crsp_temp['lag_4'] ==True) | ( crsp_temp['lag_7'] ==True ) | (crsp_temp['lag_10'] ==True ) \n",
    "# crsp_temp['short_stocks'].describe()\n",
    "\n"
   ]
  },
  {
   "cell_type": "code",
   "execution_count": 37,
   "metadata": {},
   "outputs": [
    {
     "output_type": "stream",
     "name": "stdout",
     "text": [
      "            RET_long  RET_short  longshort_eq\ndate                                         \n1927-04-30  0.018177  -0.000182      0.018359\n1927-05-31  0.051929   0.050309      0.001620\n1927-06-30 -0.020331  -0.003609     -0.016722\n1927-07-30  0.058961   0.056138      0.002823\n1927-08-31  0.011821  -0.002201      0.014022\n...              ...        ...           ...\n2011-08-31 -0.060211  -0.089215      0.029004\n2011-09-30 -0.085287  -0.104952      0.019665\n2011-10-31  0.125390   0.136289     -0.010899\n2011-11-30  0.003480   0.015668     -0.012188\n2011-12-30  0.007794   0.001967      0.005826\n\n[1017 rows x 3 columns]\n"
     ]
    }
   ],
   "source": [
    "def long_weights(group):\n",
    "    # Select all stocks with long position from the group\n",
    "    longs = group.loc[group['long_stocks'] == True]\n",
    "    # Get market capitalization of each long stock\n",
    "    mktcap = longs['SHROUT'] * longs['PRC']\n",
    "    # Calculate long weights by market captalization\n",
    "    longweights = mktcap / mktcap.sum()\n",
    "    # Assign weights for the group of long stocks\n",
    "    group.loc[group['long_stocks']==True, 'long_weight'] = longweights\n",
    "    group['long_weight'] = group['long_weight'].shift(1)\n",
    "    return group\n",
    "\n",
    "def short_weights(group):\n",
    "    # Select all stocks with short position from the group\n",
    "    shorts = group.loc[group['short_stocks'] == True]\n",
    "    # Get market capitalization of each long stock\n",
    "    mktcap = shorts['SHROUT'] * shorts['PRC']\n",
    "    # Calculate long weights by market captalization\n",
    "    shortweights = mktcap / mktcap.sum()\n",
    "    # Assign weights for the group of long stocks\n",
    "    group.loc[group['short_stocks']==True, 'short_weight'] = shortweights\n",
    "    return group\n",
    "\n",
    "def cal_return_vw(group):\n",
    "    # group=group[(group.RET<='65')]\n",
    "    group =  group[( group['RET'].apply(lambda x: str(x)[-1].isdigit()) )]\n",
    "    group['port_return_long_vw'] = pd.to_numeric(group['RET']) * pd.to_numeric(group['long_weight'])\n",
    "    longport = pd.pivot_table(group, values='port_return_long_vw', index='date', aggfunc=np.sum)\n",
    "\n",
    "    group['port_return_short_vw'] = pd.to_numeric(group['RET']) * pd.to_numeric(group['short_weight'])\n",
    "    shortport = pd.pivot_table(group, values='port_return_short_vw', index='date', aggfunc=np.sum)\n",
    "\n",
    "    data=pd.merge(longport, shortport, on='date')\n",
    "    # print(data)\n",
    "    data['longshort_eq'] = data['port_return_long_vw'] - data['port_return_short_vw']\n",
    "    return longport,shortport,data\n",
    "\n",
    "def cal_return_eq(group):\n",
    "    #Kobe Updated part, \n",
    "    longs = group.loc[group['long_stocks'] == True]\n",
    "    longs =  longs[( longs['RET'].apply(lambda x: str(x)[-1].isdigit()) )] # this function for filter out number\n",
    "    longs['RET'] = longs['RET'].astype('float64')\n",
    "    longport = longs.RET.groupby('date').mean() \n",
    "\n",
    "\n",
    "    shorts = group.loc[group['short_stocks'] == True]\n",
    "    shorts =  shorts[( shorts['RET'].apply(lambda x: str(x)[-1].isdigit()) )]\n",
    "    shorts['RET'] = shorts['RET'].astype('float64')\n",
    "    shortport = shorts.RET.groupby('date').mean()\n",
    "    \n",
    "    data=pd.merge(longport, shortport, on='date', suffixes=['_long', '_short'])\n",
    "    data['longshort_eq'] = data.RET_long  - data.RET_short\n",
    "    print(data)\n",
    "    # print(shortport)\n",
    "    # print(longshortport)\n",
    "    \n",
    "    return longport,shortport,data\n",
    "\n",
    "panel=long_weights(crsp_temp)\n",
    "panel=short_weights(panel)\n",
    "longport_vw,shortport_vw,longshortport_vw=cal_return_vw(panel)\n",
    "longport_eq,shortport_eq,longshortport_eq=cal_return_eq(crsp_temp)\n",
    "\n"
   ]
  },
  {
   "cell_type": "code",
   "execution_count": 23,
   "metadata": {},
   "outputs": [],
   "source": [
    "ff4=pd.read_csv('four_factor_monthly.csv',index_col='date')\n",
    "ff4.index = pd.to_datetime(ff4.index)"
   ]
  },
  {
   "cell_type": "code",
   "execution_count": 39,
   "metadata": {},
   "outputs": [
    {
     "output_type": "execute_result",
     "data": {
      "text/plain": [
       "              mkt_rf       smb       hml        rf       Mom       RET\n",
       "date                                                                  \n",
       "1927-04-30  0.005123  0.004924  0.004737  0.002503  0.041533  0.018177\n",
       "1927-05-31  0.053512  0.013014  0.047367  0.003004  0.035404  0.051929\n",
       "1927-06-30 -0.023892  0.003808 -0.015245  0.002503  0.020166 -0.020331\n",
       "1927-08-31  0.020027 -0.007575 -0.035480  0.002704  0.026867  0.011821\n",
       "1927-09-30  0.048230 -0.033924 -0.006663  0.002002  0.027053  0.035153\n",
       "...              ...       ...       ...       ...       ...       ...\n",
       "2011-06-30 -0.017457 -0.000473 -0.004444  0.000000  0.018392 -0.008909\n",
       "2011-08-31 -0.059974 -0.028293 -0.024706  0.000000 -0.002962 -0.060211\n",
       "2011-09-30 -0.075968 -0.034320 -0.015275  0.000000  0.023169 -0.085287\n",
       "2011-10-31  0.113669  0.032530  0.002067  0.000000 -0.048696  0.125390\n",
       "2011-11-30 -0.003229  0.000734 -0.002601  0.000000  0.047585  0.003480\n",
       "\n",
       "[744 rows x 6 columns]"
      ],
      "text/html": "<div>\n<style scoped>\n    .dataframe tbody tr th:only-of-type {\n        vertical-align: middle;\n    }\n\n    .dataframe tbody tr th {\n        vertical-align: top;\n    }\n\n    .dataframe thead th {\n        text-align: right;\n    }\n</style>\n<table border=\"1\" class=\"dataframe\">\n  <thead>\n    <tr style=\"text-align: right;\">\n      <th></th>\n      <th>mkt_rf</th>\n      <th>smb</th>\n      <th>hml</th>\n      <th>rf</th>\n      <th>Mom</th>\n      <th>RET</th>\n    </tr>\n    <tr>\n      <th>date</th>\n      <th></th>\n      <th></th>\n      <th></th>\n      <th></th>\n      <th></th>\n      <th></th>\n    </tr>\n  </thead>\n  <tbody>\n    <tr>\n      <th>1927-04-30</th>\n      <td>0.005123</td>\n      <td>0.004924</td>\n      <td>0.004737</td>\n      <td>0.002503</td>\n      <td>0.041533</td>\n      <td>0.018177</td>\n    </tr>\n    <tr>\n      <th>1927-05-31</th>\n      <td>0.053512</td>\n      <td>0.013014</td>\n      <td>0.047367</td>\n      <td>0.003004</td>\n      <td>0.035404</td>\n      <td>0.051929</td>\n    </tr>\n    <tr>\n      <th>1927-06-30</th>\n      <td>-0.023892</td>\n      <td>0.003808</td>\n      <td>-0.015245</td>\n      <td>0.002503</td>\n      <td>0.020166</td>\n      <td>-0.020331</td>\n    </tr>\n    <tr>\n      <th>1927-08-31</th>\n      <td>0.020027</td>\n      <td>-0.007575</td>\n      <td>-0.035480</td>\n      <td>0.002704</td>\n      <td>0.026867</td>\n      <td>0.011821</td>\n    </tr>\n    <tr>\n      <th>1927-09-30</th>\n      <td>0.048230</td>\n      <td>-0.033924</td>\n      <td>-0.006663</td>\n      <td>0.002002</td>\n      <td>0.027053</td>\n      <td>0.035153</td>\n    </tr>\n    <tr>\n      <th>...</th>\n      <td>...</td>\n      <td>...</td>\n      <td>...</td>\n      <td>...</td>\n      <td>...</td>\n      <td>...</td>\n    </tr>\n    <tr>\n      <th>2011-06-30</th>\n      <td>-0.017457</td>\n      <td>-0.000473</td>\n      <td>-0.004444</td>\n      <td>0.000000</td>\n      <td>0.018392</td>\n      <td>-0.008909</td>\n    </tr>\n    <tr>\n      <th>2011-08-31</th>\n      <td>-0.059974</td>\n      <td>-0.028293</td>\n      <td>-0.024706</td>\n      <td>0.000000</td>\n      <td>-0.002962</td>\n      <td>-0.060211</td>\n    </tr>\n    <tr>\n      <th>2011-09-30</th>\n      <td>-0.075968</td>\n      <td>-0.034320</td>\n      <td>-0.015275</td>\n      <td>0.000000</td>\n      <td>0.023169</td>\n      <td>-0.085287</td>\n    </tr>\n    <tr>\n      <th>2011-10-31</th>\n      <td>0.113669</td>\n      <td>0.032530</td>\n      <td>0.002067</td>\n      <td>0.000000</td>\n      <td>-0.048696</td>\n      <td>0.125390</td>\n    </tr>\n    <tr>\n      <th>2011-11-30</th>\n      <td>-0.003229</td>\n      <td>0.000734</td>\n      <td>-0.002601</td>\n      <td>0.000000</td>\n      <td>0.047585</td>\n      <td>0.003480</td>\n    </tr>\n  </tbody>\n</table>\n<p>744 rows × 6 columns</p>\n</div>"
     },
     "metadata": {},
     "execution_count": 39
    }
   ],
   "source": [
    "pd.merge(ff4, longport_eq, on='date')"
   ]
  },
  {
   "cell_type": "code",
   "execution_count": 38,
   "metadata": {},
   "outputs": [
    {
     "output_type": "execute_result",
     "data": {
      "text/plain": [
       "<class 'statsmodels.iolib.summary.Summary'>\n",
       "\"\"\"\n",
       "                            OLS Regression Results                            \n",
       "==============================================================================\n",
       "Dep. Variable:                    RET   R-squared:                       0.930\n",
       "Model:                            OLS   Adj. R-squared:                  0.930\n",
       "Method:                 Least Squares   F-statistic:                     2463.\n",
       "Date:                Sat, 29 May 2021   Prob (F-statistic):               0.00\n",
       "Time:                        23:08:06   Log-Likelihood:                 2064.2\n",
       "No. Observations:                 744   AIC:                            -4118.\n",
       "Df Residuals:                     739   BIC:                            -4095.\n",
       "Df Model:                           4                                         \n",
       "Covariance Type:            nonrobust                                         \n",
       "==============================================================================\n",
       "                 coef    std err          t      P>|t|      [0.025      0.975]\n",
       "------------------------------------------------------------------------------\n",
       "Intercept      0.0050      0.001      8.844      0.000       0.004       0.006\n",
       "hml            0.1746      0.017     10.257      0.000       0.141       0.208\n",
       "mkt_rf         0.8684      0.011     75.592      0.000       0.846       0.891\n",
       "smb            0.2871      0.018     15.826      0.000       0.251       0.323\n",
       "Mom           -0.0685      0.013     -5.320      0.000      -0.094      -0.043\n",
       "==============================================================================\n",
       "Omnibus:                      245.721   Durbin-Watson:                   1.797\n",
       "Prob(Omnibus):                  0.000   Jarque-Bera (JB):             4529.961\n",
       "Skew:                          -0.994   Prob(JB):                         0.00\n",
       "Kurtosis:                      14.924   Cond. No.                         33.9\n",
       "==============================================================================\n",
       "\n",
       "Notes:\n",
       "[1] Standard Errors assume that the covariance matrix of the errors is correctly specified.\n",
       "\"\"\""
      ],
      "text/html": "<table class=\"simpletable\">\n<caption>OLS Regression Results</caption>\n<tr>\n  <th>Dep. Variable:</th>           <td>RET</td>       <th>  R-squared:         </th> <td>   0.930</td>\n</tr>\n<tr>\n  <th>Model:</th>                   <td>OLS</td>       <th>  Adj. R-squared:    </th> <td>   0.930</td>\n</tr>\n<tr>\n  <th>Method:</th>             <td>Least Squares</td>  <th>  F-statistic:       </th> <td>   2463.</td>\n</tr>\n<tr>\n  <th>Date:</th>             <td>Sat, 29 May 2021</td> <th>  Prob (F-statistic):</th>  <td>  0.00</td> \n</tr>\n<tr>\n  <th>Time:</th>                 <td>23:08:06</td>     <th>  Log-Likelihood:    </th> <td>  2064.2</td>\n</tr>\n<tr>\n  <th>No. Observations:</th>      <td>   744</td>      <th>  AIC:               </th> <td>  -4118.</td>\n</tr>\n<tr>\n  <th>Df Residuals:</th>          <td>   739</td>      <th>  BIC:               </th> <td>  -4095.</td>\n</tr>\n<tr>\n  <th>Df Model:</th>              <td>     4</td>      <th>                     </th>     <td> </td>   \n</tr>\n<tr>\n  <th>Covariance Type:</th>      <td>nonrobust</td>    <th>                     </th>     <td> </td>   \n</tr>\n</table>\n<table class=\"simpletable\">\n<tr>\n      <td></td>         <th>coef</th>     <th>std err</th>      <th>t</th>      <th>P>|t|</th>  <th>[0.025</th>    <th>0.975]</th>  \n</tr>\n<tr>\n  <th>Intercept</th> <td>    0.0050</td> <td>    0.001</td> <td>    8.844</td> <td> 0.000</td> <td>    0.004</td> <td>    0.006</td>\n</tr>\n<tr>\n  <th>hml</th>       <td>    0.1746</td> <td>    0.017</td> <td>   10.257</td> <td> 0.000</td> <td>    0.141</td> <td>    0.208</td>\n</tr>\n<tr>\n  <th>mkt_rf</th>    <td>    0.8684</td> <td>    0.011</td> <td>   75.592</td> <td> 0.000</td> <td>    0.846</td> <td>    0.891</td>\n</tr>\n<tr>\n  <th>smb</th>       <td>    0.2871</td> <td>    0.018</td> <td>   15.826</td> <td> 0.000</td> <td>    0.251</td> <td>    0.323</td>\n</tr>\n<tr>\n  <th>Mom</th>       <td>   -0.0685</td> <td>    0.013</td> <td>   -5.320</td> <td> 0.000</td> <td>   -0.094</td> <td>   -0.043</td>\n</tr>\n</table>\n<table class=\"simpletable\">\n<tr>\n  <th>Omnibus:</th>       <td>245.721</td> <th>  Durbin-Watson:     </th> <td>   1.797</td>\n</tr>\n<tr>\n  <th>Prob(Omnibus):</th> <td> 0.000</td>  <th>  Jarque-Bera (JB):  </th> <td>4529.961</td>\n</tr>\n<tr>\n  <th>Skew:</th>          <td>-0.994</td>  <th>  Prob(JB):          </th> <td>    0.00</td>\n</tr>\n<tr>\n  <th>Kurtosis:</th>      <td>14.924</td>  <th>  Cond. No.          </th> <td>    33.9</td>\n</tr>\n</table><br/><br/>Notes:<br/>[1] Standard Errors assume that the covariance matrix of the errors is correctly specified."
     },
     "metadata": {},
     "execution_count": 38
    }
   ],
   "source": [
    "# equal_weighted_long\n",
    "# data=pd.merge(ff4, longport_eq, on='date')\n",
    "\n",
    "(\n",
    "    smf.ols('RET ~ 1 + hml + mkt_rf + smb + Mom', data=pd.merge(ff4, longport_eq, on='date'))\n",
    "    .fit().summary()\n",
    ")\n",
    "\n",
    "# equal_weighted_short\n",
    "# (\n",
    "#     smf.ols('port_return_short_eq ~ 1 + hml + mkt_rf + smb + Mom', data=pd.merge(ff4, shortport_eq, on='date'))\n",
    "#     .fit().summary()\n",
    "# )\n",
    "# equal_weighted_diff\n",
    "# (\n",
    "#     smf.ols('longshort_eq ~ 1 + hml + mkt_rf + smb + Mom', data=pd.merge(ff4, longshortport_eq, on='date'))\n",
    "#     .fit().summary()\n",
    "# )"
   ]
  },
  {
   "cell_type": "code",
   "execution_count": 25,
   "metadata": {},
   "outputs": [
    {
     "output_type": "execute_result",
     "data": {
      "text/plain": [
       "<class 'statsmodels.iolib.summary.Summary'>\n",
       "\"\"\"\n",
       "                             OLS Regression Results                            \n",
       "===============================================================================\n",
       "Dep. Variable:     port_return_long_vw   R-squared:                       0.226\n",
       "Model:                             OLS   Adj. R-squared:                  0.222\n",
       "Method:                  Least Squares   F-statistic:                     54.22\n",
       "Date:                 Sat, 29 May 2021   Prob (F-statistic):           4.12e-40\n",
       "Time:                         22:48:50   Log-Likelihood:                 6155.6\n",
       "No. Observations:                  747   AIC:                        -1.230e+04\n",
       "Df Residuals:                      742   BIC:                        -1.228e+04\n",
       "Df Model:                            4                                         \n",
       "Covariance Type:             nonrobust                                         \n",
       "==============================================================================\n",
       "                 coef    std err          t      P>|t|      [0.025      0.975]\n",
       "------------------------------------------------------------------------------\n",
       "Intercept   5.488e-06   2.41e-06      2.281      0.023    7.66e-07    1.02e-05\n",
       "hml           -0.0003   7.18e-05     -3.915      0.000      -0.000      -0.000\n",
       "mkt_rf         0.0006   4.86e-05     13.328      0.000       0.001       0.001\n",
       "smb           -0.0003   7.67e-05     -4.327      0.000      -0.000      -0.000\n",
       "Mom           -0.0001   5.44e-05     -2.389      0.017      -0.000   -2.32e-05\n",
       "==============================================================================\n",
       "Omnibus:                      274.485   Durbin-Watson:                   1.753\n",
       "Prob(Omnibus):                  0.000   Jarque-Bera (JB):             7650.527\n",
       "Skew:                          -1.037   Prob(JB):                         0.00\n",
       "Kurtosis:                      18.540   Cond. No.                         34.0\n",
       "==============================================================================\n",
       "\n",
       "Notes:\n",
       "[1] Standard Errors assume that the covariance matrix of the errors is correctly specified.\n",
       "\"\"\""
      ],
      "text/html": "<table class=\"simpletable\">\n<caption>OLS Regression Results</caption>\n<tr>\n  <th>Dep. Variable:</th>    <td>port_return_long_vw</td> <th>  R-squared:         </th>  <td>   0.226</td> \n</tr>\n<tr>\n  <th>Model:</th>                    <td>OLS</td>         <th>  Adj. R-squared:    </th>  <td>   0.222</td> \n</tr>\n<tr>\n  <th>Method:</th>              <td>Least Squares</td>    <th>  F-statistic:       </th>  <td>   54.22</td> \n</tr>\n<tr>\n  <th>Date:</th>              <td>Sat, 29 May 2021</td>   <th>  Prob (F-statistic):</th>  <td>4.12e-40</td> \n</tr>\n<tr>\n  <th>Time:</th>                  <td>22:48:50</td>       <th>  Log-Likelihood:    </th>  <td>  6155.6</td> \n</tr>\n<tr>\n  <th>No. Observations:</th>       <td>   747</td>        <th>  AIC:               </th> <td>-1.230e+04</td>\n</tr>\n<tr>\n  <th>Df Residuals:</th>           <td>   742</td>        <th>  BIC:               </th> <td>-1.228e+04</td>\n</tr>\n<tr>\n  <th>Df Model:</th>               <td>     4</td>        <th>                     </th>      <td> </td>    \n</tr>\n<tr>\n  <th>Covariance Type:</th>       <td>nonrobust</td>      <th>                     </th>      <td> </td>    \n</tr>\n</table>\n<table class=\"simpletable\">\n<tr>\n      <td></td>         <th>coef</th>     <th>std err</th>      <th>t</th>      <th>P>|t|</th>  <th>[0.025</th>    <th>0.975]</th>  \n</tr>\n<tr>\n  <th>Intercept</th> <td> 5.488e-06</td> <td> 2.41e-06</td> <td>    2.281</td> <td> 0.023</td> <td> 7.66e-07</td> <td> 1.02e-05</td>\n</tr>\n<tr>\n  <th>hml</th>       <td>   -0.0003</td> <td> 7.18e-05</td> <td>   -3.915</td> <td> 0.000</td> <td>   -0.000</td> <td>   -0.000</td>\n</tr>\n<tr>\n  <th>mkt_rf</th>    <td>    0.0006</td> <td> 4.86e-05</td> <td>   13.328</td> <td> 0.000</td> <td>    0.001</td> <td>    0.001</td>\n</tr>\n<tr>\n  <th>smb</th>       <td>   -0.0003</td> <td> 7.67e-05</td> <td>   -4.327</td> <td> 0.000</td> <td>   -0.000</td> <td>   -0.000</td>\n</tr>\n<tr>\n  <th>Mom</th>       <td>   -0.0001</td> <td> 5.44e-05</td> <td>   -2.389</td> <td> 0.017</td> <td>   -0.000</td> <td>-2.32e-05</td>\n</tr>\n</table>\n<table class=\"simpletable\">\n<tr>\n  <th>Omnibus:</th>       <td>274.485</td> <th>  Durbin-Watson:     </th> <td>   1.753</td>\n</tr>\n<tr>\n  <th>Prob(Omnibus):</th> <td> 0.000</td>  <th>  Jarque-Bera (JB):  </th> <td>7650.527</td>\n</tr>\n<tr>\n  <th>Skew:</th>          <td>-1.037</td>  <th>  Prob(JB):          </th> <td>    0.00</td>\n</tr>\n<tr>\n  <th>Kurtosis:</th>      <td>18.540</td>  <th>  Cond. No.          </th> <td>    34.0</td>\n</tr>\n</table><br/><br/>Notes:<br/>[1] Standard Errors assume that the covariance matrix of the errors is correctly specified."
     },
     "metadata": {},
     "execution_count": 25
    }
   ],
   "source": [
    "# value_weighted_long\n",
    "data=pd.merge(ff4, longport_eq, on='date')\n",
    "\n",
    "(\n",
    "    smf.ols('port_return_long_vw ~ 1 + hml + mkt_rf + smb + Mom', data=pd.merge(ff4, longport_vw, on='date'))\n",
    "    .fit().summary()\n",
    ")\n",
    "\n",
    "# value_weighted_short\n",
    "# (\n",
    "#     smf.ols('port_return_short_vw ~ 1 + hml + mkt_rf + smb + Mom', data=pd.merge(ff4, shortport_vw, on='date'))\n",
    "#     .fit().summary()\n",
    "# )\n",
    "# value_weighted_diff\n",
    "# (\n",
    "#     smf.ols('longshort_eq ~ 1 + hml + mkt_rf + smb + Mom', data=pd.merge(ff4, longshortport_vw, on='date'))\n",
    "#     .fit().summary()\n",
    "# )"
   ]
  },
  {
   "cell_type": "code",
   "execution_count": 160,
   "metadata": {},
   "outputs": [
    {
     "output_type": "execute_result",
     "data": {
      "text/plain": [
       "<class 'statsmodels.iolib.summary.Summary'>\n",
       "\"\"\"\n",
       "                             OLS Regression Results                            \n",
       "===============================================================================\n",
       "Dep. Variable:     port_return_long_eq   R-squared:                       0.000\n",
       "Model:                             OLS   Adj. R-squared:                 -0.001\n",
       "Method:                  Least Squares   F-statistic:                   0.04730\n",
       "Date:                 Sat, 29 May 2021   Prob (F-statistic):              0.828\n",
       "Time:                         01:24:25   Log-Likelihood:                -2844.0\n",
       "No. Observations:                  744   AIC:                             5692.\n",
       "Df Residuals:                      742   BIC:                             5701.\n",
       "Df Model:                            1                                         \n",
       "Covariance Type:             nonrobust                                         \n",
       "==============================================================================\n",
       "                 coef    std err          t      P>|t|      [0.025      0.975]\n",
       "------------------------------------------------------------------------------\n",
       "Intercept     15.6335      0.408     38.324      0.000      14.833      16.434\n",
       "mkt_rf        -1.6002      7.358     -0.217      0.828     -16.045      12.845\n",
       "==============================================================================\n",
       "Omnibus:                     4247.691   Durbin-Watson:                   0.001\n",
       "Prob(Omnibus):                  0.000   Jarque-Bera (JB):               59.673\n",
       "Skew:                           0.156   Prob(JB):                     1.10e-13\n",
       "Kurtosis:                       1.648   Cond. No.                         18.1\n",
       "==============================================================================\n",
       "\n",
       "Notes:\n",
       "[1] Standard Errors assume that the covariance matrix of the errors is correctly specified.\n",
       "\"\"\""
      ],
      "text/html": "<table class=\"simpletable\">\n<caption>OLS Regression Results</caption>\n<tr>\n  <th>Dep. Variable:</th>    <td>port_return_long_eq</td> <th>  R-squared:         </th> <td>   0.000</td>\n</tr>\n<tr>\n  <th>Model:</th>                    <td>OLS</td>         <th>  Adj. R-squared:    </th> <td>  -0.001</td>\n</tr>\n<tr>\n  <th>Method:</th>              <td>Least Squares</td>    <th>  F-statistic:       </th> <td> 0.04730</td>\n</tr>\n<tr>\n  <th>Date:</th>              <td>Sat, 29 May 2021</td>   <th>  Prob (F-statistic):</th>  <td> 0.828</td> \n</tr>\n<tr>\n  <th>Time:</th>                  <td>01:24:25</td>       <th>  Log-Likelihood:    </th> <td> -2844.0</td>\n</tr>\n<tr>\n  <th>No. Observations:</th>       <td>   744</td>        <th>  AIC:               </th> <td>   5692.</td>\n</tr>\n<tr>\n  <th>Df Residuals:</th>           <td>   742</td>        <th>  BIC:               </th> <td>   5701.</td>\n</tr>\n<tr>\n  <th>Df Model:</th>               <td>     1</td>        <th>                     </th>     <td> </td>   \n</tr>\n<tr>\n  <th>Covariance Type:</th>       <td>nonrobust</td>      <th>                     </th>     <td> </td>   \n</tr>\n</table>\n<table class=\"simpletable\">\n<tr>\n      <td></td>         <th>coef</th>     <th>std err</th>      <th>t</th>      <th>P>|t|</th>  <th>[0.025</th>    <th>0.975]</th>  \n</tr>\n<tr>\n  <th>Intercept</th> <td>   15.6335</td> <td>    0.408</td> <td>   38.324</td> <td> 0.000</td> <td>   14.833</td> <td>   16.434</td>\n</tr>\n<tr>\n  <th>mkt_rf</th>    <td>   -1.6002</td> <td>    7.358</td> <td>   -0.217</td> <td> 0.828</td> <td>  -16.045</td> <td>   12.845</td>\n</tr>\n</table>\n<table class=\"simpletable\">\n<tr>\n  <th>Omnibus:</th>       <td>4247.691</td> <th>  Durbin-Watson:     </th> <td>   0.001</td>\n</tr>\n<tr>\n  <th>Prob(Omnibus):</th>  <td> 0.000</td>  <th>  Jarque-Bera (JB):  </th> <td>  59.673</td>\n</tr>\n<tr>\n  <th>Skew:</th>           <td> 0.156</td>  <th>  Prob(JB):          </th> <td>1.10e-13</td>\n</tr>\n<tr>\n  <th>Kurtosis:</th>       <td> 1.648</td>  <th>  Cond. No.          </th> <td>    18.1</td>\n</tr>\n</table><br/><br/>Notes:<br/>[1] Standard Errors assume that the covariance matrix of the errors is correctly specified."
     },
     "metadata": {},
     "execution_count": 160
    }
   ],
   "source": [
    "# panel B do one strategies 1 & 2 \n",
    "# CAPM Alpha\n",
    "(\n",
    "    smf.ols('port_return_long_eq ~ 1 + mkt_rf', data=pd.merge(ff4, longport_eq, on='date'))\n",
    "    .fit().summary()\n",
    ")\n",
    "\n"
   ]
  },
  {
   "cell_type": "code",
   "execution_count": 161,
   "metadata": {},
   "outputs": [
    {
     "output_type": "execute_result",
     "data": {
      "text/plain": [
       "<class 'statsmodels.iolib.summary.Summary'>\n",
       "\"\"\"\n",
       "                             OLS Regression Results                             \n",
       "================================================================================\n",
       "Dep. Variable:     port_return_short_eq   R-squared:                       0.003\n",
       "Model:                              OLS   Adj. R-squared:                 -0.001\n",
       "Method:                   Least Squares   F-statistic:                    0.7856\n",
       "Date:                  Sat, 29 May 2021   Prob (F-statistic):              0.502\n",
       "Time:                          01:24:25   Log-Likelihood:                -1279.6\n",
       "No. Observations:                   746   AIC:                             2567.\n",
       "Df Residuals:                       742   BIC:                             2586.\n",
       "Df Model:                             3                                         \n",
       "Covariance Type:              nonrobust                                         \n",
       "==============================================================================\n",
       "                 coef    std err          t      P>|t|      [0.025      0.975]\n",
       "------------------------------------------------------------------------------\n",
       "Intercept      1.4448      0.050     29.048      0.000       1.347       1.542\n",
       "hml            1.1131      1.482      0.751      0.453      -1.796       4.022\n",
       "mkt_rf        -0.5628      0.986     -0.571      0.568      -2.499       1.373\n",
       "smb           -1.6585      1.614     -1.027      0.305      -4.828       1.511\n",
       "==============================================================================\n",
       "Omnibus:                      109.431   Durbin-Watson:                   0.029\n",
       "Prob(Omnibus):                  0.000   Jarque-Bera (JB):              156.886\n",
       "Skew:                           1.102   Prob(JB):                     8.56e-35\n",
       "Kurtosis:                       3.440   Cond. No.                         33.9\n",
       "==============================================================================\n",
       "\n",
       "Notes:\n",
       "[1] Standard Errors assume that the covariance matrix of the errors is correctly specified.\n",
       "\"\"\""
      ],
      "text/html": "<table class=\"simpletable\">\n<caption>OLS Regression Results</caption>\n<tr>\n  <th>Dep. Variable:</th>    <td>port_return_short_eq</td> <th>  R-squared:         </th> <td>   0.003</td>\n</tr>\n<tr>\n  <th>Model:</th>                     <td>OLS</td>         <th>  Adj. R-squared:    </th> <td>  -0.001</td>\n</tr>\n<tr>\n  <th>Method:</th>               <td>Least Squares</td>    <th>  F-statistic:       </th> <td>  0.7856</td>\n</tr>\n<tr>\n  <th>Date:</th>               <td>Sat, 29 May 2021</td>   <th>  Prob (F-statistic):</th>  <td> 0.502</td> \n</tr>\n<tr>\n  <th>Time:</th>                   <td>01:24:25</td>       <th>  Log-Likelihood:    </th> <td> -1279.6</td>\n</tr>\n<tr>\n  <th>No. Observations:</th>        <td>   746</td>        <th>  AIC:               </th> <td>   2567.</td>\n</tr>\n<tr>\n  <th>Df Residuals:</th>            <td>   742</td>        <th>  BIC:               </th> <td>   2586.</td>\n</tr>\n<tr>\n  <th>Df Model:</th>                <td>     3</td>        <th>                     </th>     <td> </td>   \n</tr>\n<tr>\n  <th>Covariance Type:</th>        <td>nonrobust</td>      <th>                     </th>     <td> </td>   \n</tr>\n</table>\n<table class=\"simpletable\">\n<tr>\n      <td></td>         <th>coef</th>     <th>std err</th>      <th>t</th>      <th>P>|t|</th>  <th>[0.025</th>    <th>0.975]</th>  \n</tr>\n<tr>\n  <th>Intercept</th> <td>    1.4448</td> <td>    0.050</td> <td>   29.048</td> <td> 0.000</td> <td>    1.347</td> <td>    1.542</td>\n</tr>\n<tr>\n  <th>hml</th>       <td>    1.1131</td> <td>    1.482</td> <td>    0.751</td> <td> 0.453</td> <td>   -1.796</td> <td>    4.022</td>\n</tr>\n<tr>\n  <th>mkt_rf</th>    <td>   -0.5628</td> <td>    0.986</td> <td>   -0.571</td> <td> 0.568</td> <td>   -2.499</td> <td>    1.373</td>\n</tr>\n<tr>\n  <th>smb</th>       <td>   -1.6585</td> <td>    1.614</td> <td>   -1.027</td> <td> 0.305</td> <td>   -4.828</td> <td>    1.511</td>\n</tr>\n</table>\n<table class=\"simpletable\">\n<tr>\n  <th>Omnibus:</th>       <td>109.431</td> <th>  Durbin-Watson:     </th> <td>   0.029</td>\n</tr>\n<tr>\n  <th>Prob(Omnibus):</th> <td> 0.000</td>  <th>  Jarque-Bera (JB):  </th> <td> 156.886</td>\n</tr>\n<tr>\n  <th>Skew:</th>          <td> 1.102</td>  <th>  Prob(JB):          </th> <td>8.56e-35</td>\n</tr>\n<tr>\n  <th>Kurtosis:</th>      <td> 3.440</td>  <th>  Cond. No.          </th> <td>    33.9</td>\n</tr>\n</table><br/><br/>Notes:<br/>[1] Standard Errors assume that the covariance matrix of the errors is correctly specified."
     },
     "metadata": {},
     "execution_count": 161
    }
   ],
   "source": [
    "# 3-factor Alpha\n",
    "(\n",
    "    smf.ols('port_return_short_eq ~ 1 + hml + mkt_rf + smb', data=pd.merge(ff4, shortport_eq, on='date'))\n",
    "    .fit().summary()\n",
    ")"
   ]
  }
 ]
}