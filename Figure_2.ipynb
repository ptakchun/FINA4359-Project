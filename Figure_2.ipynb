{
 "metadata": {
  "language_info": {
   "codemirror_mode": {
    "name": "ipython",
    "version": 3
   },
   "file_extension": ".py",
   "mimetype": "text/x-python",
   "name": "python",
   "nbconvert_exporter": "python",
   "pygments_lexer": "ipython3",
   "version": "3.7.10"
  },
  "orig_nbformat": 2,
  "kernelspec": {
   "name": "fina4359",
   "display_name": "Python 3.7.10 64-bit ('fina4359': conda)"
  }
 },
 "nbformat": 4,
 "nbformat_minor": 2,
 "cells": [
  {
   "cell_type": "code",
   "execution_count": 1,
   "metadata": {},
   "outputs": [],
   "source": [
    "import pandas as pd\n",
    "import numpy as np\n",
    "import matplotlib.pyplot as plt\n",
    "from pandas.tseries.offsets import MonthEnd\n",
    "# import statsmodels.api as sm\n",
    "from tqdm import tqdm\n",
    "# from multiprocessing.dummy import Pool\n",
    "import dask.dataframe as dd\n",
    "\n",
    "pd.set_option('display.max_rows', 500)\n",
    "pd.set_option('display.float_format', lambda x: '%.3f' % x)\n",
    "# pd.set_option('display.max_columns', 500)"
   ]
  },
  {
   "cell_type": "code",
   "execution_count": 2,
   "metadata": {},
   "outputs": [
    {
     "output_type": "stream",
     "name": "stderr",
     "text": [
      "819it [56:53,  4.17s/it]\n"
     ]
    }
   ],
   "source": [
    "#In[] 1,227,297,915 size, 7675it * 10000\n",
    "crsp_df = pd.read_csv(\"crsp_d.csv\",header=0,\n",
    "    parse_dates = ['date','DCLRDT','RCRDDT'],\n",
    "    dtype={\n",
    "        \"PERMNO\": str,\n",
    "        \"PRC\": np.float64,\n",
    "        \"VOL\": np.float64,\n",
    "        \"SHROUT\": np.float64,\n",
    "        \"DIVAMT\": np.float64,\n",
    "        \"SHRCD\":str,\n",
    "        \"DISTCD\":str,\n",
    "        \"COMNAM\": str,\n",
    "        \"TICKER\": str,\n",
    "        'CUSIP': str,\n",
    "        \"BID\": np.float64,\n",
    "        \"ASK\": np.float64}, chunksize=100000)\n",
    "#Data Preprocessing\n",
    "#In[]\n",
    "d = {}\n",
    "one = False\n",
    "def insert(i,x):\n",
    "    if str(x)[-1].isdigit() == False:\n",
    "        return\n",
    "    x = float(x)\n",
    "    if i not in d:\n",
    "        d[i] = [x]\n",
    "    else:\n",
    "        d[i].append(x)\n",
    "    return\n",
    "cache = []\n",
    "cache_ddate = set()\n",
    "for c in tqdm(crsp_df):\n",
    "    c = c[(c.SHRCD.isin(('10','11'))) ]\n",
    "    c = c.groupby(by=['CUSIP','date']).agg({\n",
    "          'DCLRDT': 'last',\n",
    "          'RCRDDT': 'last',\n",
    "          'DISTCD': 'last',\n",
    "          'DIVAMT': 'sum',\n",
    "          'RET':'last',\n",
    "          'RETX':'last',\n",
    "          'PRC': 'last'}).reset_index()\n",
    "    if not one:\n",
    "         cusip = c.head(1).reset_index().iloc[0].CUSIP\n",
    "         one = True\n",
    "    count = 0\n",
    "    # c['dt'] = 0\n",
    "    lastDivDate = None\n",
    "    for row in c.itertuples():\n",
    "        if row.CUSIP != cusip:\n",
    "            cusip = row.CUSIP\n",
    "            count = 0\n",
    "            lastDivDate = None\n",
    "            for row2 in cache:\n",
    "                if row2[0] in cache_ddate:\n",
    "                    count = 0\n",
    "                    insert(count, row2[1])\n",
    "                    cache_ddate.remove(row2[0])\n",
    "                    count += 1\n",
    "                    lastDivDate = True\n",
    "                elif lastDivDate is not None:\n",
    "                    insert(count, row2[1])\n",
    "                    count += 1\n",
    "            cache = list()\n",
    "            cache_ddate = set()\n",
    "        else:\n",
    "            cache.append((row.date, row.RET))\n",
    "            if pd.isna(row.RCRDDT) == False:\n",
    "                cache_ddate.add(row.RCRDDT)\n",
    "for row2 in cache:\n",
    "    if row2[0] in cache_ddate:\n",
    "        count = 0\n",
    "        insert(count, row2[1])\n",
    "        cache_ddate.remove(row2[0])\n",
    "        count += 1\n",
    "        lastDivDate = True\n",
    "    elif lastDivDate is not None:\n",
    "        insert(count, row2[1])\n",
    "        count += 1        "
   ]
  },
  {
   "cell_type": "code",
   "execution_count": 3,
   "metadata": {},
   "outputs": [
    {
     "output_type": "stream",
     "name": "stderr",
     "text": [
      "723it [09:45,  1.03it/s]/Users/ptakchun/.local/lib/python3.7/site-packages/IPython/core/interactiveshell.py:3357: DtypeWarning: Columns (10,14) have mixed types.Specify dtype option on import or set low_memory=False.\n",
      "  if (await self.run_code(code, result,  async_=asy)):\n",
      "819it [11:19,  1.21it/s]\n"
     ]
    }
   ],
   "source": [
    "#In[] 1,227,297,915 size, 7675it * 10000\n",
    "crsp_df = pd.read_csv(\"crsp_d_rev2.csv\",header=0,\n",
    "    parse_dates = ['date','DCLRDT','RCRDDT'],\n",
    "    dtype={\n",
    "        \"PERMNO\": str,\n",
    "        \"PRC\": np.float64,\n",
    "        \"VOL\": np.float64,\n",
    "        \"SHROUT\": np.float64,\n",
    "        \"DIVAMT\": np.float64,\n",
    "        \"SHRCD\":str,\n",
    "        \"DISTCD\":str,\n",
    "        \"COMNAM\": str,\n",
    "        \"TICKER\": str,\n",
    "        'CUSIP': str,\n",
    "        \"BID\": np.float64,\n",
    "        \"ASK\": np.float64}, chunksize=100000)\n",
    "#Data Preprocessing\n",
    "#In[]\n",
    "def insert(i,x):\n",
    "    if str(x)[-1].isdigit() == False:\n",
    "        return\n",
    "    x = float(x)\n",
    "    if i not in d:\n",
    "        d[i] = [x]\n",
    "    else:\n",
    "        d[i].append(x)\n",
    "    return\n",
    "one = False\n",
    "cache = []\n",
    "cache_ddate = set()\n",
    "for c in tqdm(crsp_df):\n",
    "    c = c[(c.SHRCD.isin(('10','11'))) ]\n",
    "    c = c.groupby(by=['CUSIP','date']).agg({\n",
    "          'DCLRDT': 'last',\n",
    "          'RCRDDT': 'last',\n",
    "          'DISTCD': 'last',\n",
    "          'DIVAMT': 'sum',\n",
    "          'RET':'last',\n",
    "          'RETX':'last',\n",
    "          'PRC': 'last'}).reset_index()\n",
    "    if not one:\n",
    "         cusip = c.head(1).reset_index().iloc[0].CUSIP\n",
    "         one = True\n",
    "    count = 0\n",
    "    # c['dt'] = 0\n",
    "    lastDivDate = None\n",
    "    for row in c.itertuples():\n",
    "        if row.CUSIP != cusip:\n",
    "            cusip = row.CUSIP\n",
    "            count = 0\n",
    "            lastDivDate = None\n",
    "            for row2 in cache:\n",
    "                if row2[0] in cache_ddate:\n",
    "                    count = 0\n",
    "                    # insert(count, row.RET)\n",
    "                    cache_ddate.remove(row2[0])\n",
    "                    count += 1\n",
    "                    lastDivDate = True\n",
    "                elif lastDivDate is not None:\n",
    "                    insert(count * -1, row2[1])\n",
    "                    count += 1\n",
    "            cache = list()\n",
    "            cache_ddate = set()\n",
    "        else:\n",
    "            cache.append((row.date, row.RET))\n",
    "            if pd.isna(row.RCRDDT) == False:\n",
    "                cache_ddate.add(row.RCRDDT)\n",
    "for row2 in cache:\n",
    "    if row2[0] in cache_ddate:\n",
    "        count = 0\n",
    "        # insert(count, row.RET)\n",
    "        cache_ddate.remove(row2[0])\n",
    "        count += 1\n",
    "        lastDivDate = True\n",
    "    elif lastDivDate is not None:\n",
    "        insert(count, row2[1])\n",
    "        count += 1        "
   ]
  },
  {
   "cell_type": "code",
   "execution_count": 4,
   "metadata": {},
   "outputs": [
    {
     "output_type": "stream",
     "name": "stdout",
     "text": [
      "[-0.42774218207921055, -0.42741019664098034, -0.42768367822271436, -0.4273916681582388, -0.42732621914869673, -0.4275908162353853, -0.42675096802975404, -0.4257428524765557, -0.4245914018691736, -0.42460679297872556, -0.424321999644417, -0.4243188620628586, -0.4239949828726817, -0.4225253289279741, -0.42161700032433225, -0.4210643065499981, -0.4205182776698003, -0.4210197839079225, -0.42149594184986927, -0.4212981350747267, -0.4208793049716407, -0.4208704403810093, -0.4208218692138256, -0.42067385862860385, -0.4206138493170925, -0.42056578383299825, -0.42041591956554875, -0.42067291856200756, -0.4206840399002614, -0.4208190995747297, -0.10212808641974977, -0.102274569127281, -0.10210489748772407, -0.10317327536398996, -0.1039935533273579, -0.10454333448953286, -0.10434361880529346, -0.10440710526315441, -0.10434212901359192, -0.10464085318206455, -0.1043505717511471, -0.10519181894529235, -0.10571436724996806, -0.10578679961737714, -0.10689726790219914, -0.10868443838319125, -0.1103235693754879, -0.11186191499869017, -0.12191209168387374, -0.13013275630937482, -0.13538131787924493, -0.1394064685774358, -0.1453932070064597, -0.14708556583337853, -0.15224404960858035, -0.15606339479710601, -0.15987788099717293, -0.16188385464174831, -0.16339204371390986, -0.16438243430559696, -0.16683279501638235, -0.1676019233610038, -0.16930681636637648, -0.1713118513033146, -0.16934361929657898, -0.17285676021546972, -0.17355800572689914, -0.17155298040975278, -0.17115373699717362, -0.17965639001882125, -0.18305036458492235, -0.18197857602401676, -0.1847618407668812, -0.186974753402426, -0.19636372918979703, -0.1992986693471268, -0.20414163459072035, -0.20695052132090455, -0.20830042625192208, -0.21168882478283446, -0.2167540900841557, -0.2184342730808986, -0.2170697787789223, -0.217999624957384, -0.2219205413627443, -0.22484939358988204, -0.2223631869688432, -0.2252233247748913, -0.21854321763003298, -0.2265577011763854, -0.23654740280691072]\n"
     ]
    }
   ],
   "source": [
    "x = range(-30, 61, 1)\n",
    "dlist = [ 100*sum(d[key])/len(d[key]) for key in x ]\n",
    "print(dlist)"
   ]
  },
  {
   "cell_type": "code",
   "execution_count": 5,
   "metadata": {},
   "outputs": [
    {
     "output_type": "display_data",
     "data": {
      "text/plain": "<Figure size 432x288 with 1 Axes>",
      "image/svg+xml": "<?xml version=\"1.0\" encoding=\"utf-8\" standalone=\"no\"?>\n<!DOCTYPE svg PUBLIC \"-//W3C//DTD SVG 1.1//EN\"\n  \"http://www.w3.org/Graphics/SVG/1.1/DTD/svg11.dtd\">\n<!-- Created with matplotlib (https://matplotlib.org/) -->\n<svg height=\"263.63625pt\" version=\"1.1\" viewBox=\"0 0 386.845312 263.63625\" width=\"386.845312pt\" xmlns=\"http://www.w3.org/2000/svg\" xmlns:xlink=\"http://www.w3.org/1999/xlink\">\n <metadata>\n  <rdf:RDF xmlns:cc=\"http://creativecommons.org/ns#\" xmlns:dc=\"http://purl.org/dc/elements/1.1/\" xmlns:rdf=\"http://www.w3.org/1999/02/22-rdf-syntax-ns#\">\n   <cc:Work>\n    <dc:type rdf:resource=\"http://purl.org/dc/dcmitype/StillImage\"/>\n    <dc:date>2021-05-28T13:14:35.724026</dc:date>\n    <dc:format>image/svg+xml</dc:format>\n    <dc:creator>\n     <cc:Agent>\n      <dc:title>Matplotlib v3.3.4, https://matplotlib.org/</dc:title>\n     </cc:Agent>\n    </dc:creator>\n   </cc:Work>\n  </rdf:RDF>\n </metadata>\n <defs>\n  <style type=\"text/css\">*{stroke-linecap:butt;stroke-linejoin:round;}</style>\n </defs>\n <g id=\"figure_1\">\n  <g id=\"patch_1\">\n   <path d=\"M 0 263.63625 \nL 386.845312 263.63625 \nL 386.845312 0 \nL 0 0 \nz\n\" style=\"fill:none;\"/>\n  </g>\n  <g id=\"axes_1\">\n   <g id=\"patch_2\">\n    <path d=\"M 44.845313 239.758125 \nL 379.645313 239.758125 \nL 379.645313 22.318125 \nL 44.845313 22.318125 \nz\n\" style=\"fill:#ffffff;\"/>\n   </g>\n   <g id=\"patch_3\">\n    <path clip-path=\"url(#p8417d0f468)\" d=\"M 60.063494 22.318125 \nL 62.745112 22.318125 \nL 62.745112 229.403839 \nL 60.063494 229.403839 \nz\n\" style=\"fill:#1f77b4;\"/>\n   </g>\n   <g id=\"patch_4\">\n    <path clip-path=\"url(#p8417d0f468)\" d=\"M 63.415517 22.318125 \nL 66.097135 22.318125 \nL 66.097135 229.243113 \nL 63.415517 229.243113 \nz\n\" style=\"fill:#1f77b4;\"/>\n   </g>\n   <g id=\"patch_5\">\n    <path clip-path=\"url(#p8417d0f468)\" d=\"M 66.767539 22.318125 \nL 69.449157 22.318125 \nL 69.449157 229.375515 \nL 66.767539 229.375515 \nz\n\" style=\"fill:#1f77b4;\"/>\n   </g>\n   <g id=\"patch_6\">\n    <path clip-path=\"url(#p8417d0f468)\" d=\"M 70.119562 22.318125 \nL 72.80118 22.318125 \nL 72.80118 229.234143 \nL 70.119562 229.234143 \nz\n\" style=\"fill:#1f77b4;\"/>\n   </g>\n   <g id=\"patch_7\">\n    <path clip-path=\"url(#p8417d0f468)\" d=\"M 73.471584 22.318125 \nL 76.153202 22.318125 \nL 76.153202 229.202456 \nL 73.471584 229.202456 \nz\n\" style=\"fill:#1f77b4;\"/>\n   </g>\n   <g id=\"patch_8\">\n    <path clip-path=\"url(#p8417d0f468)\" d=\"M 76.823606 22.318125 \nL 79.505224 22.318125 \nL 79.505224 229.330558 \nL 76.823606 229.330558 \nz\n\" style=\"fill:#1f77b4;\"/>\n   </g>\n   <g id=\"patch_9\">\n    <path clip-path=\"url(#p8417d0f468)\" d=\"M 80.175629 22.318125 \nL 82.857247 22.318125 \nL 82.857247 228.923956 \nL 80.175629 228.923956 \nz\n\" style=\"fill:#1f77b4;\"/>\n   </g>\n   <g id=\"patch_10\">\n    <path clip-path=\"url(#p8417d0f468)\" d=\"M 83.527651 22.318125 \nL 86.209269 22.318125 \nL 86.209269 228.43589 \nL 83.527651 228.43589 \nz\n\" style=\"fill:#1f77b4;\"/>\n   </g>\n   <g id=\"patch_11\">\n    <path clip-path=\"url(#p8417d0f468)\" d=\"M 86.879674 22.318125 \nL 89.561292 22.318125 \nL 89.561292 227.878431 \nL 86.879674 227.878431 \nz\n\" style=\"fill:#1f77b4;\"/>\n   </g>\n   <g id=\"patch_12\">\n    <path clip-path=\"url(#p8417d0f468)\" d=\"M 90.231696 22.318125 \nL 92.913314 22.318125 \nL 92.913314 227.885882 \nL 90.231696 227.885882 \nz\n\" style=\"fill:#1f77b4;\"/>\n   </g>\n   <g id=\"patch_13\">\n    <path clip-path=\"url(#p8417d0f468)\" d=\"M 93.583719 22.318125 \nL 96.265337 22.318125 \nL 96.265337 227.748003 \nL 93.583719 227.748003 \nz\n\" style=\"fill:#1f77b4;\"/>\n   </g>\n   <g id=\"patch_14\">\n    <path clip-path=\"url(#p8417d0f468)\" d=\"M 96.935741 22.318125 \nL 99.617359 22.318125 \nL 99.617359 227.746484 \nL 96.935741 227.746484 \nz\n\" style=\"fill:#1f77b4;\"/>\n   </g>\n   <g id=\"patch_15\">\n    <path clip-path=\"url(#p8417d0f468)\" d=\"M 100.287763 22.318125 \nL 102.969381 22.318125 \nL 102.969381 227.589682 \nL 100.287763 227.589682 \nz\n\" style=\"fill:#1f77b4;\"/>\n   </g>\n   <g id=\"patch_16\">\n    <path clip-path=\"url(#p8417d0f468)\" d=\"M 103.639786 22.318125 \nL 106.321404 22.318125 \nL 106.321404 226.878169 \nL 103.639786 226.878169 \nz\n\" style=\"fill:#1f77b4;\"/>\n   </g>\n   <g id=\"patch_17\">\n    <path clip-path=\"url(#p8417d0f468)\" d=\"M 106.991808 22.318125 \nL 109.673426 22.318125 \nL 109.673426 226.438414 \nL 106.991808 226.438414 \nz\n\" style=\"fill:#1f77b4;\"/>\n   </g>\n   <g id=\"patch_18\">\n    <path clip-path=\"url(#p8417d0f468)\" d=\"M 110.343831 22.318125 \nL 113.025449 22.318125 \nL 113.025449 226.170834 \nL 110.343831 226.170834 \nz\n\" style=\"fill:#1f77b4;\"/>\n   </g>\n   <g id=\"patch_19\">\n    <path clip-path=\"url(#p8417d0f468)\" d=\"M 113.695853 22.318125 \nL 116.377471 22.318125 \nL 116.377471 225.906482 \nL 113.695853 225.906482 \nz\n\" style=\"fill:#1f77b4;\"/>\n   </g>\n   <g id=\"patch_20\">\n    <path clip-path=\"url(#p8417d0f468)\" d=\"M 117.047876 22.318125 \nL 119.729494 22.318125 \nL 119.729494 226.149279 \nL 117.047876 226.149279 \nz\n\" style=\"fill:#1f77b4;\"/>\n   </g>\n   <g id=\"patch_21\">\n    <path clip-path=\"url(#p8417d0f468)\" d=\"M 120.399898 22.318125 \nL 123.081516 22.318125 \nL 123.081516 226.379805 \nL 120.399898 226.379805 \nz\n\" style=\"fill:#1f77b4;\"/>\n   </g>\n   <g id=\"patch_22\">\n    <path clip-path=\"url(#p8417d0f468)\" d=\"M 123.75192 22.318125 \nL 126.433538 22.318125 \nL 126.433538 226.284039 \nL 123.75192 226.284039 \nz\n\" style=\"fill:#1f77b4;\"/>\n   </g>\n   <g id=\"patch_23\">\n    <path clip-path=\"url(#p8417d0f468)\" d=\"M 127.103943 22.318125 \nL 129.785561 22.318125 \nL 129.785561 226.081268 \nL 127.103943 226.081268 \nz\n\" style=\"fill:#1f77b4;\"/>\n   </g>\n   <g id=\"patch_24\">\n    <path clip-path=\"url(#p8417d0f468)\" d=\"M 130.455965 22.318125 \nL 133.137583 22.318125 \nL 133.137583 226.076977 \nL 130.455965 226.076977 \nz\n\" style=\"fill:#1f77b4;\"/>\n   </g>\n   <g id=\"patch_25\">\n    <path clip-path=\"url(#p8417d0f468)\" d=\"M 133.807988 22.318125 \nL 136.489606 22.318125 \nL 136.489606 226.053461 \nL 133.807988 226.053461 \nz\n\" style=\"fill:#1f77b4;\"/>\n   </g>\n   <g id=\"patch_26\">\n    <path clip-path=\"url(#p8417d0f468)\" d=\"M 137.16001 22.318125 \nL 139.841628 22.318125 \nL 139.841628 225.981804 \nL 137.16001 225.981804 \nz\n\" style=\"fill:#1f77b4;\"/>\n   </g>\n   <g id=\"patch_27\">\n    <path clip-path=\"url(#p8417d0f468)\" d=\"M 140.512033 22.318125 \nL 143.193651 22.318125 \nL 143.193651 225.952751 \nL 140.512033 225.952751 \nz\n\" style=\"fill:#1f77b4;\"/>\n   </g>\n   <g id=\"patch_28\">\n    <path clip-path=\"url(#p8417d0f468)\" d=\"M 143.864055 22.318125 \nL 146.545673 22.318125 \nL 146.545673 225.929481 \nL 143.864055 225.929481 \nz\n\" style=\"fill:#1f77b4;\"/>\n   </g>\n   <g id=\"patch_29\">\n    <path clip-path=\"url(#p8417d0f468)\" d=\"M 147.216077 22.318125 \nL 149.897695 22.318125 \nL 149.897695 225.856926 \nL 147.216077 225.856926 \nz\n\" style=\"fill:#1f77b4;\"/>\n   </g>\n   <g id=\"patch_30\">\n    <path clip-path=\"url(#p8417d0f468)\" d=\"M 150.5681 22.318125 \nL 153.249718 22.318125 \nL 153.249718 225.981349 \nL 150.5681 225.981349 \nz\n\" style=\"fill:#1f77b4;\"/>\n   </g>\n   <g id=\"patch_31\">\n    <path clip-path=\"url(#p8417d0f468)\" d=\"M 153.920122 22.318125 \nL 156.60174 22.318125 \nL 156.60174 225.986733 \nL 153.920122 225.986733 \nz\n\" style=\"fill:#1f77b4;\"/>\n   </g>\n   <g id=\"patch_32\">\n    <path clip-path=\"url(#p8417d0f468)\" d=\"M 157.272145 22.318125 \nL 159.953763 22.318125 \nL 159.953763 226.052121 \nL 157.272145 226.052121 \nz\n\" style=\"fill:#1f77b4;\"/>\n   </g>\n   <g id=\"patch_33\">\n    <path clip-path=\"url(#p8417d0f468)\" d=\"M 160.624167 22.318125 \nL 163.305785 22.318125 \nL 163.305785 71.762086 \nL 160.624167 71.762086 \nz\n\" style=\"fill:#1f77b4;\"/>\n   </g>\n   <g id=\"patch_34\">\n    <path clip-path=\"url(#p8417d0f468)\" d=\"M 163.97619 22.318125 \nL 166.657807 22.318125 \nL 166.657807 71.833004 \nL 163.97619 71.833004 \nz\n\" style=\"fill:#1f77b4;\"/>\n   </g>\n   <g id=\"patch_35\">\n    <path clip-path=\"url(#p8417d0f468)\" d=\"M 167.328212 22.318125 \nL 170.00983 22.318125 \nL 170.00983 71.750859 \nL 167.328212 71.750859 \nz\n\" style=\"fill:#1f77b4;\"/>\n   </g>\n   <g id=\"patch_36\">\n    <path clip-path=\"url(#p8417d0f468)\" d=\"M 170.680234 22.318125 \nL 173.361852 22.318125 \nL 173.361852 72.2681 \nL 170.680234 72.2681 \nz\n\" style=\"fill:#1f77b4;\"/>\n   </g>\n   <g id=\"patch_37\">\n    <path clip-path=\"url(#p8417d0f468)\" d=\"M 174.032257 22.318125 \nL 176.713875 22.318125 \nL 176.713875 72.665227 \nL 174.032257 72.665227 \nz\n\" style=\"fill:#1f77b4;\"/>\n   </g>\n   <g id=\"patch_38\">\n    <path clip-path=\"url(#p8417d0f468)\" d=\"M 177.384279 22.318125 \nL 180.065897 22.318125 \nL 180.065897 72.931396 \nL 177.384279 72.931396 \nz\n\" style=\"fill:#1f77b4;\"/>\n   </g>\n   <g id=\"patch_39\">\n    <path clip-path=\"url(#p8417d0f468)\" d=\"M 180.736302 22.318125 \nL 183.41792 22.318125 \nL 183.41792 72.834707 \nL 180.736302 72.834707 \nz\n\" style=\"fill:#1f77b4;\"/>\n   </g>\n   <g id=\"patch_40\">\n    <path clip-path=\"url(#p8417d0f468)\" d=\"M 184.088324 22.318125 \nL 186.769942 22.318125 \nL 186.769942 72.865443 \nL 184.088324 72.865443 \nz\n\" style=\"fill:#1f77b4;\"/>\n   </g>\n   <g id=\"patch_41\">\n    <path clip-path=\"url(#p8417d0f468)\" d=\"M 187.440347 22.318125 \nL 190.121964 22.318125 \nL 190.121964 72.833985 \nL 187.440347 72.833985 \nz\n\" style=\"fill:#1f77b4;\"/>\n   </g>\n   <g id=\"patch_42\">\n    <path clip-path=\"url(#p8417d0f468)\" d=\"M 190.792369 22.318125 \nL 193.473987 22.318125 \nL 193.473987 72.978609 \nL 190.792369 72.978609 \nz\n\" style=\"fill:#1f77b4;\"/>\n   </g>\n   <g id=\"patch_43\">\n    <path clip-path=\"url(#p8417d0f468)\" d=\"M 194.144391 22.318125 \nL 196.826009 22.318125 \nL 196.826009 72.838073 \nL 194.144391 72.838073 \nz\n\" style=\"fill:#1f77b4;\"/>\n   </g>\n   <g id=\"patch_44\">\n    <path clip-path=\"url(#p8417d0f468)\" d=\"M 197.496414 22.318125 \nL 200.178032 22.318125 \nL 200.178032 73.245351 \nL 197.496414 73.245351 \nz\n\" style=\"fill:#1f77b4;\"/>\n   </g>\n   <g id=\"patch_45\">\n    <path clip-path=\"url(#p8417d0f468)\" d=\"M 200.848436 22.318125 \nL 203.530054 22.318125 \nL 203.530054 73.498336 \nL 200.848436 73.498336 \nz\n\" style=\"fill:#1f77b4;\"/>\n   </g>\n   <g id=\"patch_46\">\n    <path clip-path=\"url(#p8417d0f468)\" d=\"M 204.200459 22.318125 \nL 206.882077 22.318125 \nL 206.882077 73.533403 \nL 204.200459 73.533403 \nz\n\" style=\"fill:#1f77b4;\"/>\n   </g>\n   <g id=\"patch_47\">\n    <path clip-path=\"url(#p8417d0f468)\" d=\"M 207.552481 22.318125 \nL 210.234099 22.318125 \nL 210.234099 74.071022 \nL 207.552481 74.071022 \nz\n\" style=\"fill:#1f77b4;\"/>\n   </g>\n   <g id=\"patch_48\">\n    <path clip-path=\"url(#p8417d0f468)\" d=\"M 210.904504 22.318125 \nL 213.586121 22.318125 \nL 213.586121 74.936257 \nL 210.904504 74.936257 \nz\n\" style=\"fill:#1f77b4;\"/>\n   </g>\n   <g id=\"patch_49\">\n    <path clip-path=\"url(#p8417d0f468)\" d=\"M 214.256526 22.318125 \nL 216.938144 22.318125 \nL 216.938144 75.72982 \nL 214.256526 75.72982 \nz\n\" style=\"fill:#1f77b4;\"/>\n   </g>\n   <g id=\"patch_50\">\n    <path clip-path=\"url(#p8417d0f468)\" d=\"M 217.608548 22.318125 \nL 220.290166 22.318125 \nL 220.290166 76.47459 \nL 217.608548 76.47459 \nz\n\" style=\"fill:#1f77b4;\"/>\n   </g>\n   <g id=\"patch_51\">\n    <path clip-path=\"url(#p8417d0f468)\" d=\"M 220.960571 22.318125 \nL 223.642189 22.318125 \nL 223.642189 81.34025 \nL 220.960571 81.34025 \nz\n\" style=\"fill:#1f77b4;\"/>\n   </g>\n   <g id=\"patch_52\">\n    <path clip-path=\"url(#p8417d0f468)\" d=\"M 224.312593 22.318125 \nL 226.994211 22.318125 \nL 226.994211 85.320176 \nL 224.312593 85.320176 \nz\n\" style=\"fill:#1f77b4;\"/>\n   </g>\n   <g id=\"patch_53\">\n    <path clip-path=\"url(#p8417d0f468)\" d=\"M 227.664616 22.318125 \nL 230.346234 22.318125 \nL 230.346234 87.861198 \nL 227.664616 87.861198 \nz\n\" style=\"fill:#1f77b4;\"/>\n   </g>\n   <g id=\"patch_54\">\n    <path clip-path=\"url(#p8417d0f468)\" d=\"M 231.016638 22.318125 \nL 233.698256 22.318125 \nL 233.698256 89.809921 \nL 231.016638 89.809921 \nz\n\" style=\"fill:#1f77b4;\"/>\n   </g>\n   <g id=\"patch_55\">\n    <path clip-path=\"url(#p8417d0f468)\" d=\"M 234.368661 22.318125 \nL 237.050278 22.318125 \nL 237.050278 92.708321 \nL 234.368661 92.708321 \nz\n\" style=\"fill:#1f77b4;\"/>\n   </g>\n   <g id=\"patch_56\">\n    <path clip-path=\"url(#p8417d0f468)\" d=\"M 237.720683 22.318125 \nL 240.402301 22.318125 \nL 240.402301 93.527654 \nL 237.720683 93.527654 \nz\n\" style=\"fill:#1f77b4;\"/>\n   </g>\n   <g id=\"patch_57\">\n    <path clip-path=\"url(#p8417d0f468)\" d=\"M 241.072705 22.318125 \nL 243.754323 22.318125 \nL 243.754323 96.025066 \nL 241.072705 96.025066 \nz\n\" style=\"fill:#1f77b4;\"/>\n   </g>\n   <g id=\"patch_58\">\n    <path clip-path=\"url(#p8417d0f468)\" d=\"M 244.424728 22.318125 \nL 247.106346 22.318125 \nL 247.106346 97.874151 \nL 244.424728 97.874151 \nz\n\" style=\"fill:#1f77b4;\"/>\n   </g>\n   <g id=\"patch_59\">\n    <path clip-path=\"url(#p8417d0f468)\" d=\"M 247.77675 22.318125 \nL 250.458368 22.318125 \nL 250.458368 99.720884 \nL 247.77675 99.720884 \nz\n\" style=\"fill:#1f77b4;\"/>\n   </g>\n   <g id=\"patch_60\">\n    <path clip-path=\"url(#p8417d0f468)\" d=\"M 251.128773 22.318125 \nL 253.810391 22.318125 \nL 253.810391 100.69205 \nL 251.128773 100.69205 \nz\n\" style=\"fill:#1f77b4;\"/>\n   </g>\n   <g id=\"patch_61\">\n    <path clip-path=\"url(#p8417d0f468)\" d=\"M 254.480795 22.318125 \nL 257.162413 22.318125 \nL 257.162413 101.42222 \nL 254.480795 101.42222 \nz\n\" style=\"fill:#1f77b4;\"/>\n   </g>\n   <g id=\"patch_62\">\n    <path clip-path=\"url(#p8417d0f468)\" d=\"M 257.832818 22.318125 \nL 260.514435 22.318125 \nL 260.514435 101.901704 \nL 257.832818 101.901704 \nz\n\" style=\"fill:#1f77b4;\"/>\n   </g>\n   <g id=\"patch_63\">\n    <path clip-path=\"url(#p8417d0f468)\" d=\"M 261.18484 22.318125 \nL 263.866458 22.318125 \nL 263.866458 103.088014 \nL 261.18484 103.088014 \nz\n\" style=\"fill:#1f77b4;\"/>\n   </g>\n   <g id=\"patch_64\">\n    <path clip-path=\"url(#p8417d0f468)\" d=\"M 264.536862 22.318125 \nL 267.21848 22.318125 \nL 267.21848 103.460377 \nL 264.536862 103.460377 \nz\n\" style=\"fill:#1f77b4;\"/>\n   </g>\n   <g id=\"patch_65\">\n    <path clip-path=\"url(#p8417d0f468)\" d=\"M 267.888885 22.318125 \nL 270.570503 22.318125 \nL 270.570503 104.285779 \nL 267.888885 104.285779 \nz\n\" style=\"fill:#1f77b4;\"/>\n   </g>\n   <g id=\"patch_66\">\n    <path clip-path=\"url(#p8417d0f468)\" d=\"M 271.240907 22.318125 \nL 273.922525 22.318125 \nL 273.922525 105.25649 \nL 271.240907 105.25649 \nz\n\" style=\"fill:#1f77b4;\"/>\n   </g>\n   <g id=\"patch_67\">\n    <path clip-path=\"url(#p8417d0f468)\" d=\"M 274.59293 22.318125 \nL 277.274548 22.318125 \nL 277.274548 104.303596 \nL 274.59293 104.303596 \nz\n\" style=\"fill:#1f77b4;\"/>\n   </g>\n   <g id=\"patch_68\">\n    <path clip-path=\"url(#p8417d0f468)\" d=\"M 277.944952 22.318125 \nL 280.62657 22.318125 \nL 280.62657 106.004437 \nL 277.944952 106.004437 \nz\n\" style=\"fill:#1f77b4;\"/>\n   </g>\n   <g id=\"patch_69\">\n    <path clip-path=\"url(#p8417d0f468)\" d=\"M 281.296974 22.318125 \nL 283.978592 22.318125 \nL 283.978592 106.343936 \nL 281.296974 106.343936 \nz\n\" style=\"fill:#1f77b4;\"/>\n   </g>\n   <g id=\"patch_70\">\n    <path clip-path=\"url(#p8417d0f468)\" d=\"M 284.648997 22.318125 \nL 287.330615 22.318125 \nL 287.330615 105.373229 \nL 284.648997 105.373229 \nz\n\" style=\"fill:#1f77b4;\"/>\n   </g>\n   <g id=\"patch_71\">\n    <path clip-path=\"url(#p8417d0f468)\" d=\"M 288.001019 22.318125 \nL 290.682637 22.318125 \nL 290.682637 105.179941 \nL 288.001019 105.179941 \nz\n\" style=\"fill:#1f77b4;\"/>\n   </g>\n   <g id=\"patch_72\">\n    <path clip-path=\"url(#p8417d0f468)\" d=\"M 291.353042 22.318125 \nL 294.03466 22.318125 \nL 294.03466 109.296388 \nL 291.353042 109.296388 \nz\n\" style=\"fill:#1f77b4;\"/>\n   </g>\n   <g id=\"patch_73\">\n    <path clip-path=\"url(#p8417d0f468)\" d=\"M 294.705064 22.318125 \nL 297.386682 22.318125 \nL 297.386682 110.939535 \nL 294.705064 110.939535 \nz\n\" style=\"fill:#1f77b4;\"/>\n   </g>\n   <g id=\"patch_74\">\n    <path clip-path=\"url(#p8417d0f468)\" d=\"M 298.057087 22.318125 \nL 300.738705 22.318125 \nL 300.738705 110.420643 \nL 298.057087 110.420643 \nz\n\" style=\"fill:#1f77b4;\"/>\n   </g>\n   <g id=\"patch_75\">\n    <path clip-path=\"url(#p8417d0f468)\" d=\"M 301.409109 22.318125 \nL 304.090727 22.318125 \nL 304.090727 111.768124 \nL 301.409109 111.768124 \nz\n\" style=\"fill:#1f77b4;\"/>\n   </g>\n   <g id=\"patch_76\">\n    <path clip-path=\"url(#p8417d0f468)\" d=\"M 304.761131 22.318125 \nL 307.442749 22.318125 \nL 307.442749 112.839476 \nL 304.761131 112.839476 \nz\n\" style=\"fill:#1f77b4;\"/>\n   </g>\n   <g id=\"patch_77\">\n    <path clip-path=\"url(#p8417d0f468)\" d=\"M 308.113154 22.318125 \nL 310.794772 22.318125 \nL 310.794772 117.385025 \nL 308.113154 117.385025 \nz\n\" style=\"fill:#1f77b4;\"/>\n   </g>\n   <g id=\"patch_78\">\n    <path clip-path=\"url(#p8417d0f468)\" d=\"M 311.465176 22.318125 \nL 314.146794 22.318125 \nL 314.146794 118.805937 \nL 311.465176 118.805937 \nz\n\" style=\"fill:#1f77b4;\"/>\n   </g>\n   <g id=\"patch_79\">\n    <path clip-path=\"url(#p8417d0f468)\" d=\"M 314.817199 22.318125 \nL 317.498817 22.318125 \nL 317.498817 121.150595 \nL 314.817199 121.150595 \nz\n\" style=\"fill:#1f77b4;\"/>\n   </g>\n   <g id=\"patch_80\">\n    <path clip-path=\"url(#p8417d0f468)\" d=\"M 318.169221 22.318125 \nL 320.850839 22.318125 \nL 320.850839 122.51048 \nL 318.169221 122.51048 \nz\n\" style=\"fill:#1f77b4;\"/>\n   </g>\n   <g id=\"patch_81\">\n    <path clip-path=\"url(#p8417d0f468)\" d=\"M 321.521244 22.318125 \nL 324.202862 22.318125 \nL 324.202862 123.164019 \nL 321.521244 123.164019 \nz\n\" style=\"fill:#1f77b4;\"/>\n   </g>\n   <g id=\"patch_82\">\n    <path clip-path=\"url(#p8417d0f468)\" d=\"M 324.873266 22.318125 \nL 327.554884 22.318125 \nL 327.554884 124.804467 \nL 324.873266 124.804467 \nz\n\" style=\"fill:#1f77b4;\"/>\n   </g>\n   <g id=\"patch_83\">\n    <path clip-path=\"url(#p8417d0f468)\" d=\"M 328.225288 22.318125 \nL 330.906906 22.318125 \nL 330.906906 127.256748 \nL 328.225288 127.256748 \nz\n\" style=\"fill:#1f77b4;\"/>\n   </g>\n   <g id=\"patch_84\">\n    <path clip-path=\"url(#p8417d0f468)\" d=\"M 331.577311 22.318125 \nL 334.258929 22.318125 \nL 334.258929 128.070186 \nL 331.577311 128.070186 \nz\n\" style=\"fill:#1f77b4;\"/>\n   </g>\n   <g id=\"patch_85\">\n    <path clip-path=\"url(#p8417d0f468)\" d=\"M 334.929333 22.318125 \nL 337.610951 22.318125 \nL 337.610951 127.409584 \nL 334.929333 127.409584 \nz\n\" style=\"fill:#1f77b4;\"/>\n   </g>\n   <g id=\"patch_86\">\n    <path clip-path=\"url(#p8417d0f468)\" d=\"M 338.281356 22.318125 \nL 340.962974 22.318125 \nL 340.962974 127.859757 \nL 338.281356 127.859757 \nz\n\" style=\"fill:#1f77b4;\"/>\n   </g>\n   <g id=\"patch_87\">\n    <path clip-path=\"url(#p8417d0f468)\" d=\"M 341.633378 22.318125 \nL 344.314996 22.318125 \nL 344.314996 129.758017 \nL 341.633378 129.758017 \nz\n\" style=\"fill:#1f77b4;\"/>\n   </g>\n   <g id=\"patch_88\">\n    <path clip-path=\"url(#p8417d0f468)\" d=\"M 344.985401 22.318125 \nL 347.667019 22.318125 \nL 347.667019 131.175982 \nL 344.985401 131.175982 \nz\n\" style=\"fill:#1f77b4;\"/>\n   </g>\n   <g id=\"patch_89\">\n    <path clip-path=\"url(#p8417d0f468)\" d=\"M 348.337423 22.318125 \nL 351.019041 22.318125 \nL 351.019041 129.972318 \nL 348.337423 129.972318 \nz\n\" style=\"fill:#1f77b4;\"/>\n   </g>\n   <g id=\"patch_90\">\n    <path clip-path=\"url(#p8417d0f468)\" d=\"M 351.689445 22.318125 \nL 354.371063 22.318125 \nL 354.371063 131.357016 \nL 351.689445 131.357016 \nz\n\" style=\"fill:#1f77b4;\"/>\n   </g>\n   <g id=\"patch_91\">\n    <path clip-path=\"url(#p8417d0f468)\" d=\"M 355.041468 22.318125 \nL 357.723086 22.318125 \nL 357.723086 128.12293 \nL 355.041468 128.12293 \nz\n\" style=\"fill:#1f77b4;\"/>\n   </g>\n   <g id=\"patch_92\">\n    <path clip-path=\"url(#p8417d0f468)\" d=\"M 358.39349 22.318125 \nL 361.075108 22.318125 \nL 361.075108 132.003036 \nL 358.39349 132.003036 \nz\n\" style=\"fill:#1f77b4;\"/>\n   </g>\n   <g id=\"patch_93\">\n    <path clip-path=\"url(#p8417d0f468)\" d=\"M 361.745513 22.318125 \nL 364.427131 22.318125 \nL 364.427131 136.839418 \nL 361.745513 136.839418 \nz\n\" style=\"fill:#1f77b4;\"/>\n   </g>\n   <g id=\"matplotlib.axis_1\">\n    <g id=\"xtick_1\">\n     <g id=\"line2d_1\">\n      <defs>\n       <path d=\"M 0 0 \nL 0 3.5 \n\" id=\"mb3c7ff49f1\" style=\"stroke:#000000;stroke-width:0.8;\"/>\n      </defs>\n      <g>\n       <use style=\"stroke:#000000;stroke-width:0.8;\" x=\"94.924528\" xlink:href=\"#mb3c7ff49f1\" y=\"239.758125\"/>\n      </g>\n     </g>\n     <g id=\"text_1\">\n      <!-- −20 -->\n      <g transform=\"translate(84.372184 254.356563)scale(0.1 -0.1)\">\n       <defs>\n        <path d=\"M 10.59375 35.5 \nL 73.1875 35.5 \nL 73.1875 27.203125 \nL 10.59375 27.203125 \nz\n\" id=\"DejaVuSans-8722\"/>\n        <path d=\"M 19.1875 8.296875 \nL 53.609375 8.296875 \nL 53.609375 0 \nL 7.328125 0 \nL 7.328125 8.296875 \nQ 12.9375 14.109375 22.625 23.890625 \nQ 32.328125 33.6875 34.8125 36.53125 \nQ 39.546875 41.84375 41.421875 45.53125 \nQ 43.3125 49.21875 43.3125 52.78125 \nQ 43.3125 58.59375 39.234375 62.25 \nQ 35.15625 65.921875 28.609375 65.921875 \nQ 23.96875 65.921875 18.8125 64.3125 \nQ 13.671875 62.703125 7.8125 59.421875 \nL 7.8125 69.390625 \nQ 13.765625 71.78125 18.9375 73 \nQ 24.125 74.21875 28.421875 74.21875 \nQ 39.75 74.21875 46.484375 68.546875 \nQ 53.21875 62.890625 53.21875 53.421875 \nQ 53.21875 48.921875 51.53125 44.890625 \nQ 49.859375 40.875 45.40625 35.40625 \nQ 44.1875 33.984375 37.640625 27.21875 \nQ 31.109375 20.453125 19.1875 8.296875 \nz\n\" id=\"DejaVuSans-50\"/>\n        <path d=\"M 31.78125 66.40625 \nQ 24.171875 66.40625 20.328125 58.90625 \nQ 16.5 51.421875 16.5 36.375 \nQ 16.5 21.390625 20.328125 13.890625 \nQ 24.171875 6.390625 31.78125 6.390625 \nQ 39.453125 6.390625 43.28125 13.890625 \nQ 47.125 21.390625 47.125 36.375 \nQ 47.125 51.421875 43.28125 58.90625 \nQ 39.453125 66.40625 31.78125 66.40625 \nz\nM 31.78125 74.21875 \nQ 44.046875 74.21875 50.515625 64.515625 \nQ 56.984375 54.828125 56.984375 36.375 \nQ 56.984375 17.96875 50.515625 8.265625 \nQ 44.046875 -1.421875 31.78125 -1.421875 \nQ 19.53125 -1.421875 13.0625 8.265625 \nQ 6.59375 17.96875 6.59375 36.375 \nQ 6.59375 54.828125 13.0625 64.515625 \nQ 19.53125 74.21875 31.78125 74.21875 \nz\n\" id=\"DejaVuSans-48\"/>\n       </defs>\n       <use xlink:href=\"#DejaVuSans-8722\"/>\n       <use x=\"83.789062\" xlink:href=\"#DejaVuSans-50\"/>\n       <use x=\"147.412109\" xlink:href=\"#DejaVuSans-48\"/>\n      </g>\n     </g>\n    </g>\n    <g id=\"xtick_2\">\n     <g id=\"line2d_2\">\n      <g>\n       <use style=\"stroke:#000000;stroke-width:0.8;\" x=\"161.964976\" xlink:href=\"#mb3c7ff49f1\" y=\"239.758125\"/>\n      </g>\n     </g>\n     <g id=\"text_2\">\n      <!-- 0 -->\n      <g transform=\"translate(158.783726 254.356563)scale(0.1 -0.1)\">\n       <use xlink:href=\"#DejaVuSans-48\"/>\n      </g>\n     </g>\n    </g>\n    <g id=\"xtick_3\">\n     <g id=\"line2d_3\">\n      <g>\n       <use style=\"stroke:#000000;stroke-width:0.8;\" x=\"229.005425\" xlink:href=\"#mb3c7ff49f1\" y=\"239.758125\"/>\n      </g>\n     </g>\n     <g id=\"text_3\">\n      <!-- 20 -->\n      <g transform=\"translate(222.642925 254.356563)scale(0.1 -0.1)\">\n       <use xlink:href=\"#DejaVuSans-50\"/>\n       <use x=\"63.623047\" xlink:href=\"#DejaVuSans-48\"/>\n      </g>\n     </g>\n    </g>\n    <g id=\"xtick_4\">\n     <g id=\"line2d_4\">\n      <g>\n       <use style=\"stroke:#000000;stroke-width:0.8;\" x=\"296.045873\" xlink:href=\"#mb3c7ff49f1\" y=\"239.758125\"/>\n      </g>\n     </g>\n     <g id=\"text_4\">\n      <!-- 40 -->\n      <g transform=\"translate(289.683373 254.356563)scale(0.1 -0.1)\">\n       <defs>\n        <path d=\"M 37.796875 64.3125 \nL 12.890625 25.390625 \nL 37.796875 25.390625 \nz\nM 35.203125 72.90625 \nL 47.609375 72.90625 \nL 47.609375 25.390625 \nL 58.015625 25.390625 \nL 58.015625 17.1875 \nL 47.609375 17.1875 \nL 47.609375 0 \nL 37.796875 0 \nL 37.796875 17.1875 \nL 4.890625 17.1875 \nL 4.890625 26.703125 \nz\n\" id=\"DejaVuSans-52\"/>\n       </defs>\n       <use xlink:href=\"#DejaVuSans-52\"/>\n       <use x=\"63.623047\" xlink:href=\"#DejaVuSans-48\"/>\n      </g>\n     </g>\n    </g>\n    <g id=\"xtick_5\">\n     <g id=\"line2d_5\">\n      <g>\n       <use style=\"stroke:#000000;stroke-width:0.8;\" x=\"363.086322\" xlink:href=\"#mb3c7ff49f1\" y=\"239.758125\"/>\n      </g>\n     </g>\n     <g id=\"text_5\">\n      <!-- 60 -->\n      <g transform=\"translate(356.723822 254.356563)scale(0.1 -0.1)\">\n       <defs>\n        <path d=\"M 33.015625 40.375 \nQ 26.375 40.375 22.484375 35.828125 \nQ 18.609375 31.296875 18.609375 23.390625 \nQ 18.609375 15.53125 22.484375 10.953125 \nQ 26.375 6.390625 33.015625 6.390625 \nQ 39.65625 6.390625 43.53125 10.953125 \nQ 47.40625 15.53125 47.40625 23.390625 \nQ 47.40625 31.296875 43.53125 35.828125 \nQ 39.65625 40.375 33.015625 40.375 \nz\nM 52.59375 71.296875 \nL 52.59375 62.3125 \nQ 48.875 64.0625 45.09375 64.984375 \nQ 41.3125 65.921875 37.59375 65.921875 \nQ 27.828125 65.921875 22.671875 59.328125 \nQ 17.53125 52.734375 16.796875 39.40625 \nQ 19.671875 43.65625 24.015625 45.921875 \nQ 28.375 48.1875 33.59375 48.1875 \nQ 44.578125 48.1875 50.953125 41.515625 \nQ 57.328125 34.859375 57.328125 23.390625 \nQ 57.328125 12.15625 50.6875 5.359375 \nQ 44.046875 -1.421875 33.015625 -1.421875 \nQ 20.359375 -1.421875 13.671875 8.265625 \nQ 6.984375 17.96875 6.984375 36.375 \nQ 6.984375 53.65625 15.1875 63.9375 \nQ 23.390625 74.21875 37.203125 74.21875 \nQ 40.921875 74.21875 44.703125 73.484375 \nQ 48.484375 72.75 52.59375 71.296875 \nz\n\" id=\"DejaVuSans-54\"/>\n       </defs>\n       <use xlink:href=\"#DejaVuSans-54\"/>\n       <use x=\"63.623047\" xlink:href=\"#DejaVuSans-48\"/>\n      </g>\n     </g>\n    </g>\n   </g>\n   <g id=\"matplotlib.axis_2\">\n    <g id=\"ytick_1\">\n     <g id=\"line2d_6\">\n      <defs>\n       <path d=\"M 0 0 \nL -3.5 0 \n\" id=\"mf9f204f309\" style=\"stroke:#000000;stroke-width:0.8;\"/>\n      </defs>\n      <g>\n       <use style=\"stroke:#000000;stroke-width:0.8;\" x=\"44.845313\" xlink:href=\"#mf9f204f309\" y=\"215.972829\"/>\n      </g>\n     </g>\n     <g id=\"text_6\">\n      <!-- −0.40 -->\n      <g transform=\"translate(7.2 219.772048)scale(0.1 -0.1)\">\n       <defs>\n        <path d=\"M 10.6875 12.40625 \nL 21 12.40625 \nL 21 0 \nL 10.6875 0 \nz\n\" id=\"DejaVuSans-46\"/>\n       </defs>\n       <use xlink:href=\"#DejaVuSans-8722\"/>\n       <use x=\"83.789062\" xlink:href=\"#DejaVuSans-48\"/>\n       <use x=\"147.412109\" xlink:href=\"#DejaVuSans-46\"/>\n       <use x=\"179.199219\" xlink:href=\"#DejaVuSans-52\"/>\n       <use x=\"242.822266\" xlink:href=\"#DejaVuSans-48\"/>\n      </g>\n     </g>\n    </g>\n    <g id=\"ytick_2\">\n     <g id=\"line2d_7\">\n      <g>\n       <use style=\"stroke:#000000;stroke-width:0.8;\" x=\"44.845313\" xlink:href=\"#mf9f204f309\" y=\"191.765991\"/>\n      </g>\n     </g>\n     <g id=\"text_7\">\n      <!-- −0.35 -->\n      <g transform=\"translate(7.2 195.56521)scale(0.1 -0.1)\">\n       <defs>\n        <path d=\"M 40.578125 39.3125 \nQ 47.65625 37.796875 51.625 33 \nQ 55.609375 28.21875 55.609375 21.1875 \nQ 55.609375 10.40625 48.1875 4.484375 \nQ 40.765625 -1.421875 27.09375 -1.421875 \nQ 22.515625 -1.421875 17.65625 -0.515625 \nQ 12.796875 0.390625 7.625 2.203125 \nL 7.625 11.71875 \nQ 11.71875 9.328125 16.59375 8.109375 \nQ 21.484375 6.890625 26.8125 6.890625 \nQ 36.078125 6.890625 40.9375 10.546875 \nQ 45.796875 14.203125 45.796875 21.1875 \nQ 45.796875 27.640625 41.28125 31.265625 \nQ 36.765625 34.90625 28.71875 34.90625 \nL 20.21875 34.90625 \nL 20.21875 43.015625 \nL 29.109375 43.015625 \nQ 36.375 43.015625 40.234375 45.921875 \nQ 44.09375 48.828125 44.09375 54.296875 \nQ 44.09375 59.90625 40.109375 62.90625 \nQ 36.140625 65.921875 28.71875 65.921875 \nQ 24.65625 65.921875 20.015625 65.03125 \nQ 15.375 64.15625 9.8125 62.3125 \nL 9.8125 71.09375 \nQ 15.4375 72.65625 20.34375 73.4375 \nQ 25.25 74.21875 29.59375 74.21875 \nQ 40.828125 74.21875 47.359375 69.109375 \nQ 53.90625 64.015625 53.90625 55.328125 \nQ 53.90625 49.265625 50.4375 45.09375 \nQ 46.96875 40.921875 40.578125 39.3125 \nz\n\" id=\"DejaVuSans-51\"/>\n        <path d=\"M 10.796875 72.90625 \nL 49.515625 72.90625 \nL 49.515625 64.59375 \nL 19.828125 64.59375 \nL 19.828125 46.734375 \nQ 21.96875 47.46875 24.109375 47.828125 \nQ 26.265625 48.1875 28.421875 48.1875 \nQ 40.625 48.1875 47.75 41.5 \nQ 54.890625 34.8125 54.890625 23.390625 \nQ 54.890625 11.625 47.5625 5.09375 \nQ 40.234375 -1.421875 26.90625 -1.421875 \nQ 22.3125 -1.421875 17.546875 -0.640625 \nQ 12.796875 0.140625 7.71875 1.703125 \nL 7.71875 11.625 \nQ 12.109375 9.234375 16.796875 8.0625 \nQ 21.484375 6.890625 26.703125 6.890625 \nQ 35.15625 6.890625 40.078125 11.328125 \nQ 45.015625 15.765625 45.015625 23.390625 \nQ 45.015625 31 40.078125 35.4375 \nQ 35.15625 39.890625 26.703125 39.890625 \nQ 22.75 39.890625 18.8125 39.015625 \nQ 14.890625 38.140625 10.796875 36.28125 \nz\n\" id=\"DejaVuSans-53\"/>\n       </defs>\n       <use xlink:href=\"#DejaVuSans-8722\"/>\n       <use x=\"83.789062\" xlink:href=\"#DejaVuSans-48\"/>\n       <use x=\"147.412109\" xlink:href=\"#DejaVuSans-46\"/>\n       <use x=\"179.199219\" xlink:href=\"#DejaVuSans-51\"/>\n       <use x=\"242.822266\" xlink:href=\"#DejaVuSans-53\"/>\n      </g>\n     </g>\n    </g>\n    <g id=\"ytick_3\">\n     <g id=\"line2d_8\">\n      <g>\n       <use style=\"stroke:#000000;stroke-width:0.8;\" x=\"44.845313\" xlink:href=\"#mf9f204f309\" y=\"167.559153\"/>\n      </g>\n     </g>\n     <g id=\"text_8\">\n      <!-- −0.30 -->\n      <g transform=\"translate(7.2 171.358372)scale(0.1 -0.1)\">\n       <use xlink:href=\"#DejaVuSans-8722\"/>\n       <use x=\"83.789062\" xlink:href=\"#DejaVuSans-48\"/>\n       <use x=\"147.412109\" xlink:href=\"#DejaVuSans-46\"/>\n       <use x=\"179.199219\" xlink:href=\"#DejaVuSans-51\"/>\n       <use x=\"242.822266\" xlink:href=\"#DejaVuSans-48\"/>\n      </g>\n     </g>\n    </g>\n    <g id=\"ytick_4\">\n     <g id=\"line2d_9\">\n      <g>\n       <use style=\"stroke:#000000;stroke-width:0.8;\" x=\"44.845313\" xlink:href=\"#mf9f204f309\" y=\"143.352315\"/>\n      </g>\n     </g>\n     <g id=\"text_9\">\n      <!-- −0.25 -->\n      <g transform=\"translate(7.2 147.151534)scale(0.1 -0.1)\">\n       <use xlink:href=\"#DejaVuSans-8722\"/>\n       <use x=\"83.789062\" xlink:href=\"#DejaVuSans-48\"/>\n       <use x=\"147.412109\" xlink:href=\"#DejaVuSans-46\"/>\n       <use x=\"179.199219\" xlink:href=\"#DejaVuSans-50\"/>\n       <use x=\"242.822266\" xlink:href=\"#DejaVuSans-53\"/>\n      </g>\n     </g>\n    </g>\n    <g id=\"ytick_5\">\n     <g id=\"line2d_10\">\n      <g>\n       <use style=\"stroke:#000000;stroke-width:0.8;\" x=\"44.845313\" xlink:href=\"#mf9f204f309\" y=\"119.145477\"/>\n      </g>\n     </g>\n     <g id=\"text_10\">\n      <!-- −0.20 -->\n      <g transform=\"translate(7.2 122.944696)scale(0.1 -0.1)\">\n       <use xlink:href=\"#DejaVuSans-8722\"/>\n       <use x=\"83.789062\" xlink:href=\"#DejaVuSans-48\"/>\n       <use x=\"147.412109\" xlink:href=\"#DejaVuSans-46\"/>\n       <use x=\"179.199219\" xlink:href=\"#DejaVuSans-50\"/>\n       <use x=\"242.822266\" xlink:href=\"#DejaVuSans-48\"/>\n      </g>\n     </g>\n    </g>\n    <g id=\"ytick_6\">\n     <g id=\"line2d_11\">\n      <g>\n       <use style=\"stroke:#000000;stroke-width:0.8;\" x=\"44.845313\" xlink:href=\"#mf9f204f309\" y=\"94.938639\"/>\n      </g>\n     </g>\n     <g id=\"text_11\">\n      <!-- −0.15 -->\n      <g transform=\"translate(7.2 98.737858)scale(0.1 -0.1)\">\n       <defs>\n        <path d=\"M 12.40625 8.296875 \nL 28.515625 8.296875 \nL 28.515625 63.921875 \nL 10.984375 60.40625 \nL 10.984375 69.390625 \nL 28.421875 72.90625 \nL 38.28125 72.90625 \nL 38.28125 8.296875 \nL 54.390625 8.296875 \nL 54.390625 0 \nL 12.40625 0 \nz\n\" id=\"DejaVuSans-49\"/>\n       </defs>\n       <use xlink:href=\"#DejaVuSans-8722\"/>\n       <use x=\"83.789062\" xlink:href=\"#DejaVuSans-48\"/>\n       <use x=\"147.412109\" xlink:href=\"#DejaVuSans-46\"/>\n       <use x=\"179.199219\" xlink:href=\"#DejaVuSans-49\"/>\n       <use x=\"242.822266\" xlink:href=\"#DejaVuSans-53\"/>\n      </g>\n     </g>\n    </g>\n    <g id=\"ytick_7\">\n     <g id=\"line2d_12\">\n      <g>\n       <use style=\"stroke:#000000;stroke-width:0.8;\" x=\"44.845313\" xlink:href=\"#mf9f204f309\" y=\"70.731801\"/>\n      </g>\n     </g>\n     <g id=\"text_12\">\n      <!-- −0.10 -->\n      <g transform=\"translate(7.2 74.53102)scale(0.1 -0.1)\">\n       <use xlink:href=\"#DejaVuSans-8722\"/>\n       <use x=\"83.789062\" xlink:href=\"#DejaVuSans-48\"/>\n       <use x=\"147.412109\" xlink:href=\"#DejaVuSans-46\"/>\n       <use x=\"179.199219\" xlink:href=\"#DejaVuSans-49\"/>\n       <use x=\"242.822266\" xlink:href=\"#DejaVuSans-48\"/>\n      </g>\n     </g>\n    </g>\n    <g id=\"ytick_8\">\n     <g id=\"line2d_13\">\n      <g>\n       <use style=\"stroke:#000000;stroke-width:0.8;\" x=\"44.845313\" xlink:href=\"#mf9f204f309\" y=\"46.524963\"/>\n      </g>\n     </g>\n     <g id=\"text_13\">\n      <!-- −0.05 -->\n      <g transform=\"translate(7.2 50.324182)scale(0.1 -0.1)\">\n       <use xlink:href=\"#DejaVuSans-8722\"/>\n       <use x=\"83.789062\" xlink:href=\"#DejaVuSans-48\"/>\n       <use x=\"147.412109\" xlink:href=\"#DejaVuSans-46\"/>\n       <use x=\"179.199219\" xlink:href=\"#DejaVuSans-48\"/>\n       <use x=\"242.822266\" xlink:href=\"#DejaVuSans-53\"/>\n      </g>\n     </g>\n    </g>\n    <g id=\"ytick_9\">\n     <g id=\"line2d_14\">\n      <g>\n       <use style=\"stroke:#000000;stroke-width:0.8;\" x=\"44.845313\" xlink:href=\"#mf9f204f309\" y=\"22.318125\"/>\n      </g>\n     </g>\n     <g id=\"text_14\">\n      <!-- 0.00 -->\n      <g transform=\"translate(15.579688 26.117344)scale(0.1 -0.1)\">\n       <use xlink:href=\"#DejaVuSans-48\"/>\n       <use x=\"63.623047\" xlink:href=\"#DejaVuSans-46\"/>\n       <use x=\"95.410156\" xlink:href=\"#DejaVuSans-48\"/>\n       <use x=\"159.033203\" xlink:href=\"#DejaVuSans-48\"/>\n      </g>\n     </g>\n    </g>\n   </g>\n   <g id=\"patch_94\">\n    <path d=\"M 44.845313 239.758125 \nL 44.845313 22.318125 \n\" style=\"fill:none;stroke:#000000;stroke-linecap:square;stroke-linejoin:miter;stroke-width:0.8;\"/>\n   </g>\n   <g id=\"patch_95\">\n    <path d=\"M 379.645313 239.758125 \nL 379.645313 22.318125 \n\" style=\"fill:none;stroke:#000000;stroke-linecap:square;stroke-linejoin:miter;stroke-width:0.8;\"/>\n   </g>\n   <g id=\"patch_96\">\n    <path d=\"M 44.845312 239.758125 \nL 379.645313 239.758125 \n\" style=\"fill:none;stroke:#000000;stroke-linecap:square;stroke-linejoin:miter;stroke-width:0.8;\"/>\n   </g>\n   <g id=\"patch_97\">\n    <path d=\"M 44.845312 22.318125 \nL 379.645313 22.318125 \n\" style=\"fill:none;stroke:#000000;stroke-linecap:square;stroke-linejoin:miter;stroke-width:0.8;\"/>\n   </g>\n   <g id=\"text_15\">\n    <!-- Raw Return around declaration date -->\n    <g transform=\"translate(103.686563 16.318125)scale(0.12 -0.12)\">\n     <defs>\n      <path d=\"M 44.390625 34.1875 \nQ 47.5625 33.109375 50.5625 29.59375 \nQ 53.5625 26.078125 56.59375 19.921875 \nL 66.609375 0 \nL 56 0 \nL 46.6875 18.703125 \nQ 43.0625 26.03125 39.671875 28.421875 \nQ 36.28125 30.8125 30.421875 30.8125 \nL 19.671875 30.8125 \nL 19.671875 0 \nL 9.8125 0 \nL 9.8125 72.90625 \nL 32.078125 72.90625 \nQ 44.578125 72.90625 50.734375 67.671875 \nQ 56.890625 62.453125 56.890625 51.90625 \nQ 56.890625 45.015625 53.6875 40.46875 \nQ 50.484375 35.9375 44.390625 34.1875 \nz\nM 19.671875 64.796875 \nL 19.671875 38.921875 \nL 32.078125 38.921875 \nQ 39.203125 38.921875 42.84375 42.21875 \nQ 46.484375 45.515625 46.484375 51.90625 \nQ 46.484375 58.296875 42.84375 61.546875 \nQ 39.203125 64.796875 32.078125 64.796875 \nz\n\" id=\"DejaVuSans-82\"/>\n      <path d=\"M 34.28125 27.484375 \nQ 23.390625 27.484375 19.1875 25 \nQ 14.984375 22.515625 14.984375 16.5 \nQ 14.984375 11.71875 18.140625 8.90625 \nQ 21.296875 6.109375 26.703125 6.109375 \nQ 34.1875 6.109375 38.703125 11.40625 \nQ 43.21875 16.703125 43.21875 25.484375 \nL 43.21875 27.484375 \nz\nM 52.203125 31.203125 \nL 52.203125 0 \nL 43.21875 0 \nL 43.21875 8.296875 \nQ 40.140625 3.328125 35.546875 0.953125 \nQ 30.953125 -1.421875 24.3125 -1.421875 \nQ 15.921875 -1.421875 10.953125 3.296875 \nQ 6 8.015625 6 15.921875 \nQ 6 25.140625 12.171875 29.828125 \nQ 18.359375 34.515625 30.609375 34.515625 \nL 43.21875 34.515625 \nL 43.21875 35.40625 \nQ 43.21875 41.609375 39.140625 45 \nQ 35.0625 48.390625 27.6875 48.390625 \nQ 23 48.390625 18.546875 47.265625 \nQ 14.109375 46.140625 10.015625 43.890625 \nL 10.015625 52.203125 \nQ 14.9375 54.109375 19.578125 55.046875 \nQ 24.21875 56 28.609375 56 \nQ 40.484375 56 46.34375 49.84375 \nQ 52.203125 43.703125 52.203125 31.203125 \nz\n\" id=\"DejaVuSans-97\"/>\n      <path d=\"M 4.203125 54.6875 \nL 13.1875 54.6875 \nL 24.421875 12.015625 \nL 35.59375 54.6875 \nL 46.1875 54.6875 \nL 57.421875 12.015625 \nL 68.609375 54.6875 \nL 77.59375 54.6875 \nL 63.28125 0 \nL 52.6875 0 \nL 40.921875 44.828125 \nL 29.109375 0 \nL 18.5 0 \nz\n\" id=\"DejaVuSans-119\"/>\n      <path id=\"DejaVuSans-32\"/>\n      <path d=\"M 56.203125 29.59375 \nL 56.203125 25.203125 \nL 14.890625 25.203125 \nQ 15.484375 15.921875 20.484375 11.0625 \nQ 25.484375 6.203125 34.421875 6.203125 \nQ 39.59375 6.203125 44.453125 7.46875 \nQ 49.3125 8.734375 54.109375 11.28125 \nL 54.109375 2.78125 \nQ 49.265625 0.734375 44.1875 -0.34375 \nQ 39.109375 -1.421875 33.890625 -1.421875 \nQ 20.796875 -1.421875 13.15625 6.1875 \nQ 5.515625 13.8125 5.515625 26.8125 \nQ 5.515625 40.234375 12.765625 48.109375 \nQ 20.015625 56 32.328125 56 \nQ 43.359375 56 49.78125 48.890625 \nQ 56.203125 41.796875 56.203125 29.59375 \nz\nM 47.21875 32.234375 \nQ 47.125 39.59375 43.09375 43.984375 \nQ 39.0625 48.390625 32.421875 48.390625 \nQ 24.90625 48.390625 20.390625 44.140625 \nQ 15.875 39.890625 15.1875 32.171875 \nz\n\" id=\"DejaVuSans-101\"/>\n      <path d=\"M 18.3125 70.21875 \nL 18.3125 54.6875 \nL 36.8125 54.6875 \nL 36.8125 47.703125 \nL 18.3125 47.703125 \nL 18.3125 18.015625 \nQ 18.3125 11.328125 20.140625 9.421875 \nQ 21.96875 7.515625 27.59375 7.515625 \nL 36.8125 7.515625 \nL 36.8125 0 \nL 27.59375 0 \nQ 17.1875 0 13.234375 3.875 \nQ 9.28125 7.765625 9.28125 18.015625 \nL 9.28125 47.703125 \nL 2.6875 47.703125 \nL 2.6875 54.6875 \nL 9.28125 54.6875 \nL 9.28125 70.21875 \nz\n\" id=\"DejaVuSans-116\"/>\n      <path d=\"M 8.5 21.578125 \nL 8.5 54.6875 \nL 17.484375 54.6875 \nL 17.484375 21.921875 \nQ 17.484375 14.15625 20.5 10.265625 \nQ 23.53125 6.390625 29.59375 6.390625 \nQ 36.859375 6.390625 41.078125 11.03125 \nQ 45.3125 15.671875 45.3125 23.6875 \nL 45.3125 54.6875 \nL 54.296875 54.6875 \nL 54.296875 0 \nL 45.3125 0 \nL 45.3125 8.40625 \nQ 42.046875 3.421875 37.71875 1 \nQ 33.40625 -1.421875 27.6875 -1.421875 \nQ 18.265625 -1.421875 13.375 4.4375 \nQ 8.5 10.296875 8.5 21.578125 \nz\nM 31.109375 56 \nz\n\" id=\"DejaVuSans-117\"/>\n      <path d=\"M 41.109375 46.296875 \nQ 39.59375 47.171875 37.8125 47.578125 \nQ 36.03125 48 33.890625 48 \nQ 26.265625 48 22.1875 43.046875 \nQ 18.109375 38.09375 18.109375 28.8125 \nL 18.109375 0 \nL 9.078125 0 \nL 9.078125 54.6875 \nL 18.109375 54.6875 \nL 18.109375 46.1875 \nQ 20.953125 51.171875 25.484375 53.578125 \nQ 30.03125 56 36.53125 56 \nQ 37.453125 56 38.578125 55.875 \nQ 39.703125 55.765625 41.0625 55.515625 \nz\n\" id=\"DejaVuSans-114\"/>\n      <path d=\"M 54.890625 33.015625 \nL 54.890625 0 \nL 45.90625 0 \nL 45.90625 32.71875 \nQ 45.90625 40.484375 42.875 44.328125 \nQ 39.84375 48.1875 33.796875 48.1875 \nQ 26.515625 48.1875 22.3125 43.546875 \nQ 18.109375 38.921875 18.109375 30.90625 \nL 18.109375 0 \nL 9.078125 0 \nL 9.078125 54.6875 \nL 18.109375 54.6875 \nL 18.109375 46.1875 \nQ 21.34375 51.125 25.703125 53.5625 \nQ 30.078125 56 35.796875 56 \nQ 45.21875 56 50.046875 50.171875 \nQ 54.890625 44.34375 54.890625 33.015625 \nz\n\" id=\"DejaVuSans-110\"/>\n      <path d=\"M 30.609375 48.390625 \nQ 23.390625 48.390625 19.1875 42.75 \nQ 14.984375 37.109375 14.984375 27.296875 \nQ 14.984375 17.484375 19.15625 11.84375 \nQ 23.34375 6.203125 30.609375 6.203125 \nQ 37.796875 6.203125 41.984375 11.859375 \nQ 46.1875 17.53125 46.1875 27.296875 \nQ 46.1875 37.015625 41.984375 42.703125 \nQ 37.796875 48.390625 30.609375 48.390625 \nz\nM 30.609375 56 \nQ 42.328125 56 49.015625 48.375 \nQ 55.71875 40.765625 55.71875 27.296875 \nQ 55.71875 13.875 49.015625 6.21875 \nQ 42.328125 -1.421875 30.609375 -1.421875 \nQ 18.84375 -1.421875 12.171875 6.21875 \nQ 5.515625 13.875 5.515625 27.296875 \nQ 5.515625 40.765625 12.171875 48.375 \nQ 18.84375 56 30.609375 56 \nz\n\" id=\"DejaVuSans-111\"/>\n      <path d=\"M 45.40625 46.390625 \nL 45.40625 75.984375 \nL 54.390625 75.984375 \nL 54.390625 0 \nL 45.40625 0 \nL 45.40625 8.203125 \nQ 42.578125 3.328125 38.25 0.953125 \nQ 33.9375 -1.421875 27.875 -1.421875 \nQ 17.96875 -1.421875 11.734375 6.484375 \nQ 5.515625 14.40625 5.515625 27.296875 \nQ 5.515625 40.1875 11.734375 48.09375 \nQ 17.96875 56 27.875 56 \nQ 33.9375 56 38.25 53.625 \nQ 42.578125 51.265625 45.40625 46.390625 \nz\nM 14.796875 27.296875 \nQ 14.796875 17.390625 18.875 11.75 \nQ 22.953125 6.109375 30.078125 6.109375 \nQ 37.203125 6.109375 41.296875 11.75 \nQ 45.40625 17.390625 45.40625 27.296875 \nQ 45.40625 37.203125 41.296875 42.84375 \nQ 37.203125 48.484375 30.078125 48.484375 \nQ 22.953125 48.484375 18.875 42.84375 \nQ 14.796875 37.203125 14.796875 27.296875 \nz\n\" id=\"DejaVuSans-100\"/>\n      <path d=\"M 48.78125 52.59375 \nL 48.78125 44.1875 \nQ 44.96875 46.296875 41.140625 47.34375 \nQ 37.3125 48.390625 33.40625 48.390625 \nQ 24.65625 48.390625 19.8125 42.84375 \nQ 14.984375 37.3125 14.984375 27.296875 \nQ 14.984375 17.28125 19.8125 11.734375 \nQ 24.65625 6.203125 33.40625 6.203125 \nQ 37.3125 6.203125 41.140625 7.25 \nQ 44.96875 8.296875 48.78125 10.40625 \nL 48.78125 2.09375 \nQ 45.015625 0.34375 40.984375 -0.53125 \nQ 36.96875 -1.421875 32.421875 -1.421875 \nQ 20.0625 -1.421875 12.78125 6.34375 \nQ 5.515625 14.109375 5.515625 27.296875 \nQ 5.515625 40.671875 12.859375 48.328125 \nQ 20.21875 56 33.015625 56 \nQ 37.15625 56 41.109375 55.140625 \nQ 45.0625 54.296875 48.78125 52.59375 \nz\n\" id=\"DejaVuSans-99\"/>\n      <path d=\"M 9.421875 75.984375 \nL 18.40625 75.984375 \nL 18.40625 0 \nL 9.421875 0 \nz\n\" id=\"DejaVuSans-108\"/>\n      <path d=\"M 9.421875 54.6875 \nL 18.40625 54.6875 \nL 18.40625 0 \nL 9.421875 0 \nz\nM 9.421875 75.984375 \nL 18.40625 75.984375 \nL 18.40625 64.59375 \nL 9.421875 64.59375 \nz\n\" id=\"DejaVuSans-105\"/>\n     </defs>\n     <use xlink:href=\"#DejaVuSans-82\"/>\n     <use x=\"67.232422\" xlink:href=\"#DejaVuSans-97\"/>\n     <use x=\"128.511719\" xlink:href=\"#DejaVuSans-119\"/>\n     <use x=\"210.298828\" xlink:href=\"#DejaVuSans-32\"/>\n     <use x=\"242.085938\" xlink:href=\"#DejaVuSans-82\"/>\n     <use x=\"307.068359\" xlink:href=\"#DejaVuSans-101\"/>\n     <use x=\"368.591797\" xlink:href=\"#DejaVuSans-116\"/>\n     <use x=\"407.800781\" xlink:href=\"#DejaVuSans-117\"/>\n     <use x=\"471.179688\" xlink:href=\"#DejaVuSans-114\"/>\n     <use x=\"510.542969\" xlink:href=\"#DejaVuSans-110\"/>\n     <use x=\"573.921875\" xlink:href=\"#DejaVuSans-32\"/>\n     <use x=\"605.708984\" xlink:href=\"#DejaVuSans-97\"/>\n     <use x=\"666.988281\" xlink:href=\"#DejaVuSans-114\"/>\n     <use x=\"705.851562\" xlink:href=\"#DejaVuSans-111\"/>\n     <use x=\"767.033203\" xlink:href=\"#DejaVuSans-117\"/>\n     <use x=\"830.412109\" xlink:href=\"#DejaVuSans-110\"/>\n     <use x=\"893.791016\" xlink:href=\"#DejaVuSans-100\"/>\n     <use x=\"957.267578\" xlink:href=\"#DejaVuSans-32\"/>\n     <use x=\"989.054688\" xlink:href=\"#DejaVuSans-100\"/>\n     <use x=\"1052.53125\" xlink:href=\"#DejaVuSans-101\"/>\n     <use x=\"1114.054688\" xlink:href=\"#DejaVuSans-99\"/>\n     <use x=\"1169.035156\" xlink:href=\"#DejaVuSans-108\"/>\n     <use x=\"1196.818359\" xlink:href=\"#DejaVuSans-97\"/>\n     <use x=\"1258.097656\" xlink:href=\"#DejaVuSans-114\"/>\n     <use x=\"1299.210938\" xlink:href=\"#DejaVuSans-97\"/>\n     <use x=\"1360.490234\" xlink:href=\"#DejaVuSans-116\"/>\n     <use x=\"1399.699219\" xlink:href=\"#DejaVuSans-105\"/>\n     <use x=\"1427.482422\" xlink:href=\"#DejaVuSans-111\"/>\n     <use x=\"1488.664062\" xlink:href=\"#DejaVuSans-110\"/>\n     <use x=\"1552.042969\" xlink:href=\"#DejaVuSans-32\"/>\n     <use x=\"1583.830078\" xlink:href=\"#DejaVuSans-100\"/>\n     <use x=\"1647.306641\" xlink:href=\"#DejaVuSans-97\"/>\n     <use x=\"1708.585938\" xlink:href=\"#DejaVuSans-116\"/>\n     <use x=\"1747.794922\" xlink:href=\"#DejaVuSans-101\"/>\n    </g>\n   </g>\n  </g>\n </g>\n <defs>\n  <clipPath id=\"p8417d0f468\">\n   <rect height=\"217.44\" width=\"334.8\" x=\"44.845313\" y=\"22.318125\"/>\n  </clipPath>\n </defs>\n</svg>\n",
      "image/png": "[encoded data removed]"
     },
     "metadata": {
      "needs_background": "light"
     }
    }
   ],
   "source": [
    "plt.bar(x,dlist)\n",
    "plt.title('Raw Return around ex-dividend date')\n",
    "plt.show()"
   ]
  },
  {
   "cell_type": "code",
   "execution_count": 6,
   "metadata": {},
   "outputs": [
    {
     "output_type": "execute_result",
     "data": {
      "text/plain": [
       "-35.40576499999885"
      ]
     },
     "metadata": {},
     "execution_count": 6
    }
   ],
   "source": [
    "sum(d[0])"
   ]
  },
  {
   "cell_type": "code",
   "execution_count": 7,
   "metadata": {},
   "outputs": [],
   "source": [
    "import pickle\n",
    "filename = 'RCRDDT_Figure2.pkl'\n",
    "with open(filename,'wb') as f:\n",
    "     pickle.dump(dlist, f)"
   ]
  },
  {
   "cell_type": "code",
   "execution_count": 8,
   "metadata": {},
   "outputs": [
    {
     "output_type": "execute_result",
     "data": {
      "text/plain": [
       "True"
      ]
     },
     "metadata": {},
     "execution_count": 8
    }
   ],
   "source": [
    "with open(filename,'rb') as f:\n",
    "     a = pickle.load(f)\n",
    "\n",
    "a == dlist"
   ]
  },
  {
   "cell_type": "code",
   "execution_count": null,
   "metadata": {},
   "outputs": [],
   "source": []
  }
 ]
}