{
 "metadata": {
  "language_info": {
   "codemirror_mode": {
    "name": "ipython",
    "version": 3
   },
   "file_extension": ".py",
   "mimetype": "text/x-python",
   "name": "python",
   "nbconvert_exporter": "python",
   "pygments_lexer": "ipython3",
   "version": "3.7.10"
  },
  "orig_nbformat": 2,
  "kernelspec": {
   "name": "python3710jvsc74a57bd0276ff3ef4232bc81b07f38db7c38c0f89d44f1b9e7638fd97d8d47af6660e0bb",
   "display_name": "Python 3.7.10 64-bit ('fina4359': conda)"
  }
 },
 "nbformat": 4,
 "nbformat_minor": 2,
 "cells": [
  {
   "cell_type": "code",
   "execution_count": 37,
   "metadata": {},
   "outputs": [],
   "source": [
    "#In[]\n",
    "import pandas as pd\n",
    "import numpy as np\n",
    "import matplotlib.pyplot as plt\n",
    "from pandas.tseries.offsets import MonthEnd\n",
    "# import statsmodels.api as sm\n",
    "from tqdm import tqdm\n",
    "# from multiprocessing.dummy import Pool\n",
    "import dask.dataframe as dd\n",
    "pd.set_option('display.max_rows', 500)\n",
    "pd.set_option('display.float_format', lambda x: '%.3f' % x)\n",
    "# pd.set_option('display.max_columns', 500)"
   ]
  },
  {
   "cell_type": "code",
   "execution_count": 36,
   "metadata": {},
   "outputs": [
    {
     "output_type": "stream",
     "name": "stderr",
     "text": [
      "526it [08:41,  1.01it/s]\n"
     ]
    },
    {
     "output_type": "error",
     "ename": "KeyboardInterrupt",
     "evalue": "",
     "traceback": [
      "\u001b[1;31m---------------------------------------------------------------------------\u001b[0m",
      "\u001b[1;31mKeyboardInterrupt\u001b[0m                         Traceback (most recent call last)",
      "\u001b[1;32m<ipython-input-36-c8f260b7fe14>\u001b[0m in \u001b[0;36m<module>\u001b[1;34m\u001b[0m\n\u001b[0;32m     29\u001b[0m \u001b[0mcache\u001b[0m \u001b[1;33m=\u001b[0m \u001b[1;33m[\u001b[0m\u001b[1;33m]\u001b[0m\u001b[1;33m\u001b[0m\u001b[1;33m\u001b[0m\u001b[0m\n\u001b[0;32m     30\u001b[0m \u001b[0mcache_ddate\u001b[0m \u001b[1;33m=\u001b[0m \u001b[0mset\u001b[0m\u001b[1;33m(\u001b[0m\u001b[1;33m)\u001b[0m\u001b[1;33m\u001b[0m\u001b[1;33m\u001b[0m\u001b[0m\n\u001b[1;32m---> 31\u001b[1;33m \u001b[1;32mfor\u001b[0m \u001b[0mc\u001b[0m \u001b[1;32min\u001b[0m \u001b[0mtqdm\u001b[0m\u001b[1;33m(\u001b[0m\u001b[0mcrsp_df\u001b[0m\u001b[1;33m)\u001b[0m\u001b[1;33m:\u001b[0m\u001b[1;33m\u001b[0m\u001b[1;33m\u001b[0m\u001b[0m\n\u001b[0m\u001b[0;32m     32\u001b[0m     \u001b[0mc\u001b[0m \u001b[1;33m=\u001b[0m \u001b[0mc\u001b[0m\u001b[1;33m[\u001b[0m\u001b[1;33m(\u001b[0m\u001b[0mc\u001b[0m\u001b[1;33m.\u001b[0m\u001b[0mSHRCD\u001b[0m\u001b[1;33m.\u001b[0m\u001b[0misin\u001b[0m\u001b[1;33m(\u001b[0m\u001b[1;33m(\u001b[0m\u001b[1;34m'10'\u001b[0m\u001b[1;33m,\u001b[0m\u001b[1;34m'11'\u001b[0m\u001b[1;33m)\u001b[0m\u001b[1;33m)\u001b[0m\u001b[1;33m)\u001b[0m \u001b[1;33m]\u001b[0m\u001b[1;33m\u001b[0m\u001b[1;33m\u001b[0m\u001b[0m\n\u001b[0;32m     33\u001b[0m     c = c.groupby(by=['CUSIP','date']).agg({\n",
      "\u001b[1;32m~\\anaconda3\\envs\\fina4359\\lib\\site-packages\\tqdm\\std.py\u001b[0m in \u001b[0;36m__iter__\u001b[1;34m(self)\u001b[0m\n\u001b[0;32m   1176\u001b[0m \u001b[1;33m\u001b[0m\u001b[0m\n\u001b[0;32m   1177\u001b[0m         \u001b[1;32mtry\u001b[0m\u001b[1;33m:\u001b[0m\u001b[1;33m\u001b[0m\u001b[1;33m\u001b[0m\u001b[0m\n\u001b[1;32m-> 1178\u001b[1;33m             \u001b[1;32mfor\u001b[0m \u001b[0mobj\u001b[0m \u001b[1;32min\u001b[0m \u001b[0miterable\u001b[0m\u001b[1;33m:\u001b[0m\u001b[1;33m\u001b[0m\u001b[1;33m\u001b[0m\u001b[0m\n\u001b[0m\u001b[0;32m   1179\u001b[0m                 \u001b[1;32myield\u001b[0m \u001b[0mobj\u001b[0m\u001b[1;33m\u001b[0m\u001b[1;33m\u001b[0m\u001b[0m\n\u001b[0;32m   1180\u001b[0m                 \u001b[1;31m# Update and possibly print the progressbar.\u001b[0m\u001b[1;33m\u001b[0m\u001b[1;33m\u001b[0m\u001b[1;33m\u001b[0m\u001b[0m\n",
      "\u001b[1;32m~\\anaconda3\\envs\\fina4359\\lib\\site-packages\\pandas\\io\\parsers.py\u001b[0m in \u001b[0;36m__next__\u001b[1;34m(self)\u001b[0m\n\u001b[0;32m   1032\u001b[0m     \u001b[1;32mdef\u001b[0m \u001b[0m__next__\u001b[0m\u001b[1;33m(\u001b[0m\u001b[0mself\u001b[0m\u001b[1;33m)\u001b[0m\u001b[1;33m:\u001b[0m\u001b[1;33m\u001b[0m\u001b[1;33m\u001b[0m\u001b[0m\n\u001b[0;32m   1033\u001b[0m         \u001b[1;32mtry\u001b[0m\u001b[1;33m:\u001b[0m\u001b[1;33m\u001b[0m\u001b[1;33m\u001b[0m\u001b[0m\n\u001b[1;32m-> 1034\u001b[1;33m             \u001b[1;32mreturn\u001b[0m \u001b[0mself\u001b[0m\u001b[1;33m.\u001b[0m\u001b[0mget_chunk\u001b[0m\u001b[1;33m(\u001b[0m\u001b[1;33m)\u001b[0m\u001b[1;33m\u001b[0m\u001b[1;33m\u001b[0m\u001b[0m\n\u001b[0m\u001b[0;32m   1035\u001b[0m         \u001b[1;32mexcept\u001b[0m \u001b[0mStopIteration\u001b[0m\u001b[1;33m:\u001b[0m\u001b[1;33m\u001b[0m\u001b[1;33m\u001b[0m\u001b[0m\n\u001b[0;32m   1036\u001b[0m             \u001b[0mself\u001b[0m\u001b[1;33m.\u001b[0m\u001b[0mclose\u001b[0m\u001b[1;33m(\u001b[0m\u001b[1;33m)\u001b[0m\u001b[1;33m\u001b[0m\u001b[1;33m\u001b[0m\u001b[0m\n",
      "\u001b[1;32m~\\anaconda3\\envs\\fina4359\\lib\\site-packages\\pandas\\io\\parsers.py\u001b[0m in \u001b[0;36mget_chunk\u001b[1;34m(self, size)\u001b[0m\n\u001b[0;32m   1082\u001b[0m                 \u001b[1;32mraise\u001b[0m \u001b[0mStopIteration\u001b[0m\u001b[1;33m\u001b[0m\u001b[1;33m\u001b[0m\u001b[0m\n\u001b[0;32m   1083\u001b[0m             \u001b[0msize\u001b[0m \u001b[1;33m=\u001b[0m \u001b[0mmin\u001b[0m\u001b[1;33m(\u001b[0m\u001b[0msize\u001b[0m\u001b[1;33m,\u001b[0m \u001b[0mself\u001b[0m\u001b[1;33m.\u001b[0m\u001b[0mnrows\u001b[0m \u001b[1;33m-\u001b[0m \u001b[0mself\u001b[0m\u001b[1;33m.\u001b[0m\u001b[0m_currow\u001b[0m\u001b[1;33m)\u001b[0m\u001b[1;33m\u001b[0m\u001b[1;33m\u001b[0m\u001b[0m\n\u001b[1;32m-> 1084\u001b[1;33m         \u001b[1;32mreturn\u001b[0m \u001b[0mself\u001b[0m\u001b[1;33m.\u001b[0m\u001b[0mread\u001b[0m\u001b[1;33m(\u001b[0m\u001b[0mnrows\u001b[0m\u001b[1;33m=\u001b[0m\u001b[0msize\u001b[0m\u001b[1;33m)\u001b[0m\u001b[1;33m\u001b[0m\u001b[1;33m\u001b[0m\u001b[0m\n\u001b[0m\u001b[0;32m   1085\u001b[0m \u001b[1;33m\u001b[0m\u001b[0m\n\u001b[0;32m   1086\u001b[0m     \u001b[1;32mdef\u001b[0m \u001b[0m__enter__\u001b[0m\u001b[1;33m(\u001b[0m\u001b[0mself\u001b[0m\u001b[1;33m)\u001b[0m\u001b[1;33m:\u001b[0m\u001b[1;33m\u001b[0m\u001b[1;33m\u001b[0m\u001b[0m\n",
      "\u001b[1;32m~\\anaconda3\\envs\\fina4359\\lib\\site-packages\\pandas\\io\\parsers.py\u001b[0m in \u001b[0;36mread\u001b[1;34m(self, nrows)\u001b[0m\n\u001b[0;32m   1055\u001b[0m     \u001b[1;32mdef\u001b[0m \u001b[0mread\u001b[0m\u001b[1;33m(\u001b[0m\u001b[0mself\u001b[0m\u001b[1;33m,\u001b[0m \u001b[0mnrows\u001b[0m\u001b[1;33m=\u001b[0m\u001b[1;32mNone\u001b[0m\u001b[1;33m)\u001b[0m\u001b[1;33m:\u001b[0m\u001b[1;33m\u001b[0m\u001b[1;33m\u001b[0m\u001b[0m\n\u001b[0;32m   1056\u001b[0m         \u001b[0mnrows\u001b[0m \u001b[1;33m=\u001b[0m \u001b[0mvalidate_integer\u001b[0m\u001b[1;33m(\u001b[0m\u001b[1;34m\"nrows\"\u001b[0m\u001b[1;33m,\u001b[0m \u001b[0mnrows\u001b[0m\u001b[1;33m)\u001b[0m\u001b[1;33m\u001b[0m\u001b[1;33m\u001b[0m\u001b[0m\n\u001b[1;32m-> 1057\u001b[1;33m         \u001b[0mindex\u001b[0m\u001b[1;33m,\u001b[0m \u001b[0mcolumns\u001b[0m\u001b[1;33m,\u001b[0m \u001b[0mcol_dict\u001b[0m \u001b[1;33m=\u001b[0m \u001b[0mself\u001b[0m\u001b[1;33m.\u001b[0m\u001b[0m_engine\u001b[0m\u001b[1;33m.\u001b[0m\u001b[0mread\u001b[0m\u001b[1;33m(\u001b[0m\u001b[0mnrows\u001b[0m\u001b[1;33m)\u001b[0m\u001b[1;33m\u001b[0m\u001b[1;33m\u001b[0m\u001b[0m\n\u001b[0m\u001b[0;32m   1058\u001b[0m \u001b[1;33m\u001b[0m\u001b[0m\n\u001b[0;32m   1059\u001b[0m         \u001b[1;32mif\u001b[0m \u001b[0mindex\u001b[0m \u001b[1;32mis\u001b[0m \u001b[1;32mNone\u001b[0m\u001b[1;33m:\u001b[0m\u001b[1;33m\u001b[0m\u001b[1;33m\u001b[0m\u001b[0m\n",
      "\u001b[1;32m~\\anaconda3\\envs\\fina4359\\lib\\site-packages\\pandas\\io\\parsers.py\u001b[0m in \u001b[0;36mread\u001b[1;34m(self, nrows)\u001b[0m\n\u001b[0;32m   2059\u001b[0m     \u001b[1;32mdef\u001b[0m \u001b[0mread\u001b[0m\u001b[1;33m(\u001b[0m\u001b[0mself\u001b[0m\u001b[1;33m,\u001b[0m \u001b[0mnrows\u001b[0m\u001b[1;33m=\u001b[0m\u001b[1;32mNone\u001b[0m\u001b[1;33m)\u001b[0m\u001b[1;33m:\u001b[0m\u001b[1;33m\u001b[0m\u001b[1;33m\u001b[0m\u001b[0m\n\u001b[0;32m   2060\u001b[0m         \u001b[1;32mtry\u001b[0m\u001b[1;33m:\u001b[0m\u001b[1;33m\u001b[0m\u001b[1;33m\u001b[0m\u001b[0m\n\u001b[1;32m-> 2061\u001b[1;33m             \u001b[0mdata\u001b[0m \u001b[1;33m=\u001b[0m \u001b[0mself\u001b[0m\u001b[1;33m.\u001b[0m\u001b[0m_reader\u001b[0m\u001b[1;33m.\u001b[0m\u001b[0mread\u001b[0m\u001b[1;33m(\u001b[0m\u001b[0mnrows\u001b[0m\u001b[1;33m)\u001b[0m\u001b[1;33m\u001b[0m\u001b[1;33m\u001b[0m\u001b[0m\n\u001b[0m\u001b[0;32m   2062\u001b[0m         \u001b[1;32mexcept\u001b[0m \u001b[0mStopIteration\u001b[0m\u001b[1;33m:\u001b[0m\u001b[1;33m\u001b[0m\u001b[1;33m\u001b[0m\u001b[0m\n\u001b[0;32m   2063\u001b[0m             \u001b[1;32mif\u001b[0m \u001b[0mself\u001b[0m\u001b[1;33m.\u001b[0m\u001b[0m_first_chunk\u001b[0m\u001b[1;33m:\u001b[0m\u001b[1;33m\u001b[0m\u001b[1;33m\u001b[0m\u001b[0m\n",
      "\u001b[1;32mpandas\\_libs\\parsers.pyx\u001b[0m in \u001b[0;36mpandas._libs.parsers.TextReader.read\u001b[1;34m()\u001b[0m\n",
      "\u001b[1;32mpandas\\_libs\\parsers.pyx\u001b[0m in \u001b[0;36mpandas._libs.parsers.TextReader._read_low_memory\u001b[1;34m()\u001b[0m\n",
      "\u001b[1;32mpandas\\_libs\\parsers.pyx\u001b[0m in \u001b[0;36mpandas._libs.parsers.TextReader._read_rows\u001b[1;34m()\u001b[0m\n",
      "\u001b[1;32mpandas\\_libs\\parsers.pyx\u001b[0m in \u001b[0;36mpandas._libs.parsers.TextReader._convert_column_data\u001b[1;34m()\u001b[0m\n",
      "\u001b[1;32m~\\anaconda3\\envs\\fina4359\\lib\\site-packages\\pandas\\core\\dtypes\\common.py\u001b[0m in \u001b[0;36mis_extension_array_dtype\u001b[1;34m(arr_or_dtype)\u001b[0m\n\u001b[0;32m   1468\u001b[0m \u001b[1;33m\u001b[0m\u001b[0m\n\u001b[0;32m   1469\u001b[0m \u001b[1;33m\u001b[0m\u001b[0m\n\u001b[1;32m-> 1470\u001b[1;33m \u001b[1;32mdef\u001b[0m \u001b[0mis_extension_array_dtype\u001b[0m\u001b[1;33m(\u001b[0m\u001b[0marr_or_dtype\u001b[0m\u001b[1;33m)\u001b[0m \u001b[1;33m->\u001b[0m \u001b[0mbool\u001b[0m\u001b[1;33m:\u001b[0m\u001b[1;33m\u001b[0m\u001b[1;33m\u001b[0m\u001b[0m\n\u001b[0m\u001b[0;32m   1471\u001b[0m     \"\"\"\n\u001b[0;32m   1472\u001b[0m     \u001b[0mCheck\u001b[0m \u001b[1;32mif\u001b[0m \u001b[0man\u001b[0m \u001b[0mobject\u001b[0m \u001b[1;32mis\u001b[0m \u001b[0ma\u001b[0m \u001b[0mpandas\u001b[0m \u001b[0mextension\u001b[0m \u001b[0marray\u001b[0m \u001b[0mtype\u001b[0m\u001b[1;33m.\u001b[0m\u001b[1;33m\u001b[0m\u001b[1;33m\u001b[0m\u001b[0m\n",
      "\u001b[1;31mKeyboardInterrupt\u001b[0m: "
     ]
    }
   ],
   "source": [
    "#In[] 1,227,297,915 size, 7675it * 10000\n",
    "crsp_df = pd.read_csv(\"crsp_d.csv\",header=0,\n",
    "    parse_dates = ['date','DCLRDT','RCRDDT'],\n",
    "    dtype={\n",
    "        \"PERMNO\": str,\n",
    "        \"PRC\": np.float64,\n",
    "        \"VOL\": np.float64,\n",
    "        \"SHROUT\": np.float64,\n",
    "        \"DIVAMT\": np.float64,\n",
    "        \"SHRCD\":str,\n",
    "        \"DISTCD\":str,\n",
    "        \"COMNAM\": str,\n",
    "        \"TICKER\": str,\n",
    "        'CUSIP': str,\n",
    "        \"BID\": np.float64,\n",
    "        \"ASK\": np.float64}, chunksize=100000)\n",
    "#Data Preprocessing\n",
    "#In[]\n",
    "d = {}\n",
    "one = False\n",
    "def insert(i,x):\n",
    "    if str(x)[-1].isdigit() == False:\n",
    "        return\n",
    "    x = float(x)\n",
    "    if i not in d:\n",
    "        d[i] = [x]\n",
    "    else:\n",
    "        d[i].append(x)\n",
    "    return\n",
    "cache = []\n",
    "cache_ddate = set()\n",
    "for c in tqdm(crsp_df):\n",
    "    c = c[(c.SHRCD.isin(('10','11'))) ]\n",
    "    c = c.groupby(by=['CUSIP','date']).agg({\n",
    "          'DCLRDT': 'last',\n",
    "          'RCRDDT': 'last',\n",
    "          'DISTCD': 'last',\n",
    "          'DIVAMT': 'sum',\n",
    "          'RET':'last',\n",
    "          'RETX':'last',\n",
    "          'PRC': 'last'}).reset_index()\n",
    "    if not one:\n",
    "         cusip = c.head(1).reset_index().iloc[0].CUSIP\n",
    "         one = True\n",
    "    count = 0\n",
    "    # c['dt'] = 0\n",
    "    lastDivDate = None\n",
    "    for row in c.itertuples():\n",
    "        if row.CUSIP != cusip:\n",
    "            cusip = row.CUSIP\n",
    "            count = 0\n",
    "            lastDivDate = None\n",
    "            for row2 in cache:\n",
    "                if row2[0] in cache_ddate:\n",
    "                    count = 0\n",
    "                    insert(count, row.RET)\n",
    "                    cache_ddate.remove(row2[0])\n",
    "                    count += 1\n",
    "                    lastDivDate = True\n",
    "                elif lastDivDate is not None:\n",
    "                    insert(count, row.RET)\n",
    "                    count += 1\n",
    "            cache = list()\n",
    "            cache_ddate = set()\n",
    "        else:\n",
    "            cache.append((row.date, row.RET))\n",
    "            if pd.isna(row.DCLRDT) == False:\n",
    "                cache_ddate.add(row.DCLRDT)\n",
    "for row2 in cache:\n",
    "    if row2[0] in cache_ddate:\n",
    "        insert(count, row.RET)\n",
    "        cache_ddate.remove(row2[0])\n",
    "        count += 1\n",
    "        lastDivDate = True\n",
    "    elif lastDivDate is not None:\n",
    "        insert(count, row.RET)\n",
    "        count += 1        "
   ]
  },
  {
   "cell_type": "code",
   "execution_count": 29,
   "metadata": {},
   "outputs": [
    {
     "output_type": "stream",
     "name": "stderr",
     "text": [
      "723it [32:10,  3.49s/it]C:\\Users\\kobe\\anaconda3\\envs\\fina4359\\lib\\site-packages\\IPython\\core\\interactiveshell.py:3357: DtypeWarning: Columns (10,14) have mixed types.Specify dtype option on import or set low_memory=False.\n",
      "  if (await self.run_code(code, result,  async_=asy)):\n",
      "819it [38:00,  2.78s/it]\n"
     ]
    }
   ],
   "source": [
    "#In[] 1,227,297,915 size, 7675it * 10000\n",
    "crsp_df = pd.read_csv(\"crsp_d.csv\",header=0,\n",
    "    parse_dates = ['date','DCLRDT','RCRDDT'],\n",
    "    dtype={\n",
    "        \"PERMNO\": str,\n",
    "        \"PRC\": np.float64,\n",
    "        \"VOL\": np.float64,\n",
    "        \"SHROUT\": np.float64,\n",
    "        \"DIVAMT\": np.float64,\n",
    "        \"SHRCD\":str,\n",
    "        \"DISTCD\":str,\n",
    "        \"COMNAM\": str,\n",
    "        \"TICKER\": str,\n",
    "        'CUSIP': str,\n",
    "        \"BID\": np.float64,\n",
    "        \"ASK\": np.float64}, chunksize=100000)\n",
    "#Data Preprocessing\n",
    "#In[]\n",
    "d = {}\n",
    "one = False\n",
    "def insert(i,x):\n",
    "    if str(x)[-1].isdigit() == False:\n",
    "        return\n",
    "    x = float(x)\n",
    "    if i not in d:\n",
    "        d[i] = [x]\n",
    "    else:\n",
    "        d[i].append(x)\n",
    "    return\n",
    "cache = []\n",
    "cache_ddate = set()\n",
    "for c in tqdm(crsp_df):\n",
    "    c = c[(c.SHRCD.isin(('10','11'))) ]\n",
    "    c = c.groupby(by=['CUSIP','date']).agg({\n",
    "          'DCLRDT': 'last',\n",
    "          'RCRDDT': 'last',\n",
    "          'DISTCD': 'last',\n",
    "          'DIVAMT': 'sum',\n",
    "          'RET':'last',\n",
    "          'RETX':'last',\n",
    "          'PRC': 'last'}).reset_index()\n",
    "    if not one:\n",
    "         cusip = c.head(1).reset_index().iloc[0].CUSIP\n",
    "         one = True\n",
    "    count = 0\n",
    "    # c['dt'] = 0\n",
    "    lastDivDate = None\n",
    "    for row in c.itertuples():\n",
    "        if row.CUSIP != cusip:\n",
    "            cusip = row.CUSIP\n",
    "            count = 0\n",
    "            lastDivDate = None\n",
    "            for row2 in cache:\n",
    "                if row2[0] in cache_ddate:\n",
    "                    count = 0\n",
    "                    # insert(count, row.RET)\n",
    "                    cache_ddate.remove(row2[0])\n",
    "                    count += 1\n",
    "                    lastDivDate = True\n",
    "                elif lastDivDate is not None:\n",
    "                    insert(count * -1, row.RET)\n",
    "                    count += 1\n",
    "            cache = list()\n",
    "            cache_ddate = set()\n",
    "        else:\n",
    "            cache.append((row.date, row.RET))\n",
    "            if pd.isna(row.DCLRDT) == False:\n",
    "                cache_ddate.add(row.DCLRDT)\n",
    "for row2 in cache:\n",
    "    if row2[0] in cache_ddate:\n",
    "        insert(count, row.RET)\n",
    "        cache_ddate.remove(row2[0])\n",
    "        count += 1\n",
    "        lastDivDate = True\n",
    "    elif lastDivDate is not None:\n",
    "        insert(count, row.RET)\n",
    "        count += 1        "
   ]
  },
  {
   "cell_type": "code",
   "execution_count": 30,
   "metadata": {},
   "outputs": [
    {
     "output_type": "stream",
     "name": "stdout",
     "text": [
      "[0.03842154501437095, 0.03184474864351832, 0.05618858012814623, 0.059929092179959766, 0.07250599317406044, 0.06062770581591875, 0.06113053989091284, 0.07481733969668132, 0.07281201566448767, 0.07382445836702779, 0.043297208259989055, 0.04627693659650009, 0.06473718472996691, 0.07424719861647744, 0.08426161912540304, 0.04352533923667761, 0.07414044330655926, 0.07888081155726603, 0.08557375924010376, 0.0662827963688583, 0.02900688704476715, 0.049443721565513014, 0.03891412519583672, 0.04807776074307821, 0.042288654611220014, 0.0012138923941151767, 0.06542582598776894, 0.06816720983965269, 0.06654150767972072, 0.07638566590527801, 0.44737121138990804, 0.07640416652215028, 0.0665076782327325, 0.06817100178189701, 0.06550893805045671, 0.0011785416677037026, 0.042318529996462705, 0.04803462982444856, 0.038993482306803016, 0.049429423398182355, 0.029055765332266798, 0.06628546502317004, 0.08553828583739174, 0.0789810867356533, 0.07426462442995543, 0.04358774045117484, 0.08424649625652413, 0.07420840247024642, 0.0647109969650988, 0.04630703151551384, 0.043258044862988856, 0.0737881741441904, 0.07280386740472701, 0.07485057633304873, 0.06118420167333553, 0.060659551061886564, 0.07245893053555452, 0.05980102709604274, 0.05630222625116838, 0.03175230076502495, 0.03848056094996979, 0.0702573865521817, 0.06034596977428066, 0.056885847345304226, 0.04277821377073736, 0.046539136611138794, 0.08288696268415185, 0.059489796974752616, 0.050221834411121186, 0.0388021046358696, 0.057756362737310316, 0.07775565221974558, 0.08491750603574527, 0.06601573829805255, 0.05543471843524979, 0.0723367620970556, 0.07809743383736635, 0.06868931335709921, 0.051025193430089565, 0.03366383230983538, 0.04719274781823807, 0.07459994435849399, 0.057375843325165016, 0.058390826930898226, 0.05672373070356771, 0.07914967855950028, 0.08674550264846938, 0.08378343235410436, 0.08012349154778711, 0.06079321371993953, 0.10106417551487697]\n"
     ]
    }
   ],
   "source": [
    "x = range(-30, 61, 1)\n",
    "dlist = [ 100*sum(d[key])/len(d[key]) for key in x ]\n",
    "print(dlist)"
   ]
  },
  {
   "cell_type": "code",
   "execution_count": 31,
   "metadata": {},
   "outputs": [
    {
     "output_type": "display_data",
     "data": {
      "text/plain": "<Figure size 432x288 with 1 Axes>",
      "image/svg+xml": "<?xml version=\"1.0\" encoding=\"utf-8\" standalone=\"no\"?>\r\n<!DOCTYPE svg PUBLIC \"-//W3C//DTD SVG 1.1//EN\"\r\n  \"http://www.w3.org/Graphics/SVG/1.1/DTD/svg11.dtd\">\r\n<!-- Created with matplotlib (https://matplotlib.org/) -->\r\n<svg height=\"263.63625pt\" version=\"1.1\" viewBox=\"0 0 372.103125 263.63625\" width=\"372.103125pt\" xmlns=\"http://www.w3.org/2000/svg\" xmlns:xlink=\"http://www.w3.org/1999/xlink\">\r\n <metadata>\r\n  <rdf:RDF xmlns:cc=\"http://creativecommons.org/ns#\" xmlns:dc=\"http://purl.org/dc/elements/1.1/\" xmlns:rdf=\"http://www.w3.org/1999/02/22-rdf-syntax-ns#\">\r\n   <cc:Work>\r\n    <dc:type rdf:resource=\"http://purl.org/dc/dcmitype/StillImage\"/>\r\n    <dc:date>2021-05-28T01:20:14.953967</dc:date>\r\n    <dc:format>image/svg+xml</dc:format>\r\n    <dc:creator>\r\n     <cc:Agent>\r\n      <dc:title>Matplotlib v3.3.4, https://matplotlib.org/</dc:title>\r\n     </cc:Agent>\r\n    </dc:creator>\r\n   </cc:Work>\r\n  </rdf:RDF>\r\n </metadata>\r\n <defs>\r\n  <style type=\"text/css\">*{stroke-linecap:butt;stroke-linejoin:round;}</style>\r\n </defs>\r\n <g id=\"figure_1\">\r\n  <g id=\"patch_1\">\r\n   <path d=\"M 0 263.63625 \r\nL 372.103125 263.63625 \r\nL 372.103125 0 \r\nL 0 0 \r\nz\r\n\" style=\"fill:none;\"/>\r\n  </g>\r\n  <g id=\"axes_1\">\r\n   <g id=\"patch_2\">\r\n    <path d=\"M 30.103125 239.758125 \r\nL 364.903125 239.758125 \r\nL 364.903125 22.318125 \r\nL 30.103125 22.318125 \r\nz\r\n\" style=\"fill:#ffffff;\"/>\r\n   </g>\r\n   <g id=\"patch_3\">\r\n    <path clip-path=\"url(#pe64fb32336)\" d=\"M 45.321307 239.758125 \r\nL 48.002925 239.758125 \r\nL 48.002925 221.973 \r\nL 45.321307 221.973 \r\nz\r\n\" style=\"fill:#1f77b4;\"/>\r\n   </g>\r\n   <g id=\"patch_4\">\r\n    <path clip-path=\"url(#pe64fb32336)\" d=\"M 48.673329 239.758125 \r\nL 51.354947 239.758125 \r\nL 51.354947 225.017363 \r\nL 48.673329 225.017363 \r\nz\r\n\" style=\"fill:#1f77b4;\"/>\r\n   </g>\r\n   <g id=\"patch_5\">\r\n    <path clip-path=\"url(#pe64fb32336)\" d=\"M 52.025352 239.758125 \r\nL 54.70697 239.758125 \r\nL 54.70697 213.748735 \r\nL 52.025352 213.748735 \r\nz\r\n\" style=\"fill:#1f77b4;\"/>\r\n   </g>\r\n   <g id=\"patch_6\">\r\n    <path clip-path=\"url(#pe64fb32336)\" d=\"M 55.377374 239.758125 \r\nL 58.058992 239.758125 \r\nL 58.058992 212.017272 \r\nL 55.377374 212.017272 \r\nz\r\n\" style=\"fill:#1f77b4;\"/>\r\n   </g>\r\n   <g id=\"patch_7\">\r\n    <path clip-path=\"url(#pe64fb32336)\" d=\"M 58.729397 239.758125 \r\nL 61.411014 239.758125 \r\nL 61.411014 206.195493 \r\nL 58.729397 206.195493 \r\nz\r\n\" style=\"fill:#1f77b4;\"/>\r\n   </g>\r\n   <g id=\"patch_8\">\r\n    <path clip-path=\"url(#pe64fb32336)\" d=\"M 62.081419 239.758125 \r\nL 64.763037 239.758125 \r\nL 64.763037 211.693888 \r\nL 62.081419 211.693888 \r\nz\r\n\" style=\"fill:#1f77b4;\"/>\r\n   </g>\r\n   <g id=\"patch_9\">\r\n    <path clip-path=\"url(#pe64fb32336)\" d=\"M 65.433441 239.758125 \r\nL 68.115059 239.758125 \r\nL 68.115059 211.461129 \r\nL 65.433441 211.461129 \r\nz\r\n\" style=\"fill:#1f77b4;\"/>\r\n   </g>\r\n   <g id=\"patch_10\">\r\n    <path clip-path=\"url(#pe64fb32336)\" d=\"M 68.785464 239.758125 \r\nL 71.467082 239.758125 \r\nL 71.467082 205.125583 \r\nL 68.785464 205.125583 \r\nz\r\n\" style=\"fill:#1f77b4;\"/>\r\n   </g>\r\n   <g id=\"patch_11\">\r\n    <path clip-path=\"url(#pe64fb32336)\" d=\"M 72.137486 239.758125 \r\nL 74.819104 239.758125 \r\nL 74.819104 206.053837 \r\nL 72.137486 206.053837 \r\nz\r\n\" style=\"fill:#1f77b4;\"/>\r\n   </g>\r\n   <g id=\"patch_12\">\r\n    <path clip-path=\"url(#pe64fb32336)\" d=\"M 75.489509 239.758125 \r\nL 78.171127 239.758125 \r\nL 78.171127 205.585182 \r\nL 75.489509 205.585182 \r\nz\r\n\" style=\"fill:#1f77b4;\"/>\r\n   </g>\r\n   <g id=\"patch_13\">\r\n    <path clip-path=\"url(#pe64fb32336)\" d=\"M 78.841531 239.758125 \r\nL 81.523149 239.758125 \r\nL 81.523149 219.716081 \r\nL 78.841531 219.716081 \r\nz\r\n\" style=\"fill:#1f77b4;\"/>\r\n   </g>\r\n   <g id=\"patch_14\">\r\n    <path clip-path=\"url(#pe64fb32336)\" d=\"M 82.193554 239.758125 \r\nL 84.875171 239.758125 \r\nL 84.875171 218.336781 \r\nL 82.193554 218.336781 \r\nz\r\n\" style=\"fill:#1f77b4;\"/>\r\n   </g>\r\n   <g id=\"patch_15\">\r\n    <path clip-path=\"url(#pe64fb32336)\" d=\"M 85.545576 239.758125 \r\nL 88.227194 239.758125 \r\nL 88.227194 209.791632 \r\nL 85.545576 209.791632 \r\nz\r\n\" style=\"fill:#1f77b4;\"/>\r\n   </g>\r\n   <g id=\"patch_16\">\r\n    <path clip-path=\"url(#pe64fb32336)\" d=\"M 88.897598 239.758125 \r\nL 91.579216 239.758125 \r\nL 91.579216 205.389498 \r\nL 88.897598 205.389498 \r\nz\r\n\" style=\"fill:#1f77b4;\"/>\r\n   </g>\r\n   <g id=\"patch_17\">\r\n    <path clip-path=\"url(#pe64fb32336)\" d=\"M 92.249621 239.758125 \r\nL 94.931239 239.758125 \r\nL 94.931239 200.753877 \r\nL 92.249621 200.753877 \r\nz\r\n\" style=\"fill:#1f77b4;\"/>\r\n   </g>\r\n   <g id=\"patch_18\">\r\n    <path clip-path=\"url(#pe64fb32336)\" d=\"M 95.601643 239.758125 \r\nL 98.283261 239.758125 \r\nL 98.283261 219.610481 \r\nL 95.601643 219.610481 \r\nz\r\n\" style=\"fill:#1f77b4;\"/>\r\n   </g>\r\n   <g id=\"patch_19\">\r\n    <path clip-path=\"url(#pe64fb32336)\" d=\"M 98.953666 239.758125 \r\nL 101.635284 239.758125 \r\nL 101.635284 205.438915 \r\nL 98.953666 205.438915 \r\nz\r\n\" style=\"fill:#1f77b4;\"/>\r\n   </g>\r\n   <g id=\"patch_20\">\r\n    <path clip-path=\"url(#pe64fb32336)\" d=\"M 102.305688 239.758125 \r\nL 104.987306 239.758125 \r\nL 104.987306 203.244624 \r\nL 102.305688 203.244624 \r\nz\r\n\" style=\"fill:#1f77b4;\"/>\r\n   </g>\r\n   <g id=\"patch_21\">\r\n    <path clip-path=\"url(#pe64fb32336)\" d=\"M 105.657711 239.758125 \r\nL 108.339328 239.758125 \r\nL 108.339328 200.146495 \r\nL 105.657711 200.146495 \r\nz\r\n\" style=\"fill:#1f77b4;\"/>\r\n   </g>\r\n   <g id=\"patch_22\">\r\n    <path clip-path=\"url(#pe64fb32336)\" d=\"M 109.009733 239.758125 \r\nL 111.691351 239.758125 \r\nL 111.691351 209.076177 \r\nL 109.009733 209.076177 \r\nz\r\n\" style=\"fill:#1f77b4;\"/>\r\n   </g>\r\n   <g id=\"patch_23\">\r\n    <path clip-path=\"url(#pe64fb32336)\" d=\"M 112.361755 239.758125 \r\nL 115.043373 239.758125 \r\nL 115.043373 226.330994 \r\nL 112.361755 226.330994 \r\nz\r\n\" style=\"fill:#1f77b4;\"/>\r\n   </g>\r\n   <g id=\"patch_24\">\r\n    <path clip-path=\"url(#pe64fb32336)\" d=\"M 115.713778 239.758125 \r\nL 118.395396 239.758125 \r\nL 118.395396 216.870894 \r\nL 115.713778 216.870894 \r\nz\r\n\" style=\"fill:#1f77b4;\"/>\r\n   </g>\r\n   <g id=\"patch_25\">\r\n    <path clip-path=\"url(#pe64fb32336)\" d=\"M 119.0658 239.758125 \r\nL 121.747418 239.758125 \r\nL 121.747418 221.744987 \r\nL 119.0658 221.744987 \r\nz\r\n\" style=\"fill:#1f77b4;\"/>\r\n   </g>\r\n   <g id=\"patch_26\">\r\n    <path clip-path=\"url(#pe64fb32336)\" d=\"M 122.417823 239.758125 \r\nL 125.099441 239.758125 \r\nL 125.099441 217.50319 \r\nL 122.417823 217.50319 \r\nz\r\n\" style=\"fill:#1f77b4;\"/>\r\n   </g>\r\n   <g id=\"patch_27\">\r\n    <path clip-path=\"url(#pe64fb32336)\" d=\"M 125.769845 239.758125 \r\nL 128.451463 239.758125 \r\nL 128.451463 220.182935 \r\nL 125.769845 220.182935 \r\nz\r\n\" style=\"fill:#1f77b4;\"/>\r\n   </g>\r\n   <g id=\"patch_28\">\r\n    <path clip-path=\"url(#pe64fb32336)\" d=\"M 129.121867 239.758125 \r\nL 131.803485 239.758125 \r\nL 131.803485 239.196221 \r\nL 129.121867 239.196221 \r\nz\r\n\" style=\"fill:#1f77b4;\"/>\r\n   </g>\r\n   <g id=\"patch_29\">\r\n    <path clip-path=\"url(#pe64fb32336)\" d=\"M 132.47389 239.758125 \r\nL 135.155508 239.758125 \r\nL 135.155508 209.472864 \r\nL 132.47389 209.472864 \r\nz\r\n\" style=\"fill:#1f77b4;\"/>\r\n   </g>\r\n   <g id=\"patch_30\">\r\n    <path clip-path=\"url(#pe64fb32336)\" d=\"M 135.825912 239.758125 \r\nL 138.50753 239.758125 \r\nL 138.50753 208.203892 \r\nL 135.825912 208.203892 \r\nz\r\n\" style=\"fill:#1f77b4;\"/>\r\n   </g>\r\n   <g id=\"patch_31\">\r\n    <path clip-path=\"url(#pe64fb32336)\" d=\"M 139.177935 239.758125 \r\nL 141.859553 239.758125 \r\nL 141.859553 208.956421 \r\nL 139.177935 208.956421 \r\nz\r\n\" style=\"fill:#1f77b4;\"/>\r\n   </g>\r\n   <g id=\"patch_32\">\r\n    <path clip-path=\"url(#pe64fb32336)\" d=\"M 142.529957 239.758125 \r\nL 145.211575 239.758125 \r\nL 145.211575 204.399613 \r\nL 142.529957 204.399613 \r\nz\r\n\" style=\"fill:#1f77b4;\"/>\r\n   </g>\r\n   <g id=\"patch_33\">\r\n    <path clip-path=\"url(#pe64fb32336)\" d=\"M 145.88198 239.758125 \r\nL 148.563598 239.758125 \r\nL 148.563598 32.672411 \r\nL 145.88198 32.672411 \r\nz\r\n\" style=\"fill:#1f77b4;\"/>\r\n   </g>\r\n   <g id=\"patch_34\">\r\n    <path clip-path=\"url(#pe64fb32336)\" d=\"M 149.234002 239.758125 \r\nL 151.91562 239.758125 \r\nL 151.91562 204.39105 \r\nL 149.234002 204.39105 \r\nz\r\n\" style=\"fill:#1f77b4;\"/>\r\n   </g>\r\n   <g id=\"patch_35\">\r\n    <path clip-path=\"url(#pe64fb32336)\" d=\"M 152.586024 239.758125 \r\nL 155.267642 239.758125 \r\nL 155.267642 208.97208 \r\nL 152.586024 208.97208 \r\nz\r\n\" style=\"fill:#1f77b4;\"/>\r\n   </g>\r\n   <g id=\"patch_36\">\r\n    <path clip-path=\"url(#pe64fb32336)\" d=\"M 155.938047 239.758125 \r\nL 158.619665 239.758125 \r\nL 158.619665 208.202137 \r\nL 155.938047 208.202137 \r\nz\r\n\" style=\"fill:#1f77b4;\"/>\r\n   </g>\r\n   <g id=\"patch_37\">\r\n    <path clip-path=\"url(#pe64fb32336)\" d=\"M 159.290069 239.758125 \r\nL 161.971687 239.758125 \r\nL 161.971687 209.434392 \r\nL 159.290069 209.434392 \r\nz\r\n\" style=\"fill:#1f77b4;\"/>\r\n   </g>\r\n   <g id=\"patch_38\">\r\n    <path clip-path=\"url(#pe64fb32336)\" d=\"M 162.642092 239.758125 \r\nL 165.32371 239.758125 \r\nL 165.32371 239.212584 \r\nL 162.642092 239.212584 \r\nz\r\n\" style=\"fill:#1f77b4;\"/>\r\n   </g>\r\n   <g id=\"patch_39\">\r\n    <path clip-path=\"url(#pe64fb32336)\" d=\"M 165.994114 239.758125 \r\nL 168.675732 239.758125 \r\nL 168.675732 220.169106 \r\nL 165.994114 220.169106 \r\nz\r\n\" style=\"fill:#1f77b4;\"/>\r\n   </g>\r\n   <g id=\"patch_40\">\r\n    <path clip-path=\"url(#pe64fb32336)\" d=\"M 169.346137 239.758125 \r\nL 172.027755 239.758125 \r\nL 172.027755 217.523155 \r\nL 169.346137 217.523155 \r\nz\r\n\" style=\"fill:#1f77b4;\"/>\r\n   </g>\r\n   <g id=\"patch_41\">\r\n    <path clip-path=\"url(#pe64fb32336)\" d=\"M 172.698159 239.758125 \r\nL 175.379777 239.758125 \r\nL 175.379777 221.708253 \r\nL 172.698159 221.708253 \r\nz\r\n\" style=\"fill:#1f77b4;\"/>\r\n   </g>\r\n   <g id=\"patch_42\">\r\n    <path clip-path=\"url(#pe64fb32336)\" d=\"M 176.050181 239.758125 \r\nL 178.731799 239.758125 \r\nL 178.731799 216.877512 \r\nL 176.050181 216.877512 \r\nz\r\n\" style=\"fill:#1f77b4;\"/>\r\n   </g>\r\n   <g id=\"patch_43\">\r\n    <path clip-path=\"url(#pe64fb32336)\" d=\"M 179.402204 239.758125 \r\nL 182.083822 239.758125 \r\nL 182.083822 226.308368 \r\nL 179.402204 226.308368 \r\nz\r\n\" style=\"fill:#1f77b4;\"/>\r\n   </g>\r\n   <g id=\"patch_44\">\r\n    <path clip-path=\"url(#pe64fb32336)\" d=\"M 182.754226 239.758125 \r\nL 185.435844 239.758125 \r\nL 185.435844 209.074942 \r\nL 182.754226 209.074942 \r\nz\r\n\" style=\"fill:#1f77b4;\"/>\r\n   </g>\r\n   <g id=\"patch_45\">\r\n    <path clip-path=\"url(#pe64fb32336)\" d=\"M 186.106249 239.758125 \r\nL 188.787867 239.758125 \r\nL 188.787867 200.162915 \r\nL 186.106249 200.162915 \r\nz\r\n\" style=\"fill:#1f77b4;\"/>\r\n   </g>\r\n   <g id=\"patch_46\">\r\n    <path clip-path=\"url(#pe64fb32336)\" d=\"M 189.458271 239.758125 \r\nL 192.139889 239.758125 \r\nL 192.139889 203.198207 \r\nL 189.458271 203.198207 \r\nz\r\n\" style=\"fill:#1f77b4;\"/>\r\n   </g>\r\n   <g id=\"patch_47\">\r\n    <path clip-path=\"url(#pe64fb32336)\" d=\"M 192.810294 239.758125 \r\nL 195.491912 239.758125 \r\nL 195.491912 205.381432 \r\nL 192.810294 205.381432 \r\nz\r\n\" style=\"fill:#1f77b4;\"/>\r\n   </g>\r\n   <g id=\"patch_48\">\r\n    <path clip-path=\"url(#pe64fb32336)\" d=\"M 196.162316 239.758125 \r\nL 198.843934 239.758125 \r\nL 198.843934 219.581596 \r\nL 196.162316 219.581596 \r\nz\r\n\" style=\"fill:#1f77b4;\"/>\r\n   </g>\r\n   <g id=\"patch_49\">\r\n    <path clip-path=\"url(#pe64fb32336)\" d=\"M 199.514338 239.758125 \r\nL 202.195956 239.758125 \r\nL 202.195956 200.760878 \r\nL 199.514338 200.760878 \r\nz\r\n\" style=\"fill:#1f77b4;\"/>\r\n   </g>\r\n   <g id=\"patch_50\">\r\n    <path clip-path=\"url(#pe64fb32336)\" d=\"M 202.866361 239.758125 \r\nL 205.547979 239.758125 \r\nL 205.547979 205.407457 \r\nL 202.866361 205.407457 \r\nz\r\n\" style=\"fill:#1f77b4;\"/>\r\n   </g>\r\n   <g id=\"patch_51\">\r\n    <path clip-path=\"url(#pe64fb32336)\" d=\"M 206.218383 239.758125 \r\nL 208.900001 239.758125 \r\nL 208.900001 209.803754 \r\nL 206.218383 209.803754 \r\nz\r\n\" style=\"fill:#1f77b4;\"/>\r\n   </g>\r\n   <g id=\"patch_52\">\r\n    <path clip-path=\"url(#pe64fb32336)\" d=\"M 209.570406 239.758125 \r\nL 212.252024 239.758125 \r\nL 212.252024 218.322851 \r\nL 209.570406 218.322851 \r\nz\r\n\" style=\"fill:#1f77b4;\"/>\r\n   </g>\r\n   <g id=\"patch_53\">\r\n    <path clip-path=\"url(#pe64fb32336)\" d=\"M 212.922428 239.758125 \r\nL 215.604046 239.758125 \r\nL 215.604046 219.73421 \r\nL 212.922428 219.73421 \r\nz\r\n\" style=\"fill:#1f77b4;\"/>\r\n   </g>\r\n   <g id=\"patch_54\">\r\n    <path clip-path=\"url(#pe64fb32336)\" d=\"M 216.274451 239.758125 \r\nL 218.956069 239.758125 \r\nL 218.956069 205.601978 \r\nL 216.274451 205.601978 \r\nz\r\n\" style=\"fill:#1f77b4;\"/>\r\n   </g>\r\n   <g id=\"patch_55\">\r\n    <path clip-path=\"url(#pe64fb32336)\" d=\"M 219.626473 239.758125 \r\nL 222.308091 239.758125 \r\nL 222.308091 206.057609 \r\nL 219.626473 206.057609 \r\nz\r\n\" style=\"fill:#1f77b4;\"/>\r\n   </g>\r\n   <g id=\"patch_56\">\r\n    <path clip-path=\"url(#pe64fb32336)\" d=\"M 222.978495 239.758125 \r\nL 225.660113 239.758125 \r\nL 225.660113 205.110198 \r\nL 222.978495 205.110198 \r\nz\r\n\" style=\"fill:#1f77b4;\"/>\r\n   </g>\r\n   <g id=\"patch_57\">\r\n    <path clip-path=\"url(#pe64fb32336)\" d=\"M 226.330518 239.758125 \r\nL 229.012136 239.758125 \r\nL 229.012136 211.436289 \r\nL 226.330518 211.436289 \r\nz\r\n\" style=\"fill:#1f77b4;\"/>\r\n   </g>\r\n   <g id=\"patch_58\">\r\n    <path clip-path=\"url(#pe64fb32336)\" d=\"M 229.68254 239.758125 \r\nL 232.364158 239.758125 \r\nL 232.364158 211.679147 \r\nL 229.68254 211.679147 \r\nz\r\n\" style=\"fill:#1f77b4;\"/>\r\n   </g>\r\n   <g id=\"patch_59\">\r\n    <path clip-path=\"url(#pe64fb32336)\" d=\"M 233.034563 239.758125 \r\nL 235.716181 239.758125 \r\nL 235.716181 206.217278 \r\nL 233.034563 206.217278 \r\nz\r\n\" style=\"fill:#1f77b4;\"/>\r\n   </g>\r\n   <g id=\"patch_60\">\r\n    <path clip-path=\"url(#pe64fb32336)\" d=\"M 236.386585 239.758125 \r\nL 239.068203 239.758125 \r\nL 239.068203 212.076553 \r\nL 236.386585 212.076553 \r\nz\r\n\" style=\"fill:#1f77b4;\"/>\r\n   </g>\r\n   <g id=\"patch_61\">\r\n    <path clip-path=\"url(#pe64fb32336)\" d=\"M 239.738608 239.758125 \r\nL 242.420226 239.758125 \r\nL 242.420226 213.696129 \r\nL 239.738608 213.696129 \r\nz\r\n\" style=\"fill:#1f77b4;\"/>\r\n   </g>\r\n   <g id=\"patch_62\">\r\n    <path clip-path=\"url(#pe64fb32336)\" d=\"M 243.09063 239.758125 \r\nL 245.772248 239.758125 \r\nL 245.772248 225.060157 \r\nL 243.09063 225.060157 \r\nz\r\n\" style=\"fill:#1f77b4;\"/>\r\n   </g>\r\n   <g id=\"patch_63\">\r\n    <path clip-path=\"url(#pe64fb32336)\" d=\"M 246.442652 239.758125 \r\nL 249.12427 239.758125 \r\nL 249.12427 221.945681 \r\nL 246.442652 221.945681 \r\nz\r\n\" style=\"fill:#1f77b4;\"/>\r\n   </g>\r\n   <g id=\"patch_64\">\r\n    <path clip-path=\"url(#pe64fb32336)\" d=\"M 249.794675 239.758125 \r\nL 252.476293 239.758125 \r\nL 252.476293 207.236361 \r\nL 249.794675 207.236361 \r\nz\r\n\" style=\"fill:#1f77b4;\"/>\r\n   </g>\r\n   <g id=\"patch_65\">\r\n    <path clip-path=\"url(#pe64fb32336)\" d=\"M 253.146697 239.758125 \r\nL 255.828315 239.758125 \r\nL 255.828315 211.824302 \r\nL 253.146697 211.824302 \r\nz\r\n\" style=\"fill:#1f77b4;\"/>\r\n   </g>\r\n   <g id=\"patch_66\">\r\n    <path clip-path=\"url(#pe64fb32336)\" d=\"M 256.49872 239.758125 \r\nL 259.180338 239.758125 \r\nL 259.180338 213.425974 \r\nL 256.49872 213.425974 \r\nz\r\n\" style=\"fill:#1f77b4;\"/>\r\n   </g>\r\n   <g id=\"patch_67\">\r\n    <path clip-path=\"url(#pe64fb32336)\" d=\"M 259.850742 239.758125 \r\nL 262.53236 239.758125 \r\nL 262.53236 219.956321 \r\nL 259.850742 219.956321 \r\nz\r\n\" style=\"fill:#1f77b4;\"/>\r\n   </g>\r\n   <g id=\"patch_68\">\r\n    <path clip-path=\"url(#pe64fb32336)\" d=\"M 263.202765 239.758125 \r\nL 265.884383 239.758125 \r\nL 265.884383 218.21541 \r\nL 263.202765 218.21541 \r\nz\r\n\" style=\"fill:#1f77b4;\"/>\r\n   </g>\r\n   <g id=\"patch_69\">\r\n    <path clip-path=\"url(#pe64fb32336)\" d=\"M 266.554787 239.758125 \r\nL 269.236405 239.758125 \r\nL 269.236405 201.390198 \r\nL 266.554787 201.390198 \r\nz\r\n\" style=\"fill:#1f77b4;\"/>\r\n   </g>\r\n   <g id=\"patch_70\">\r\n    <path clip-path=\"url(#pe64fb32336)\" d=\"M 269.906809 239.758125 \r\nL 272.588427 239.758125 \r\nL 272.588427 212.22062 \r\nL 269.906809 212.22062 \r\nz\r\n\" style=\"fill:#1f77b4;\"/>\r\n   </g>\r\n   <g id=\"patch_71\">\r\n    <path clip-path=\"url(#pe64fb32336)\" d=\"M 273.258832 239.758125 \r\nL 275.94045 239.758125 \r\nL 275.94045 216.510709 \r\nL 273.258832 216.510709 \r\nz\r\n\" style=\"fill:#1f77b4;\"/>\r\n   </g>\r\n   <g id=\"patch_72\">\r\n    <path clip-path=\"url(#pe64fb32336)\" d=\"M 276.610854 239.758125 \r\nL 279.292472 239.758125 \r\nL 279.292472 221.796841 \r\nL 276.610854 221.796841 \r\nz\r\n\" style=\"fill:#1f77b4;\"/>\r\n   </g>\r\n   <g id=\"patch_73\">\r\n    <path clip-path=\"url(#pe64fb32336)\" d=\"M 279.962877 239.758125 \r\nL 282.644495 239.758125 \r\nL 282.644495 213.023017 \r\nL 279.962877 213.023017 \r\nz\r\n\" style=\"fill:#1f77b4;\"/>\r\n   </g>\r\n   <g id=\"patch_74\">\r\n    <path clip-path=\"url(#pe64fb32336)\" d=\"M 283.314899 239.758125 \r\nL 285.996517 239.758125 \r\nL 285.996517 203.765454 \r\nL 283.314899 203.765454 \r\nz\r\n\" style=\"fill:#1f77b4;\"/>\r\n   </g>\r\n   <g id=\"patch_75\">\r\n    <path clip-path=\"url(#pe64fb32336)\" d=\"M 286.666922 239.758125 \r\nL 289.348539 239.758125 \r\nL 289.348539 200.450271 \r\nL 286.666922 200.450271 \r\nz\r\n\" style=\"fill:#1f77b4;\"/>\r\n   </g>\r\n   <g id=\"patch_76\">\r\n    <path clip-path=\"url(#pe64fb32336)\" d=\"M 290.018944 239.758125 \r\nL 292.700562 239.758125 \r\nL 292.700562 209.199797 \r\nL 290.018944 209.199797 \r\nz\r\n\" style=\"fill:#1f77b4;\"/>\r\n   </g>\r\n   <g id=\"patch_77\">\r\n    <path clip-path=\"url(#pe64fb32336)\" d=\"M 293.370966 239.758125 \r\nL 296.052584 239.758125 \r\nL 296.052584 214.097694 \r\nL 293.370966 214.097694 \r\nz\r\n\" style=\"fill:#1f77b4;\"/>\r\n   </g>\r\n   <g id=\"patch_78\">\r\n    <path clip-path=\"url(#pe64fb32336)\" d=\"M 296.722989 239.758125 \r\nL 299.404607 239.758125 \r\nL 299.404607 206.273829 \r\nL 296.722989 206.273829 \r\nz\r\n\" style=\"fill:#1f77b4;\"/>\r\n   </g>\r\n   <g id=\"patch_79\">\r\n    <path clip-path=\"url(#pe64fb32336)\" d=\"M 300.075011 239.758125 \r\nL 302.756629 239.758125 \r\nL 302.756629 203.607245 \r\nL 300.075011 203.607245 \r\nz\r\n\" style=\"fill:#1f77b4;\"/>\r\n   </g>\r\n   <g id=\"patch_80\">\r\n    <path clip-path=\"url(#pe64fb32336)\" d=\"M 303.427034 239.758125 \r\nL 306.108652 239.758125 \r\nL 306.108652 207.962213 \r\nL 303.427034 207.962213 \r\nz\r\n\" style=\"fill:#1f77b4;\"/>\r\n   </g>\r\n   <g id=\"patch_81\">\r\n    <path clip-path=\"url(#pe64fb32336)\" d=\"M 306.779056 239.758125 \r\nL 309.460674 239.758125 \r\nL 309.460674 216.138839 \r\nL 306.779056 216.138839 \r\nz\r\n\" style=\"fill:#1f77b4;\"/>\r\n   </g>\r\n   <g id=\"patch_82\">\r\n    <path clip-path=\"url(#pe64fb32336)\" d=\"M 310.131079 239.758125 \r\nL 312.812696 239.758125 \r\nL 312.812696 224.175319 \r\nL 310.131079 224.175319 \r\nz\r\n\" style=\"fill:#1f77b4;\"/>\r\n   </g>\r\n   <g id=\"patch_83\">\r\n    <path clip-path=\"url(#pe64fb32336)\" d=\"M 313.483101 239.758125 \r\nL 316.164719 239.758125 \r\nL 316.164719 217.912857 \r\nL 313.483101 217.912857 \r\nz\r\n\" style=\"fill:#1f77b4;\"/>\r\n   </g>\r\n   <g id=\"patch_84\">\r\n    <path clip-path=\"url(#pe64fb32336)\" d=\"M 316.835123 239.758125 \r\nL 319.516741 239.758125 \r\nL 319.516741 205.226214 \r\nL 316.835123 205.226214 \r\nz\r\n\" style=\"fill:#1f77b4;\"/>\r\n   </g>\r\n   <g id=\"patch_85\">\r\n    <path clip-path=\"url(#pe64fb32336)\" d=\"M 320.187146 239.758125 \r\nL 322.868764 239.758125 \r\nL 322.868764 213.199157 \r\nL 320.187146 213.199157 \r\nz\r\n\" style=\"fill:#1f77b4;\"/>\r\n   </g>\r\n   <g id=\"patch_86\">\r\n    <path clip-path=\"url(#pe64fb32336)\" d=\"M 323.539168 239.758125 \r\nL 326.220786 239.758125 \r\nL 326.220786 212.729327 \r\nL 323.539168 212.729327 \r\nz\r\n\" style=\"fill:#1f77b4;\"/>\r\n   </g>\r\n   <g id=\"patch_87\">\r\n    <path clip-path=\"url(#pe64fb32336)\" d=\"M 326.891191 239.758125 \r\nL 329.572809 239.758125 \r\nL 329.572809 213.501017 \r\nL 326.891191 213.501017 \r\nz\r\n\" style=\"fill:#1f77b4;\"/>\r\n   </g>\r\n   <g id=\"patch_88\">\r\n    <path clip-path=\"url(#pe64fb32336)\" d=\"M 330.243213 239.758125 \r\nL 332.924831 239.758125 \r\nL 332.924831 203.120167 \r\nL 330.243213 203.120167 \r\nz\r\n\" style=\"fill:#1f77b4;\"/>\r\n   </g>\r\n   <g id=\"patch_89\">\r\n    <path clip-path=\"url(#pe64fb32336)\" d=\"M 333.595236 239.758125 \r\nL 336.276853 239.758125 \r\nL 336.276853 199.604101 \r\nL 333.595236 199.604101 \r\nz\r\n\" style=\"fill:#1f77b4;\"/>\r\n   </g>\r\n   <g id=\"patch_90\">\r\n    <path clip-path=\"url(#pe64fb32336)\" d=\"M 336.947258 239.758125 \r\nL 339.628876 239.758125 \r\nL 339.628876 200.975227 \r\nL 336.947258 200.975227 \r\nz\r\n\" style=\"fill:#1f77b4;\"/>\r\n   </g>\r\n   <g id=\"patch_91\">\r\n    <path clip-path=\"url(#pe64fb32336)\" d=\"M 340.29928 239.758125 \r\nL 342.980898 239.758125 \r\nL 342.980898 202.669394 \r\nL 340.29928 202.669394 \r\nz\r\n\" style=\"fill:#1f77b4;\"/>\r\n   </g>\r\n   <g id=\"patch_92\">\r\n    <path clip-path=\"url(#pe64fb32336)\" d=\"M 343.651303 239.758125 \r\nL 346.332921 239.758125 \r\nL 346.332921 211.617275 \r\nL 343.651303 211.617275 \r\nz\r\n\" style=\"fill:#1f77b4;\"/>\r\n   </g>\r\n   <g id=\"patch_93\">\r\n    <path clip-path=\"url(#pe64fb32336)\" d=\"M 347.003325 239.758125 \r\nL 349.684943 239.758125 \r\nL 349.684943 192.976065 \r\nL 347.003325 192.976065 \r\nz\r\n\" style=\"fill:#1f77b4;\"/>\r\n   </g>\r\n   <g id=\"matplotlib.axis_1\">\r\n    <g id=\"xtick_1\">\r\n     <g id=\"line2d_1\">\r\n      <defs>\r\n       <path d=\"M 0 0 \r\nL 0 3.5 \r\n\" id=\"m6006bf7b27\" style=\"stroke:#000000;stroke-width:0.8;\"/>\r\n      </defs>\r\n      <g>\r\n       <use style=\"stroke:#000000;stroke-width:0.8;\" x=\"80.18234\" xlink:href=\"#m6006bf7b27\" y=\"239.758125\"/>\r\n      </g>\r\n     </g>\r\n     <g id=\"text_1\">\r\n      <!-- −20 -->\r\n      <g transform=\"translate(69.629996 254.356563)scale(0.1 -0.1)\">\r\n       <defs>\r\n        <path d=\"M 10.59375 35.5 \r\nL 73.1875 35.5 \r\nL 73.1875 27.203125 \r\nL 10.59375 27.203125 \r\nz\r\n\" id=\"DejaVuSans-8722\"/>\r\n        <path d=\"M 19.1875 8.296875 \r\nL 53.609375 8.296875 \r\nL 53.609375 0 \r\nL 7.328125 0 \r\nL 7.328125 8.296875 \r\nQ 12.9375 14.109375 22.625 23.890625 \r\nQ 32.328125 33.6875 34.8125 36.53125 \r\nQ 39.546875 41.84375 41.421875 45.53125 \r\nQ 43.3125 49.21875 43.3125 52.78125 \r\nQ 43.3125 58.59375 39.234375 62.25 \r\nQ 35.15625 65.921875 28.609375 65.921875 \r\nQ 23.96875 65.921875 18.8125 64.3125 \r\nQ 13.671875 62.703125 7.8125 59.421875 \r\nL 7.8125 69.390625 \r\nQ 13.765625 71.78125 18.9375 73 \r\nQ 24.125 74.21875 28.421875 74.21875 \r\nQ 39.75 74.21875 46.484375 68.546875 \r\nQ 53.21875 62.890625 53.21875 53.421875 \r\nQ 53.21875 48.921875 51.53125 44.890625 \r\nQ 49.859375 40.875 45.40625 35.40625 \r\nQ 44.1875 33.984375 37.640625 27.21875 \r\nQ 31.109375 20.453125 19.1875 8.296875 \r\nz\r\n\" id=\"DejaVuSans-50\"/>\r\n        <path d=\"M 31.78125 66.40625 \r\nQ 24.171875 66.40625 20.328125 58.90625 \r\nQ 16.5 51.421875 16.5 36.375 \r\nQ 16.5 21.390625 20.328125 13.890625 \r\nQ 24.171875 6.390625 31.78125 6.390625 \r\nQ 39.453125 6.390625 43.28125 13.890625 \r\nQ 47.125 21.390625 47.125 36.375 \r\nQ 47.125 51.421875 43.28125 58.90625 \r\nQ 39.453125 66.40625 31.78125 66.40625 \r\nz\r\nM 31.78125 74.21875 \r\nQ 44.046875 74.21875 50.515625 64.515625 \r\nQ 56.984375 54.828125 56.984375 36.375 \r\nQ 56.984375 17.96875 50.515625 8.265625 \r\nQ 44.046875 -1.421875 31.78125 -1.421875 \r\nQ 19.53125 -1.421875 13.0625 8.265625 \r\nQ 6.59375 17.96875 6.59375 36.375 \r\nQ 6.59375 54.828125 13.0625 64.515625 \r\nQ 19.53125 74.21875 31.78125 74.21875 \r\nz\r\n\" id=\"DejaVuSans-48\"/>\r\n       </defs>\r\n       <use xlink:href=\"#DejaVuSans-8722\"/>\r\n       <use x=\"83.789062\" xlink:href=\"#DejaVuSans-50\"/>\r\n       <use x=\"147.412109\" xlink:href=\"#DejaVuSans-48\"/>\r\n      </g>\r\n     </g>\r\n    </g>\r\n    <g id=\"xtick_2\">\r\n     <g id=\"line2d_2\">\r\n      <g>\r\n       <use style=\"stroke:#000000;stroke-width:0.8;\" x=\"147.222789\" xlink:href=\"#m6006bf7b27\" y=\"239.758125\"/>\r\n      </g>\r\n     </g>\r\n     <g id=\"text_2\">\r\n      <!-- 0 -->\r\n      <g transform=\"translate(144.041539 254.356563)scale(0.1 -0.1)\">\r\n       <use xlink:href=\"#DejaVuSans-48\"/>\r\n      </g>\r\n     </g>\r\n    </g>\r\n    <g id=\"xtick_3\">\r\n     <g id=\"line2d_3\">\r\n      <g>\r\n       <use style=\"stroke:#000000;stroke-width:0.8;\" x=\"214.263237\" xlink:href=\"#m6006bf7b27\" y=\"239.758125\"/>\r\n      </g>\r\n     </g>\r\n     <g id=\"text_3\">\r\n      <!-- 20 -->\r\n      <g transform=\"translate(207.900737 254.356563)scale(0.1 -0.1)\">\r\n       <use xlink:href=\"#DejaVuSans-50\"/>\r\n       <use x=\"63.623047\" xlink:href=\"#DejaVuSans-48\"/>\r\n      </g>\r\n     </g>\r\n    </g>\r\n    <g id=\"xtick_4\">\r\n     <g id=\"line2d_4\">\r\n      <g>\r\n       <use style=\"stroke:#000000;stroke-width:0.8;\" x=\"281.303686\" xlink:href=\"#m6006bf7b27\" y=\"239.758125\"/>\r\n      </g>\r\n     </g>\r\n     <g id=\"text_4\">\r\n      <!-- 40 -->\r\n      <g transform=\"translate(274.941186 254.356563)scale(0.1 -0.1)\">\r\n       <defs>\r\n        <path d=\"M 37.796875 64.3125 \r\nL 12.890625 25.390625 \r\nL 37.796875 25.390625 \r\nz\r\nM 35.203125 72.90625 \r\nL 47.609375 72.90625 \r\nL 47.609375 25.390625 \r\nL 58.015625 25.390625 \r\nL 58.015625 17.1875 \r\nL 47.609375 17.1875 \r\nL 47.609375 0 \r\nL 37.796875 0 \r\nL 37.796875 17.1875 \r\nL 4.890625 17.1875 \r\nL 4.890625 26.703125 \r\nz\r\n\" id=\"DejaVuSans-52\"/>\r\n       </defs>\r\n       <use xlink:href=\"#DejaVuSans-52\"/>\r\n       <use x=\"63.623047\" xlink:href=\"#DejaVuSans-48\"/>\r\n      </g>\r\n     </g>\r\n    </g>\r\n    <g id=\"xtick_5\">\r\n     <g id=\"line2d_5\">\r\n      <g>\r\n       <use style=\"stroke:#000000;stroke-width:0.8;\" x=\"348.344134\" xlink:href=\"#m6006bf7b27\" y=\"239.758125\"/>\r\n      </g>\r\n     </g>\r\n     <g id=\"text_5\">\r\n      <!-- 60 -->\r\n      <g transform=\"translate(341.981634 254.356563)scale(0.1 -0.1)\">\r\n       <defs>\r\n        <path d=\"M 33.015625 40.375 \r\nQ 26.375 40.375 22.484375 35.828125 \r\nQ 18.609375 31.296875 18.609375 23.390625 \r\nQ 18.609375 15.53125 22.484375 10.953125 \r\nQ 26.375 6.390625 33.015625 6.390625 \r\nQ 39.65625 6.390625 43.53125 10.953125 \r\nQ 47.40625 15.53125 47.40625 23.390625 \r\nQ 47.40625 31.296875 43.53125 35.828125 \r\nQ 39.65625 40.375 33.015625 40.375 \r\nz\r\nM 52.59375 71.296875 \r\nL 52.59375 62.3125 \r\nQ 48.875 64.0625 45.09375 64.984375 \r\nQ 41.3125 65.921875 37.59375 65.921875 \r\nQ 27.828125 65.921875 22.671875 59.328125 \r\nQ 17.53125 52.734375 16.796875 39.40625 \r\nQ 19.671875 43.65625 24.015625 45.921875 \r\nQ 28.375 48.1875 33.59375 48.1875 \r\nQ 44.578125 48.1875 50.953125 41.515625 \r\nQ 57.328125 34.859375 57.328125 23.390625 \r\nQ 57.328125 12.15625 50.6875 5.359375 \r\nQ 44.046875 -1.421875 33.015625 -1.421875 \r\nQ 20.359375 -1.421875 13.671875 8.265625 \r\nQ 6.984375 17.96875 6.984375 36.375 \r\nQ 6.984375 53.65625 15.1875 63.9375 \r\nQ 23.390625 74.21875 37.203125 74.21875 \r\nQ 40.921875 74.21875 44.703125 73.484375 \r\nQ 48.484375 72.75 52.59375 71.296875 \r\nz\r\n\" id=\"DejaVuSans-54\"/>\r\n       </defs>\r\n       <use xlink:href=\"#DejaVuSans-54\"/>\r\n       <use x=\"63.623047\" xlink:href=\"#DejaVuSans-48\"/>\r\n      </g>\r\n     </g>\r\n    </g>\r\n   </g>\r\n   <g id=\"matplotlib.axis_2\">\r\n    <g id=\"ytick_1\">\r\n     <g id=\"line2d_6\">\r\n      <defs>\r\n       <path d=\"M 0 0 \r\nL -3.5 0 \r\n\" id=\"m75b68bbff0\" style=\"stroke:#000000;stroke-width:0.8;\"/>\r\n      </defs>\r\n      <g>\r\n       <use style=\"stroke:#000000;stroke-width:0.8;\" x=\"30.103125\" xlink:href=\"#m75b68bbff0\" y=\"239.758125\"/>\r\n      </g>\r\n     </g>\r\n     <g id=\"text_6\">\r\n      <!-- 0.0 -->\r\n      <g transform=\"translate(7.2 243.557344)scale(0.1 -0.1)\">\r\n       <defs>\r\n        <path d=\"M 10.6875 12.40625 \r\nL 21 12.40625 \r\nL 21 0 \r\nL 10.6875 0 \r\nz\r\n\" id=\"DejaVuSans-46\"/>\r\n       </defs>\r\n       <use xlink:href=\"#DejaVuSans-48\"/>\r\n       <use x=\"63.623047\" xlink:href=\"#DejaVuSans-46\"/>\r\n       <use x=\"95.410156\" xlink:href=\"#DejaVuSans-48\"/>\r\n      </g>\r\n     </g>\r\n    </g>\r\n    <g id=\"ytick_2\">\r\n     <g id=\"line2d_7\">\r\n      <g>\r\n       <use style=\"stroke:#000000;stroke-width:0.8;\" x=\"30.103125\" xlink:href=\"#m75b68bbff0\" y=\"193.468666\"/>\r\n      </g>\r\n     </g>\r\n     <g id=\"text_7\">\r\n      <!-- 0.1 -->\r\n      <g transform=\"translate(7.2 197.267885)scale(0.1 -0.1)\">\r\n       <defs>\r\n        <path d=\"M 12.40625 8.296875 \r\nL 28.515625 8.296875 \r\nL 28.515625 63.921875 \r\nL 10.984375 60.40625 \r\nL 10.984375 69.390625 \r\nL 28.421875 72.90625 \r\nL 38.28125 72.90625 \r\nL 38.28125 8.296875 \r\nL 54.390625 8.296875 \r\nL 54.390625 0 \r\nL 12.40625 0 \r\nz\r\n\" id=\"DejaVuSans-49\"/>\r\n       </defs>\r\n       <use xlink:href=\"#DejaVuSans-48\"/>\r\n       <use x=\"63.623047\" xlink:href=\"#DejaVuSans-46\"/>\r\n       <use x=\"95.410156\" xlink:href=\"#DejaVuSans-49\"/>\r\n      </g>\r\n     </g>\r\n    </g>\r\n    <g id=\"ytick_3\">\r\n     <g id=\"line2d_8\">\r\n      <g>\r\n       <use style=\"stroke:#000000;stroke-width:0.8;\" x=\"30.103125\" xlink:href=\"#m75b68bbff0\" y=\"147.179207\"/>\r\n      </g>\r\n     </g>\r\n     <g id=\"text_8\">\r\n      <!-- 0.2 -->\r\n      <g transform=\"translate(7.2 150.978425)scale(0.1 -0.1)\">\r\n       <use xlink:href=\"#DejaVuSans-48\"/>\r\n       <use x=\"63.623047\" xlink:href=\"#DejaVuSans-46\"/>\r\n       <use x=\"95.410156\" xlink:href=\"#DejaVuSans-50\"/>\r\n      </g>\r\n     </g>\r\n    </g>\r\n    <g id=\"ytick_4\">\r\n     <g id=\"line2d_9\">\r\n      <g>\r\n       <use style=\"stroke:#000000;stroke-width:0.8;\" x=\"30.103125\" xlink:href=\"#m75b68bbff0\" y=\"100.889747\"/>\r\n      </g>\r\n     </g>\r\n     <g id=\"text_9\">\r\n      <!-- 0.3 -->\r\n      <g transform=\"translate(7.2 104.688966)scale(0.1 -0.1)\">\r\n       <defs>\r\n        <path d=\"M 40.578125 39.3125 \r\nQ 47.65625 37.796875 51.625 33 \r\nQ 55.609375 28.21875 55.609375 21.1875 \r\nQ 55.609375 10.40625 48.1875 4.484375 \r\nQ 40.765625 -1.421875 27.09375 -1.421875 \r\nQ 22.515625 -1.421875 17.65625 -0.515625 \r\nQ 12.796875 0.390625 7.625 2.203125 \r\nL 7.625 11.71875 \r\nQ 11.71875 9.328125 16.59375 8.109375 \r\nQ 21.484375 6.890625 26.8125 6.890625 \r\nQ 36.078125 6.890625 40.9375 10.546875 \r\nQ 45.796875 14.203125 45.796875 21.1875 \r\nQ 45.796875 27.640625 41.28125 31.265625 \r\nQ 36.765625 34.90625 28.71875 34.90625 \r\nL 20.21875 34.90625 \r\nL 20.21875 43.015625 \r\nL 29.109375 43.015625 \r\nQ 36.375 43.015625 40.234375 45.921875 \r\nQ 44.09375 48.828125 44.09375 54.296875 \r\nQ 44.09375 59.90625 40.109375 62.90625 \r\nQ 36.140625 65.921875 28.71875 65.921875 \r\nQ 24.65625 65.921875 20.015625 65.03125 \r\nQ 15.375 64.15625 9.8125 62.3125 \r\nL 9.8125 71.09375 \r\nQ 15.4375 72.65625 20.34375 73.4375 \r\nQ 25.25 74.21875 29.59375 74.21875 \r\nQ 40.828125 74.21875 47.359375 69.109375 \r\nQ 53.90625 64.015625 53.90625 55.328125 \r\nQ 53.90625 49.265625 50.4375 45.09375 \r\nQ 46.96875 40.921875 40.578125 39.3125 \r\nz\r\n\" id=\"DejaVuSans-51\"/>\r\n       </defs>\r\n       <use xlink:href=\"#DejaVuSans-48\"/>\r\n       <use x=\"63.623047\" xlink:href=\"#DejaVuSans-46\"/>\r\n       <use x=\"95.410156\" xlink:href=\"#DejaVuSans-51\"/>\r\n      </g>\r\n     </g>\r\n    </g>\r\n    <g id=\"ytick_5\">\r\n     <g id=\"line2d_10\">\r\n      <g>\r\n       <use style=\"stroke:#000000;stroke-width:0.8;\" x=\"30.103125\" xlink:href=\"#m75b68bbff0\" y=\"54.600288\"/>\r\n      </g>\r\n     </g>\r\n     <g id=\"text_10\">\r\n      <!-- 0.4 -->\r\n      <g transform=\"translate(7.2 58.399507)scale(0.1 -0.1)\">\r\n       <use xlink:href=\"#DejaVuSans-48\"/>\r\n       <use x=\"63.623047\" xlink:href=\"#DejaVuSans-46\"/>\r\n       <use x=\"95.410156\" xlink:href=\"#DejaVuSans-52\"/>\r\n      </g>\r\n     </g>\r\n    </g>\r\n   </g>\r\n   <g id=\"patch_94\">\r\n    <path d=\"M 30.103125 239.758125 \r\nL 30.103125 22.318125 \r\n\" style=\"fill:none;stroke:#000000;stroke-linecap:square;stroke-linejoin:miter;stroke-width:0.8;\"/>\r\n   </g>\r\n   <g id=\"patch_95\">\r\n    <path d=\"M 364.903125 239.758125 \r\nL 364.903125 22.318125 \r\n\" style=\"fill:none;stroke:#000000;stroke-linecap:square;stroke-linejoin:miter;stroke-width:0.8;\"/>\r\n   </g>\r\n   <g id=\"patch_96\">\r\n    <path d=\"M 30.103125 239.758125 \r\nL 364.903125 239.758125 \r\n\" style=\"fill:none;stroke:#000000;stroke-linecap:square;stroke-linejoin:miter;stroke-width:0.8;\"/>\r\n   </g>\r\n   <g id=\"patch_97\">\r\n    <path d=\"M 30.103125 22.318125 \r\nL 364.903125 22.318125 \r\n\" style=\"fill:none;stroke:#000000;stroke-linecap:square;stroke-linejoin:miter;stroke-width:0.8;\"/>\r\n   </g>\r\n   <g id=\"text_11\">\r\n    <!-- Raw Return around declaration date -->\r\n    <g transform=\"translate(88.944375 16.318125)scale(0.12 -0.12)\">\r\n     <defs>\r\n      <path d=\"M 44.390625 34.1875 \r\nQ 47.5625 33.109375 50.5625 29.59375 \r\nQ 53.5625 26.078125 56.59375 19.921875 \r\nL 66.609375 0 \r\nL 56 0 \r\nL 46.6875 18.703125 \r\nQ 43.0625 26.03125 39.671875 28.421875 \r\nQ 36.28125 30.8125 30.421875 30.8125 \r\nL 19.671875 30.8125 \r\nL 19.671875 0 \r\nL 9.8125 0 \r\nL 9.8125 72.90625 \r\nL 32.078125 72.90625 \r\nQ 44.578125 72.90625 50.734375 67.671875 \r\nQ 56.890625 62.453125 56.890625 51.90625 \r\nQ 56.890625 45.015625 53.6875 40.46875 \r\nQ 50.484375 35.9375 44.390625 34.1875 \r\nz\r\nM 19.671875 64.796875 \r\nL 19.671875 38.921875 \r\nL 32.078125 38.921875 \r\nQ 39.203125 38.921875 42.84375 42.21875 \r\nQ 46.484375 45.515625 46.484375 51.90625 \r\nQ 46.484375 58.296875 42.84375 61.546875 \r\nQ 39.203125 64.796875 32.078125 64.796875 \r\nz\r\n\" id=\"DejaVuSans-82\"/>\r\n      <path d=\"M 34.28125 27.484375 \r\nQ 23.390625 27.484375 19.1875 25 \r\nQ 14.984375 22.515625 14.984375 16.5 \r\nQ 14.984375 11.71875 18.140625 8.90625 \r\nQ 21.296875 6.109375 26.703125 6.109375 \r\nQ 34.1875 6.109375 38.703125 11.40625 \r\nQ 43.21875 16.703125 43.21875 25.484375 \r\nL 43.21875 27.484375 \r\nz\r\nM 52.203125 31.203125 \r\nL 52.203125 0 \r\nL 43.21875 0 \r\nL 43.21875 8.296875 \r\nQ 40.140625 3.328125 35.546875 0.953125 \r\nQ 30.953125 -1.421875 24.3125 -1.421875 \r\nQ 15.921875 -1.421875 10.953125 3.296875 \r\nQ 6 8.015625 6 15.921875 \r\nQ 6 25.140625 12.171875 29.828125 \r\nQ 18.359375 34.515625 30.609375 34.515625 \r\nL 43.21875 34.515625 \r\nL 43.21875 35.40625 \r\nQ 43.21875 41.609375 39.140625 45 \r\nQ 35.0625 48.390625 27.6875 48.390625 \r\nQ 23 48.390625 18.546875 47.265625 \r\nQ 14.109375 46.140625 10.015625 43.890625 \r\nL 10.015625 52.203125 \r\nQ 14.9375 54.109375 19.578125 55.046875 \r\nQ 24.21875 56 28.609375 56 \r\nQ 40.484375 56 46.34375 49.84375 \r\nQ 52.203125 43.703125 52.203125 31.203125 \r\nz\r\n\" id=\"DejaVuSans-97\"/>\r\n      <path d=\"M 4.203125 54.6875 \r\nL 13.1875 54.6875 \r\nL 24.421875 12.015625 \r\nL 35.59375 54.6875 \r\nL 46.1875 54.6875 \r\nL 57.421875 12.015625 \r\nL 68.609375 54.6875 \r\nL 77.59375 54.6875 \r\nL 63.28125 0 \r\nL 52.6875 0 \r\nL 40.921875 44.828125 \r\nL 29.109375 0 \r\nL 18.5 0 \r\nz\r\n\" id=\"DejaVuSans-119\"/>\r\n      <path id=\"DejaVuSans-32\"/>\r\n      <path d=\"M 56.203125 29.59375 \r\nL 56.203125 25.203125 \r\nL 14.890625 25.203125 \r\nQ 15.484375 15.921875 20.484375 11.0625 \r\nQ 25.484375 6.203125 34.421875 6.203125 \r\nQ 39.59375 6.203125 44.453125 7.46875 \r\nQ 49.3125 8.734375 54.109375 11.28125 \r\nL 54.109375 2.78125 \r\nQ 49.265625 0.734375 44.1875 -0.34375 \r\nQ 39.109375 -1.421875 33.890625 -1.421875 \r\nQ 20.796875 -1.421875 13.15625 6.1875 \r\nQ 5.515625 13.8125 5.515625 26.8125 \r\nQ 5.515625 40.234375 12.765625 48.109375 \r\nQ 20.015625 56 32.328125 56 \r\nQ 43.359375 56 49.78125 48.890625 \r\nQ 56.203125 41.796875 56.203125 29.59375 \r\nz\r\nM 47.21875 32.234375 \r\nQ 47.125 39.59375 43.09375 43.984375 \r\nQ 39.0625 48.390625 32.421875 48.390625 \r\nQ 24.90625 48.390625 20.390625 44.140625 \r\nQ 15.875 39.890625 15.1875 32.171875 \r\nz\r\n\" id=\"DejaVuSans-101\"/>\r\n      <path d=\"M 18.3125 70.21875 \r\nL 18.3125 54.6875 \r\nL 36.8125 54.6875 \r\nL 36.8125 47.703125 \r\nL 18.3125 47.703125 \r\nL 18.3125 18.015625 \r\nQ 18.3125 11.328125 20.140625 9.421875 \r\nQ 21.96875 7.515625 27.59375 7.515625 \r\nL 36.8125 7.515625 \r\nL 36.8125 0 \r\nL 27.59375 0 \r\nQ 17.1875 0 13.234375 3.875 \r\nQ 9.28125 7.765625 9.28125 18.015625 \r\nL 9.28125 47.703125 \r\nL 2.6875 47.703125 \r\nL 2.6875 54.6875 \r\nL 9.28125 54.6875 \r\nL 9.28125 70.21875 \r\nz\r\n\" id=\"DejaVuSans-116\"/>\r\n      <path d=\"M 8.5 21.578125 \r\nL 8.5 54.6875 \r\nL 17.484375 54.6875 \r\nL 17.484375 21.921875 \r\nQ 17.484375 14.15625 20.5 10.265625 \r\nQ 23.53125 6.390625 29.59375 6.390625 \r\nQ 36.859375 6.390625 41.078125 11.03125 \r\nQ 45.3125 15.671875 45.3125 23.6875 \r\nL 45.3125 54.6875 \r\nL 54.296875 54.6875 \r\nL 54.296875 0 \r\nL 45.3125 0 \r\nL 45.3125 8.40625 \r\nQ 42.046875 3.421875 37.71875 1 \r\nQ 33.40625 -1.421875 27.6875 -1.421875 \r\nQ 18.265625 -1.421875 13.375 4.4375 \r\nQ 8.5 10.296875 8.5 21.578125 \r\nz\r\nM 31.109375 56 \r\nz\r\n\" id=\"DejaVuSans-117\"/>\r\n      <path d=\"M 41.109375 46.296875 \r\nQ 39.59375 47.171875 37.8125 47.578125 \r\nQ 36.03125 48 33.890625 48 \r\nQ 26.265625 48 22.1875 43.046875 \r\nQ 18.109375 38.09375 18.109375 28.8125 \r\nL 18.109375 0 \r\nL 9.078125 0 \r\nL 9.078125 54.6875 \r\nL 18.109375 54.6875 \r\nL 18.109375 46.1875 \r\nQ 20.953125 51.171875 25.484375 53.578125 \r\nQ 30.03125 56 36.53125 56 \r\nQ 37.453125 56 38.578125 55.875 \r\nQ 39.703125 55.765625 41.0625 55.515625 \r\nz\r\n\" id=\"DejaVuSans-114\"/>\r\n      <path d=\"M 54.890625 33.015625 \r\nL 54.890625 0 \r\nL 45.90625 0 \r\nL 45.90625 32.71875 \r\nQ 45.90625 40.484375 42.875 44.328125 \r\nQ 39.84375 48.1875 33.796875 48.1875 \r\nQ 26.515625 48.1875 22.3125 43.546875 \r\nQ 18.109375 38.921875 18.109375 30.90625 \r\nL 18.109375 0 \r\nL 9.078125 0 \r\nL 9.078125 54.6875 \r\nL 18.109375 54.6875 \r\nL 18.109375 46.1875 \r\nQ 21.34375 51.125 25.703125 53.5625 \r\nQ 30.078125 56 35.796875 56 \r\nQ 45.21875 56 50.046875 50.171875 \r\nQ 54.890625 44.34375 54.890625 33.015625 \r\nz\r\n\" id=\"DejaVuSans-110\"/>\r\n      <path d=\"M 30.609375 48.390625 \r\nQ 23.390625 48.390625 19.1875 42.75 \r\nQ 14.984375 37.109375 14.984375 27.296875 \r\nQ 14.984375 17.484375 19.15625 11.84375 \r\nQ 23.34375 6.203125 30.609375 6.203125 \r\nQ 37.796875 6.203125 41.984375 11.859375 \r\nQ 46.1875 17.53125 46.1875 27.296875 \r\nQ 46.1875 37.015625 41.984375 42.703125 \r\nQ 37.796875 48.390625 30.609375 48.390625 \r\nz\r\nM 30.609375 56 \r\nQ 42.328125 56 49.015625 48.375 \r\nQ 55.71875 40.765625 55.71875 27.296875 \r\nQ 55.71875 13.875 49.015625 6.21875 \r\nQ 42.328125 -1.421875 30.609375 -1.421875 \r\nQ 18.84375 -1.421875 12.171875 6.21875 \r\nQ 5.515625 13.875 5.515625 27.296875 \r\nQ 5.515625 40.765625 12.171875 48.375 \r\nQ 18.84375 56 30.609375 56 \r\nz\r\n\" id=\"DejaVuSans-111\"/>\r\n      <path d=\"M 45.40625 46.390625 \r\nL 45.40625 75.984375 \r\nL 54.390625 75.984375 \r\nL 54.390625 0 \r\nL 45.40625 0 \r\nL 45.40625 8.203125 \r\nQ 42.578125 3.328125 38.25 0.953125 \r\nQ 33.9375 -1.421875 27.875 -1.421875 \r\nQ 17.96875 -1.421875 11.734375 6.484375 \r\nQ 5.515625 14.40625 5.515625 27.296875 \r\nQ 5.515625 40.1875 11.734375 48.09375 \r\nQ 17.96875 56 27.875 56 \r\nQ 33.9375 56 38.25 53.625 \r\nQ 42.578125 51.265625 45.40625 46.390625 \r\nz\r\nM 14.796875 27.296875 \r\nQ 14.796875 17.390625 18.875 11.75 \r\nQ 22.953125 6.109375 30.078125 6.109375 \r\nQ 37.203125 6.109375 41.296875 11.75 \r\nQ 45.40625 17.390625 45.40625 27.296875 \r\nQ 45.40625 37.203125 41.296875 42.84375 \r\nQ 37.203125 48.484375 30.078125 48.484375 \r\nQ 22.953125 48.484375 18.875 42.84375 \r\nQ 14.796875 37.203125 14.796875 27.296875 \r\nz\r\n\" id=\"DejaVuSans-100\"/>\r\n      <path d=\"M 48.78125 52.59375 \r\nL 48.78125 44.1875 \r\nQ 44.96875 46.296875 41.140625 47.34375 \r\nQ 37.3125 48.390625 33.40625 48.390625 \r\nQ 24.65625 48.390625 19.8125 42.84375 \r\nQ 14.984375 37.3125 14.984375 27.296875 \r\nQ 14.984375 17.28125 19.8125 11.734375 \r\nQ 24.65625 6.203125 33.40625 6.203125 \r\nQ 37.3125 6.203125 41.140625 7.25 \r\nQ 44.96875 8.296875 48.78125 10.40625 \r\nL 48.78125 2.09375 \r\nQ 45.015625 0.34375 40.984375 -0.53125 \r\nQ 36.96875 -1.421875 32.421875 -1.421875 \r\nQ 20.0625 -1.421875 12.78125 6.34375 \r\nQ 5.515625 14.109375 5.515625 27.296875 \r\nQ 5.515625 40.671875 12.859375 48.328125 \r\nQ 20.21875 56 33.015625 56 \r\nQ 37.15625 56 41.109375 55.140625 \r\nQ 45.0625 54.296875 48.78125 52.59375 \r\nz\r\n\" id=\"DejaVuSans-99\"/>\r\n      <path d=\"M 9.421875 75.984375 \r\nL 18.40625 75.984375 \r\nL 18.40625 0 \r\nL 9.421875 0 \r\nz\r\n\" id=\"DejaVuSans-108\"/>\r\n      <path d=\"M 9.421875 54.6875 \r\nL 18.40625 54.6875 \r\nL 18.40625 0 \r\nL 9.421875 0 \r\nz\r\nM 9.421875 75.984375 \r\nL 18.40625 75.984375 \r\nL 18.40625 64.59375 \r\nL 9.421875 64.59375 \r\nz\r\n\" id=\"DejaVuSans-105\"/>\r\n     </defs>\r\n     <use xlink:href=\"#DejaVuSans-82\"/>\r\n     <use x=\"67.232422\" xlink:href=\"#DejaVuSans-97\"/>\r\n     <use x=\"128.511719\" xlink:href=\"#DejaVuSans-119\"/>\r\n     <use x=\"210.298828\" xlink:href=\"#DejaVuSans-32\"/>\r\n     <use x=\"242.085938\" xlink:href=\"#DejaVuSans-82\"/>\r\n     <use x=\"307.068359\" xlink:href=\"#DejaVuSans-101\"/>\r\n     <use x=\"368.591797\" xlink:href=\"#DejaVuSans-116\"/>\r\n     <use x=\"407.800781\" xlink:href=\"#DejaVuSans-117\"/>\r\n     <use x=\"471.179688\" xlink:href=\"#DejaVuSans-114\"/>\r\n     <use x=\"510.542969\" xlink:href=\"#DejaVuSans-110\"/>\r\n     <use x=\"573.921875\" xlink:href=\"#DejaVuSans-32\"/>\r\n     <use x=\"605.708984\" xlink:href=\"#DejaVuSans-97\"/>\r\n     <use x=\"666.988281\" xlink:href=\"#DejaVuSans-114\"/>\r\n     <use x=\"705.851562\" xlink:href=\"#DejaVuSans-111\"/>\r\n     <use x=\"767.033203\" xlink:href=\"#DejaVuSans-117\"/>\r\n     <use x=\"830.412109\" xlink:href=\"#DejaVuSans-110\"/>\r\n     <use x=\"893.791016\" xlink:href=\"#DejaVuSans-100\"/>\r\n     <use x=\"957.267578\" xlink:href=\"#DejaVuSans-32\"/>\r\n     <use x=\"989.054688\" xlink:href=\"#DejaVuSans-100\"/>\r\n     <use x=\"1052.53125\" xlink:href=\"#DejaVuSans-101\"/>\r\n     <use x=\"1114.054688\" xlink:href=\"#DejaVuSans-99\"/>\r\n     <use x=\"1169.035156\" xlink:href=\"#DejaVuSans-108\"/>\r\n     <use x=\"1196.818359\" xlink:href=\"#DejaVuSans-97\"/>\r\n     <use x=\"1258.097656\" xlink:href=\"#DejaVuSans-114\"/>\r\n     <use x=\"1299.210938\" xlink:href=\"#DejaVuSans-97\"/>\r\n     <use x=\"1360.490234\" xlink:href=\"#DejaVuSans-116\"/>\r\n     <use x=\"1399.699219\" xlink:href=\"#DejaVuSans-105\"/>\r\n     <use x=\"1427.482422\" xlink:href=\"#DejaVuSans-111\"/>\r\n     <use x=\"1488.664062\" xlink:href=\"#DejaVuSans-110\"/>\r\n     <use x=\"1552.042969\" xlink:href=\"#DejaVuSans-32\"/>\r\n     <use x=\"1583.830078\" xlink:href=\"#DejaVuSans-100\"/>\r\n     <use x=\"1647.306641\" xlink:href=\"#DejaVuSans-97\"/>\r\n     <use x=\"1708.585938\" xlink:href=\"#DejaVuSans-116\"/>\r\n     <use x=\"1747.794922\" xlink:href=\"#DejaVuSans-101\"/>\r\n    </g>\r\n   </g>\r\n  </g>\r\n </g>\r\n <defs>\r\n  <clipPath id=\"pe64fb32336\">\r\n   <rect height=\"217.44\" width=\"334.8\" x=\"30.103125\" y=\"22.318125\"/>\r\n  </clipPath>\r\n </defs>\r\n</svg>\r\n",
      "image/png": "[encoded data removed]"
     },
     "metadata": {
      "needs_background": "light"
     }
    }
   ],
   "source": [
    "plt.bar(x,dlist)\n",
    "plt.title('Raw Return around declaration date')\n",
    "plt.show()"
   ]
  },
  {
   "cell_type": "code",
   "execution_count": 11,
   "metadata": {},
   "outputs": [
    {
     "output_type": "execute_result",
     "data": {
      "text/plain": [
       "-1793.4895250002157"
      ]
     },
     "metadata": {},
     "execution_count": 11
    }
   ],
   "source": [
    "sum(d[0])"
   ]
  },
  {
   "cell_type": "code",
   "execution_count": 32,
   "metadata": {},
   "outputs": [],
   "source": [
    "# c[c.DCLRDT.notna()]\n",
    "# c[c.CUSIP=='05978R10'][4000:4500]"
   ]
  },
  {
   "cell_type": "code",
   "execution_count": 6,
   "metadata": {},
   "outputs": [],
   "source": [
    "import pickle\n",
    "filename = 'DCLRDT_Figure3.pkl'\n",
    "with open(filename,'wb') as f:\n",
    "     pickle.dump(dlist, f)"
   ]
  },
  {
   "cell_type": "code",
   "execution_count": 7,
   "metadata": {},
   "outputs": [
    {
     "output_type": "execute_result",
     "data": {
      "text/plain": [
       "True"
      ]
     },
     "metadata": {},
     "execution_count": 7
    }
   ],
   "source": [
    "with open(filename,'rb') as f:\n",
    "     a = pickle.load(f)\n",
    "\n",
    "a == dlist"
   ]
  },
  {
   "cell_type": "code",
   "execution_count": null,
   "metadata": {},
   "outputs": [],
   "source": []
  }
 ]
}