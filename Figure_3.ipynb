{
 "metadata": {
  "language_info": {
   "codemirror_mode": {
    "name": "ipython",
    "version": 3
   },
   "file_extension": ".py",
   "mimetype": "text/x-python",
   "name": "python",
   "nbconvert_exporter": "python",
   "pygments_lexer": "ipython3",
   "version": "3.7.10"
  },
  "orig_nbformat": 2,
  "kernelspec": {
   "name": "fina4359",
   "display_name": "Python 3.7.10 64-bit ('fina4359': conda)"
  }
 },
 "nbformat": 4,
 "nbformat_minor": 2,
 "cells": [
  {
   "cell_type": "code",
   "execution_count": 1,
   "metadata": {},
   "outputs": [],
   "source": [
    "import pandas as pd\n",
    "import numpy as np\n",
    "import matplotlib.pyplot as plt\n",
    "from pandas.tseries.offsets import MonthEnd\n",
    "# import statsmodels.api as sm\n",
    "from tqdm import tqdm\n",
    "# from multiprocessing.dummy import Pool\n",
    "import dask.dataframe as dd\n",
    "\n",
    "pd.set_option('display.max_rows', 500)\n",
    "pd.set_option('display.float_format', lambda x: '%.3f' % x)\n",
    "# pd.set_option('display.max_columns', 500)"
   ]
  },
  {
   "cell_type": "code",
   "execution_count": 9,
   "metadata": {},
   "outputs": [
    {
     "output_type": "stream",
     "name": "stderr",
     "text": [
      "819it [24:28,  1.79s/it]\n"
     ]
    }
   ],
   "source": [
    "#In[] 1,227,297,915 size, 7675it * 10000\n",
    "crsp_df = pd.read_csv(\"crsp_d.csv\",header=0,\n",
    "    parse_dates = ['date','DCLRDT','RCRDDT'],\n",
    "    dtype={\n",
    "        \"PERMNO\": str,\n",
    "        \"PRC\": np.float64,\n",
    "        \"VOL\": np.float64,\n",
    "        \"SHROUT\": np.float64,\n",
    "        \"DIVAMT\": np.float64,\n",
    "        \"SHRCD\":str,\n",
    "        \"DISTCD\":str,\n",
    "        \"COMNAM\": str,\n",
    "        \"TICKER\": str,\n",
    "        'CUSIP': str,\n",
    "        \"BID\": np.float64,\n",
    "        \"ASK\": np.float64}, chunksize=100000)\n",
    "#Data Preprocessing\n",
    "#In[]\n",
    "d = {}\n",
    "one = False\n",
    "def insert(i,x):\n",
    "    if str(x)[-1].isdigit() == False:\n",
    "        return\n",
    "    x = float(x)\n",
    "    if i not in d:\n",
    "        d[i] = [x]\n",
    "    else:\n",
    "        d[i].append(x)\n",
    "    return\n",
    "cache = []\n",
    "cache_ddate = set()\n",
    "for c in tqdm(crsp_df):\n",
    "    c = c[(c.SHRCD.isin(('10','11'))) ]\n",
    "    c = c.groupby(by=['CUSIP','date']).agg({\n",
    "          'DCLRDT': 'last',\n",
    "          'RCRDDT': 'last',\n",
    "          'DISTCD': 'last',\n",
    "          'DIVAMT': 'sum',\n",
    "          'RET':'last',\n",
    "          'RETX':'last',\n",
    "          'PRC': 'last'}).reset_index()\n",
    "    if not one:\n",
    "         cusip = c.head(1).reset_index().iloc[0].CUSIP\n",
    "         one = True\n",
    "    count = 0\n",
    "    # c['dt'] = 0\n",
    "    lastDivDate = None\n",
    "    for row in c.itertuples():\n",
    "        if row.CUSIP != cusip:\n",
    "            cusip = row.CUSIP\n",
    "            count = 0\n",
    "            lastDivDate = None\n",
    "            for row2 in cache:\n",
    "                if row2[0] in cache_ddate:\n",
    "                    count = 0\n",
    "                    insert(count, row2[1])\n",
    "                    cache_ddate.remove(row2[0])\n",
    "                    count += 1\n",
    "                    lastDivDate = True\n",
    "                elif lastDivDate is not None:\n",
    "                    insert(count, row2[1])\n",
    "                    count += 1\n",
    "            cache = list()\n",
    "            cache_ddate = set()\n",
    "        else:\n",
    "            cache.append((row.date, row.RET))\n",
    "            if pd.isna(row.DCLRDT) == False:\n",
    "                cache_ddate.add(row.DCLRDT)\n",
    "for row2 in cache:\n",
    "    if row2[0] in cache_ddate:\n",
    "        count = 0\n",
    "        insert(count, row2[1])\n",
    "        cache_ddate.remove(row2[0])\n",
    "        count += 1\n",
    "        lastDivDate = True\n",
    "    elif lastDivDate is not None:\n",
    "        insert(count, row2[1])\n",
    "        count += 1        "
   ]
  },
  {
   "cell_type": "code",
   "execution_count": 10,
   "metadata": {},
   "outputs": [
    {
     "output_type": "stream",
     "name": "stderr",
     "text": [
      "723it [2:12:10, 19.34s/it]/Users/ptakchun/.local/lib/python3.7/site-packages/IPython/core/interactiveshell.py:3357: DtypeWarning: Columns (10,14) have mixed types.Specify dtype option on import or set low_memory=False.\n",
      "  if (await self.run_code(code, result,  async_=asy)):\n",
      "819it [2:40:26, 11.75s/it]\n"
     ]
    }
   ],
   "source": [
    "#In[] 1,227,297,915 size, 7675it * 10000\n",
    "crsp_df = pd.read_csv(\"crsp_d_rev2.csv\",header=0,\n",
    "    parse_dates = ['date','DCLRDT','RCRDDT'],\n",
    "    dtype={\n",
    "        \"PERMNO\": str,\n",
    "        \"PRC\": np.float64,\n",
    "        \"VOL\": np.float64,\n",
    "        \"SHROUT\": np.float64,\n",
    "        \"DIVAMT\": np.float64,\n",
    "        \"SHRCD\":str,\n",
    "        \"DISTCD\":str,\n",
    "        \"COMNAM\": str,\n",
    "        \"TICKER\": str,\n",
    "        'CUSIP': str,\n",
    "        \"BID\": np.float64,\n",
    "        \"ASK\": np.float64}, chunksize=100000)\n",
    "#Data Preprocessing\n",
    "#In[]\n",
    "def insert(i,x):\n",
    "    if str(x)[-1].isdigit() == False:\n",
    "        return\n",
    "    x = float(x)\n",
    "    if i not in d:\n",
    "        d[i] = [x]\n",
    "    else:\n",
    "        d[i].append(x)\n",
    "    return\n",
    "one = False\n",
    "cache = []\n",
    "cache_ddate = set()\n",
    "for c in tqdm(crsp_df):\n",
    "    c = c[(c.SHRCD.isin(('10','11'))) ]\n",
    "    c = c.groupby(by=['CUSIP','date']).agg({\n",
    "          'DCLRDT': 'last',\n",
    "          'RCRDDT': 'last',\n",
    "          'DISTCD': 'last',\n",
    "          'DIVAMT': 'sum',\n",
    "          'RET':'last',\n",
    "          'RETX':'last',\n",
    "          'PRC': 'last'}).reset_index()\n",
    "    if not one:\n",
    "         cusip = c.head(1).reset_index().iloc[0].CUSIP\n",
    "         one = True\n",
    "    count = 0\n",
    "    # c['dt'] = 0\n",
    "    lastDivDate = None\n",
    "    for row in c.itertuples():\n",
    "        if row.CUSIP != cusip:\n",
    "            cusip = row.CUSIP\n",
    "            count = 0\n",
    "            lastDivDate = None\n",
    "            for row2 in cache:\n",
    "                if row2[0] in cache_ddate:\n",
    "                    count = 0\n",
    "                    # insert(count, row.RET)\n",
    "                    cache_ddate.remove(row2[0])\n",
    "                    count += 1\n",
    "                    lastDivDate = True\n",
    "                elif lastDivDate is not None:\n",
    "                    insert(count * -1, row2[1])\n",
    "                    count += 1\n",
    "            cache = list()\n",
    "            cache_ddate = set()\n",
    "        else:\n",
    "            cache.append((row.date, row.RET))\n",
    "            if pd.isna(row.DCLRDT) == False:\n",
    "                cache_ddate.add(row.DCLRDT)\n",
    "for row2 in cache:\n",
    "    if row2[0] in cache_ddate:\n",
    "        count = 0\n",
    "        # insert(count, row.RET)\n",
    "        cache_ddate.remove(row2[0])\n",
    "        count += 1\n",
    "        lastDivDate = True\n",
    "    elif lastDivDate is not None:\n",
    "        insert(count, row2[1])\n",
    "        count += 1        "
   ]
  },
  {
   "cell_type": "code",
   "execution_count": 11,
   "metadata": {},
   "outputs": [
    {
     "output_type": "stream",
     "name": "stdout",
     "text": [
      "[0.0845246690680358, 0.0779633788414709, 0.06671109927109689, 0.06580880301488819, 0.0851338512473581, 0.08160140204484337, 0.06699887753239496, 0.06420516984206825, 0.06262254903235419, 0.06975321127609323, 0.07998021493488609, 0.06799940444271961, 0.059036160500691354, 0.06257321370436507, 0.06482762936053664, 0.07684336938094607, 0.06295085259802582, 0.05961546279875507, 0.06736780721327174, 0.07619313121999423, 0.08162753897802236, 0.0813705150574672, 0.08435226283568306, 0.08887241827981658, 0.11354056131367615, 0.11037768409637551, 0.11007910625289138, 0.11033675022921706, 0.13047404780060307, 0.22484335156415672, 0.24366727856426698, 0.2244661071362589, 0.13036931625643552, 0.11031892138282647, 0.1101406543076358, 0.11050371185939833, 0.11358485547142481, 0.08887756028704448, 0.0846928439154125, 0.08133704692011057, 0.0818556971410043, 0.07618584507695278, 0.06777004567809958, 0.059647170156608594, 0.06315896669546282, 0.0767067656931721, 0.06514512638734413, 0.06262922415129288, 0.058812218320240424, 0.06790031627453845, 0.0798580529894103, 0.0697528506937772, 0.06237811969456194, 0.06426436058481882, 0.06734671581944152, 0.08139055518136229, 0.08518547558143008, 0.0659201312252226, 0.06697827316281402, 0.07806505577767522, 0.08460046623963054, 0.06369900390291267, 0.06684306960659404, 0.05975171953765979, 0.07341685721685583, 0.06417887572366207, 0.0600443181486446, 0.054293074193469855, 0.05390278876894383, 0.06331390735091709, 0.050682029226109745, 0.04189469075970486, 0.045419092319755314, 0.04765467413693226, 0.062424261015057415, 0.060866685101831935, 0.05027215448719621, 0.055699011245503215, 0.06383083390737176, 0.07275521858585664, 0.07129512696738341, 0.05221316535228185, 0.04902312582109174, 0.05395810863500531, 0.06564559883852679, 0.06416851444261741, 0.048855655543527825, 0.054287950162908445, 0.04520563872669928, 0.05444635683516926, 0.0536948162663957]\n"
     ]
    }
   ],
   "source": [
    "x = range(-30, 61, 1)\n",
    "dlist = [ 100*sum(d[key])/len(d[key]) for key in x ]\n",
    "print(dlist)"
   ]
  },
  {
   "cell_type": "code",
   "execution_count": 12,
   "metadata": {},
   "outputs": [
    {
     "output_type": "display_data",
     "data": {
      "text/plain": "<Figure size 432x288 with 1 Axes>",
      "image/svg+xml": "<?xml version=\"1.0\" encoding=\"utf-8\" standalone=\"no\"?>\n<!DOCTYPE svg PUBLIC \"-//W3C//DTD SVG 1.1//EN\"\n  \"http://www.w3.org/Graphics/SVG/1.1/DTD/svg11.dtd\">\n<!-- Created with matplotlib (https://matplotlib.org/) -->\n<svg height=\"263.63625pt\" version=\"1.1\" viewBox=\"0 0 378.465625 263.63625\" width=\"378.465625pt\" xmlns=\"http://www.w3.org/2000/svg\" xmlns:xlink=\"http://www.w3.org/1999/xlink\">\n <metadata>\n  <rdf:RDF xmlns:cc=\"http://creativecommons.org/ns#\" xmlns:dc=\"http://purl.org/dc/elements/1.1/\" xmlns:rdf=\"http://www.w3.org/1999/02/22-rdf-syntax-ns#\">\n   <cc:Work>\n    <dc:type rdf:resource=\"http://purl.org/dc/dcmitype/StillImage\"/>\n    <dc:date>2021-05-28T16:22:18.748073</dc:date>\n    <dc:format>image/svg+xml</dc:format>\n    <dc:creator>\n     <cc:Agent>\n      <dc:title>Matplotlib v3.3.4, https://matplotlib.org/</dc:title>\n     </cc:Agent>\n    </dc:creator>\n   </cc:Work>\n  </rdf:RDF>\n </metadata>\n <defs>\n  <style type=\"text/css\">*{stroke-linecap:butt;stroke-linejoin:round;}</style>\n </defs>\n <g id=\"figure_1\">\n  <g id=\"patch_1\">\n   <path d=\"M 0 263.63625 \nL 378.465625 263.63625 \nL 378.465625 0 \nL 0 0 \nz\n\" style=\"fill:none;\"/>\n  </g>\n  <g id=\"axes_1\">\n   <g id=\"patch_2\">\n    <path d=\"M 36.465625 239.758125 \nL 371.265625 239.758125 \nL 371.265625 22.318125 \nL 36.465625 22.318125 \nz\n\" style=\"fill:#ffffff;\"/>\n   </g>\n   <g id=\"patch_3\">\n    <path clip-path=\"url(#p55106204c6)\" d=\"M 51.683807 239.758125 \nL 54.365425 239.758125 \nL 54.365425 167.923074 \nL 51.683807 167.923074 \nz\n\" style=\"fill:#1f77b4;\"/>\n   </g>\n   <g id=\"patch_4\">\n    <path clip-path=\"url(#p55106204c6)\" d=\"M 55.035829 239.758125 \nL 57.717447 239.758125 \nL 57.717447 173.499323 \nL 55.035829 173.499323 \nz\n\" style=\"fill:#1f77b4;\"/>\n   </g>\n   <g id=\"patch_5\">\n    <path clip-path=\"url(#p55106204c6)\" d=\"M 58.387852 239.758125 \nL 61.06947 239.758125 \nL 61.06947 183.062307 \nL 58.387852 183.062307 \nz\n\" style=\"fill:#1f77b4;\"/>\n   </g>\n   <g id=\"patch_6\">\n    <path clip-path=\"url(#p55106204c6)\" d=\"M 61.739874 239.758125 \nL 64.421492 239.758125 \nL 64.421492 183.829142 \nL 61.739874 183.829142 \nz\n\" style=\"fill:#1f77b4;\"/>\n   </g>\n   <g id=\"patch_7\">\n    <path clip-path=\"url(#p55106204c6)\" d=\"M 65.091897 239.758125 \nL 67.773514 239.758125 \nL 67.773514 167.405347 \nL 65.091897 167.405347 \nz\n\" style=\"fill:#1f77b4;\"/>\n   </g>\n   <g id=\"patch_8\">\n    <path clip-path=\"url(#p55106204c6)\" d=\"M 68.443919 239.758125 \nL 71.125537 239.758125 \nL 71.125537 170.407473 \nL 68.443919 170.407473 \nz\n\" style=\"fill:#1f77b4;\"/>\n   </g>\n   <g id=\"patch_9\">\n    <path clip-path=\"url(#p55106204c6)\" d=\"M 71.795941 239.758125 \nL 74.477559 239.758125 \nL 74.477559 182.817733 \nL 71.795941 182.817733 \nz\n\" style=\"fill:#1f77b4;\"/>\n   </g>\n   <g id=\"patch_10\">\n    <path clip-path=\"url(#p55106204c6)\" d=\"M 75.147964 239.758125 \nL 77.829582 239.758125 \nL 77.829582 185.192023 \nL 75.147964 185.192023 \nz\n\" style=\"fill:#1f77b4;\"/>\n   </g>\n   <g id=\"patch_11\">\n    <path clip-path=\"url(#p55106204c6)\" d=\"M 78.499986 239.758125 \nL 81.181604 239.758125 \nL 81.181604 186.537047 \nL 78.499986 186.537047 \nz\n\" style=\"fill:#1f77b4;\"/>\n   </g>\n   <g id=\"patch_12\">\n    <path clip-path=\"url(#p55106204c6)\" d=\"M 81.852009 239.758125 \nL 84.533627 239.758125 \nL 84.533627 180.476905 \nL 81.852009 180.476905 \nz\n\" style=\"fill:#1f77b4;\"/>\n   </g>\n   <g id=\"patch_13\">\n    <path clip-path=\"url(#p55106204c6)\" d=\"M 85.204031 239.758125 \nL 87.885649 239.758125 \nL 87.885649 171.785273 \nL 85.204031 171.785273 \nz\n\" style=\"fill:#1f77b4;\"/>\n   </g>\n   <g id=\"patch_14\">\n    <path clip-path=\"url(#p55106204c6)\" d=\"M 88.556054 239.758125 \nL 91.237671 239.758125 \nL 91.237671 181.967414 \nL 88.556054 181.967414 \nz\n\" style=\"fill:#1f77b4;\"/>\n   </g>\n   <g id=\"patch_15\">\n    <path clip-path=\"url(#p55106204c6)\" d=\"M 91.908076 239.758125 \nL 94.589694 239.758125 \nL 94.589694 189.585014 \nL 91.908076 189.585014 \nz\n\" style=\"fill:#1f77b4;\"/>\n   </g>\n   <g id=\"patch_16\">\n    <path clip-path=\"url(#p55106204c6)\" d=\"M 95.260098 239.758125 \nL 97.941716 239.758125 \nL 97.941716 186.578975 \nL 95.260098 186.578975 \nz\n\" style=\"fill:#1f77b4;\"/>\n   </g>\n   <g id=\"patch_17\">\n    <path clip-path=\"url(#p55106204c6)\" d=\"M 98.612121 239.758125 \nL 101.293739 239.758125 \nL 101.293739 184.663013 \nL 98.612121 184.663013 \nz\n\" style=\"fill:#1f77b4;\"/>\n   </g>\n   <g id=\"patch_18\">\n    <path clip-path=\"url(#p55106204c6)\" d=\"M 101.964143 239.758125 \nL 104.645761 239.758125 \nL 104.645761 174.451186 \nL 101.964143 174.451186 \nz\n\" style=\"fill:#1f77b4;\"/>\n   </g>\n   <g id=\"patch_19\">\n    <path clip-path=\"url(#p55106204c6)\" d=\"M 105.316166 239.758125 \nL 107.997784 239.758125 \nL 107.997784 186.258031 \nL 105.316166 186.258031 \nz\n\" style=\"fill:#1f77b4;\"/>\n   </g>\n   <g id=\"patch_20\">\n    <path clip-path=\"url(#p55106204c6)\" d=\"M 108.668188 239.758125 \nL 111.349806 239.758125 \nL 111.349806 189.092682 \nL 108.668188 189.092682 \nz\n\" style=\"fill:#1f77b4;\"/>\n   </g>\n   <g id=\"patch_21\">\n    <path clip-path=\"url(#p55106204c6)\" d=\"M 112.020211 239.758125 \nL 114.701828 239.758125 \nL 114.701828 182.50419 \nL 112.020211 182.50419 \nz\n\" style=\"fill:#1f77b4;\"/>\n   </g>\n   <g id=\"patch_22\">\n    <path clip-path=\"url(#p55106204c6)\" d=\"M 115.372233 239.758125 \nL 118.053851 239.758125 \nL 118.053851 175.003805 \nL 115.372233 175.003805 \nz\n\" style=\"fill:#1f77b4;\"/>\n   </g>\n   <g id=\"patch_23\">\n    <path clip-path=\"url(#p55106204c6)\" d=\"M 118.724255 239.758125 \nL 121.405873 239.758125 \nL 121.405873 170.38526 \nL 118.724255 170.38526 \nz\n\" style=\"fill:#1f77b4;\"/>\n   </g>\n   <g id=\"patch_24\">\n    <path clip-path=\"url(#p55106204c6)\" d=\"M 122.076278 239.758125 \nL 124.757896 239.758125 \nL 124.757896 170.603697 \nL 122.076278 170.603697 \nz\n\" style=\"fill:#1f77b4;\"/>\n   </g>\n   <g id=\"patch_25\">\n    <path clip-path=\"url(#p55106204c6)\" d=\"M 125.4283 239.758125 \nL 128.109918 239.758125 \nL 128.109918 168.069597 \nL 125.4283 168.069597 \nz\n\" style=\"fill:#1f77b4;\"/>\n   </g>\n   <g id=\"patch_26\">\n    <path clip-path=\"url(#p55106204c6)\" d=\"M 128.780323 239.758125 \nL 131.461941 239.758125 \nL 131.461941 164.228048 \nL 128.780323 164.228048 \nz\n\" style=\"fill:#1f77b4;\"/>\n   </g>\n   <g id=\"patch_27\">\n    <path clip-path=\"url(#p55106204c6)\" d=\"M 132.132345 239.758125 \nL 134.813963 239.758125 \nL 134.813963 143.263313 \nL 132.132345 143.263313 \nz\n\" style=\"fill:#1f77b4;\"/>\n   </g>\n   <g id=\"patch_28\">\n    <path clip-path=\"url(#p55106204c6)\" d=\"M 135.484367 239.758125 \nL 138.165985 239.758125 \nL 138.165985 145.95135 \nL 135.484367 145.95135 \nz\n\" style=\"fill:#1f77b4;\"/>\n   </g>\n   <g id=\"patch_29\">\n    <path clip-path=\"url(#p55106204c6)\" d=\"M 138.83639 239.758125 \nL 141.518008 239.758125 \nL 141.518008 146.205103 \nL 138.83639 146.205103 \nz\n\" style=\"fill:#1f77b4;\"/>\n   </g>\n   <g id=\"patch_30\">\n    <path clip-path=\"url(#p55106204c6)\" d=\"M 142.188412 239.758125 \nL 144.87003 239.758125 \nL 144.87003 145.986139 \nL 142.188412 145.986139 \nz\n\" style=\"fill:#1f77b4;\"/>\n   </g>\n   <g id=\"patch_31\">\n    <path clip-path=\"url(#p55106204c6)\" d=\"M 145.540435 239.758125 \nL 148.222053 239.758125 \nL 148.222053 128.872037 \nL 145.540435 128.872037 \nz\n\" style=\"fill:#1f77b4;\"/>\n   </g>\n   <g id=\"patch_32\">\n    <path clip-path=\"url(#p55106204c6)\" d=\"M 148.892457 239.758125 \nL 151.574075 239.758125 \nL 151.574075 48.670317 \nL 148.892457 48.670317 \nz\n\" style=\"fill:#1f77b4;\"/>\n   </g>\n   <g id=\"patch_33\">\n    <path clip-path=\"url(#p55106204c6)\" d=\"M 152.24448 239.758125 \nL 154.926098 239.758125 \nL 154.926098 32.672411 \nL 152.24448 32.672411 \nz\n\" style=\"fill:#1f77b4;\"/>\n   </g>\n   <g id=\"patch_34\">\n    <path clip-path=\"url(#p55106204c6)\" d=\"M 155.596502 239.758125 \nL 158.27812 239.758125 \nL 158.27812 48.990926 \nL 155.596502 48.990926 \nz\n\" style=\"fill:#1f77b4;\"/>\n   </g>\n   <g id=\"patch_35\">\n    <path clip-path=\"url(#p55106204c6)\" d=\"M 158.948524 239.758125 \nL 161.630142 239.758125 \nL 161.630142 128.961045 \nL 158.948524 128.961045 \nz\n\" style=\"fill:#1f77b4;\"/>\n   </g>\n   <g id=\"patch_36\">\n    <path clip-path=\"url(#p55106204c6)\" d=\"M 162.300547 239.758125 \nL 164.982165 239.758125 \nL 164.982165 146.001291 \nL 162.300547 146.001291 \nz\n\" style=\"fill:#1f77b4;\"/>\n   </g>\n   <g id=\"patch_37\">\n    <path clip-path=\"url(#p55106204c6)\" d=\"M 165.652569 239.758125 \nL 168.334187 239.758125 \nL 168.334187 146.152795 \nL 165.652569 146.152795 \nz\n\" style=\"fill:#1f77b4;\"/>\n   </g>\n   <g id=\"patch_38\">\n    <path clip-path=\"url(#p55106204c6)\" d=\"M 169.004592 239.758125 \nL 171.68621 239.758125 \nL 171.68621 145.844243 \nL 169.004592 145.844243 \nz\n\" style=\"fill:#1f77b4;\"/>\n   </g>\n   <g id=\"patch_39\">\n    <path clip-path=\"url(#p55106204c6)\" d=\"M 172.356614 239.758125 \nL 175.038232 239.758125 \nL 175.038232 143.225669 \nL 172.356614 143.225669 \nz\n\" style=\"fill:#1f77b4;\"/>\n   </g>\n   <g id=\"patch_40\">\n    <path clip-path=\"url(#p55106204c6)\" d=\"M 175.708637 239.758125 \nL 178.390255 239.758125 \nL 178.390255 164.223678 \nL 175.708637 164.223678 \nz\n\" style=\"fill:#1f77b4;\"/>\n   </g>\n   <g id=\"patch_41\">\n    <path clip-path=\"url(#p55106204c6)\" d=\"M 179.060659 239.758125 \nL 181.742277 239.758125 \nL 181.742277 167.780147 \nL 179.060659 167.780147 \nz\n\" style=\"fill:#1f77b4;\"/>\n   </g>\n   <g id=\"patch_42\">\n    <path clip-path=\"url(#p55106204c6)\" d=\"M 182.412681 239.758125 \nL 185.094299 239.758125 \nL 185.094299 170.632141 \nL 182.412681 170.632141 \nz\n\" style=\"fill:#1f77b4;\"/>\n   </g>\n   <g id=\"patch_43\">\n    <path clip-path=\"url(#p55106204c6)\" d=\"M 185.764704 239.758125 \nL 188.446322 239.758125 \nL 188.446322 170.191355 \nL 185.764704 170.191355 \nz\n\" style=\"fill:#1f77b4;\"/>\n   </g>\n   <g id=\"patch_44\">\n    <path clip-path=\"url(#p55106204c6)\" d=\"M 189.116726 239.758125 \nL 191.798344 239.758125 \nL 191.798344 175.009997 \nL 189.116726 175.009997 \nz\n\" style=\"fill:#1f77b4;\"/>\n   </g>\n   <g id=\"patch_45\">\n    <path clip-path=\"url(#p55106204c6)\" d=\"M 192.468749 239.758125 \nL 195.150367 239.758125 \nL 195.150367 182.162339 \nL 192.468749 182.162339 \nz\n\" style=\"fill:#1f77b4;\"/>\n   </g>\n   <g id=\"patch_46\">\n    <path clip-path=\"url(#p55106204c6)\" d=\"M 195.820771 239.758125 \nL 198.502389 239.758125 \nL 198.502389 189.065735 \nL 195.820771 189.065735 \nz\n\" style=\"fill:#1f77b4;\"/>\n   </g>\n   <g id=\"patch_47\">\n    <path clip-path=\"url(#p55106204c6)\" d=\"M 199.172794 239.758125 \nL 201.854412 239.758125 \nL 201.854412 186.081161 \nL 199.172794 186.081161 \nz\n\" style=\"fill:#1f77b4;\"/>\n   </g>\n   <g id=\"patch_48\">\n    <path clip-path=\"url(#p55106204c6)\" d=\"M 202.524816 239.758125 \nL 205.206434 239.758125 \nL 205.206434 174.567282 \nL 202.524816 174.567282 \nz\n\" style=\"fill:#1f77b4;\"/>\n   </g>\n   <g id=\"patch_49\">\n    <path clip-path=\"url(#p55106204c6)\" d=\"M 205.876838 239.758125 \nL 208.558456 239.758125 \nL 208.558456 184.393182 \nL 205.876838 184.393182 \nz\n\" style=\"fill:#1f77b4;\"/>\n   </g>\n   <g id=\"patch_50\">\n    <path clip-path=\"url(#p55106204c6)\" d=\"M 209.228861 239.758125 \nL 211.910479 239.758125 \nL 211.910479 186.531374 \nL 209.228861 186.531374 \nz\n\" style=\"fill:#1f77b4;\"/>\n   </g>\n   <g id=\"patch_51\">\n    <path clip-path=\"url(#p55106204c6)\" d=\"M 212.580883 239.758125 \nL 215.262501 239.758125 \nL 215.262501 189.775336 \nL 212.580883 189.775336 \nz\n\" style=\"fill:#1f77b4;\"/>\n   </g>\n   <g id=\"patch_52\">\n    <path clip-path=\"url(#p55106204c6)\" d=\"M 215.932906 239.758125 \nL 218.614524 239.758125 \nL 218.614524 182.051626 \nL 215.932906 182.051626 \nz\n\" style=\"fill:#1f77b4;\"/>\n   </g>\n   <g id=\"patch_53\">\n    <path clip-path=\"url(#p55106204c6)\" d=\"M 219.284928 239.758125 \nL 221.966546 239.758125 \nL 221.966546 171.889095 \nL 219.284928 171.889095 \nz\n\" style=\"fill:#1f77b4;\"/>\n   </g>\n   <g id=\"patch_54\">\n    <path clip-path=\"url(#p55106204c6)\" d=\"M 222.636951 239.758125 \nL 225.318569 239.758125 \nL 225.318569 180.477211 \nL 222.636951 180.477211 \nz\n\" style=\"fill:#1f77b4;\"/>\n   </g>\n   <g id=\"patch_55\">\n    <path clip-path=\"url(#p55106204c6)\" d=\"M 225.988973 239.758125 \nL 228.670591 239.758125 \nL 228.670591 186.74478 \nL 225.988973 186.74478 \nz\n\" style=\"fill:#1f77b4;\"/>\n   </g>\n   <g id=\"patch_56\">\n    <path clip-path=\"url(#p55106204c6)\" d=\"M 229.340995 239.758125 \nL 232.022613 239.758125 \nL 232.022613 185.141719 \nL 229.340995 185.141719 \nz\n\" style=\"fill:#1f77b4;\"/>\n   </g>\n   <g id=\"patch_57\">\n    <path clip-path=\"url(#p55106204c6)\" d=\"M 232.693018 239.758125 \nL 235.374636 239.758125 \nL 235.374636 182.522115 \nL 232.693018 182.522115 \nz\n\" style=\"fill:#1f77b4;\"/>\n   </g>\n   <g id=\"patch_58\">\n    <path clip-path=\"url(#p55106204c6)\" d=\"M 236.04504 239.758125 \nL 238.726658 239.758125 \nL 238.726658 170.586666 \nL 236.04504 170.586666 \nz\n\" style=\"fill:#1f77b4;\"/>\n   </g>\n   <g id=\"patch_59\">\n    <path clip-path=\"url(#p55106204c6)\" d=\"M 239.397063 239.758125 \nL 242.078681 239.758125 \nL 242.078681 167.361473 \nL 239.397063 167.361473 \nz\n\" style=\"fill:#1f77b4;\"/>\n   </g>\n   <g id=\"patch_60\">\n    <path clip-path=\"url(#p55106204c6)\" d=\"M 242.749085 239.758125 \nL 245.430703 239.758125 \nL 245.430703 183.734528 \nL 242.749085 183.734528 \nz\n\" style=\"fill:#1f77b4;\"/>\n   </g>\n   <g id=\"patch_61\">\n    <path clip-path=\"url(#p55106204c6)\" d=\"M 246.101108 239.758125 \nL 248.782726 239.758125 \nL 248.782726 182.835244 \nL 246.101108 182.835244 \nz\n\" style=\"fill:#1f77b4;\"/>\n   </g>\n   <g id=\"patch_62\">\n    <path clip-path=\"url(#p55106204c6)\" d=\"M 249.45313 239.758125 \nL 252.134748 239.758125 \nL 252.134748 173.412911 \nL 249.45313 173.412911 \nz\n\" style=\"fill:#1f77b4;\"/>\n   </g>\n   <g id=\"patch_63\">\n    <path clip-path=\"url(#p55106204c6)\" d=\"M 252.805152 239.758125 \nL 255.48677 239.758125 \nL 255.48677 167.858656 \nL 252.805152 167.858656 \nz\n\" style=\"fill:#1f77b4;\"/>\n   </g>\n   <g id=\"patch_64\">\n    <path clip-path=\"url(#p55106204c6)\" d=\"M 256.157175 239.758125 \nL 258.838793 239.758125 \nL 258.838793 185.622199 \nL 256.157175 185.622199 \nz\n\" style=\"fill:#1f77b4;\"/>\n   </g>\n   <g id=\"patch_65\">\n    <path clip-path=\"url(#p55106204c6)\" d=\"M 259.509197 239.758125 \nL 262.190815 239.758125 \nL 262.190815 182.950149 \nL 259.509197 182.950149 \nz\n\" style=\"fill:#1f77b4;\"/>\n   </g>\n   <g id=\"patch_66\">\n    <path clip-path=\"url(#p55106204c6)\" d=\"M 262.86122 239.758125 \nL 265.542838 239.758125 \nL 265.542838 188.976881 \nL 262.86122 188.976881 \nz\n\" style=\"fill:#1f77b4;\"/>\n   </g>\n   <g id=\"patch_67\">\n    <path clip-path=\"url(#p55106204c6)\" d=\"M 266.213242 239.758125 \nL 268.89486 239.758125 \nL 268.89486 177.363279 \nL 266.213242 177.363279 \nz\n\" style=\"fill:#1f77b4;\"/>\n   </g>\n   <g id=\"patch_68\">\n    <path clip-path=\"url(#p55106204c6)\" d=\"M 269.565265 239.758125 \nL 272.246883 239.758125 \nL 272.246883 185.21437 \nL 269.565265 185.21437 \nz\n\" style=\"fill:#1f77b4;\"/>\n   </g>\n   <g id=\"patch_69\">\n    <path clip-path=\"url(#p55106204c6)\" d=\"M 272.917287 239.758125 \nL 275.598905 239.758125 \nL 275.598905 188.72821 \nL 272.917287 188.72821 \nz\n\" style=\"fill:#1f77b4;\"/>\n   </g>\n   <g id=\"patch_70\">\n    <path clip-path=\"url(#p55106204c6)\" d=\"M 276.269309 239.758125 \nL 278.950927 239.758125 \nL 278.950927 193.616025 \nL 276.269309 193.616025 \nz\n\" style=\"fill:#1f77b4;\"/>\n   </g>\n   <g id=\"patch_71\">\n    <path clip-path=\"url(#p55106204c6)\" d=\"M 279.621332 239.758125 \nL 282.30295 239.758125 \nL 282.30295 193.947717 \nL 279.621332 193.947717 \nz\n\" style=\"fill:#1f77b4;\"/>\n   </g>\n   <g id=\"patch_72\">\n    <path clip-path=\"url(#p55106204c6)\" d=\"M 282.973354 239.758125 \nL 285.654972 239.758125 \nL 285.654972 185.949481 \nL 282.973354 185.949481 \nz\n\" style=\"fill:#1f77b4;\"/>\n   </g>\n   <g id=\"patch_73\">\n    <path clip-path=\"url(#p55106204c6)\" d=\"M 286.325377 239.758125 \nL 289.006995 239.758125 \nL 289.006995 196.684946 \nL 286.325377 196.684946 \nz\n\" style=\"fill:#1f77b4;\"/>\n   </g>\n   <g id=\"patch_74\">\n    <path clip-path=\"url(#p55106204c6)\" d=\"M 289.677399 239.758125 \nL 292.359017 239.758125 \nL 292.359017 204.153049 \nL 289.677399 204.153049 \nz\n\" style=\"fill:#1f77b4;\"/>\n   </g>\n   <g id=\"patch_75\">\n    <path clip-path=\"url(#p55106204c6)\" d=\"M 293.029422 239.758125 \nL 295.711039 239.758125 \nL 295.711039 201.157763 \nL 293.029422 201.157763 \nz\n\" style=\"fill:#1f77b4;\"/>\n   </g>\n   <g id=\"patch_76\">\n    <path clip-path=\"url(#p55106204c6)\" d=\"M 296.381444 239.758125 \nL 299.063062 239.758125 \nL 299.063062 199.257807 \nL 296.381444 199.257807 \nz\n\" style=\"fill:#1f77b4;\"/>\n   </g>\n   <g id=\"patch_77\">\n    <path clip-path=\"url(#p55106204c6)\" d=\"M 299.733466 239.758125 \nL 302.415084 239.758125 \nL 302.415084 186.705566 \nL 299.733466 186.705566 \nz\n\" style=\"fill:#1f77b4;\"/>\n   </g>\n   <g id=\"patch_78\">\n    <path clip-path=\"url(#p55106204c6)\" d=\"M 303.085489 239.758125 \nL 305.767107 239.758125 \nL 305.767107 188.029304 \nL 303.085489 188.029304 \nz\n\" style=\"fill:#1f77b4;\"/>\n   </g>\n   <g id=\"patch_79\">\n    <path clip-path=\"url(#p55106204c6)\" d=\"M 306.437511 239.758125 \nL 309.119129 239.758125 \nL 309.119129 197.033287 \nL 306.437511 197.033287 \nz\n\" style=\"fill:#1f77b4;\"/>\n   </g>\n   <g id=\"patch_80\">\n    <path clip-path=\"url(#p55106204c6)\" d=\"M 309.789534 239.758125 \nL 312.471152 239.758125 \nL 312.471152 192.42116 \nL 309.789534 192.42116 \nz\n\" style=\"fill:#1f77b4;\"/>\n   </g>\n   <g id=\"patch_81\">\n    <path clip-path=\"url(#p55106204c6)\" d=\"M 313.141556 239.758125 \nL 315.823174 239.758125 \nL 315.823174 185.510161 \nL 313.141556 185.510161 \nz\n\" style=\"fill:#1f77b4;\"/>\n   </g>\n   <g id=\"patch_82\">\n    <path clip-path=\"url(#p55106204c6)\" d=\"M 316.493579 239.758125 \nL 319.175196 239.758125 \nL 319.175196 177.925586 \nL 316.493579 177.925586 \nz\n\" style=\"fill:#1f77b4;\"/>\n   </g>\n   <g id=\"patch_83\">\n    <path clip-path=\"url(#p55106204c6)\" d=\"M 319.845601 239.758125 \nL 322.527219 239.758125 \nL 322.527219 179.166476 \nL 319.845601 179.166476 \nz\n\" style=\"fill:#1f77b4;\"/>\n   </g>\n   <g id=\"patch_84\">\n    <path clip-path=\"url(#p55106204c6)\" d=\"M 323.197623 239.758125 \nL 325.879241 239.758125 \nL 325.879241 195.383678 \nL 323.197623 195.383678 \nz\n\" style=\"fill:#1f77b4;\"/>\n   </g>\n   <g id=\"patch_85\">\n    <path clip-path=\"url(#p55106204c6)\" d=\"M 326.549646 239.758125 \nL 329.231264 239.758125 \nL 329.231264 198.0948 \nL 326.549646 198.0948 \nz\n\" style=\"fill:#1f77b4;\"/>\n   </g>\n   <g id=\"patch_86\">\n    <path clip-path=\"url(#p55106204c6)\" d=\"M 329.901668 239.758125 \nL 332.583286 239.758125 \nL 332.583286 193.900702 \nL 329.901668 193.900702 \nz\n\" style=\"fill:#1f77b4;\"/>\n   </g>\n   <g id=\"patch_87\">\n    <path clip-path=\"url(#p55106204c6)\" d=\"M 333.253691 239.758125 \nL 335.935309 239.758125 \nL 335.935309 183.967845 \nL 333.253691 183.967845 \nz\n\" style=\"fill:#1f77b4;\"/>\n   </g>\n   <g id=\"patch_88\">\n    <path clip-path=\"url(#p55106204c6)\" d=\"M 336.605713 239.758125 \nL 339.287331 239.758125 \nL 339.287331 185.223176 \nL 336.605713 185.223176 \nz\n\" style=\"fill:#1f77b4;\"/>\n   </g>\n   <g id=\"patch_89\">\n    <path clip-path=\"url(#p55106204c6)\" d=\"M 339.957736 239.758125 \nL 342.639353 239.758125 \nL 342.639353 198.237128 \nL 339.957736 198.237128 \nz\n\" style=\"fill:#1f77b4;\"/>\n   </g>\n   <g id=\"patch_90\">\n    <path clip-path=\"url(#p55106204c6)\" d=\"M 343.309758 239.758125 \nL 345.991376 239.758125 \nL 345.991376 193.620379 \nL 343.309758 193.620379 \nz\n\" style=\"fill:#1f77b4;\"/>\n   </g>\n   <g id=\"patch_91\">\n    <path clip-path=\"url(#p55106204c6)\" d=\"M 346.66178 239.758125 \nL 349.343398 239.758125 \nL 349.343398 201.339171 \nL 346.66178 201.339171 \nz\n\" style=\"fill:#1f77b4;\"/>\n   </g>\n   <g id=\"patch_92\">\n    <path clip-path=\"url(#p55106204c6)\" d=\"M 350.013803 239.758125 \nL 352.695421 239.758125 \nL 352.695421 193.485754 \nL 350.013803 193.485754 \nz\n\" style=\"fill:#1f77b4;\"/>\n   </g>\n   <g id=\"patch_93\">\n    <path clip-path=\"url(#p55106204c6)\" d=\"M 353.365825 239.758125 \nL 356.047443 239.758125 \nL 356.047443 194.124466 \nL 353.365825 194.124466 \nz\n\" style=\"fill:#1f77b4;\"/>\n   </g>\n   <g id=\"matplotlib.axis_1\">\n    <g id=\"xtick_1\">\n     <g id=\"line2d_1\">\n      <defs>\n       <path d=\"M 0 0 \nL 0 3.5 \n\" id=\"mecaf622063\" style=\"stroke:#000000;stroke-width:0.8;\"/>\n      </defs>\n      <g>\n       <use style=\"stroke:#000000;stroke-width:0.8;\" x=\"86.54484\" xlink:href=\"#mecaf622063\" y=\"239.758125\"/>\n      </g>\n     </g>\n     <g id=\"text_1\">\n      <!-- −20 -->\n      <g transform=\"translate(75.992496 254.356563)scale(0.1 -0.1)\">\n       <defs>\n        <path d=\"M 10.59375 35.5 \nL 73.1875 35.5 \nL 73.1875 27.203125 \nL 10.59375 27.203125 \nz\n\" id=\"DejaVuSans-8722\"/>\n        <path d=\"M 19.1875 8.296875 \nL 53.609375 8.296875 \nL 53.609375 0 \nL 7.328125 0 \nL 7.328125 8.296875 \nQ 12.9375 14.109375 22.625 23.890625 \nQ 32.328125 33.6875 34.8125 36.53125 \nQ 39.546875 41.84375 41.421875 45.53125 \nQ 43.3125 49.21875 43.3125 52.78125 \nQ 43.3125 58.59375 39.234375 62.25 \nQ 35.15625 65.921875 28.609375 65.921875 \nQ 23.96875 65.921875 18.8125 64.3125 \nQ 13.671875 62.703125 7.8125 59.421875 \nL 7.8125 69.390625 \nQ 13.765625 71.78125 18.9375 73 \nQ 24.125 74.21875 28.421875 74.21875 \nQ 39.75 74.21875 46.484375 68.546875 \nQ 53.21875 62.890625 53.21875 53.421875 \nQ 53.21875 48.921875 51.53125 44.890625 \nQ 49.859375 40.875 45.40625 35.40625 \nQ 44.1875 33.984375 37.640625 27.21875 \nQ 31.109375 20.453125 19.1875 8.296875 \nz\n\" id=\"DejaVuSans-50\"/>\n        <path d=\"M 31.78125 66.40625 \nQ 24.171875 66.40625 20.328125 58.90625 \nQ 16.5 51.421875 16.5 36.375 \nQ 16.5 21.390625 20.328125 13.890625 \nQ 24.171875 6.390625 31.78125 6.390625 \nQ 39.453125 6.390625 43.28125 13.890625 \nQ 47.125 21.390625 47.125 36.375 \nQ 47.125 51.421875 43.28125 58.90625 \nQ 39.453125 66.40625 31.78125 66.40625 \nz\nM 31.78125 74.21875 \nQ 44.046875 74.21875 50.515625 64.515625 \nQ 56.984375 54.828125 56.984375 36.375 \nQ 56.984375 17.96875 50.515625 8.265625 \nQ 44.046875 -1.421875 31.78125 -1.421875 \nQ 19.53125 -1.421875 13.0625 8.265625 \nQ 6.59375 17.96875 6.59375 36.375 \nQ 6.59375 54.828125 13.0625 64.515625 \nQ 19.53125 74.21875 31.78125 74.21875 \nz\n\" id=\"DejaVuSans-48\"/>\n       </defs>\n       <use xlink:href=\"#DejaVuSans-8722\"/>\n       <use x=\"83.789062\" xlink:href=\"#DejaVuSans-50\"/>\n       <use x=\"147.412109\" xlink:href=\"#DejaVuSans-48\"/>\n      </g>\n     </g>\n    </g>\n    <g id=\"xtick_2\">\n     <g id=\"line2d_2\">\n      <g>\n       <use style=\"stroke:#000000;stroke-width:0.8;\" x=\"153.585289\" xlink:href=\"#mecaf622063\" y=\"239.758125\"/>\n      </g>\n     </g>\n     <g id=\"text_2\">\n      <!-- 0 -->\n      <g transform=\"translate(150.404039 254.356563)scale(0.1 -0.1)\">\n       <use xlink:href=\"#DejaVuSans-48\"/>\n      </g>\n     </g>\n    </g>\n    <g id=\"xtick_3\">\n     <g id=\"line2d_3\">\n      <g>\n       <use style=\"stroke:#000000;stroke-width:0.8;\" x=\"220.625737\" xlink:href=\"#mecaf622063\" y=\"239.758125\"/>\n      </g>\n     </g>\n     <g id=\"text_3\">\n      <!-- 20 -->\n      <g transform=\"translate(214.263237 254.356563)scale(0.1 -0.1)\">\n       <use xlink:href=\"#DejaVuSans-50\"/>\n       <use x=\"63.623047\" xlink:href=\"#DejaVuSans-48\"/>\n      </g>\n     </g>\n    </g>\n    <g id=\"xtick_4\">\n     <g id=\"line2d_4\">\n      <g>\n       <use style=\"stroke:#000000;stroke-width:0.8;\" x=\"287.666186\" xlink:href=\"#mecaf622063\" y=\"239.758125\"/>\n      </g>\n     </g>\n     <g id=\"text_4\">\n      <!-- 40 -->\n      <g transform=\"translate(281.303686 254.356563)scale(0.1 -0.1)\">\n       <defs>\n        <path d=\"M 37.796875 64.3125 \nL 12.890625 25.390625 \nL 37.796875 25.390625 \nz\nM 35.203125 72.90625 \nL 47.609375 72.90625 \nL 47.609375 25.390625 \nL 58.015625 25.390625 \nL 58.015625 17.1875 \nL 47.609375 17.1875 \nL 47.609375 0 \nL 37.796875 0 \nL 37.796875 17.1875 \nL 4.890625 17.1875 \nL 4.890625 26.703125 \nz\n\" id=\"DejaVuSans-52\"/>\n       </defs>\n       <use xlink:href=\"#DejaVuSans-52\"/>\n       <use x=\"63.623047\" xlink:href=\"#DejaVuSans-48\"/>\n      </g>\n     </g>\n    </g>\n    <g id=\"xtick_5\">\n     <g id=\"line2d_5\">\n      <g>\n       <use style=\"stroke:#000000;stroke-width:0.8;\" x=\"354.706634\" xlink:href=\"#mecaf622063\" y=\"239.758125\"/>\n      </g>\n     </g>\n     <g id=\"text_5\">\n      <!-- 60 -->\n      <g transform=\"translate(348.344134 254.356563)scale(0.1 -0.1)\">\n       <defs>\n        <path d=\"M 33.015625 40.375 \nQ 26.375 40.375 22.484375 35.828125 \nQ 18.609375 31.296875 18.609375 23.390625 \nQ 18.609375 15.53125 22.484375 10.953125 \nQ 26.375 6.390625 33.015625 6.390625 \nQ 39.65625 6.390625 43.53125 10.953125 \nQ 47.40625 15.53125 47.40625 23.390625 \nQ 47.40625 31.296875 43.53125 35.828125 \nQ 39.65625 40.375 33.015625 40.375 \nz\nM 52.59375 71.296875 \nL 52.59375 62.3125 \nQ 48.875 64.0625 45.09375 64.984375 \nQ 41.3125 65.921875 37.59375 65.921875 \nQ 27.828125 65.921875 22.671875 59.328125 \nQ 17.53125 52.734375 16.796875 39.40625 \nQ 19.671875 43.65625 24.015625 45.921875 \nQ 28.375 48.1875 33.59375 48.1875 \nQ 44.578125 48.1875 50.953125 41.515625 \nQ 57.328125 34.859375 57.328125 23.390625 \nQ 57.328125 12.15625 50.6875 5.359375 \nQ 44.046875 -1.421875 33.015625 -1.421875 \nQ 20.359375 -1.421875 13.671875 8.265625 \nQ 6.984375 17.96875 6.984375 36.375 \nQ 6.984375 53.65625 15.1875 63.9375 \nQ 23.390625 74.21875 37.203125 74.21875 \nQ 40.921875 74.21875 44.703125 73.484375 \nQ 48.484375 72.75 52.59375 71.296875 \nz\n\" id=\"DejaVuSans-54\"/>\n       </defs>\n       <use xlink:href=\"#DejaVuSans-54\"/>\n       <use x=\"63.623047\" xlink:href=\"#DejaVuSans-48\"/>\n      </g>\n     </g>\n    </g>\n   </g>\n   <g id=\"matplotlib.axis_2\">\n    <g id=\"ytick_1\">\n     <g id=\"line2d_6\">\n      <defs>\n       <path d=\"M 0 0 \nL -3.5 0 \n\" id=\"m920bd6ccb6\" style=\"stroke:#000000;stroke-width:0.8;\"/>\n      </defs>\n      <g>\n       <use style=\"stroke:#000000;stroke-width:0.8;\" x=\"36.465625\" xlink:href=\"#m920bd6ccb6\" y=\"239.758125\"/>\n      </g>\n     </g>\n     <g id=\"text_6\">\n      <!-- 0.00 -->\n      <g transform=\"translate(7.2 243.557344)scale(0.1 -0.1)\">\n       <defs>\n        <path d=\"M 10.6875 12.40625 \nL 21 12.40625 \nL 21 0 \nL 10.6875 0 \nz\n\" id=\"DejaVuSans-46\"/>\n       </defs>\n       <use xlink:href=\"#DejaVuSans-48\"/>\n       <use x=\"63.623047\" xlink:href=\"#DejaVuSans-46\"/>\n       <use x=\"95.410156\" xlink:href=\"#DejaVuSans-48\"/>\n       <use x=\"159.033203\" xlink:href=\"#DejaVuSans-48\"/>\n      </g>\n     </g>\n    </g>\n    <g id=\"ytick_2\">\n     <g id=\"line2d_7\">\n      <g>\n       <use style=\"stroke:#000000;stroke-width:0.8;\" x=\"36.465625\" xlink:href=\"#m920bd6ccb6\" y=\"197.264583\"/>\n      </g>\n     </g>\n     <g id=\"text_7\">\n      <!-- 0.05 -->\n      <g transform=\"translate(7.2 201.063802)scale(0.1 -0.1)\">\n       <defs>\n        <path d=\"M 10.796875 72.90625 \nL 49.515625 72.90625 \nL 49.515625 64.59375 \nL 19.828125 64.59375 \nL 19.828125 46.734375 \nQ 21.96875 47.46875 24.109375 47.828125 \nQ 26.265625 48.1875 28.421875 48.1875 \nQ 40.625 48.1875 47.75 41.5 \nQ 54.890625 34.8125 54.890625 23.390625 \nQ 54.890625 11.625 47.5625 5.09375 \nQ 40.234375 -1.421875 26.90625 -1.421875 \nQ 22.3125 -1.421875 17.546875 -0.640625 \nQ 12.796875 0.140625 7.71875 1.703125 \nL 7.71875 11.625 \nQ 12.109375 9.234375 16.796875 8.0625 \nQ 21.484375 6.890625 26.703125 6.890625 \nQ 35.15625 6.890625 40.078125 11.328125 \nQ 45.015625 15.765625 45.015625 23.390625 \nQ 45.015625 31 40.078125 35.4375 \nQ 35.15625 39.890625 26.703125 39.890625 \nQ 22.75 39.890625 18.8125 39.015625 \nQ 14.890625 38.140625 10.796875 36.28125 \nz\n\" id=\"DejaVuSans-53\"/>\n       </defs>\n       <use xlink:href=\"#DejaVuSans-48\"/>\n       <use x=\"63.623047\" xlink:href=\"#DejaVuSans-46\"/>\n       <use x=\"95.410156\" xlink:href=\"#DejaVuSans-48\"/>\n       <use x=\"159.033203\" xlink:href=\"#DejaVuSans-53\"/>\n      </g>\n     </g>\n    </g>\n    <g id=\"ytick_3\">\n     <g id=\"line2d_8\">\n      <g>\n       <use style=\"stroke:#000000;stroke-width:0.8;\" x=\"36.465625\" xlink:href=\"#m920bd6ccb6\" y=\"154.771041\"/>\n      </g>\n     </g>\n     <g id=\"text_8\">\n      <!-- 0.10 -->\n      <g transform=\"translate(7.2 158.57026)scale(0.1 -0.1)\">\n       <defs>\n        <path d=\"M 12.40625 8.296875 \nL 28.515625 8.296875 \nL 28.515625 63.921875 \nL 10.984375 60.40625 \nL 10.984375 69.390625 \nL 28.421875 72.90625 \nL 38.28125 72.90625 \nL 38.28125 8.296875 \nL 54.390625 8.296875 \nL 54.390625 0 \nL 12.40625 0 \nz\n\" id=\"DejaVuSans-49\"/>\n       </defs>\n       <use xlink:href=\"#DejaVuSans-48\"/>\n       <use x=\"63.623047\" xlink:href=\"#DejaVuSans-46\"/>\n       <use x=\"95.410156\" xlink:href=\"#DejaVuSans-49\"/>\n       <use x=\"159.033203\" xlink:href=\"#DejaVuSans-48\"/>\n      </g>\n     </g>\n    </g>\n    <g id=\"ytick_4\">\n     <g id=\"line2d_9\">\n      <g>\n       <use style=\"stroke:#000000;stroke-width:0.8;\" x=\"36.465625\" xlink:href=\"#m920bd6ccb6\" y=\"112.277499\"/>\n      </g>\n     </g>\n     <g id=\"text_9\">\n      <!-- 0.15 -->\n      <g transform=\"translate(7.2 116.076718)scale(0.1 -0.1)\">\n       <use xlink:href=\"#DejaVuSans-48\"/>\n       <use x=\"63.623047\" xlink:href=\"#DejaVuSans-46\"/>\n       <use x=\"95.410156\" xlink:href=\"#DejaVuSans-49\"/>\n       <use x=\"159.033203\" xlink:href=\"#DejaVuSans-53\"/>\n      </g>\n     </g>\n    </g>\n    <g id=\"ytick_5\">\n     <g id=\"line2d_10\">\n      <g>\n       <use style=\"stroke:#000000;stroke-width:0.8;\" x=\"36.465625\" xlink:href=\"#m920bd6ccb6\" y=\"69.783957\"/>\n      </g>\n     </g>\n     <g id=\"text_10\">\n      <!-- 0.20 -->\n      <g transform=\"translate(7.2 73.583176)scale(0.1 -0.1)\">\n       <use xlink:href=\"#DejaVuSans-48\"/>\n       <use x=\"63.623047\" xlink:href=\"#DejaVuSans-46\"/>\n       <use x=\"95.410156\" xlink:href=\"#DejaVuSans-50\"/>\n       <use x=\"159.033203\" xlink:href=\"#DejaVuSans-48\"/>\n      </g>\n     </g>\n    </g>\n    <g id=\"ytick_6\">\n     <g id=\"line2d_11\">\n      <g>\n       <use style=\"stroke:#000000;stroke-width:0.8;\" x=\"36.465625\" xlink:href=\"#m920bd6ccb6\" y=\"27.290415\"/>\n      </g>\n     </g>\n     <g id=\"text_11\">\n      <!-- 0.25 -->\n      <g transform=\"translate(7.2 31.089634)scale(0.1 -0.1)\">\n       <use xlink:href=\"#DejaVuSans-48\"/>\n       <use x=\"63.623047\" xlink:href=\"#DejaVuSans-46\"/>\n       <use x=\"95.410156\" xlink:href=\"#DejaVuSans-50\"/>\n       <use x=\"159.033203\" xlink:href=\"#DejaVuSans-53\"/>\n      </g>\n     </g>\n    </g>\n   </g>\n   <g id=\"patch_94\">\n    <path d=\"M 36.465625 239.758125 \nL 36.465625 22.318125 \n\" style=\"fill:none;stroke:#000000;stroke-linecap:square;stroke-linejoin:miter;stroke-width:0.8;\"/>\n   </g>\n   <g id=\"patch_95\">\n    <path d=\"M 371.265625 239.758125 \nL 371.265625 22.318125 \n\" style=\"fill:none;stroke:#000000;stroke-linecap:square;stroke-linejoin:miter;stroke-width:0.8;\"/>\n   </g>\n   <g id=\"patch_96\">\n    <path d=\"M 36.465625 239.758125 \nL 371.265625 239.758125 \n\" style=\"fill:none;stroke:#000000;stroke-linecap:square;stroke-linejoin:miter;stroke-width:0.8;\"/>\n   </g>\n   <g id=\"patch_97\">\n    <path d=\"M 36.465625 22.318125 \nL 371.265625 22.318125 \n\" style=\"fill:none;stroke:#000000;stroke-linecap:square;stroke-linejoin:miter;stroke-width:0.8;\"/>\n   </g>\n   <g id=\"text_12\">\n    <!-- Raw Return around declaration date -->\n    <g transform=\"translate(95.306875 16.318125)scale(0.12 -0.12)\">\n     <defs>\n      <path d=\"M 44.390625 34.1875 \nQ 47.5625 33.109375 50.5625 29.59375 \nQ 53.5625 26.078125 56.59375 19.921875 \nL 66.609375 0 \nL 56 0 \nL 46.6875 18.703125 \nQ 43.0625 26.03125 39.671875 28.421875 \nQ 36.28125 30.8125 30.421875 30.8125 \nL 19.671875 30.8125 \nL 19.671875 0 \nL 9.8125 0 \nL 9.8125 72.90625 \nL 32.078125 72.90625 \nQ 44.578125 72.90625 50.734375 67.671875 \nQ 56.890625 62.453125 56.890625 51.90625 \nQ 56.890625 45.015625 53.6875 40.46875 \nQ 50.484375 35.9375 44.390625 34.1875 \nz\nM 19.671875 64.796875 \nL 19.671875 38.921875 \nL 32.078125 38.921875 \nQ 39.203125 38.921875 42.84375 42.21875 \nQ 46.484375 45.515625 46.484375 51.90625 \nQ 46.484375 58.296875 42.84375 61.546875 \nQ 39.203125 64.796875 32.078125 64.796875 \nz\n\" id=\"DejaVuSans-82\"/>\n      <path d=\"M 34.28125 27.484375 \nQ 23.390625 27.484375 19.1875 25 \nQ 14.984375 22.515625 14.984375 16.5 \nQ 14.984375 11.71875 18.140625 8.90625 \nQ 21.296875 6.109375 26.703125 6.109375 \nQ 34.1875 6.109375 38.703125 11.40625 \nQ 43.21875 16.703125 43.21875 25.484375 \nL 43.21875 27.484375 \nz\nM 52.203125 31.203125 \nL 52.203125 0 \nL 43.21875 0 \nL 43.21875 8.296875 \nQ 40.140625 3.328125 35.546875 0.953125 \nQ 30.953125 -1.421875 24.3125 -1.421875 \nQ 15.921875 -1.421875 10.953125 3.296875 \nQ 6 8.015625 6 15.921875 \nQ 6 25.140625 12.171875 29.828125 \nQ 18.359375 34.515625 30.609375 34.515625 \nL 43.21875 34.515625 \nL 43.21875 35.40625 \nQ 43.21875 41.609375 39.140625 45 \nQ 35.0625 48.390625 27.6875 48.390625 \nQ 23 48.390625 18.546875 47.265625 \nQ 14.109375 46.140625 10.015625 43.890625 \nL 10.015625 52.203125 \nQ 14.9375 54.109375 19.578125 55.046875 \nQ 24.21875 56 28.609375 56 \nQ 40.484375 56 46.34375 49.84375 \nQ 52.203125 43.703125 52.203125 31.203125 \nz\n\" id=\"DejaVuSans-97\"/>\n      <path d=\"M 4.203125 54.6875 \nL 13.1875 54.6875 \nL 24.421875 12.015625 \nL 35.59375 54.6875 \nL 46.1875 54.6875 \nL 57.421875 12.015625 \nL 68.609375 54.6875 \nL 77.59375 54.6875 \nL 63.28125 0 \nL 52.6875 0 \nL 40.921875 44.828125 \nL 29.109375 0 \nL 18.5 0 \nz\n\" id=\"DejaVuSans-119\"/>\n      <path id=\"DejaVuSans-32\"/>\n      <path d=\"M 56.203125 29.59375 \nL 56.203125 25.203125 \nL 14.890625 25.203125 \nQ 15.484375 15.921875 20.484375 11.0625 \nQ 25.484375 6.203125 34.421875 6.203125 \nQ 39.59375 6.203125 44.453125 7.46875 \nQ 49.3125 8.734375 54.109375 11.28125 \nL 54.109375 2.78125 \nQ 49.265625 0.734375 44.1875 -0.34375 \nQ 39.109375 -1.421875 33.890625 -1.421875 \nQ 20.796875 -1.421875 13.15625 6.1875 \nQ 5.515625 13.8125 5.515625 26.8125 \nQ 5.515625 40.234375 12.765625 48.109375 \nQ 20.015625 56 32.328125 56 \nQ 43.359375 56 49.78125 48.890625 \nQ 56.203125 41.796875 56.203125 29.59375 \nz\nM 47.21875 32.234375 \nQ 47.125 39.59375 43.09375 43.984375 \nQ 39.0625 48.390625 32.421875 48.390625 \nQ 24.90625 48.390625 20.390625 44.140625 \nQ 15.875 39.890625 15.1875 32.171875 \nz\n\" id=\"DejaVuSans-101\"/>\n      <path d=\"M 18.3125 70.21875 \nL 18.3125 54.6875 \nL 36.8125 54.6875 \nL 36.8125 47.703125 \nL 18.3125 47.703125 \nL 18.3125 18.015625 \nQ 18.3125 11.328125 20.140625 9.421875 \nQ 21.96875 7.515625 27.59375 7.515625 \nL 36.8125 7.515625 \nL 36.8125 0 \nL 27.59375 0 \nQ 17.1875 0 13.234375 3.875 \nQ 9.28125 7.765625 9.28125 18.015625 \nL 9.28125 47.703125 \nL 2.6875 47.703125 \nL 2.6875 54.6875 \nL 9.28125 54.6875 \nL 9.28125 70.21875 \nz\n\" id=\"DejaVuSans-116\"/>\n      <path d=\"M 8.5 21.578125 \nL 8.5 54.6875 \nL 17.484375 54.6875 \nL 17.484375 21.921875 \nQ 17.484375 14.15625 20.5 10.265625 \nQ 23.53125 6.390625 29.59375 6.390625 \nQ 36.859375 6.390625 41.078125 11.03125 \nQ 45.3125 15.671875 45.3125 23.6875 \nL 45.3125 54.6875 \nL 54.296875 54.6875 \nL 54.296875 0 \nL 45.3125 0 \nL 45.3125 8.40625 \nQ 42.046875 3.421875 37.71875 1 \nQ 33.40625 -1.421875 27.6875 -1.421875 \nQ 18.265625 -1.421875 13.375 4.4375 \nQ 8.5 10.296875 8.5 21.578125 \nz\nM 31.109375 56 \nz\n\" id=\"DejaVuSans-117\"/>\n      <path d=\"M 41.109375 46.296875 \nQ 39.59375 47.171875 37.8125 47.578125 \nQ 36.03125 48 33.890625 48 \nQ 26.265625 48 22.1875 43.046875 \nQ 18.109375 38.09375 18.109375 28.8125 \nL 18.109375 0 \nL 9.078125 0 \nL 9.078125 54.6875 \nL 18.109375 54.6875 \nL 18.109375 46.1875 \nQ 20.953125 51.171875 25.484375 53.578125 \nQ 30.03125 56 36.53125 56 \nQ 37.453125 56 38.578125 55.875 \nQ 39.703125 55.765625 41.0625 55.515625 \nz\n\" id=\"DejaVuSans-114\"/>\n      <path d=\"M 54.890625 33.015625 \nL 54.890625 0 \nL 45.90625 0 \nL 45.90625 32.71875 \nQ 45.90625 40.484375 42.875 44.328125 \nQ 39.84375 48.1875 33.796875 48.1875 \nQ 26.515625 48.1875 22.3125 43.546875 \nQ 18.109375 38.921875 18.109375 30.90625 \nL 18.109375 0 \nL 9.078125 0 \nL 9.078125 54.6875 \nL 18.109375 54.6875 \nL 18.109375 46.1875 \nQ 21.34375 51.125 25.703125 53.5625 \nQ 30.078125 56 35.796875 56 \nQ 45.21875 56 50.046875 50.171875 \nQ 54.890625 44.34375 54.890625 33.015625 \nz\n\" id=\"DejaVuSans-110\"/>\n      <path d=\"M 30.609375 48.390625 \nQ 23.390625 48.390625 19.1875 42.75 \nQ 14.984375 37.109375 14.984375 27.296875 \nQ 14.984375 17.484375 19.15625 11.84375 \nQ 23.34375 6.203125 30.609375 6.203125 \nQ 37.796875 6.203125 41.984375 11.859375 \nQ 46.1875 17.53125 46.1875 27.296875 \nQ 46.1875 37.015625 41.984375 42.703125 \nQ 37.796875 48.390625 30.609375 48.390625 \nz\nM 30.609375 56 \nQ 42.328125 56 49.015625 48.375 \nQ 55.71875 40.765625 55.71875 27.296875 \nQ 55.71875 13.875 49.015625 6.21875 \nQ 42.328125 -1.421875 30.609375 -1.421875 \nQ 18.84375 -1.421875 12.171875 6.21875 \nQ 5.515625 13.875 5.515625 27.296875 \nQ 5.515625 40.765625 12.171875 48.375 \nQ 18.84375 56 30.609375 56 \nz\n\" id=\"DejaVuSans-111\"/>\n      <path d=\"M 45.40625 46.390625 \nL 45.40625 75.984375 \nL 54.390625 75.984375 \nL 54.390625 0 \nL 45.40625 0 \nL 45.40625 8.203125 \nQ 42.578125 3.328125 38.25 0.953125 \nQ 33.9375 -1.421875 27.875 -1.421875 \nQ 17.96875 -1.421875 11.734375 6.484375 \nQ 5.515625 14.40625 5.515625 27.296875 \nQ 5.515625 40.1875 11.734375 48.09375 \nQ 17.96875 56 27.875 56 \nQ 33.9375 56 38.25 53.625 \nQ 42.578125 51.265625 45.40625 46.390625 \nz\nM 14.796875 27.296875 \nQ 14.796875 17.390625 18.875 11.75 \nQ 22.953125 6.109375 30.078125 6.109375 \nQ 37.203125 6.109375 41.296875 11.75 \nQ 45.40625 17.390625 45.40625 27.296875 \nQ 45.40625 37.203125 41.296875 42.84375 \nQ 37.203125 48.484375 30.078125 48.484375 \nQ 22.953125 48.484375 18.875 42.84375 \nQ 14.796875 37.203125 14.796875 27.296875 \nz\n\" id=\"DejaVuSans-100\"/>\n      <path d=\"M 48.78125 52.59375 \nL 48.78125 44.1875 \nQ 44.96875 46.296875 41.140625 47.34375 \nQ 37.3125 48.390625 33.40625 48.390625 \nQ 24.65625 48.390625 19.8125 42.84375 \nQ 14.984375 37.3125 14.984375 27.296875 \nQ 14.984375 17.28125 19.8125 11.734375 \nQ 24.65625 6.203125 33.40625 6.203125 \nQ 37.3125 6.203125 41.140625 7.25 \nQ 44.96875 8.296875 48.78125 10.40625 \nL 48.78125 2.09375 \nQ 45.015625 0.34375 40.984375 -0.53125 \nQ 36.96875 -1.421875 32.421875 -1.421875 \nQ 20.0625 -1.421875 12.78125 6.34375 \nQ 5.515625 14.109375 5.515625 27.296875 \nQ 5.515625 40.671875 12.859375 48.328125 \nQ 20.21875 56 33.015625 56 \nQ 37.15625 56 41.109375 55.140625 \nQ 45.0625 54.296875 48.78125 52.59375 \nz\n\" id=\"DejaVuSans-99\"/>\n      <path d=\"M 9.421875 75.984375 \nL 18.40625 75.984375 \nL 18.40625 0 \nL 9.421875 0 \nz\n\" id=\"DejaVuSans-108\"/>\n      <path d=\"M 9.421875 54.6875 \nL 18.40625 54.6875 \nL 18.40625 0 \nL 9.421875 0 \nz\nM 9.421875 75.984375 \nL 18.40625 75.984375 \nL 18.40625 64.59375 \nL 9.421875 64.59375 \nz\n\" id=\"DejaVuSans-105\"/>\n     </defs>\n     <use xlink:href=\"#DejaVuSans-82\"/>\n     <use x=\"67.232422\" xlink:href=\"#DejaVuSans-97\"/>\n     <use x=\"128.511719\" xlink:href=\"#DejaVuSans-119\"/>\n     <use x=\"210.298828\" xlink:href=\"#DejaVuSans-32\"/>\n     <use x=\"242.085938\" xlink:href=\"#DejaVuSans-82\"/>\n     <use x=\"307.068359\" xlink:href=\"#DejaVuSans-101\"/>\n     <use x=\"368.591797\" xlink:href=\"#DejaVuSans-116\"/>\n     <use x=\"407.800781\" xlink:href=\"#DejaVuSans-117\"/>\n     <use x=\"471.179688\" xlink:href=\"#DejaVuSans-114\"/>\n     <use x=\"510.542969\" xlink:href=\"#DejaVuSans-110\"/>\n     <use x=\"573.921875\" xlink:href=\"#DejaVuSans-32\"/>\n     <use x=\"605.708984\" xlink:href=\"#DejaVuSans-97\"/>\n     <use x=\"666.988281\" xlink:href=\"#DejaVuSans-114\"/>\n     <use x=\"705.851562\" xlink:href=\"#DejaVuSans-111\"/>\n     <use x=\"767.033203\" xlink:href=\"#DejaVuSans-117\"/>\n     <use x=\"830.412109\" xlink:href=\"#DejaVuSans-110\"/>\n     <use x=\"893.791016\" xlink:href=\"#DejaVuSans-100\"/>\n     <use x=\"957.267578\" xlink:href=\"#DejaVuSans-32\"/>\n     <use x=\"989.054688\" xlink:href=\"#DejaVuSans-100\"/>\n     <use x=\"1052.53125\" xlink:href=\"#DejaVuSans-101\"/>\n     <use x=\"1114.054688\" xlink:href=\"#DejaVuSans-99\"/>\n     <use x=\"1169.035156\" xlink:href=\"#DejaVuSans-108\"/>\n     <use x=\"1196.818359\" xlink:href=\"#DejaVuSans-97\"/>\n     <use x=\"1258.097656\" xlink:href=\"#DejaVuSans-114\"/>\n     <use x=\"1299.210938\" xlink:href=\"#DejaVuSans-97\"/>\n     <use x=\"1360.490234\" xlink:href=\"#DejaVuSans-116\"/>\n     <use x=\"1399.699219\" xlink:href=\"#DejaVuSans-105\"/>\n     <use x=\"1427.482422\" xlink:href=\"#DejaVuSans-111\"/>\n     <use x=\"1488.664062\" xlink:href=\"#DejaVuSans-110\"/>\n     <use x=\"1552.042969\" xlink:href=\"#DejaVuSans-32\"/>\n     <use x=\"1583.830078\" xlink:href=\"#DejaVuSans-100\"/>\n     <use x=\"1647.306641\" xlink:href=\"#DejaVuSans-97\"/>\n     <use x=\"1708.585938\" xlink:href=\"#DejaVuSans-116\"/>\n     <use x=\"1747.794922\" xlink:href=\"#DejaVuSans-101\"/>\n    </g>\n   </g>\n  </g>\n </g>\n <defs>\n  <clipPath id=\"p55106204c6\">\n   <rect height=\"217.44\" width=\"334.8\" x=\"36.465625\" y=\"22.318125\"/>\n  </clipPath>\n </defs>\n</svg>\n",
      "image/png": "[encoded data removed]"
     },
     "metadata": {
      "needs_background": "light"
     }
    }
   ],
   "source": [
    "plt.bar(x,dlist)\n",
    "plt.title('Raw Return around declaration date')\n",
    "plt.show()"
   ]
  },
  {
   "cell_type": "code",
   "execution_count": 13,
   "metadata": {},
   "outputs": [
    {
     "output_type": "execute_result",
     "data": {
      "text/plain": [
       "950.2755829999992"
      ]
     },
     "metadata": {},
     "execution_count": 13
    }
   ],
   "source": [
    "sum(d[0])"
   ]
  },
  {
   "cell_type": "code",
   "execution_count": 32,
   "metadata": {},
   "outputs": [],
   "source": [
    "# c[c.DCLRDT.notna()]\n",
    "# c[c.CUSIP=='05978R10'][4000:4500]"
   ]
  },
  {
   "cell_type": "code",
   "execution_count": 14,
   "metadata": {},
   "outputs": [],
   "source": [
    "import pickle\n",
    "filename = 'DCLRDT_Figure3.pkl'\n",
    "with open(filename,'wb') as f:\n",
    "    pickle.dump(dlist, f)"
   ]
  },
  {
   "cell_type": "code",
   "execution_count": 15,
   "metadata": {},
   "outputs": [
    {
     "output_type": "execute_result",
     "data": {
      "text/plain": [
       "True"
      ]
     },
     "metadata": {},
     "execution_count": 15
    }
   ],
   "source": [
    "with open(filename,'rb') as f:\n",
    "    a = pickle.load(f)\n",
    "a == dlist"
   ]
  },
  {
   "cell_type": "code",
   "execution_count": null,
   "metadata": {},
   "outputs": [],
   "source": []
  }
 ]
}