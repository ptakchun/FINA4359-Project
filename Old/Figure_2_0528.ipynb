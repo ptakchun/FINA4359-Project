{
 "metadata": {
  "language_info": {
   "codemirror_mode": {
    "name": "ipython",
    "version": 3
   },
   "file_extension": ".py",
   "mimetype": "text/x-python",
   "name": "python",
   "nbconvert_exporter": "python",
   "pygments_lexer": "ipython3",
   "version": "3.7.10"
  },
  "orig_nbformat": 2,
  "kernelspec": {
   "name": "fina4359",
   "display_name": "Python 3.7.10 64-bit ('fina4359': conda)"
  }
 },
 "nbformat": 4,
 "nbformat_minor": 2,
 "cells": [
  {
   "cell_type": "code",
   "execution_count": 1,
   "metadata": {},
   "outputs": [],
   "source": [
    "import pandas as pd\n",
    "import numpy as np\n",
    "import matplotlib.pyplot as plt\n",
    "from pandas.tseries.offsets import MonthEnd\n",
    "# import statsmodels.api as sm\n",
    "from tqdm import tqdm\n",
    "# from multiprocessing.dummy import Pool\n",
    "import dask.dataframe as dd\n",
    "\n",
    "pd.set_option('display.max_rows', 500)\n",
    "pd.set_option('display.float_format', lambda x: '%.3f' % x)\n",
    "# pd.set_option('display.max_columns', 500)"
   ]
  },
  {
   "cell_type": "code",
   "execution_count": 2,
   "metadata": {},
   "outputs": [
    {
     "output_type": "stream",
     "name": "stderr",
     "text": [
      "819it [56:53,  4.17s/it]\n"
     ]
    }
   ],
   "source": [
    "#In[] 1,227,297,915 size, 7675it * 10000\n",
    "crsp_df = pd.read_csv(\"crsp_d.csv\",header=0,\n",
    "    parse_dates = ['date','DCLRDT','RCRDDT'],\n",
    "    dtype={\n",
    "        \"PERMNO\": str,\n",
    "        \"PRC\": np.float64,\n",
    "        \"VOL\": np.float64,\n",
    "        \"SHROUT\": np.float64,\n",
    "        \"DIVAMT\": np.float64,\n",
    "        \"SHRCD\":str,\n",
    "        \"DISTCD\":str,\n",
    "        \"COMNAM\": str,\n",
    "        \"TICKER\": str,\n",
    "        'CUSIP': str,\n",
    "        \"BID\": np.float64,\n",
    "        \"ASK\": np.float64}, chunksize=100000)\n",
    "#Data Preprocessing\n",
    "#In[]\n",
    "d = {}\n",
    "one = False\n",
    "def insert(i,x):\n",
    "    if str(x)[-1].isdigit() == False:\n",
    "        return\n",
    "    x = float(x)\n",
    "    if i not in d:\n",
    "        d[i] = [x]\n",
    "    else:\n",
    "        d[i].append(x)\n",
    "    return\n",
    "cache = []\n",
    "cache_ddate = set()\n",
    "for c in tqdm(crsp_df):\n",
    "    c = c[(c.SHRCD.isin(('10','11'))) ]\n",
    "    c = c.groupby(by=['CUSIP','date']).agg({\n",
    "          'DCLRDT': 'last',\n",
    "          'RCRDDT': 'last',\n",
    "          'DISTCD': 'last',\n",
    "          'DIVAMT': 'sum',\n",
    "          'RET':'last',\n",
    "          'RETX':'last',\n",
    "          'PRC': 'last'}).reset_index()\n",
    "    if not one:\n",
    "         cusip = c.head(1).reset_index().iloc[0].CUSIP\n",
    "         one = True\n",
    "    count = 0\n",
    "    # c['dt'] = 0\n",
    "    lastDivDate = None\n",
    "    for row in c.itertuples():\n",
    "        if row.CUSIP != cusip:\n",
    "            cusip = row.CUSIP\n",
    "            count = 0\n",
    "            lastDivDate = None\n",
    "            for row2 in cache:\n",
    "                if row2[0] in cache_ddate:\n",
    "                    count = 0\n",
    "                    insert(count, row2[1])\n",
    "                    cache_ddate.remove(row2[0])\n",
    "                    count += 1\n",
    "                    lastDivDate = True\n",
    "                elif lastDivDate is not None:\n",
    "                    insert(count, row2[1])\n",
    "                    count += 1\n",
    "            cache = list()\n",
    "            cache_ddate = set()\n",
    "        else:\n",
    "            cache.append((row.date, row.RET))\n",
    "            if pd.isna(row.RCRDDT) == False:\n",
    "                cache_ddate.add(row.RCRDDT)\n",
    "for row2 in cache:\n",
    "    if row2[0] in cache_ddate:\n",
    "        count = 0\n",
    "        insert(count, row2[1])\n",
    "        cache_ddate.remove(row2[0])\n",
    "        count += 1\n",
    "        lastDivDate = True\n",
    "    elif lastDivDate is not None:\n",
    "        insert(count, row2[1])\n",
    "        count += 1        "
   ]
  },
  {
   "cell_type": "code",
   "execution_count": 3,
   "metadata": {},
   "outputs": [
    {
     "output_type": "stream",
     "name": "stderr",
     "text": [
      "723it [3:19:48, 20.20s/it]/Users/ptakchun/.local/lib/python3.7/site-packages/IPython/core/interactiveshell.py:3357: DtypeWarning: Columns (10,14) have mixed types.Specify dtype option on import or set low_memory=False.\n",
      "  if (await self.run_code(code, result,  async_=asy)):\n",
      "819it [3:55:10, 17.23s/it]\n"
     ]
    }
   ],
   "source": [
    "#In[] 1,227,297,915 size, 7675it * 10000\n",
    "crsp_df = pd.read_csv(\"crsp_d_rev2.csv\",header=0,\n",
    "    parse_dates = ['date','DCLRDT','RCRDDT'],\n",
    "    dtype={\n",
    "        \"PERMNO\": str,\n",
    "        \"PRC\": np.float64,\n",
    "        \"VOL\": np.float64,\n",
    "        \"SHROUT\": np.float64,\n",
    "        \"DIVAMT\": np.float64,\n",
    "        \"SHRCD\":str,\n",
    "        \"DISTCD\":str,\n",
    "        \"COMNAM\": str,\n",
    "        \"TICKER\": str,\n",
    "        'CUSIP': str,\n",
    "        \"BID\": np.float64,\n",
    "        \"ASK\": np.float64}, chunksize=100000)\n",
    "#Data Preprocessing\n",
    "#In[]\n",
    "def insert(i,x):\n",
    "    if str(x)[-1].isdigit() == False:\n",
    "        return\n",
    "    x = float(x)\n",
    "    if i not in d:\n",
    "        d[i] = [x]\n",
    "    else:\n",
    "        d[i].append(x)\n",
    "    return\n",
    "one = False\n",
    "cache = []\n",
    "cache_ddate = set()\n",
    "for c in tqdm(crsp_df):\n",
    "    c = c[(c.SHRCD.isin(('10','11'))) ]\n",
    "    c = c.groupby(by=['CUSIP','date']).agg({\n",
    "          'DCLRDT': 'last',\n",
    "          'RCRDDT': 'last',\n",
    "          'DISTCD': 'last',\n",
    "          'DIVAMT': 'sum',\n",
    "          'RET':'last',\n",
    "          'RETX':'last',\n",
    "          'PRC': 'last'}).reset_index()\n",
    "    if not one:\n",
    "         cusip = c.head(1).reset_index().iloc[0].CUSIP\n",
    "         one = True\n",
    "    count = 0\n",
    "    # c['dt'] = 0\n",
    "    lastDivDate = None\n",
    "    for row in c.itertuples():\n",
    "        if row.CUSIP != cusip:\n",
    "            cusip = row.CUSIP\n",
    "            count = 0\n",
    "            lastDivDate = None\n",
    "            for row2 in cache:\n",
    "                if row2[0] in cache_ddate:\n",
    "                    count = 0\n",
    "                    # insert(count, row.RET)\n",
    "                    cache_ddate.remove(row2[0])\n",
    "                    count += 1\n",
    "                    lastDivDate = True\n",
    "                elif lastDivDate is not None:\n",
    "                    insert(count * -1, row2[1])\n",
    "                    count += 1\n",
    "            cache = list()\n",
    "            cache_ddate = set()\n",
    "        else:\n",
    "            cache.append((row.date, row.RET))\n",
    "            if pd.isna(row.RCRDDT) == False:\n",
    "                cache_ddate.add(row.RCRDDT)\n",
    "for row2 in cache:\n",
    "    if row2[0] in cache_ddate:\n",
    "        count = 0\n",
    "        # insert(count, row.RET)\n",
    "        cache_ddate.remove(row2[0])\n",
    "        count += 1\n",
    "        lastDivDate = True\n",
    "    elif lastDivDate is not None:\n",
    "        insert(count, row2[1])\n",
    "        count += 1        "
   ]
  },
  {
   "cell_type": "code",
   "execution_count": 4,
   "metadata": {},
   "outputs": [
    {
     "output_type": "stream",
     "name": "stdout",
     "text": [
      "[0.029159486015980774, 0.04898353554975436, 0.06364911869872851, 0.06617261956127075, 0.048407344097651475, 0.021148834465575528, 0.05743985492774018, 0.07568023141680275, 0.07671361711219958, 0.0673477341045608, 0.06019313391721306, 0.0678593602623702, 0.07850590473441224, 0.07067540089861615, 0.050076567847543205, 0.06104978197613787, 0.078824600651617, 0.08172792393040125, 0.08359662168338489, 0.06900793526586858, 0.08247310165816345, 0.06940928188967196, 0.07422491679508707, 0.05884271074475685, 0.002444088940118001, 0.028284521056978217, 0.052163791229528245, 0.033636471900061374, 0.01874883258142275, -0.007311957569118899, 0.047069476963421626, -0.007418714586901846, 0.018989006744479908, 0.03353935665909639, 0.05234728388645485, 0.02852584299120993, 0.0026638265568547917, 0.05881873429129063, 0.07406778515993553, 0.06948136171921836, 0.08248546410860395, 0.06919862821489547, 0.08367626096115324, 0.08150064376076617, 0.07886364100055297, 0.06087574918760281, 0.05000143201477519, 0.07076666847700122, 0.07841547945262896, 0.06783760864961202, 0.06023970947263052, 0.06719315181483367, 0.0765066172892813, 0.07565417686042236, 0.05734132848619747, 0.021315733565038308, 0.04843635936983359, 0.0661762962504134, 0.06383405589440413, 0.04898784065110284, 0.02935332421199791, 0.05646480084681082, 0.08626120541559862, 0.06577666269825119, 0.050840504923532, 0.03518825589353629, 0.05270898143404628, 0.07482145086445124, 0.06646093711723927, 0.05817738953258409, 0.056764458404140856, 0.07718121321638251, 0.09170114847340192, 0.07650525489010661, 0.042646193451132075, 0.03370318996013338, 0.05267955113759119, 0.06172256369578081, 0.06479454840324922, 0.05305498137595741, 0.045088816002032524, 0.08215807895507664, 0.09569437328196745, 0.09174259195615508, 0.0802348914371806, 0.0655675479851391, 0.09794332937559756, 0.11376646699622009, 0.1285759896457936, 0.1252478295195055, 0.09460116886843001]\n"
     ]
    }
   ],
   "source": [
    "x = range(-30, 61, 1)\n",
    "dlist = [ 100*sum(d[key])/len(d[key]) for key in x ]\n",
    "print(dlist)"
   ]
  },
  {
   "cell_type": "code",
   "execution_count": 5,
   "metadata": {},
   "outputs": [
    {
     "output_type": "display_data",
     "data": {
      "text/plain": "<Figure size 432x288 with 1 Axes>",
      "image/svg+xml": "<?xml version=\"1.0\" encoding=\"utf-8\" standalone=\"no\"?>\n<!DOCTYPE svg PUBLIC \"-//W3C//DTD SVG 1.1//EN\"\n  \"http://www.w3.org/Graphics/SVG/1.1/DTD/svg11.dtd\">\n<!-- Created with matplotlib (https://matplotlib.org/) -->\n<svg height=\"263.63625pt\" version=\"1.1\" viewBox=\"0 0 378.465625 263.63625\" width=\"378.465625pt\" xmlns=\"http://www.w3.org/2000/svg\" xmlns:xlink=\"http://www.w3.org/1999/xlink\">\n <metadata>\n  <rdf:RDF xmlns:cc=\"http://creativecommons.org/ns#\" xmlns:dc=\"http://purl.org/dc/elements/1.1/\" xmlns:rdf=\"http://www.w3.org/1999/02/22-rdf-syntax-ns#\">\n   <cc:Work>\n    <dc:type rdf:resource=\"http://purl.org/dc/dcmitype/StillImage\"/>\n    <dc:date>2021-05-28T18:13:34.827378</dc:date>\n    <dc:format>image/svg+xml</dc:format>\n    <dc:creator>\n     <cc:Agent>\n      <dc:title>Matplotlib v3.3.4, https://matplotlib.org/</dc:title>\n     </cc:Agent>\n    </dc:creator>\n   </cc:Work>\n  </rdf:RDF>\n </metadata>\n <defs>\n  <style type=\"text/css\">*{stroke-linecap:butt;stroke-linejoin:round;}</style>\n </defs>\n <g id=\"figure_1\">\n  <g id=\"patch_1\">\n   <path d=\"M 0 263.63625 \nL 378.465625 263.63625 \nL 378.465625 0 \nL 0 0 \nz\n\" style=\"fill:none;\"/>\n  </g>\n  <g id=\"axes_1\">\n   <g id=\"patch_2\">\n    <path d=\"M 36.465625 239.758125 \nL 371.265625 239.758125 \nL 371.265625 22.318125 \nL 36.465625 22.318125 \nz\n\" style=\"fill:#ffffff;\"/>\n   </g>\n   <g id=\"patch_3\">\n    <path clip-path=\"url(#pad887052c5)\" d=\"M 51.683807 219.091146 \nL 54.365425 219.091146 \nL 54.365425 176.706884 \nL 51.683807 176.706884 \nz\n\" style=\"fill:#1f77b4;\"/>\n   </g>\n   <g id=\"patch_4\">\n    <path clip-path=\"url(#pad887052c5)\" d=\"M 55.035829 219.091146 \nL 57.717447 219.091146 \nL 57.717447 147.891983 \nL 55.035829 147.891983 \nz\n\" style=\"fill:#1f77b4;\"/>\n   </g>\n   <g id=\"patch_5\">\n    <path clip-path=\"url(#pad887052c5)\" d=\"M 58.387852 219.091146 \nL 61.06947 219.091146 \nL 61.06947 126.575081 \nL 58.387852 126.575081 \nz\n\" style=\"fill:#1f77b4;\"/>\n   </g>\n   <g id=\"patch_6\">\n    <path clip-path=\"url(#pad887052c5)\" d=\"M 61.739874 219.091146 \nL 64.421492 219.091146 \nL 64.421492 122.90709 \nL 61.739874 122.90709 \nz\n\" style=\"fill:#1f77b4;\"/>\n   </g>\n   <g id=\"patch_7\">\n    <path clip-path=\"url(#pad887052c5)\" d=\"M 65.091897 219.091146 \nL 67.773514 219.091146 \nL 67.773514 148.729496 \nL 65.091897 148.729496 \nz\n\" style=\"fill:#1f77b4;\"/>\n   </g>\n   <g id=\"patch_8\">\n    <path clip-path=\"url(#pad887052c5)\" d=\"M 68.443919 219.091146 \nL 71.125537 219.091146 \nL 71.125537 188.350627 \nL 68.443919 188.350627 \nz\n\" style=\"fill:#1f77b4;\"/>\n   </g>\n   <g id=\"patch_9\">\n    <path clip-path=\"url(#pad887052c5)\" d=\"M 71.795941 219.091146 \nL 74.477559 219.091146 \nL 74.477559 135.600448 \nL 71.795941 135.600448 \nz\n\" style=\"fill:#1f77b4;\"/>\n   </g>\n   <g id=\"patch_10\">\n    <path clip-path=\"url(#pad887052c5)\" d=\"M 75.147964 219.091146 \nL 77.829582 219.091146 \nL 77.829582 109.087467 \nL 75.147964 109.087467 \nz\n\" style=\"fill:#1f77b4;\"/>\n   </g>\n   <g id=\"patch_11\">\n    <path clip-path=\"url(#pad887052c5)\" d=\"M 78.499986 219.091146 \nL 81.181604 219.091146 \nL 81.181604 107.585407 \nL 78.499986 107.585407 \nz\n\" style=\"fill:#1f77b4;\"/>\n   </g>\n   <g id=\"patch_12\">\n    <path clip-path=\"url(#pad887052c5)\" d=\"M 81.852009 219.091146 \nL 84.533627 219.091146 \nL 84.533627 121.199023 \nL 81.852009 121.199023 \nz\n\" style=\"fill:#1f77b4;\"/>\n   </g>\n   <g id=\"patch_13\">\n    <path clip-path=\"url(#pad887052c5)\" d=\"M 85.204031 219.091146 \nL 87.885649 219.091146 \nL 87.885649 131.598467 \nL 85.204031 131.598467 \nz\n\" style=\"fill:#1f77b4;\"/>\n   </g>\n   <g id=\"patch_14\">\n    <path clip-path=\"url(#pad887052c5)\" d=\"M 88.556054 219.091146 \nL 91.237671 219.091146 \nL 91.237671 120.455358 \nL 88.556054 120.455358 \nz\n\" style=\"fill:#1f77b4;\"/>\n   </g>\n   <g id=\"patch_15\">\n    <path clip-path=\"url(#pad887052c5)\" d=\"M 91.908076 219.091146 \nL 94.589694 219.091146 \nL 94.589694 104.980259 \nL 91.908076 104.980259 \nz\n\" style=\"fill:#1f77b4;\"/>\n   </g>\n   <g id=\"patch_16\">\n    <path clip-path=\"url(#pad887052c5)\" d=\"M 95.260098 219.091146 \nL 97.941716 219.091146 \nL 97.941716 116.362151 \nL 95.260098 116.362151 \nz\n\" style=\"fill:#1f77b4;\"/>\n   </g>\n   <g id=\"patch_17\">\n    <path clip-path=\"url(#pad887052c5)\" d=\"M 98.612121 219.091146 \nL 101.293739 219.091146 \nL 101.293739 146.303225 \nL 98.612121 146.303225 \nz\n\" style=\"fill:#1f77b4;\"/>\n   </g>\n   <g id=\"patch_18\">\n    <path clip-path=\"url(#pad887052c5)\" d=\"M 101.964143 219.091146 \nL 104.645761 219.091146 \nL 104.645761 130.353301 \nL 101.964143 130.353301 \nz\n\" style=\"fill:#1f77b4;\"/>\n   </g>\n   <g id=\"patch_19\">\n    <path clip-path=\"url(#pad887052c5)\" d=\"M 105.316166 219.091146 \nL 107.997784 219.091146 \nL 107.997784 104.517024 \nL 105.316166 104.517024 \nz\n\" style=\"fill:#1f77b4;\"/>\n   </g>\n   <g id=\"patch_20\">\n    <path clip-path=\"url(#pad887052c5)\" d=\"M 108.668188 219.091146 \nL 111.349806 219.091146 \nL 111.349806 100.296949 \nL 108.668188 100.296949 \nz\n\" style=\"fill:#1f77b4;\"/>\n   </g>\n   <g id=\"patch_21\">\n    <path clip-path=\"url(#pad887052c5)\" d=\"M 112.020211 219.091146 \nL 114.701828 219.091146 \nL 114.701828 97.580736 \nL 112.020211 97.580736 \nz\n\" style=\"fill:#1f77b4;\"/>\n   </g>\n   <g id=\"patch_22\">\n    <path clip-path=\"url(#pad887052c5)\" d=\"M 115.372233 219.091146 \nL 118.053851 219.091146 \nL 118.053851 118.785866 \nL 115.372233 118.785866 \nz\n\" style=\"fill:#1f77b4;\"/>\n   </g>\n   <g id=\"patch_23\">\n    <path clip-path=\"url(#pad887052c5)\" d=\"M 118.724255 219.091146 \nL 121.405873 219.091146 \nL 121.405873 99.213809 \nL 118.724255 99.213809 \nz\n\" style=\"fill:#1f77b4;\"/>\n   </g>\n   <g id=\"patch_24\">\n    <path clip-path=\"url(#pad887052c5)\" d=\"M 122.076278 219.091146 \nL 124.757896 219.091146 \nL 124.757896 118.202496 \nL 122.076278 118.202496 \nz\n\" style=\"fill:#1f77b4;\"/>\n   </g>\n   <g id=\"patch_25\">\n    <path clip-path=\"url(#pad887052c5)\" d=\"M 125.4283 219.091146 \nL 128.109918 219.091146 \nL 128.109918 111.202814 \nL 125.4283 111.202814 \nz\n\" style=\"fill:#1f77b4;\"/>\n   </g>\n   <g id=\"patch_26\">\n    <path clip-path=\"url(#pad887052c5)\" d=\"M 128.780323 219.091146 \nL 131.461941 219.091146 \nL 131.461941 133.561351 \nL 128.780323 133.561351 \nz\n\" style=\"fill:#1f77b4;\"/>\n   </g>\n   <g id=\"patch_27\">\n    <path clip-path=\"url(#pad887052c5)\" d=\"M 132.132345 219.091146 \nL 134.813963 219.091146 \nL 134.813963 215.538583 \nL 132.132345 215.538583 \nz\n\" style=\"fill:#1f77b4;\"/>\n   </g>\n   <g id=\"patch_28\">\n    <path clip-path=\"url(#pad887052c5)\" d=\"M 135.484367 219.091146 \nL 138.165985 219.091146 \nL 138.165985 177.978674 \nL 135.484367 177.978674 \nz\n\" style=\"fill:#1f77b4;\"/>\n   </g>\n   <g id=\"patch_29\">\n    <path clip-path=\"url(#pad887052c5)\" d=\"M 138.83639 219.091146 \nL 141.518008 219.091146 \nL 141.518008 143.269378 \nL 138.83639 143.269378 \nz\n\" style=\"fill:#1f77b4;\"/>\n   </g>\n   <g id=\"patch_30\">\n    <path clip-path=\"url(#pad887052c5)\" d=\"M 142.188412 219.091146 \nL 144.87003 219.091146 \nL 144.87003 170.199439 \nL 142.188412 170.199439 \nz\n\" style=\"fill:#1f77b4;\"/>\n   </g>\n   <g id=\"patch_31\">\n    <path clip-path=\"url(#pad887052c5)\" d=\"M 145.540435 219.091146 \nL 148.222053 219.091146 \nL 148.222053 191.839107 \nL 145.540435 191.839107 \nz\n\" style=\"fill:#1f77b4;\"/>\n   </g>\n   <g id=\"patch_32\">\n    <path clip-path=\"url(#pad887052c5)\" d=\"M 148.892457 219.091146 \nL 151.574075 219.091146 \nL 151.574075 229.719314 \nL 148.892457 229.719314 \nz\n\" style=\"fill:#1f77b4;\"/>\n   </g>\n   <g id=\"patch_33\">\n    <path clip-path=\"url(#pad887052c5)\" d=\"M 152.24448 219.091146 \nL 154.926098 219.091146 \nL 154.926098 150.674129 \nL 152.24448 150.674129 \nz\n\" style=\"fill:#1f77b4;\"/>\n   </g>\n   <g id=\"patch_34\">\n    <path clip-path=\"url(#pad887052c5)\" d=\"M 155.596502 219.091146 \nL 158.27812 219.091146 \nL 158.27812 229.874489 \nL 155.596502 229.874489 \nz\n\" style=\"fill:#1f77b4;\"/>\n   </g>\n   <g id=\"patch_35\">\n    <path clip-path=\"url(#pad887052c5)\" d=\"M 158.948524 219.091146 \nL 161.630142 219.091146 \nL 161.630142 191.490006 \nL 158.948524 191.490006 \nz\n\" style=\"fill:#1f77b4;\"/>\n   </g>\n   <g id=\"patch_36\">\n    <path clip-path=\"url(#pad887052c5)\" d=\"M 162.300547 219.091146 \nL 164.982165 219.091146 \nL 164.982165 170.340599 \nL 162.300547 170.340599 \nz\n\" style=\"fill:#1f77b4;\"/>\n   </g>\n   <g id=\"patch_37\">\n    <path clip-path=\"url(#pad887052c5)\" d=\"M 165.652569 219.091146 \nL 168.334187 219.091146 \nL 168.334187 143.002665 \nL 165.652569 143.002665 \nz\n\" style=\"fill:#1f77b4;\"/>\n   </g>\n   <g id=\"patch_38\">\n    <path clip-path=\"url(#pad887052c5)\" d=\"M 169.004592 219.091146 \nL 171.68621 219.091146 \nL 171.68621 177.627905 \nL 169.004592 177.627905 \nz\n\" style=\"fill:#1f77b4;\"/>\n   </g>\n   <g id=\"patch_39\">\n    <path clip-path=\"url(#pad887052c5)\" d=\"M 172.356614 219.091146 \nL 175.038232 219.091146 \nL 175.038232 215.219187 \nL 172.356614 215.219187 \nz\n\" style=\"fill:#1f77b4;\"/>\n   </g>\n   <g id=\"patch_40\">\n    <path clip-path=\"url(#pad887052c5)\" d=\"M 175.708637 219.091146 \nL 178.390255 219.091146 \nL 178.390255 133.596202 \nL 175.708637 133.596202 \nz\n\" style=\"fill:#1f77b4;\"/>\n   </g>\n   <g id=\"patch_41\">\n    <path clip-path=\"url(#pad887052c5)\" d=\"M 179.060659 219.091146 \nL 181.742277 219.091146 \nL 181.742277 111.43121 \nL 179.060659 111.43121 \nz\n\" style=\"fill:#1f77b4;\"/>\n   </g>\n   <g id=\"patch_42\">\n    <path clip-path=\"url(#pad887052c5)\" d=\"M 182.412681 219.091146 \nL 185.094299 219.091146 \nL 185.094299 118.097726 \nL 182.412681 118.097726 \nz\n\" style=\"fill:#1f77b4;\"/>\n   </g>\n   <g id=\"patch_43\">\n    <path clip-path=\"url(#pad887052c5)\" d=\"M 185.764704 219.091146 \nL 188.446322 219.091146 \nL 188.446322 99.19584 \nL 185.764704 99.19584 \nz\n\" style=\"fill:#1f77b4;\"/>\n   </g>\n   <g id=\"patch_44\">\n    <path clip-path=\"url(#pad887052c5)\" d=\"M 189.116726 219.091146 \nL 191.798344 219.091146 \nL 191.798344 118.508688 \nL 189.116726 118.508688 \nz\n\" style=\"fill:#1f77b4;\"/>\n   </g>\n   <g id=\"patch_45\">\n    <path clip-path=\"url(#pad887052c5)\" d=\"M 192.468749 219.091146 \nL 195.150367 219.091146 \nL 195.150367 97.464978 \nL 192.468749 97.464978 \nz\n\" style=\"fill:#1f77b4;\"/>\n   </g>\n   <g id=\"patch_46\">\n    <path clip-path=\"url(#pad887052c5)\" d=\"M 195.820771 219.091146 \nL 198.502389 219.091146 \nL 198.502389 100.627308 \nL 195.820771 100.627308 \nz\n\" style=\"fill:#1f77b4;\"/>\n   </g>\n   <g id=\"patch_47\">\n    <path clip-path=\"url(#pad887052c5)\" d=\"M 199.172794 219.091146 \nL 201.854412 219.091146 \nL 201.854412 104.460278 \nL 199.172794 104.460278 \nz\n\" style=\"fill:#1f77b4;\"/>\n   </g>\n   <g id=\"patch_48\">\n    <path clip-path=\"url(#pad887052c5)\" d=\"M 202.524816 219.091146 \nL 205.206434 219.091146 \nL 205.206434 130.606264 \nL 202.524816 130.606264 \nz\n\" style=\"fill:#1f77b4;\"/>\n   </g>\n   <g id=\"patch_49\">\n    <path clip-path=\"url(#pad887052c5)\" d=\"M 205.876838 219.091146 \nL 208.558456 219.091146 \nL 208.558456 146.412437 \nL 205.876838 146.412437 \nz\n\" style=\"fill:#1f77b4;\"/>\n   </g>\n   <g id=\"patch_50\">\n    <path clip-path=\"url(#pad887052c5)\" d=\"M 209.228861 219.091146 \nL 211.910479 219.091146 \nL 211.910479 116.229491 \nL 209.228861 116.229491 \nz\n\" style=\"fill:#1f77b4;\"/>\n   </g>\n   <g id=\"patch_51\">\n    <path clip-path=\"url(#pad887052c5)\" d=\"M 212.580883 219.091146 \nL 215.262501 219.091146 \nL 215.262501 105.111695 \nL 212.580883 105.111695 \nz\n\" style=\"fill:#1f77b4;\"/>\n   </g>\n   <g id=\"patch_52\">\n    <path clip-path=\"url(#pad887052c5)\" d=\"M 215.932906 219.091146 \nL 218.614524 219.091146 \nL 218.614524 120.486974 \nL 215.932906 120.486974 \nz\n\" style=\"fill:#1f77b4;\"/>\n   </g>\n   <g id=\"patch_53\">\n    <path clip-path=\"url(#pad887052c5)\" d=\"M 219.284928 219.091146 \nL 221.966546 219.091146 \nL 221.966546 131.530768 \nL 219.284928 131.530768 \nz\n\" style=\"fill:#1f77b4;\"/>\n   </g>\n   <g id=\"patch_54\">\n    <path clip-path=\"url(#pad887052c5)\" d=\"M 222.636951 219.091146 \nL 225.318569 219.091146 \nL 225.318569 121.423713 \nL 222.636951 121.423713 \nz\n\" style=\"fill:#1f77b4;\"/>\n   </g>\n   <g id=\"patch_55\">\n    <path clip-path=\"url(#pad887052c5)\" d=\"M 225.988973 219.091146 \nL 228.670591 219.091146 \nL 228.670591 107.886288 \nL 225.988973 107.886288 \nz\n\" style=\"fill:#1f77b4;\"/>\n   </g>\n   <g id=\"patch_56\">\n    <path clip-path=\"url(#pad887052c5)\" d=\"M 229.340995 219.091146 \nL 232.022613 219.091146 \nL 232.022613 109.125338 \nL 229.340995 109.125338 \nz\n\" style=\"fill:#1f77b4;\"/>\n   </g>\n   <g id=\"patch_57\">\n    <path clip-path=\"url(#pad887052c5)\" d=\"M 232.693018 219.091146 \nL 235.374636 219.091146 \nL 235.374636 135.743659 \nL 232.693018 135.743659 \nz\n\" style=\"fill:#1f77b4;\"/>\n   </g>\n   <g id=\"patch_58\">\n    <path clip-path=\"url(#pad887052c5)\" d=\"M 236.04504 219.091146 \nL 238.726658 219.091146 \nL 238.726658 188.108033 \nL 236.04504 188.108033 \nz\n\" style=\"fill:#1f77b4;\"/>\n   </g>\n   <g id=\"patch_59\">\n    <path clip-path=\"url(#pad887052c5)\" d=\"M 239.397063 219.091146 \nL 242.078681 219.091146 \nL 242.078681 148.687321 \nL 239.397063 148.687321 \nz\n\" style=\"fill:#1f77b4;\"/>\n   </g>\n   <g id=\"patch_60\">\n    <path clip-path=\"url(#pad887052c5)\" d=\"M 242.749085 219.091146 \nL 245.430703 219.091146 \nL 245.430703 122.901746 \nL 242.749085 122.901746 \nz\n\" style=\"fill:#1f77b4;\"/>\n   </g>\n   <g id=\"patch_61\">\n    <path clip-path=\"url(#pad887052c5)\" d=\"M 246.101108 219.091146 \nL 248.782726 219.091146 \nL 248.782726 126.306268 \nL 246.101108 126.306268 \nz\n\" style=\"fill:#1f77b4;\"/>\n   </g>\n   <g id=\"patch_62\">\n    <path clip-path=\"url(#pad887052c5)\" d=\"M 249.45313 219.091146 \nL 252.134748 219.091146 \nL 252.134748 147.885725 \nL 249.45313 147.885725 \nz\n\" style=\"fill:#1f77b4;\"/>\n   </g>\n   <g id=\"patch_63\">\n    <path clip-path=\"url(#pad887052c5)\" d=\"M 252.805152 219.091146 \nL 255.48677 219.091146 \nL 255.48677 176.425134 \nL 252.805152 176.425134 \nz\n\" style=\"fill:#1f77b4;\"/>\n   </g>\n   <g id=\"patch_64\">\n    <path clip-path=\"url(#pad887052c5)\" d=\"M 256.157175 219.091146 \nL 258.838793 219.091146 \nL 258.838793 137.01772 \nL 256.157175 137.01772 \nz\n\" style=\"fill:#1f77b4;\"/>\n   </g>\n   <g id=\"patch_65\">\n    <path clip-path=\"url(#pad887052c5)\" d=\"M 259.509197 219.091146 \nL 262.190815 219.091146 \nL 262.190815 93.707677 \nL 259.509197 93.707677 \nz\n\" style=\"fill:#1f77b4;\"/>\n   </g>\n   <g id=\"patch_66\">\n    <path clip-path=\"url(#pad887052c5)\" d=\"M 262.86122 219.091146 \nL 265.542838 219.091146 \nL 265.542838 123.482626 \nL 262.86122 123.482626 \nz\n\" style=\"fill:#1f77b4;\"/>\n   </g>\n   <g id=\"patch_67\">\n    <path clip-path=\"url(#pad887052c5)\" d=\"M 266.213242 219.091146 \nL 268.89486 219.091146 \nL 268.89486 145.192818 \nL 266.213242 145.192818 \nz\n\" style=\"fill:#1f77b4;\"/>\n   </g>\n   <g id=\"patch_68\">\n    <path clip-path=\"url(#pad887052c5)\" d=\"M 269.565265 219.091146 \nL 272.246883 219.091146 \nL 272.246883 167.943871 \nL 269.565265 167.943871 \nz\n\" style=\"fill:#1f77b4;\"/>\n   </g>\n   <g id=\"patch_69\">\n    <path clip-path=\"url(#pad887052c5)\" d=\"M 272.917287 219.091146 \nL 275.598905 219.091146 \nL 275.598905 142.476926 \nL 272.917287 142.476926 \nz\n\" style=\"fill:#1f77b4;\"/>\n   </g>\n   <g id=\"patch_70\">\n    <path clip-path=\"url(#pad887052c5)\" d=\"M 276.269309 219.091146 \nL 278.950927 219.091146 \nL 278.950927 110.335732 \nL 276.269309 110.335732 \nz\n\" style=\"fill:#1f77b4;\"/>\n   </g>\n   <g id=\"patch_71\">\n    <path clip-path=\"url(#pad887052c5)\" d=\"M 279.621332 219.091146 \nL 282.30295 219.091146 \nL 282.30295 122.488011 \nL 279.621332 122.488011 \nz\n\" style=\"fill:#1f77b4;\"/>\n   </g>\n   <g id=\"patch_72\">\n    <path clip-path=\"url(#pad887052c5)\" d=\"M 282.973354 219.091146 \nL 285.654972 219.091146 \nL 285.654972 134.528417 \nL 282.973354 134.528417 \nz\n\" style=\"fill:#1f77b4;\"/>\n   </g>\n   <g id=\"patch_73\">\n    <path clip-path=\"url(#pad887052c5)\" d=\"M 286.325377 219.091146 \nL 289.006995 219.091146 \nL 289.006995 136.582158 \nL 286.325377 136.582158 \nz\n\" style=\"fill:#1f77b4;\"/>\n   </g>\n   <g id=\"patch_74\">\n    <path clip-path=\"url(#pad887052c5)\" d=\"M 289.677399 219.091146 \nL 292.359017 219.091146 \nL 292.359017 106.905741 \nL 289.677399 106.905741 \nz\n\" style=\"fill:#1f77b4;\"/>\n   </g>\n   <g id=\"patch_75\">\n    <path clip-path=\"url(#pad887052c5)\" d=\"M 293.029422 219.091146 \nL 295.711039 219.091146 \nL 295.711039 85.800543 \nL 293.029422 85.800543 \nz\n\" style=\"fill:#1f77b4;\"/>\n   </g>\n   <g id=\"patch_76\">\n    <path clip-path=\"url(#pad887052c5)\" d=\"M 296.381444 219.091146 \nL 299.063062 219.091146 \nL 299.063062 107.888268 \nL 296.381444 107.888268 \nz\n\" style=\"fill:#1f77b4;\"/>\n   </g>\n   <g id=\"patch_77\">\n    <path clip-path=\"url(#pad887052c5)\" d=\"M 299.733466 219.091146 \nL 302.415084 219.091146 \nL 302.415084 157.103516 \nL 299.733466 157.103516 \nz\n\" style=\"fill:#1f77b4;\"/>\n   </g>\n   <g id=\"patch_78\">\n    <path clip-path=\"url(#pad887052c5)\" d=\"M 303.085489 219.091146 \nL 305.767107 219.091146 \nL 305.767107 170.102462 \nL 303.085489 170.102462 \nz\n\" style=\"fill:#1f77b4;\"/>\n   </g>\n   <g id=\"patch_79\">\n    <path clip-path=\"url(#pad887052c5)\" d=\"M 306.437511 219.091146 \nL 309.119129 219.091146 \nL 309.119129 142.519704 \nL 306.437511 142.519704 \nz\n\" style=\"fill:#1f77b4;\"/>\n   </g>\n   <g id=\"patch_80\">\n    <path clip-path=\"url(#pad887052c5)\" d=\"M 309.789534 219.091146 \nL 312.471152 219.091146 \nL 312.471152 129.375391 \nL 309.789534 129.375391 \nz\n\" style=\"fill:#1f77b4;\"/>\n   </g>\n   <g id=\"patch_81\">\n    <path clip-path=\"url(#pad887052c5)\" d=\"M 313.141556 219.091146 \nL 315.823174 219.091146 \nL 315.823174 124.910161 \nL 313.141556 124.910161 \nz\n\" style=\"fill:#1f77b4;\"/>\n   </g>\n   <g id=\"patch_82\">\n    <path clip-path=\"url(#pad887052c5)\" d=\"M 316.493579 219.091146 \nL 319.175196 219.091146 \nL 319.175196 141.974004 \nL 316.493579 141.974004 \nz\n\" style=\"fill:#1f77b4;\"/>\n   </g>\n   <g id=\"patch_83\">\n    <path clip-path=\"url(#pad887052c5)\" d=\"M 319.845601 219.091146 \nL 322.527219 219.091146 \nL 322.527219 153.553085 \nL 319.845601 153.553085 \nz\n\" style=\"fill:#1f77b4;\"/>\n   </g>\n   <g id=\"patch_84\">\n    <path clip-path=\"url(#pad887052c5)\" d=\"M 323.197623 219.091146 \nL 325.879241 219.091146 \nL 325.879241 99.671705 \nL 323.197623 99.671705 \nz\n\" style=\"fill:#1f77b4;\"/>\n   </g>\n   <g id=\"patch_85\">\n    <path clip-path=\"url(#pad887052c5)\" d=\"M 326.549646 219.091146 \nL 329.231264 219.091146 \nL 329.231264 79.996261 \nL 326.549646 79.996261 \nz\n\" style=\"fill:#1f77b4;\"/>\n   </g>\n   <g id=\"patch_86\">\n    <path clip-path=\"url(#pad887052c5)\" d=\"M 329.901668 219.091146 \nL 332.583286 219.091146 \nL 332.583286 85.740303 \nL 329.901668 85.740303 \nz\n\" style=\"fill:#1f77b4;\"/>\n   </g>\n   <g id=\"patch_87\">\n    <path clip-path=\"url(#pad887052c5)\" d=\"M 333.253691 219.091146 \nL 335.935309 219.091146 \nL 335.935309 102.46712 \nL 333.253691 102.46712 \nz\n\" style=\"fill:#1f77b4;\"/>\n   </g>\n   <g id=\"patch_88\">\n    <path clip-path=\"url(#pad887052c5)\" d=\"M 336.605713 219.091146 \nL 339.287331 219.091146 \nL 339.287331 123.786581 \nL 336.605713 123.786581 \nz\n\" style=\"fill:#1f77b4;\"/>\n   </g>\n   <g id=\"patch_89\">\n    <path clip-path=\"url(#pad887052c5)\" d=\"M 339.957736 219.091146 \nL 342.639353 219.091146 \nL 342.639353 76.72733 \nL 339.957736 76.72733 \nz\n\" style=\"fill:#1f77b4;\"/>\n   </g>\n   <g id=\"patch_90\">\n    <path clip-path=\"url(#pad887052c5)\" d=\"M 343.309758 219.091146 \nL 345.991376 219.091146 \nL 345.991376 53.727884 \nL 343.309758 53.727884 \nz\n\" style=\"fill:#1f77b4;\"/>\n   </g>\n   <g id=\"patch_91\">\n    <path clip-path=\"url(#pad887052c5)\" d=\"M 346.66178 219.091146 \nL 349.343398 219.091146 \nL 349.343398 32.201761 \nL 346.66178 32.201761 \nz\n\" style=\"fill:#1f77b4;\"/>\n   </g>\n   <g id=\"patch_92\">\n    <path clip-path=\"url(#pad887052c5)\" d=\"M 350.013803 219.091146 \nL 352.695421 219.091146 \nL 352.695421 37.03935 \nL 350.013803 37.03935 \nz\n\" style=\"fill:#1f77b4;\"/>\n   </g>\n   <g id=\"patch_93\">\n    <path clip-path=\"url(#pad887052c5)\" d=\"M 353.365825 219.091146 \nL 356.047443 219.091146 \nL 356.047443 81.585269 \nL 353.365825 81.585269 \nz\n\" style=\"fill:#1f77b4;\"/>\n   </g>\n   <g id=\"matplotlib.axis_1\">\n    <g id=\"xtick_1\">\n     <g id=\"line2d_1\">\n      <defs>\n       <path d=\"M 0 0 \nL 0 3.5 \n\" id=\"m44c87cb49d\" style=\"stroke:#000000;stroke-width:0.8;\"/>\n      </defs>\n      <g>\n       <use style=\"stroke:#000000;stroke-width:0.8;\" x=\"86.54484\" xlink:href=\"#m44c87cb49d\" y=\"239.758125\"/>\n      </g>\n     </g>\n     <g id=\"text_1\">\n      <!-- −20 -->\n      <g transform=\"translate(75.992496 254.356563)scale(0.1 -0.1)\">\n       <defs>\n        <path d=\"M 10.59375 35.5 \nL 73.1875 35.5 \nL 73.1875 27.203125 \nL 10.59375 27.203125 \nz\n\" id=\"DejaVuSans-8722\"/>\n        <path d=\"M 19.1875 8.296875 \nL 53.609375 8.296875 \nL 53.609375 0 \nL 7.328125 0 \nL 7.328125 8.296875 \nQ 12.9375 14.109375 22.625 23.890625 \nQ 32.328125 33.6875 34.8125 36.53125 \nQ 39.546875 41.84375 41.421875 45.53125 \nQ 43.3125 49.21875 43.3125 52.78125 \nQ 43.3125 58.59375 39.234375 62.25 \nQ 35.15625 65.921875 28.609375 65.921875 \nQ 23.96875 65.921875 18.8125 64.3125 \nQ 13.671875 62.703125 7.8125 59.421875 \nL 7.8125 69.390625 \nQ 13.765625 71.78125 18.9375 73 \nQ 24.125 74.21875 28.421875 74.21875 \nQ 39.75 74.21875 46.484375 68.546875 \nQ 53.21875 62.890625 53.21875 53.421875 \nQ 53.21875 48.921875 51.53125 44.890625 \nQ 49.859375 40.875 45.40625 35.40625 \nQ 44.1875 33.984375 37.640625 27.21875 \nQ 31.109375 20.453125 19.1875 8.296875 \nz\n\" id=\"DejaVuSans-50\"/>\n        <path d=\"M 31.78125 66.40625 \nQ 24.171875 66.40625 20.328125 58.90625 \nQ 16.5 51.421875 16.5 36.375 \nQ 16.5 21.390625 20.328125 13.890625 \nQ 24.171875 6.390625 31.78125 6.390625 \nQ 39.453125 6.390625 43.28125 13.890625 \nQ 47.125 21.390625 47.125 36.375 \nQ 47.125 51.421875 43.28125 58.90625 \nQ 39.453125 66.40625 31.78125 66.40625 \nz\nM 31.78125 74.21875 \nQ 44.046875 74.21875 50.515625 64.515625 \nQ 56.984375 54.828125 56.984375 36.375 \nQ 56.984375 17.96875 50.515625 8.265625 \nQ 44.046875 -1.421875 31.78125 -1.421875 \nQ 19.53125 -1.421875 13.0625 8.265625 \nQ 6.59375 17.96875 6.59375 36.375 \nQ 6.59375 54.828125 13.0625 64.515625 \nQ 19.53125 74.21875 31.78125 74.21875 \nz\n\" id=\"DejaVuSans-48\"/>\n       </defs>\n       <use xlink:href=\"#DejaVuSans-8722\"/>\n       <use x=\"83.789062\" xlink:href=\"#DejaVuSans-50\"/>\n       <use x=\"147.412109\" xlink:href=\"#DejaVuSans-48\"/>\n      </g>\n     </g>\n    </g>\n    <g id=\"xtick_2\">\n     <g id=\"line2d_2\">\n      <g>\n       <use style=\"stroke:#000000;stroke-width:0.8;\" x=\"153.585289\" xlink:href=\"#m44c87cb49d\" y=\"239.758125\"/>\n      </g>\n     </g>\n     <g id=\"text_2\">\n      <!-- 0 -->\n      <g transform=\"translate(150.404039 254.356563)scale(0.1 -0.1)\">\n       <use xlink:href=\"#DejaVuSans-48\"/>\n      </g>\n     </g>\n    </g>\n    <g id=\"xtick_3\">\n     <g id=\"line2d_3\">\n      <g>\n       <use style=\"stroke:#000000;stroke-width:0.8;\" x=\"220.625737\" xlink:href=\"#m44c87cb49d\" y=\"239.758125\"/>\n      </g>\n     </g>\n     <g id=\"text_3\">\n      <!-- 20 -->\n      <g transform=\"translate(214.263237 254.356563)scale(0.1 -0.1)\">\n       <use xlink:href=\"#DejaVuSans-50\"/>\n       <use x=\"63.623047\" xlink:href=\"#DejaVuSans-48\"/>\n      </g>\n     </g>\n    </g>\n    <g id=\"xtick_4\">\n     <g id=\"line2d_4\">\n      <g>\n       <use style=\"stroke:#000000;stroke-width:0.8;\" x=\"287.666186\" xlink:href=\"#m44c87cb49d\" y=\"239.758125\"/>\n      </g>\n     </g>\n     <g id=\"text_4\">\n      <!-- 40 -->\n      <g transform=\"translate(281.303686 254.356563)scale(0.1 -0.1)\">\n       <defs>\n        <path d=\"M 37.796875 64.3125 \nL 12.890625 25.390625 \nL 37.796875 25.390625 \nz\nM 35.203125 72.90625 \nL 47.609375 72.90625 \nL 47.609375 25.390625 \nL 58.015625 25.390625 \nL 58.015625 17.1875 \nL 47.609375 17.1875 \nL 47.609375 0 \nL 37.796875 0 \nL 37.796875 17.1875 \nL 4.890625 17.1875 \nL 4.890625 26.703125 \nz\n\" id=\"DejaVuSans-52\"/>\n       </defs>\n       <use xlink:href=\"#DejaVuSans-52\"/>\n       <use x=\"63.623047\" xlink:href=\"#DejaVuSans-48\"/>\n      </g>\n     </g>\n    </g>\n    <g id=\"xtick_5\">\n     <g id=\"line2d_5\">\n      <g>\n       <use style=\"stroke:#000000;stroke-width:0.8;\" x=\"354.706634\" xlink:href=\"#m44c87cb49d\" y=\"239.758125\"/>\n      </g>\n     </g>\n     <g id=\"text_5\">\n      <!-- 60 -->\n      <g transform=\"translate(348.344134 254.356563)scale(0.1 -0.1)\">\n       <defs>\n        <path d=\"M 33.015625 40.375 \nQ 26.375 40.375 22.484375 35.828125 \nQ 18.609375 31.296875 18.609375 23.390625 \nQ 18.609375 15.53125 22.484375 10.953125 \nQ 26.375 6.390625 33.015625 6.390625 \nQ 39.65625 6.390625 43.53125 10.953125 \nQ 47.40625 15.53125 47.40625 23.390625 \nQ 47.40625 31.296875 43.53125 35.828125 \nQ 39.65625 40.375 33.015625 40.375 \nz\nM 52.59375 71.296875 \nL 52.59375 62.3125 \nQ 48.875 64.0625 45.09375 64.984375 \nQ 41.3125 65.921875 37.59375 65.921875 \nQ 27.828125 65.921875 22.671875 59.328125 \nQ 17.53125 52.734375 16.796875 39.40625 \nQ 19.671875 43.65625 24.015625 45.921875 \nQ 28.375 48.1875 33.59375 48.1875 \nQ 44.578125 48.1875 50.953125 41.515625 \nQ 57.328125 34.859375 57.328125 23.390625 \nQ 57.328125 12.15625 50.6875 5.359375 \nQ 44.046875 -1.421875 33.015625 -1.421875 \nQ 20.359375 -1.421875 13.671875 8.265625 \nQ 6.984375 17.96875 6.984375 36.375 \nQ 6.984375 53.65625 15.1875 63.9375 \nQ 23.390625 74.21875 37.203125 74.21875 \nQ 40.921875 74.21875 44.703125 73.484375 \nQ 48.484375 72.75 52.59375 71.296875 \nz\n\" id=\"DejaVuSans-54\"/>\n       </defs>\n       <use xlink:href=\"#DejaVuSans-54\"/>\n       <use x=\"63.623047\" xlink:href=\"#DejaVuSans-48\"/>\n      </g>\n     </g>\n    </g>\n   </g>\n   <g id=\"matplotlib.axis_2\">\n    <g id=\"ytick_1\">\n     <g id=\"line2d_6\">\n      <defs>\n       <path d=\"M 0 0 \nL -3.5 0 \n\" id=\"me96576e814\" style=\"stroke:#000000;stroke-width:0.8;\"/>\n      </defs>\n      <g>\n       <use style=\"stroke:#000000;stroke-width:0.8;\" x=\"36.465625\" xlink:href=\"#me96576e814\" y=\"219.091146\"/>\n      </g>\n     </g>\n     <g id=\"text_6\">\n      <!-- 0.00 -->\n      <g transform=\"translate(7.2 222.890364)scale(0.1 -0.1)\">\n       <defs>\n        <path d=\"M 10.6875 12.40625 \nL 21 12.40625 \nL 21 0 \nL 10.6875 0 \nz\n\" id=\"DejaVuSans-46\"/>\n       </defs>\n       <use xlink:href=\"#DejaVuSans-48\"/>\n       <use x=\"63.623047\" xlink:href=\"#DejaVuSans-46\"/>\n       <use x=\"95.410156\" xlink:href=\"#DejaVuSans-48\"/>\n       <use x=\"159.033203\" xlink:href=\"#DejaVuSans-48\"/>\n      </g>\n     </g>\n    </g>\n    <g id=\"ytick_2\">\n     <g id=\"line2d_7\">\n      <g>\n       <use style=\"stroke:#000000;stroke-width:0.8;\" x=\"36.465625\" xlink:href=\"#me96576e814\" y=\"190.020495\"/>\n      </g>\n     </g>\n     <g id=\"text_7\">\n      <!-- 0.02 -->\n      <g transform=\"translate(7.2 193.819714)scale(0.1 -0.1)\">\n       <use xlink:href=\"#DejaVuSans-48\"/>\n       <use x=\"63.623047\" xlink:href=\"#DejaVuSans-46\"/>\n       <use x=\"95.410156\" xlink:href=\"#DejaVuSans-48\"/>\n       <use x=\"159.033203\" xlink:href=\"#DejaVuSans-50\"/>\n      </g>\n     </g>\n    </g>\n    <g id=\"ytick_3\">\n     <g id=\"line2d_8\">\n      <g>\n       <use style=\"stroke:#000000;stroke-width:0.8;\" x=\"36.465625\" xlink:href=\"#me96576e814\" y=\"160.949844\"/>\n      </g>\n     </g>\n     <g id=\"text_8\">\n      <!-- 0.04 -->\n      <g transform=\"translate(7.2 164.749063)scale(0.1 -0.1)\">\n       <use xlink:href=\"#DejaVuSans-48\"/>\n       <use x=\"63.623047\" xlink:href=\"#DejaVuSans-46\"/>\n       <use x=\"95.410156\" xlink:href=\"#DejaVuSans-48\"/>\n       <use x=\"159.033203\" xlink:href=\"#DejaVuSans-52\"/>\n      </g>\n     </g>\n    </g>\n    <g id=\"ytick_4\">\n     <g id=\"line2d_9\">\n      <g>\n       <use style=\"stroke:#000000;stroke-width:0.8;\" x=\"36.465625\" xlink:href=\"#me96576e814\" y=\"131.879193\"/>\n      </g>\n     </g>\n     <g id=\"text_9\">\n      <!-- 0.06 -->\n      <g transform=\"translate(7.2 135.678412)scale(0.1 -0.1)\">\n       <use xlink:href=\"#DejaVuSans-48\"/>\n       <use x=\"63.623047\" xlink:href=\"#DejaVuSans-46\"/>\n       <use x=\"95.410156\" xlink:href=\"#DejaVuSans-48\"/>\n       <use x=\"159.033203\" xlink:href=\"#DejaVuSans-54\"/>\n      </g>\n     </g>\n    </g>\n    <g id=\"ytick_5\">\n     <g id=\"line2d_10\">\n      <g>\n       <use style=\"stroke:#000000;stroke-width:0.8;\" x=\"36.465625\" xlink:href=\"#me96576e814\" y=\"102.808543\"/>\n      </g>\n     </g>\n     <g id=\"text_10\">\n      <!-- 0.08 -->\n      <g transform=\"translate(7.2 106.607762)scale(0.1 -0.1)\">\n       <defs>\n        <path d=\"M 31.78125 34.625 \nQ 24.75 34.625 20.71875 30.859375 \nQ 16.703125 27.09375 16.703125 20.515625 \nQ 16.703125 13.921875 20.71875 10.15625 \nQ 24.75 6.390625 31.78125 6.390625 \nQ 38.8125 6.390625 42.859375 10.171875 \nQ 46.921875 13.96875 46.921875 20.515625 \nQ 46.921875 27.09375 42.890625 30.859375 \nQ 38.875 34.625 31.78125 34.625 \nz\nM 21.921875 38.8125 \nQ 15.578125 40.375 12.03125 44.71875 \nQ 8.5 49.078125 8.5 55.328125 \nQ 8.5 64.0625 14.71875 69.140625 \nQ 20.953125 74.21875 31.78125 74.21875 \nQ 42.671875 74.21875 48.875 69.140625 \nQ 55.078125 64.0625 55.078125 55.328125 \nQ 55.078125 49.078125 51.53125 44.71875 \nQ 48 40.375 41.703125 38.8125 \nQ 48.828125 37.15625 52.796875 32.3125 \nQ 56.78125 27.484375 56.78125 20.515625 \nQ 56.78125 9.90625 50.3125 4.234375 \nQ 43.84375 -1.421875 31.78125 -1.421875 \nQ 19.734375 -1.421875 13.25 4.234375 \nQ 6.78125 9.90625 6.78125 20.515625 \nQ 6.78125 27.484375 10.78125 32.3125 \nQ 14.796875 37.15625 21.921875 38.8125 \nz\nM 18.3125 54.390625 \nQ 18.3125 48.734375 21.84375 45.5625 \nQ 25.390625 42.390625 31.78125 42.390625 \nQ 38.140625 42.390625 41.71875 45.5625 \nQ 45.3125 48.734375 45.3125 54.390625 \nQ 45.3125 60.0625 41.71875 63.234375 \nQ 38.140625 66.40625 31.78125 66.40625 \nQ 25.390625 66.40625 21.84375 63.234375 \nQ 18.3125 60.0625 18.3125 54.390625 \nz\n\" id=\"DejaVuSans-56\"/>\n       </defs>\n       <use xlink:href=\"#DejaVuSans-48\"/>\n       <use x=\"63.623047\" xlink:href=\"#DejaVuSans-46\"/>\n       <use x=\"95.410156\" xlink:href=\"#DejaVuSans-48\"/>\n       <use x=\"159.033203\" xlink:href=\"#DejaVuSans-56\"/>\n      </g>\n     </g>\n    </g>\n    <g id=\"ytick_6\">\n     <g id=\"line2d_11\">\n      <g>\n       <use style=\"stroke:#000000;stroke-width:0.8;\" x=\"36.465625\" xlink:href=\"#me96576e814\" y=\"73.737892\"/>\n      </g>\n     </g>\n     <g id=\"text_11\">\n      <!-- 0.10 -->\n      <g transform=\"translate(7.2 77.537111)scale(0.1 -0.1)\">\n       <defs>\n        <path d=\"M 12.40625 8.296875 \nL 28.515625 8.296875 \nL 28.515625 63.921875 \nL 10.984375 60.40625 \nL 10.984375 69.390625 \nL 28.421875 72.90625 \nL 38.28125 72.90625 \nL 38.28125 8.296875 \nL 54.390625 8.296875 \nL 54.390625 0 \nL 12.40625 0 \nz\n\" id=\"DejaVuSans-49\"/>\n       </defs>\n       <use xlink:href=\"#DejaVuSans-48\"/>\n       <use x=\"63.623047\" xlink:href=\"#DejaVuSans-46\"/>\n       <use x=\"95.410156\" xlink:href=\"#DejaVuSans-49\"/>\n       <use x=\"159.033203\" xlink:href=\"#DejaVuSans-48\"/>\n      </g>\n     </g>\n    </g>\n    <g id=\"ytick_7\">\n     <g id=\"line2d_12\">\n      <g>\n       <use style=\"stroke:#000000;stroke-width:0.8;\" x=\"36.465625\" xlink:href=\"#me96576e814\" y=\"44.667241\"/>\n      </g>\n     </g>\n     <g id=\"text_12\">\n      <!-- 0.12 -->\n      <g transform=\"translate(7.2 48.46646)scale(0.1 -0.1)\">\n       <use xlink:href=\"#DejaVuSans-48\"/>\n       <use x=\"63.623047\" xlink:href=\"#DejaVuSans-46\"/>\n       <use x=\"95.410156\" xlink:href=\"#DejaVuSans-49\"/>\n       <use x=\"159.033203\" xlink:href=\"#DejaVuSans-50\"/>\n      </g>\n     </g>\n    </g>\n   </g>\n   <g id=\"patch_94\">\n    <path d=\"M 36.465625 239.758125 \nL 36.465625 22.318125 \n\" style=\"fill:none;stroke:#000000;stroke-linecap:square;stroke-linejoin:miter;stroke-width:0.8;\"/>\n   </g>\n   <g id=\"patch_95\">\n    <path d=\"M 371.265625 239.758125 \nL 371.265625 22.318125 \n\" style=\"fill:none;stroke:#000000;stroke-linecap:square;stroke-linejoin:miter;stroke-width:0.8;\"/>\n   </g>\n   <g id=\"patch_96\">\n    <path d=\"M 36.465625 239.758125 \nL 371.265625 239.758125 \n\" style=\"fill:none;stroke:#000000;stroke-linecap:square;stroke-linejoin:miter;stroke-width:0.8;\"/>\n   </g>\n   <g id=\"patch_97\">\n    <path d=\"M 36.465625 22.318125 \nL 371.265625 22.318125 \n\" style=\"fill:none;stroke:#000000;stroke-linecap:square;stroke-linejoin:miter;stroke-width:0.8;\"/>\n   </g>\n   <g id=\"text_13\">\n    <!-- Raw Return around ex-dividend date -->\n    <g transform=\"translate(93.9775 16.318125)scale(0.12 -0.12)\">\n     <defs>\n      <path d=\"M 44.390625 34.1875 \nQ 47.5625 33.109375 50.5625 29.59375 \nQ 53.5625 26.078125 56.59375 19.921875 \nL 66.609375 0 \nL 56 0 \nL 46.6875 18.703125 \nQ 43.0625 26.03125 39.671875 28.421875 \nQ 36.28125 30.8125 30.421875 30.8125 \nL 19.671875 30.8125 \nL 19.671875 0 \nL 9.8125 0 \nL 9.8125 72.90625 \nL 32.078125 72.90625 \nQ 44.578125 72.90625 50.734375 67.671875 \nQ 56.890625 62.453125 56.890625 51.90625 \nQ 56.890625 45.015625 53.6875 40.46875 \nQ 50.484375 35.9375 44.390625 34.1875 \nz\nM 19.671875 64.796875 \nL 19.671875 38.921875 \nL 32.078125 38.921875 \nQ 39.203125 38.921875 42.84375 42.21875 \nQ 46.484375 45.515625 46.484375 51.90625 \nQ 46.484375 58.296875 42.84375 61.546875 \nQ 39.203125 64.796875 32.078125 64.796875 \nz\n\" id=\"DejaVuSans-82\"/>\n      <path d=\"M 34.28125 27.484375 \nQ 23.390625 27.484375 19.1875 25 \nQ 14.984375 22.515625 14.984375 16.5 \nQ 14.984375 11.71875 18.140625 8.90625 \nQ 21.296875 6.109375 26.703125 6.109375 \nQ 34.1875 6.109375 38.703125 11.40625 \nQ 43.21875 16.703125 43.21875 25.484375 \nL 43.21875 27.484375 \nz\nM 52.203125 31.203125 \nL 52.203125 0 \nL 43.21875 0 \nL 43.21875 8.296875 \nQ 40.140625 3.328125 35.546875 0.953125 \nQ 30.953125 -1.421875 24.3125 -1.421875 \nQ 15.921875 -1.421875 10.953125 3.296875 \nQ 6 8.015625 6 15.921875 \nQ 6 25.140625 12.171875 29.828125 \nQ 18.359375 34.515625 30.609375 34.515625 \nL 43.21875 34.515625 \nL 43.21875 35.40625 \nQ 43.21875 41.609375 39.140625 45 \nQ 35.0625 48.390625 27.6875 48.390625 \nQ 23 48.390625 18.546875 47.265625 \nQ 14.109375 46.140625 10.015625 43.890625 \nL 10.015625 52.203125 \nQ 14.9375 54.109375 19.578125 55.046875 \nQ 24.21875 56 28.609375 56 \nQ 40.484375 56 46.34375 49.84375 \nQ 52.203125 43.703125 52.203125 31.203125 \nz\n\" id=\"DejaVuSans-97\"/>\n      <path d=\"M 4.203125 54.6875 \nL 13.1875 54.6875 \nL 24.421875 12.015625 \nL 35.59375 54.6875 \nL 46.1875 54.6875 \nL 57.421875 12.015625 \nL 68.609375 54.6875 \nL 77.59375 54.6875 \nL 63.28125 0 \nL 52.6875 0 \nL 40.921875 44.828125 \nL 29.109375 0 \nL 18.5 0 \nz\n\" id=\"DejaVuSans-119\"/>\n      <path id=\"DejaVuSans-32\"/>\n      <path d=\"M 56.203125 29.59375 \nL 56.203125 25.203125 \nL 14.890625 25.203125 \nQ 15.484375 15.921875 20.484375 11.0625 \nQ 25.484375 6.203125 34.421875 6.203125 \nQ 39.59375 6.203125 44.453125 7.46875 \nQ 49.3125 8.734375 54.109375 11.28125 \nL 54.109375 2.78125 \nQ 49.265625 0.734375 44.1875 -0.34375 \nQ 39.109375 -1.421875 33.890625 -1.421875 \nQ 20.796875 -1.421875 13.15625 6.1875 \nQ 5.515625 13.8125 5.515625 26.8125 \nQ 5.515625 40.234375 12.765625 48.109375 \nQ 20.015625 56 32.328125 56 \nQ 43.359375 56 49.78125 48.890625 \nQ 56.203125 41.796875 56.203125 29.59375 \nz\nM 47.21875 32.234375 \nQ 47.125 39.59375 43.09375 43.984375 \nQ 39.0625 48.390625 32.421875 48.390625 \nQ 24.90625 48.390625 20.390625 44.140625 \nQ 15.875 39.890625 15.1875 32.171875 \nz\n\" id=\"DejaVuSans-101\"/>\n      <path d=\"M 18.3125 70.21875 \nL 18.3125 54.6875 \nL 36.8125 54.6875 \nL 36.8125 47.703125 \nL 18.3125 47.703125 \nL 18.3125 18.015625 \nQ 18.3125 11.328125 20.140625 9.421875 \nQ 21.96875 7.515625 27.59375 7.515625 \nL 36.8125 7.515625 \nL 36.8125 0 \nL 27.59375 0 \nQ 17.1875 0 13.234375 3.875 \nQ 9.28125 7.765625 9.28125 18.015625 \nL 9.28125 47.703125 \nL 2.6875 47.703125 \nL 2.6875 54.6875 \nL 9.28125 54.6875 \nL 9.28125 70.21875 \nz\n\" id=\"DejaVuSans-116\"/>\n      <path d=\"M 8.5 21.578125 \nL 8.5 54.6875 \nL 17.484375 54.6875 \nL 17.484375 21.921875 \nQ 17.484375 14.15625 20.5 10.265625 \nQ 23.53125 6.390625 29.59375 6.390625 \nQ 36.859375 6.390625 41.078125 11.03125 \nQ 45.3125 15.671875 45.3125 23.6875 \nL 45.3125 54.6875 \nL 54.296875 54.6875 \nL 54.296875 0 \nL 45.3125 0 \nL 45.3125 8.40625 \nQ 42.046875 3.421875 37.71875 1 \nQ 33.40625 -1.421875 27.6875 -1.421875 \nQ 18.265625 -1.421875 13.375 4.4375 \nQ 8.5 10.296875 8.5 21.578125 \nz\nM 31.109375 56 \nz\n\" id=\"DejaVuSans-117\"/>\n      <path d=\"M 41.109375 46.296875 \nQ 39.59375 47.171875 37.8125 47.578125 \nQ 36.03125 48 33.890625 48 \nQ 26.265625 48 22.1875 43.046875 \nQ 18.109375 38.09375 18.109375 28.8125 \nL 18.109375 0 \nL 9.078125 0 \nL 9.078125 54.6875 \nL 18.109375 54.6875 \nL 18.109375 46.1875 \nQ 20.953125 51.171875 25.484375 53.578125 \nQ 30.03125 56 36.53125 56 \nQ 37.453125 56 38.578125 55.875 \nQ 39.703125 55.765625 41.0625 55.515625 \nz\n\" id=\"DejaVuSans-114\"/>\n      <path d=\"M 54.890625 33.015625 \nL 54.890625 0 \nL 45.90625 0 \nL 45.90625 32.71875 \nQ 45.90625 40.484375 42.875 44.328125 \nQ 39.84375 48.1875 33.796875 48.1875 \nQ 26.515625 48.1875 22.3125 43.546875 \nQ 18.109375 38.921875 18.109375 30.90625 \nL 18.109375 0 \nL 9.078125 0 \nL 9.078125 54.6875 \nL 18.109375 54.6875 \nL 18.109375 46.1875 \nQ 21.34375 51.125 25.703125 53.5625 \nQ 30.078125 56 35.796875 56 \nQ 45.21875 56 50.046875 50.171875 \nQ 54.890625 44.34375 54.890625 33.015625 \nz\n\" id=\"DejaVuSans-110\"/>\n      <path d=\"M 30.609375 48.390625 \nQ 23.390625 48.390625 19.1875 42.75 \nQ 14.984375 37.109375 14.984375 27.296875 \nQ 14.984375 17.484375 19.15625 11.84375 \nQ 23.34375 6.203125 30.609375 6.203125 \nQ 37.796875 6.203125 41.984375 11.859375 \nQ 46.1875 17.53125 46.1875 27.296875 \nQ 46.1875 37.015625 41.984375 42.703125 \nQ 37.796875 48.390625 30.609375 48.390625 \nz\nM 30.609375 56 \nQ 42.328125 56 49.015625 48.375 \nQ 55.71875 40.765625 55.71875 27.296875 \nQ 55.71875 13.875 49.015625 6.21875 \nQ 42.328125 -1.421875 30.609375 -1.421875 \nQ 18.84375 -1.421875 12.171875 6.21875 \nQ 5.515625 13.875 5.515625 27.296875 \nQ 5.515625 40.765625 12.171875 48.375 \nQ 18.84375 56 30.609375 56 \nz\n\" id=\"DejaVuSans-111\"/>\n      <path d=\"M 45.40625 46.390625 \nL 45.40625 75.984375 \nL 54.390625 75.984375 \nL 54.390625 0 \nL 45.40625 0 \nL 45.40625 8.203125 \nQ 42.578125 3.328125 38.25 0.953125 \nQ 33.9375 -1.421875 27.875 -1.421875 \nQ 17.96875 -1.421875 11.734375 6.484375 \nQ 5.515625 14.40625 5.515625 27.296875 \nQ 5.515625 40.1875 11.734375 48.09375 \nQ 17.96875 56 27.875 56 \nQ 33.9375 56 38.25 53.625 \nQ 42.578125 51.265625 45.40625 46.390625 \nz\nM 14.796875 27.296875 \nQ 14.796875 17.390625 18.875 11.75 \nQ 22.953125 6.109375 30.078125 6.109375 \nQ 37.203125 6.109375 41.296875 11.75 \nQ 45.40625 17.390625 45.40625 27.296875 \nQ 45.40625 37.203125 41.296875 42.84375 \nQ 37.203125 48.484375 30.078125 48.484375 \nQ 22.953125 48.484375 18.875 42.84375 \nQ 14.796875 37.203125 14.796875 27.296875 \nz\n\" id=\"DejaVuSans-100\"/>\n      <path d=\"M 54.890625 54.6875 \nL 35.109375 28.078125 \nL 55.90625 0 \nL 45.3125 0 \nL 29.390625 21.484375 \nL 13.484375 0 \nL 2.875 0 \nL 24.125 28.609375 \nL 4.6875 54.6875 \nL 15.28125 54.6875 \nL 29.78125 35.203125 \nL 44.28125 54.6875 \nz\n\" id=\"DejaVuSans-120\"/>\n      <path d=\"M 4.890625 31.390625 \nL 31.203125 31.390625 \nL 31.203125 23.390625 \nL 4.890625 23.390625 \nz\n\" id=\"DejaVuSans-45\"/>\n      <path d=\"M 9.421875 54.6875 \nL 18.40625 54.6875 \nL 18.40625 0 \nL 9.421875 0 \nz\nM 9.421875 75.984375 \nL 18.40625 75.984375 \nL 18.40625 64.59375 \nL 9.421875 64.59375 \nz\n\" id=\"DejaVuSans-105\"/>\n      <path d=\"M 2.984375 54.6875 \nL 12.5 54.6875 \nL 29.59375 8.796875 \nL 46.6875 54.6875 \nL 56.203125 54.6875 \nL 35.6875 0 \nL 23.484375 0 \nz\n\" id=\"DejaVuSans-118\"/>\n     </defs>\n     <use xlink:href=\"#DejaVuSans-82\"/>\n     <use x=\"67.232422\" xlink:href=\"#DejaVuSans-97\"/>\n     <use x=\"128.511719\" xlink:href=\"#DejaVuSans-119\"/>\n     <use x=\"210.298828\" xlink:href=\"#DejaVuSans-32\"/>\n     <use x=\"242.085938\" xlink:href=\"#DejaVuSans-82\"/>\n     <use x=\"307.068359\" xlink:href=\"#DejaVuSans-101\"/>\n     <use x=\"368.591797\" xlink:href=\"#DejaVuSans-116\"/>\n     <use x=\"407.800781\" xlink:href=\"#DejaVuSans-117\"/>\n     <use x=\"471.179688\" xlink:href=\"#DejaVuSans-114\"/>\n     <use x=\"510.542969\" xlink:href=\"#DejaVuSans-110\"/>\n     <use x=\"573.921875\" xlink:href=\"#DejaVuSans-32\"/>\n     <use x=\"605.708984\" xlink:href=\"#DejaVuSans-97\"/>\n     <use x=\"666.988281\" xlink:href=\"#DejaVuSans-114\"/>\n     <use x=\"705.851562\" xlink:href=\"#DejaVuSans-111\"/>\n     <use x=\"767.033203\" xlink:href=\"#DejaVuSans-117\"/>\n     <use x=\"830.412109\" xlink:href=\"#DejaVuSans-110\"/>\n     <use x=\"893.791016\" xlink:href=\"#DejaVuSans-100\"/>\n     <use x=\"957.267578\" xlink:href=\"#DejaVuSans-32\"/>\n     <use x=\"989.054688\" xlink:href=\"#DejaVuSans-101\"/>\n     <use x=\"1048.828125\" xlink:href=\"#DejaVuSans-120\"/>\n     <use x=\"1108.007812\" xlink:href=\"#DejaVuSans-45\"/>\n     <use x=\"1144.091797\" xlink:href=\"#DejaVuSans-100\"/>\n     <use x=\"1207.568359\" xlink:href=\"#DejaVuSans-105\"/>\n     <use x=\"1235.351562\" xlink:href=\"#DejaVuSans-118\"/>\n     <use x=\"1294.53125\" xlink:href=\"#DejaVuSans-105\"/>\n     <use x=\"1322.314453\" xlink:href=\"#DejaVuSans-100\"/>\n     <use x=\"1385.791016\" xlink:href=\"#DejaVuSans-101\"/>\n     <use x=\"1447.314453\" xlink:href=\"#DejaVuSans-110\"/>\n     <use x=\"1510.693359\" xlink:href=\"#DejaVuSans-100\"/>\n     <use x=\"1574.169922\" xlink:href=\"#DejaVuSans-32\"/>\n     <use x=\"1605.957031\" xlink:href=\"#DejaVuSans-100\"/>\n     <use x=\"1669.433594\" xlink:href=\"#DejaVuSans-97\"/>\n     <use x=\"1730.712891\" xlink:href=\"#DejaVuSans-116\"/>\n     <use x=\"1769.921875\" xlink:href=\"#DejaVuSans-101\"/>\n    </g>\n   </g>\n  </g>\n </g>\n <defs>\n  <clipPath id=\"pad887052c5\">\n   <rect height=\"217.44\" width=\"334.8\" x=\"36.465625\" y=\"22.318125\"/>\n  </clipPath>\n </defs>\n</svg>\n",
      "image/png": "[encoded data removed]"
     },
     "metadata": {
      "needs_background": "light"
     }
    }
   ],
   "source": [
    "plt.bar(x,dlist)\n",
    "plt.title('Raw Return around ex-dividend date')\n",
    "plt.show()"
   ]
  },
  {
   "cell_type": "code",
   "execution_count": 6,
   "metadata": {},
   "outputs": [
    {
     "output_type": "execute_result",
     "data": {
      "text/plain": [
       "234.04403099999098"
      ]
     },
     "metadata": {},
     "execution_count": 6
    }
   ],
   "source": [
    "sum(d[0])"
   ]
  },
  {
   "cell_type": "code",
   "execution_count": 7,
   "metadata": {},
   "outputs": [],
   "source": [
    "import pickle\n",
    "filename = 'RCRDDT_Figure2.pkl'\n",
    "with open(filename,'wb') as f:\n",
    "     pickle.dump(dlist, f)"
   ]
  },
  {
   "cell_type": "code",
   "execution_count": 8,
   "metadata": {},
   "outputs": [
    {
     "output_type": "execute_result",
     "data": {
      "text/plain": [
       "True"
      ]
     },
     "metadata": {},
     "execution_count": 8
    }
   ],
   "source": [
    "with open(filename,'rb') as f:\n",
    "     a = pickle.load(f)\n",
    "\n",
    "a == dlist"
   ]
  }
 ]
}