{
 "metadata": {
  "language_info": {
   "codemirror_mode": {
    "name": "ipython",
    "version": 3
   },
   "file_extension": ".py",
   "mimetype": "text/x-python",
   "name": "python",
   "nbconvert_exporter": "python",
   "pygments_lexer": "ipython3",
   "version": "3.7.10"
  },
  "orig_nbformat": 2,
  "kernelspec": {
   "name": "python3710jvsc74a57bd0cdf0d6fa137da5f1978f1d4b19663f5caf8828dc834e5c4ec33bdf44cb752508",
   "display_name": "Python 3.7.10 64-bit ('fina4359': conda)"
  },
  "metadata": {
   "interpreter": {
    "hash": "cdf0d6fa137da5f1978f1d4b19663f5caf8828dc834e5c4ec33bdf44cb752508"
   }
  }
 },
 "nbformat": 4,
 "nbformat_minor": 2,
 "cells": [
  {
   "cell_type": "code",
   "execution_count": 1,
   "metadata": {},
   "outputs": [],
   "source": [
    "import pandas as pd\n",
    "import numpy as np"
   ]
  },
  {
   "cell_type": "code",
   "execution_count": 2,
   "metadata": {},
   "outputs": [],
   "source": [
    "import sys\n",
    "sys.setrecursionlimit(1000000)\n",
    "df = pd.read_pickle('crsp_div_df_afterGroupBy.pkl.zip', compression='zip')"
   ]
  },
  {
   "cell_type": "code",
   "execution_count": 3,
   "metadata": {},
   "outputs": [
    {
     "output_type": "execute_result",
     "data": {
      "text/plain": [
       "                    DCLRDT RCRDDT DISTCD  DIVAMT        RET     VOL     PRC  \\\n",
       "CUSIP    date                                                                 \n",
       "00003210 1970-11-30    NaT    NaT   None     0.0          C   318.0   9.000   \n",
       "         1970-12-31    NaT    NaT   None     0.0   0.111111   646.0  10.000   \n",
       "         1971-01-29    NaT    NaT   None     0.0  -0.100000   636.0   9.000   \n",
       "         1971-02-26    NaT    NaT   None     0.0   0.236111  2155.0  11.125   \n",
       "         1971-03-31    NaT    NaT   None     0.0  -0.123596  2062.0   9.750   \n",
       "\n",
       "                     PRC_t-1  SPREAD  SHROUT       MCAP freq  \n",
       "CUSIP    date                                                 \n",
       "00003210 1970-11-30      NaN     NaN  2655.0  23895.000  NaN  \n",
       "         1970-12-31    9.000     NaN  2655.0  26550.000  NaN  \n",
       "         1971-01-29   10.000     NaN  2655.0  23895.000  NaN  \n",
       "         1971-02-26    9.000     NaN  2655.0  29536.875  NaN  \n",
       "         1971-03-31   11.125     NaN  2655.0  25886.250  NaN  "
      ],
      "text/html": "<div>\n<style scoped>\n    .dataframe tbody tr th:only-of-type {\n        vertical-align: middle;\n    }\n\n    .dataframe tbody tr th {\n        vertical-align: top;\n    }\n\n    .dataframe thead th {\n        text-align: right;\n    }\n</style>\n<table border=\"1\" class=\"dataframe\">\n  <thead>\n    <tr style=\"text-align: right;\">\n      <th></th>\n      <th></th>\n      <th>DCLRDT</th>\n      <th>RCRDDT</th>\n      <th>DISTCD</th>\n      <th>DIVAMT</th>\n      <th>RET</th>\n      <th>VOL</th>\n      <th>PRC</th>\n      <th>PRC_t-1</th>\n      <th>SPREAD</th>\n      <th>SHROUT</th>\n      <th>MCAP</th>\n      <th>freq</th>\n    </tr>\n    <tr>\n      <th>CUSIP</th>\n      <th>date</th>\n      <th></th>\n      <th></th>\n      <th></th>\n      <th></th>\n      <th></th>\n      <th></th>\n      <th></th>\n      <th></th>\n      <th></th>\n      <th></th>\n      <th></th>\n      <th></th>\n    </tr>\n  </thead>\n  <tbody>\n    <tr>\n      <th rowspan=\"5\" valign=\"top\">00003210</th>\n      <th>1970-11-30</th>\n      <td>NaT</td>\n      <td>NaT</td>\n      <td>None</td>\n      <td>0.0</td>\n      <td>C</td>\n      <td>318.0</td>\n      <td>9.000</td>\n      <td>NaN</td>\n      <td>NaN</td>\n      <td>2655.0</td>\n      <td>23895.000</td>\n      <td>NaN</td>\n    </tr>\n    <tr>\n      <th>1970-12-31</th>\n      <td>NaT</td>\n      <td>NaT</td>\n      <td>None</td>\n      <td>0.0</td>\n      <td>0.111111</td>\n      <td>646.0</td>\n      <td>10.000</td>\n      <td>9.000</td>\n      <td>NaN</td>\n      <td>2655.0</td>\n      <td>26550.000</td>\n      <td>NaN</td>\n    </tr>\n    <tr>\n      <th>1971-01-29</th>\n      <td>NaT</td>\n      <td>NaT</td>\n      <td>None</td>\n      <td>0.0</td>\n      <td>-0.100000</td>\n      <td>636.0</td>\n      <td>9.000</td>\n      <td>10.000</td>\n      <td>NaN</td>\n      <td>2655.0</td>\n      <td>23895.000</td>\n      <td>NaN</td>\n    </tr>\n    <tr>\n      <th>1971-02-26</th>\n      <td>NaT</td>\n      <td>NaT</td>\n      <td>None</td>\n      <td>0.0</td>\n      <td>0.236111</td>\n      <td>2155.0</td>\n      <td>11.125</td>\n      <td>9.000</td>\n      <td>NaN</td>\n      <td>2655.0</td>\n      <td>29536.875</td>\n      <td>NaN</td>\n    </tr>\n    <tr>\n      <th>1971-03-31</th>\n      <td>NaT</td>\n      <td>NaT</td>\n      <td>None</td>\n      <td>0.0</td>\n      <td>-0.123596</td>\n      <td>2062.0</td>\n      <td>9.750</td>\n      <td>11.125</td>\n      <td>NaN</td>\n      <td>2655.0</td>\n      <td>25886.250</td>\n      <td>NaN</td>\n    </tr>\n  </tbody>\n</table>\n</div>"
     },
     "metadata": {},
     "execution_count": 3
    }
   ],
   "source": [
    "\n",
    "df.head()"
   ]
  },
  {
   "cell_type": "code",
   "execution_count": 4,
   "metadata": {},
   "outputs": [],
   "source": [
    "for i in range(1,13):\n",
    "     df['div_' + str(i) + '_month_ago'] = df.groupby('CUSIP').DIVAMT.apply(lambda x: x.shift(i))"
   ]
  },
  {
   "cell_type": "code",
   "execution_count": 5,
   "metadata": {},
   "outputs": [],
   "source": [
    "for i in range(1,13):\n",
    "     exec('df_' + str(i) + '_ago = df[ (df[\\'div_' + str(i) + '_month_ago\\'].isna() == False) & (df[\\'div_' + str(i) + '_month_ago\\'] != 0) & (df[\\'RETX\\'].isna() == False)]')"
   ]
  },
  {
   "cell_type": "code",
   "execution_count": 8,
   "metadata": {},
   "outputs": [
    {
     "output_type": "stream",
     "name": "stdout",
     "text": [
      "1.1264949036207816\n",
      "1.2294391616393203\n",
      "1.4363564801995683\n",
      "1.0811057094766203\n",
      "1.2358596968897466\n",
      "1.4570698740263153\n",
      "1.102909578856663\n",
      "1.2189892419991226\n",
      "1.417228553692812\n",
      "1.0835303649321808\n",
      "1.2217992375250566\n",
      "1.4626582599263955\n"
     ]
    }
   ],
   "source": [
    "for i in range(1,13):\n",
    "    exec('mean_ret = pd.to_numeric(df_' + str(i) + '_ago[\\'RETX\\'], errors=\\'coerce\\').mean() * 100')\n",
    "    print(mean_ret)"
   ]
  },
  {
   "cell_type": "code",
   "execution_count": 6,
   "metadata": {},
   "outputs": [
    {
     "output_type": "execute_result",
     "data": {
      "text/plain": [
       "                    DCLRDT RCRDDT DISTCD  DIVAMT        RET       VOL     PRC  \\\n",
       "CUSIP    date                                                                   \n",
       "00003210 1977-07-29    NaT    NaT   None     0.0   0.230769    2623.0   8.000   \n",
       "         1977-10-31    NaT    NaT   None     0.0  -0.041667     519.0   8.625   \n",
       "00020910 1991-04-30    NaT    NaT   None     0.0   0.073171   26787.0  33.000   \n",
       "         1991-07-31    NaT    NaT   None     0.0  -0.014184    9401.0  34.750   \n",
       "         1991-10-31    NaT    NaT   None     0.0   0.039063   26479.0  33.250   \n",
       "...                    ...    ...    ...     ...        ...       ...     ...   \n",
       "N5946510 2006-07-31    NaT    NaT   None     0.0   0.098000  449915.0  21.960   \n",
       "         2006-10-31    NaT    NaT   None     0.0   0.018381  287250.0  20.500   \n",
       "         2007-01-31    NaT    NaT   None     0.0   0.109218  295030.0  22.140   \n",
       "         2007-04-30    NaT    NaT   None     0.0   0.037370  519720.0  21.930   \n",
       "         2007-07-31    NaT    NaT   None     0.0  -0.118747  773376.0  16.030   \n",
       "\n",
       "                     PRC_t-1  SPREAD    SHROUT  ...  div_3_month_ago  \\\n",
       "CUSIP    date                                   ...                    \n",
       "00003210 1977-07-29     6.50     NaN    2209.0  ...              0.0   \n",
       "         1977-10-31     9.00     NaN    2223.0  ...              0.0   \n",
       "00020910 1991-04-30    30.75     NaN    9153.0  ...              0.0   \n",
       "         1991-07-31    35.25     NaN    9183.0  ...              0.0   \n",
       "         1991-10-31    32.00     NaN    9188.0  ...              0.0   \n",
       "...                      ...     ...       ...  ...              ...   \n",
       "N5946510 2006-07-31    20.00     NaN  210811.0  ...              0.0   \n",
       "         2006-10-31    20.13     NaN  211991.0  ...              0.0   \n",
       "         2007-01-31    19.96     NaN  211991.0  ...              0.0   \n",
       "         2007-04-30    21.14     NaN  244760.0  ...              0.0   \n",
       "         2007-07-31    18.19     NaN  248716.0  ...              0.0   \n",
       "\n",
       "                    div_4_month_ago  div_5_month_ago  div_6_month_ago  \\\n",
       "CUSIP    date                                                           \n",
       "00003210 1977-07-29            0.00              0.0              0.0   \n",
       "         1977-10-31            0.05              0.0              0.0   \n",
       "00020910 1991-04-30            0.00              0.0              0.0   \n",
       "         1991-07-31            0.10              0.0              0.0   \n",
       "         1991-10-31            0.10              0.0              0.0   \n",
       "...                             ...              ...              ...   \n",
       "N5946510 2006-07-31            0.06              0.0              0.0   \n",
       "         2006-10-31            0.06              0.0              0.0   \n",
       "         2007-01-31            0.06              0.0              0.0   \n",
       "         2007-04-30            0.06              0.0              0.0   \n",
       "         2007-07-31            0.06              0.0              0.0   \n",
       "\n",
       "                     div_7_month_ago  div_8_month_ago  div_9_month_ago  \\\n",
       "CUSIP    date                                                            \n",
       "00003210 1977-07-29             0.00              0.0              0.0   \n",
       "         1977-10-31             0.00              0.0              0.0   \n",
       "00020910 1991-04-30             0.00              0.0              0.0   \n",
       "         1991-07-31             0.00              0.0              0.0   \n",
       "         1991-10-31             0.10              0.0              0.0   \n",
       "...                              ...              ...              ...   \n",
       "N5946510 2006-07-31             0.06              0.0              0.0   \n",
       "         2006-10-31             0.06              0.0              0.0   \n",
       "         2007-01-31             0.06              0.0              0.0   \n",
       "         2007-04-30             0.06              0.0              0.0   \n",
       "         2007-07-31             0.06              0.0              0.0   \n",
       "\n",
       "                     div_10_month_ago  div_11_month_ago  div_12_month_ago  \n",
       "CUSIP    date                                                              \n",
       "00003210 1977-07-29              0.00               0.0               0.0  \n",
       "         1977-10-31              0.00               0.0               0.0  \n",
       "00020910 1991-04-30              0.00               0.0               0.0  \n",
       "         1991-07-31              0.00               0.0               0.0  \n",
       "         1991-10-31              0.00               0.0               0.0  \n",
       "...                               ...               ...               ...  \n",
       "N5946510 2006-07-31              0.06               0.0               0.0  \n",
       "         2006-10-31              0.06               0.0               0.0  \n",
       "         2007-01-31              0.06               0.0               0.0  \n",
       "         2007-04-30              0.06               0.0               0.0  \n",
       "         2007-07-31              0.06               0.0               0.0  \n",
       "\n",
       "[470668 rows x 24 columns]"
      ],
      "text/html": "<div>\n<style scoped>\n    .dataframe tbody tr th:only-of-type {\n        vertical-align: middle;\n    }\n\n    .dataframe tbody tr th {\n        vertical-align: top;\n    }\n\n    .dataframe thead th {\n        text-align: right;\n    }\n</style>\n<table border=\"1\" class=\"dataframe\">\n  <thead>\n    <tr style=\"text-align: right;\">\n      <th></th>\n      <th></th>\n      <th>DCLRDT</th>\n      <th>RCRDDT</th>\n      <th>DISTCD</th>\n      <th>DIVAMT</th>\n      <th>RET</th>\n      <th>VOL</th>\n      <th>PRC</th>\n      <th>PRC_t-1</th>\n      <th>SPREAD</th>\n      <th>SHROUT</th>\n      <th>...</th>\n      <th>div_3_month_ago</th>\n      <th>div_4_month_ago</th>\n      <th>div_5_month_ago</th>\n      <th>div_6_month_ago</th>\n      <th>div_7_month_ago</th>\n      <th>div_8_month_ago</th>\n      <th>div_9_month_ago</th>\n      <th>div_10_month_ago</th>\n      <th>div_11_month_ago</th>\n      <th>div_12_month_ago</th>\n    </tr>\n    <tr>\n      <th>CUSIP</th>\n      <th>date</th>\n      <th></th>\n      <th></th>\n      <th></th>\n      <th></th>\n      <th></th>\n      <th></th>\n      <th></th>\n      <th></th>\n      <th></th>\n      <th></th>\n      <th></th>\n      <th></th>\n      <th></th>\n      <th></th>\n      <th></th>\n      <th></th>\n      <th></th>\n      <th></th>\n      <th></th>\n      <th></th>\n      <th></th>\n    </tr>\n  </thead>\n  <tbody>\n    <tr>\n      <th rowspan=\"2\" valign=\"top\">00003210</th>\n      <th>1977-07-29</th>\n      <td>NaT</td>\n      <td>NaT</td>\n      <td>None</td>\n      <td>0.0</td>\n      <td>0.230769</td>\n      <td>2623.0</td>\n      <td>8.000</td>\n      <td>6.50</td>\n      <td>NaN</td>\n      <td>2209.0</td>\n      <td>...</td>\n      <td>0.0</td>\n      <td>0.00</td>\n      <td>0.0</td>\n      <td>0.0</td>\n      <td>0.00</td>\n      <td>0.0</td>\n      <td>0.0</td>\n      <td>0.00</td>\n      <td>0.0</td>\n      <td>0.0</td>\n    </tr>\n    <tr>\n      <th>1977-10-31</th>\n      <td>NaT</td>\n      <td>NaT</td>\n      <td>None</td>\n      <td>0.0</td>\n      <td>-0.041667</td>\n      <td>519.0</td>\n      <td>8.625</td>\n      <td>9.00</td>\n      <td>NaN</td>\n      <td>2223.0</td>\n      <td>...</td>\n      <td>0.0</td>\n      <td>0.05</td>\n      <td>0.0</td>\n      <td>0.0</td>\n      <td>0.00</td>\n      <td>0.0</td>\n      <td>0.0</td>\n      <td>0.00</td>\n      <td>0.0</td>\n      <td>0.0</td>\n    </tr>\n    <tr>\n      <th rowspan=\"3\" valign=\"top\">00020910</th>\n      <th>1991-04-30</th>\n      <td>NaT</td>\n      <td>NaT</td>\n      <td>None</td>\n      <td>0.0</td>\n      <td>0.073171</td>\n      <td>26787.0</td>\n      <td>33.000</td>\n      <td>30.75</td>\n      <td>NaN</td>\n      <td>9153.0</td>\n      <td>...</td>\n      <td>0.0</td>\n      <td>0.00</td>\n      <td>0.0</td>\n      <td>0.0</td>\n      <td>0.00</td>\n      <td>0.0</td>\n      <td>0.0</td>\n      <td>0.00</td>\n      <td>0.0</td>\n      <td>0.0</td>\n    </tr>\n    <tr>\n      <th>1991-07-31</th>\n      <td>NaT</td>\n      <td>NaT</td>\n      <td>None</td>\n      <td>0.0</td>\n      <td>-0.014184</td>\n      <td>9401.0</td>\n      <td>34.750</td>\n      <td>35.25</td>\n      <td>NaN</td>\n      <td>9183.0</td>\n      <td>...</td>\n      <td>0.0</td>\n      <td>0.10</td>\n      <td>0.0</td>\n      <td>0.0</td>\n      <td>0.00</td>\n      <td>0.0</td>\n      <td>0.0</td>\n      <td>0.00</td>\n      <td>0.0</td>\n      <td>0.0</td>\n    </tr>\n    <tr>\n      <th>1991-10-31</th>\n      <td>NaT</td>\n      <td>NaT</td>\n      <td>None</td>\n      <td>0.0</td>\n      <td>0.039063</td>\n      <td>26479.0</td>\n      <td>33.250</td>\n      <td>32.00</td>\n      <td>NaN</td>\n      <td>9188.0</td>\n      <td>...</td>\n      <td>0.0</td>\n      <td>0.10</td>\n      <td>0.0</td>\n      <td>0.0</td>\n      <td>0.10</td>\n      <td>0.0</td>\n      <td>0.0</td>\n      <td>0.00</td>\n      <td>0.0</td>\n      <td>0.0</td>\n    </tr>\n    <tr>\n      <th>...</th>\n      <th>...</th>\n      <td>...</td>\n      <td>...</td>\n      <td>...</td>\n      <td>...</td>\n      <td>...</td>\n      <td>...</td>\n      <td>...</td>\n      <td>...</td>\n      <td>...</td>\n      <td>...</td>\n      <td>...</td>\n      <td>...</td>\n      <td>...</td>\n      <td>...</td>\n      <td>...</td>\n      <td>...</td>\n      <td>...</td>\n      <td>...</td>\n      <td>...</td>\n      <td>...</td>\n      <td>...</td>\n    </tr>\n    <tr>\n      <th rowspan=\"5\" valign=\"top\">N5946510</th>\n      <th>2006-07-31</th>\n      <td>NaT</td>\n      <td>NaT</td>\n      <td>None</td>\n      <td>0.0</td>\n      <td>0.098000</td>\n      <td>449915.0</td>\n      <td>21.960</td>\n      <td>20.00</td>\n      <td>NaN</td>\n      <td>210811.0</td>\n      <td>...</td>\n      <td>0.0</td>\n      <td>0.06</td>\n      <td>0.0</td>\n      <td>0.0</td>\n      <td>0.06</td>\n      <td>0.0</td>\n      <td>0.0</td>\n      <td>0.06</td>\n      <td>0.0</td>\n      <td>0.0</td>\n    </tr>\n    <tr>\n      <th>2006-10-31</th>\n      <td>NaT</td>\n      <td>NaT</td>\n      <td>None</td>\n      <td>0.0</td>\n      <td>0.018381</td>\n      <td>287250.0</td>\n      <td>20.500</td>\n      <td>20.13</td>\n      <td>NaN</td>\n      <td>211991.0</td>\n      <td>...</td>\n      <td>0.0</td>\n      <td>0.06</td>\n      <td>0.0</td>\n      <td>0.0</td>\n      <td>0.06</td>\n      <td>0.0</td>\n      <td>0.0</td>\n      <td>0.06</td>\n      <td>0.0</td>\n      <td>0.0</td>\n    </tr>\n    <tr>\n      <th>2007-01-31</th>\n      <td>NaT</td>\n      <td>NaT</td>\n      <td>None</td>\n      <td>0.0</td>\n      <td>0.109218</td>\n      <td>295030.0</td>\n      <td>22.140</td>\n      <td>19.96</td>\n      <td>NaN</td>\n      <td>211991.0</td>\n      <td>...</td>\n      <td>0.0</td>\n      <td>0.06</td>\n      <td>0.0</td>\n      <td>0.0</td>\n      <td>0.06</td>\n      <td>0.0</td>\n      <td>0.0</td>\n      <td>0.06</td>\n      <td>0.0</td>\n      <td>0.0</td>\n    </tr>\n    <tr>\n      <th>2007-04-30</th>\n      <td>NaT</td>\n      <td>NaT</td>\n      <td>None</td>\n      <td>0.0</td>\n      <td>0.037370</td>\n      <td>519720.0</td>\n      <td>21.930</td>\n      <td>21.14</td>\n      <td>NaN</td>\n      <td>244760.0</td>\n      <td>...</td>\n      <td>0.0</td>\n      <td>0.06</td>\n      <td>0.0</td>\n      <td>0.0</td>\n      <td>0.06</td>\n      <td>0.0</td>\n      <td>0.0</td>\n      <td>0.06</td>\n      <td>0.0</td>\n      <td>0.0</td>\n    </tr>\n    <tr>\n      <th>2007-07-31</th>\n      <td>NaT</td>\n      <td>NaT</td>\n      <td>None</td>\n      <td>0.0</td>\n      <td>-0.118747</td>\n      <td>773376.0</td>\n      <td>16.030</td>\n      <td>18.19</td>\n      <td>NaN</td>\n      <td>248716.0</td>\n      <td>...</td>\n      <td>0.0</td>\n      <td>0.06</td>\n      <td>0.0</td>\n      <td>0.0</td>\n      <td>0.06</td>\n      <td>0.0</td>\n      <td>0.0</td>\n      <td>0.06</td>\n      <td>0.0</td>\n      <td>0.0</td>\n    </tr>\n  </tbody>\n</table>\n<p>470668 rows × 24 columns</p>\n</div>"
     },
     "metadata": {},
     "execution_count": 6
    }
   ],
   "source": [
    "df_1_ago"
   ]
  },
  {
   "cell_type": "code",
   "execution_count": 50,
   "metadata": {},
   "outputs": [
    {
     "output_type": "execute_result",
     "data": {
      "text/plain": [
       "                    DCLRDT RCRDDT DISTCD  DIVAMT        RET        VOL  \\\n",
       "CUSIP    date                                                            \n",
       "00003210 1970-11-30    NaT    NaT   None     0.0          C      318.0   \n",
       "         1970-12-31    NaT    NaT   None     0.0   0.111111      646.0   \n",
       "         1971-01-29    NaT    NaT   None     0.0  -0.100000      636.0   \n",
       "         1971-02-26    NaT    NaT   None     0.0   0.236111     2155.0   \n",
       "         1971-03-31    NaT    NaT   None     0.0  -0.123596     2062.0   \n",
       "...                    ...    ...    ...     ...        ...        ...   \n",
       "N5946510 2011-08-31    NaT    NaT   None     0.0  -0.089113  2419635.0   \n",
       "         2011-09-30    NaT    NaT   None     0.0  -0.181205  1672860.0   \n",
       "         2011-10-31    NaT    NaT   None     0.0   0.151854  1538552.0   \n",
       "         2011-11-30    NaT    NaT   None     0.0  -0.002044  1220142.0   \n",
       "         2011-12-30    NaT    NaT   None     0.0   0.098822  1185432.0   \n",
       "\n",
       "                        PRC  PRC_t-1  SPREAD    SHROUT  ...  div_3_month_ago  \\\n",
       "CUSIP    date                                           ...                    \n",
       "00003210 1970-11-30   9.000      NaN     NaN    2655.0  ...              NaN   \n",
       "         1970-12-31  10.000    9.000     NaN    2655.0  ...              NaN   \n",
       "         1971-01-29   9.000   10.000     NaN    2655.0  ...              NaN   \n",
       "         1971-02-26  11.125    9.000     NaN    2655.0  ...              0.0   \n",
       "         1971-03-31   9.750   11.125     NaN    2655.0  ...              0.0   \n",
       "...                     ...      ...     ...       ...  ...              ...   \n",
       "N5946510 2011-08-31  20.750   22.780     NaN  426263.0  ...              0.0   \n",
       "         2011-09-30  16.990   20.750     NaN  426485.0  ...              0.0   \n",
       "         2011-10-31  19.570   16.990     NaN  426512.0  ...              0.0   \n",
       "         2011-11-30  19.530   19.570     NaN  426512.0  ...              0.0   \n",
       "         2011-12-30  21.460   19.530     NaN  426678.0  ...              0.0   \n",
       "\n",
       "                    div_4_month_ago  div_5_month_ago  div_6_month_ago  \\\n",
       "CUSIP    date                                                           \n",
       "00003210 1970-11-30             NaN              NaN              NaN   \n",
       "         1970-12-31             NaN              NaN              NaN   \n",
       "         1971-01-29             NaN              NaN              NaN   \n",
       "         1971-02-26             NaN              NaN              NaN   \n",
       "         1971-03-31             0.0              NaN              NaN   \n",
       "...                             ...              ...              ...   \n",
       "N5946510 2011-08-31             0.0              0.0              0.0   \n",
       "         2011-09-30             0.0              0.0              0.0   \n",
       "         2011-10-31             0.0              0.0              0.0   \n",
       "         2011-11-30             0.0              0.0              0.0   \n",
       "         2011-12-30             0.0              0.0              0.0   \n",
       "\n",
       "                     div_7_month_ago  div_8_month_ago  div_9_month_ago  \\\n",
       "CUSIP    date                                                            \n",
       "00003210 1970-11-30              NaN              NaN              NaN   \n",
       "         1970-12-31              NaN              NaN              NaN   \n",
       "         1971-01-29              NaN              NaN              NaN   \n",
       "         1971-02-26              NaN              NaN              NaN   \n",
       "         1971-03-31              NaN              NaN              NaN   \n",
       "...                              ...              ...              ...   \n",
       "N5946510 2011-08-31              0.0              0.0              0.0   \n",
       "         2011-09-30              0.0              0.0              0.0   \n",
       "         2011-10-31              0.0              0.0              0.0   \n",
       "         2011-11-30              0.0              0.0              0.0   \n",
       "         2011-12-30              0.0              0.0              0.0   \n",
       "\n",
       "                     div_10_month_ago  div_11_month_ago  div_12_month_ago  \n",
       "CUSIP    date                                                              \n",
       "00003210 1970-11-30               NaN               NaN               NaN  \n",
       "         1970-12-31               NaN               NaN               NaN  \n",
       "         1971-01-29               NaN               NaN               NaN  \n",
       "         1971-02-26               NaN               NaN               NaN  \n",
       "         1971-03-31               NaN               NaN               NaN  \n",
       "...                               ...               ...               ...  \n",
       "N5946510 2011-08-31               0.0               0.0               0.0  \n",
       "         2011-09-30               0.0               0.0               0.0  \n",
       "         2011-10-31               0.0               0.0               0.0  \n",
       "         2011-11-30               0.0               0.0               0.0  \n",
       "         2011-12-30               0.0               0.0               0.0  \n",
       "\n",
       "[2079762 rows x 24 columns]"
      ],
      "text/html": "<div>\n<style scoped>\n    .dataframe tbody tr th:only-of-type {\n        vertical-align: middle;\n    }\n\n    .dataframe tbody tr th {\n        vertical-align: top;\n    }\n\n    .dataframe thead th {\n        text-align: right;\n    }\n</style>\n<table border=\"1\" class=\"dataframe\">\n  <thead>\n    <tr style=\"text-align: right;\">\n      <th></th>\n      <th></th>\n      <th>DCLRDT</th>\n      <th>RCRDDT</th>\n      <th>DISTCD</th>\n      <th>DIVAMT</th>\n      <th>RET</th>\n      <th>VOL</th>\n      <th>PRC</th>\n      <th>PRC_t-1</th>\n      <th>SPREAD</th>\n      <th>SHROUT</th>\n      <th>...</th>\n      <th>div_3_month_ago</th>\n      <th>div_4_month_ago</th>\n      <th>div_5_month_ago</th>\n      <th>div_6_month_ago</th>\n      <th>div_7_month_ago</th>\n      <th>div_8_month_ago</th>\n      <th>div_9_month_ago</th>\n      <th>div_10_month_ago</th>\n      <th>div_11_month_ago</th>\n      <th>div_12_month_ago</th>\n    </tr>\n    <tr>\n      <th>CUSIP</th>\n      <th>date</th>\n      <th></th>\n      <th></th>\n      <th></th>\n      <th></th>\n      <th></th>\n      <th></th>\n      <th></th>\n      <th></th>\n      <th></th>\n      <th></th>\n      <th></th>\n      <th></th>\n      <th></th>\n      <th></th>\n      <th></th>\n      <th></th>\n      <th></th>\n      <th></th>\n      <th></th>\n      <th></th>\n      <th></th>\n    </tr>\n  </thead>\n  <tbody>\n    <tr>\n      <th rowspan=\"5\" valign=\"top\">00003210</th>\n      <th>1970-11-30</th>\n      <td>NaT</td>\n      <td>NaT</td>\n      <td>None</td>\n      <td>0.0</td>\n      <td>C</td>\n      <td>318.0</td>\n      <td>9.000</td>\n      <td>NaN</td>\n      <td>NaN</td>\n      <td>2655.0</td>\n      <td>...</td>\n      <td>NaN</td>\n      <td>NaN</td>\n      <td>NaN</td>\n      <td>NaN</td>\n      <td>NaN</td>\n      <td>NaN</td>\n      <td>NaN</td>\n      <td>NaN</td>\n      <td>NaN</td>\n      <td>NaN</td>\n    </tr>\n    <tr>\n      <th>1970-12-31</th>\n      <td>NaT</td>\n      <td>NaT</td>\n      <td>None</td>\n      <td>0.0</td>\n      <td>0.111111</td>\n      <td>646.0</td>\n      <td>10.000</td>\n      <td>9.000</td>\n      <td>NaN</td>\n      <td>2655.0</td>\n      <td>...</td>\n      <td>NaN</td>\n      <td>NaN</td>\n      <td>NaN</td>\n      <td>NaN</td>\n      <td>NaN</td>\n      <td>NaN</td>\n      <td>NaN</td>\n      <td>NaN</td>\n      <td>NaN</td>\n      <td>NaN</td>\n    </tr>\n    <tr>\n      <th>1971-01-29</th>\n      <td>NaT</td>\n      <td>NaT</td>\n      <td>None</td>\n      <td>0.0</td>\n      <td>-0.100000</td>\n      <td>636.0</td>\n      <td>9.000</td>\n      <td>10.000</td>\n      <td>NaN</td>\n      <td>2655.0</td>\n      <td>...</td>\n      <td>NaN</td>\n      <td>NaN</td>\n      <td>NaN</td>\n      <td>NaN</td>\n      <td>NaN</td>\n      <td>NaN</td>\n      <td>NaN</td>\n      <td>NaN</td>\n      <td>NaN</td>\n      <td>NaN</td>\n    </tr>\n    <tr>\n      <th>1971-02-26</th>\n      <td>NaT</td>\n      <td>NaT</td>\n      <td>None</td>\n      <td>0.0</td>\n      <td>0.236111</td>\n      <td>2155.0</td>\n      <td>11.125</td>\n      <td>9.000</td>\n      <td>NaN</td>\n      <td>2655.0</td>\n      <td>...</td>\n      <td>0.0</td>\n      <td>NaN</td>\n      <td>NaN</td>\n      <td>NaN</td>\n      <td>NaN</td>\n      <td>NaN</td>\n      <td>NaN</td>\n      <td>NaN</td>\n      <td>NaN</td>\n      <td>NaN</td>\n    </tr>\n    <tr>\n      <th>1971-03-31</th>\n      <td>NaT</td>\n      <td>NaT</td>\n      <td>None</td>\n      <td>0.0</td>\n      <td>-0.123596</td>\n      <td>2062.0</td>\n      <td>9.750</td>\n      <td>11.125</td>\n      <td>NaN</td>\n      <td>2655.0</td>\n      <td>...</td>\n      <td>0.0</td>\n      <td>0.0</td>\n      <td>NaN</td>\n      <td>NaN</td>\n      <td>NaN</td>\n      <td>NaN</td>\n      <td>NaN</td>\n      <td>NaN</td>\n      <td>NaN</td>\n      <td>NaN</td>\n    </tr>\n    <tr>\n      <th>...</th>\n      <th>...</th>\n      <td>...</td>\n      <td>...</td>\n      <td>...</td>\n      <td>...</td>\n      <td>...</td>\n      <td>...</td>\n      <td>...</td>\n      <td>...</td>\n      <td>...</td>\n      <td>...</td>\n      <td>...</td>\n      <td>...</td>\n      <td>...</td>\n      <td>...</td>\n      <td>...</td>\n      <td>...</td>\n      <td>...</td>\n      <td>...</td>\n      <td>...</td>\n      <td>...</td>\n      <td>...</td>\n    </tr>\n    <tr>\n      <th rowspan=\"5\" valign=\"top\">N5946510</th>\n      <th>2011-08-31</th>\n      <td>NaT</td>\n      <td>NaT</td>\n      <td>None</td>\n      <td>0.0</td>\n      <td>-0.089113</td>\n      <td>2419635.0</td>\n      <td>20.750</td>\n      <td>22.780</td>\n      <td>NaN</td>\n      <td>426263.0</td>\n      <td>...</td>\n      <td>0.0</td>\n      <td>0.0</td>\n      <td>0.0</td>\n      <td>0.0</td>\n      <td>0.0</td>\n      <td>0.0</td>\n      <td>0.0</td>\n      <td>0.0</td>\n      <td>0.0</td>\n      <td>0.0</td>\n    </tr>\n    <tr>\n      <th>2011-09-30</th>\n      <td>NaT</td>\n      <td>NaT</td>\n      <td>None</td>\n      <td>0.0</td>\n      <td>-0.181205</td>\n      <td>1672860.0</td>\n      <td>16.990</td>\n      <td>20.750</td>\n      <td>NaN</td>\n      <td>426485.0</td>\n      <td>...</td>\n      <td>0.0</td>\n      <td>0.0</td>\n      <td>0.0</td>\n      <td>0.0</td>\n      <td>0.0</td>\n      <td>0.0</td>\n      <td>0.0</td>\n      <td>0.0</td>\n      <td>0.0</td>\n      <td>0.0</td>\n    </tr>\n    <tr>\n      <th>2011-10-31</th>\n      <td>NaT</td>\n      <td>NaT</td>\n      <td>None</td>\n      <td>0.0</td>\n      <td>0.151854</td>\n      <td>1538552.0</td>\n      <td>19.570</td>\n      <td>16.990</td>\n      <td>NaN</td>\n      <td>426512.0</td>\n      <td>...</td>\n      <td>0.0</td>\n      <td>0.0</td>\n      <td>0.0</td>\n      <td>0.0</td>\n      <td>0.0</td>\n      <td>0.0</td>\n      <td>0.0</td>\n      <td>0.0</td>\n      <td>0.0</td>\n      <td>0.0</td>\n    </tr>\n    <tr>\n      <th>2011-11-30</th>\n      <td>NaT</td>\n      <td>NaT</td>\n      <td>None</td>\n      <td>0.0</td>\n      <td>-0.002044</td>\n      <td>1220142.0</td>\n      <td>19.530</td>\n      <td>19.570</td>\n      <td>NaN</td>\n      <td>426512.0</td>\n      <td>...</td>\n      <td>0.0</td>\n      <td>0.0</td>\n      <td>0.0</td>\n      <td>0.0</td>\n      <td>0.0</td>\n      <td>0.0</td>\n      <td>0.0</td>\n      <td>0.0</td>\n      <td>0.0</td>\n      <td>0.0</td>\n    </tr>\n    <tr>\n      <th>2011-12-30</th>\n      <td>NaT</td>\n      <td>NaT</td>\n      <td>None</td>\n      <td>0.0</td>\n      <td>0.098822</td>\n      <td>1185432.0</td>\n      <td>21.460</td>\n      <td>19.530</td>\n      <td>NaN</td>\n      <td>426678.0</td>\n      <td>...</td>\n      <td>0.0</td>\n      <td>0.0</td>\n      <td>0.0</td>\n      <td>0.0</td>\n      <td>0.0</td>\n      <td>0.0</td>\n      <td>0.0</td>\n      <td>0.0</td>\n      <td>0.0</td>\n      <td>0.0</td>\n    </tr>\n  </tbody>\n</table>\n<p>2079762 rows × 24 columns</p>\n</div>"
     },
     "metadata": {},
     "execution_count": 50
    }
   ],
   "source": [
    "df [ (df['RET'].isna() == False) ]"
   ]
  },
  {
   "cell_type": "code",
   "execution_count": null,
   "metadata": {},
   "outputs": [],
   "source": []
  }
 ]
}