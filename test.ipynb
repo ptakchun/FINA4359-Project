{
 "metadata": {
  "language_info": {
   "codemirror_mode": {
    "name": "ipython",
    "version": 3
   },
   "file_extension": ".py",
   "mimetype": "text/x-python",
   "name": "python",
   "nbconvert_exporter": "python",
   "pygments_lexer": "ipython3",
   "version": "3.7.10"
  },
  "orig_nbformat": 2,
  "kernelspec": {
   "name": "python3710jvsc74a57bd0cdf0d6fa137da5f1978f1d4b19663f5caf8828dc834e5c4ec33bdf44cb752508",
   "display_name": "Python 3.7.10 64-bit ('fina4359': conda)"
  },
  "metadata": {
   "interpreter": {
    "hash": "cdf0d6fa137da5f1978f1d4b19663f5caf8828dc834e5c4ec33bdf44cb752508"
   }
  }
 },
 "nbformat": 4,
 "nbformat_minor": 2,
 "cells": [
  {
   "cell_type": "code",
   "execution_count": 1,
   "metadata": {},
   "outputs": [],
   "source": [
    "import pandas as pd\n",
    "import numpy as np"
   ]
  },
  {
   "cell_type": "code",
   "execution_count": 9,
   "metadata": {},
   "outputs": [],
   "source": [
    "import sys\n",
    "sys.setrecursionlimit(1000000)\n",
    "df = pd.read_pickle('crsp_div_df_afterGroupBy.pkl.zip', compression='zip')"
   ]
  },
  {
   "cell_type": "code",
   "execution_count": 10,
   "metadata": {},
   "outputs": [
    {
     "output_type": "execute_result",
     "data": {
      "text/plain": [
       "                    DCLRDT RCRDDT DISTCD  DIVAMT        RET       RETX  \\\n",
       "CUSIP    date                                                            \n",
       "00003210 1970-11-30    NaT    NaT   None     0.0          C          C   \n",
       "         1970-12-31    NaT    NaT   None     0.0   0.111111   0.111111   \n",
       "         1971-01-29    NaT    NaT   None     0.0  -0.100000  -0.100000   \n",
       "         1971-02-26    NaT    NaT   None     0.0   0.236111   0.236111   \n",
       "         1971-03-31    NaT    NaT   None     0.0  -0.123596  -0.123596   \n",
       "\n",
       "                        VOL     PRC  PRC_t-1  SPREAD  SHROUT       MCAP  \n",
       "CUSIP    date                                                            \n",
       "00003210 1970-11-30   318.0   9.000      NaN     NaN  2655.0  23895.000  \n",
       "         1970-12-31   646.0  10.000    9.000     NaN  2655.0  26550.000  \n",
       "         1971-01-29   636.0   9.000   10.000     NaN  2655.0  23895.000  \n",
       "         1971-02-26  2155.0  11.125    9.000     NaN  2655.0  29536.875  \n",
       "         1971-03-31  2062.0   9.750   11.125     NaN  2655.0  25886.250  "
      ],
      "text/html": "<div>\n<style scoped>\n    .dataframe tbody tr th:only-of-type {\n        vertical-align: middle;\n    }\n\n    .dataframe tbody tr th {\n        vertical-align: top;\n    }\n\n    .dataframe thead th {\n        text-align: right;\n    }\n</style>\n<table border=\"1\" class=\"dataframe\">\n  <thead>\n    <tr style=\"text-align: right;\">\n      <th></th>\n      <th></th>\n      <th>DCLRDT</th>\n      <th>RCRDDT</th>\n      <th>DISTCD</th>\n      <th>DIVAMT</th>\n      <th>RET</th>\n      <th>RETX</th>\n      <th>VOL</th>\n      <th>PRC</th>\n      <th>PRC_t-1</th>\n      <th>SPREAD</th>\n      <th>SHROUT</th>\n      <th>MCAP</th>\n    </tr>\n    <tr>\n      <th>CUSIP</th>\n      <th>date</th>\n      <th></th>\n      <th></th>\n      <th></th>\n      <th></th>\n      <th></th>\n      <th></th>\n      <th></th>\n      <th></th>\n      <th></th>\n      <th></th>\n      <th></th>\n      <th></th>\n    </tr>\n  </thead>\n  <tbody>\n    <tr>\n      <th rowspan=\"5\" valign=\"top\">00003210</th>\n      <th>1970-11-30</th>\n      <td>NaT</td>\n      <td>NaT</td>\n      <td>None</td>\n      <td>0.0</td>\n      <td>C</td>\n      <td>C</td>\n      <td>318.0</td>\n      <td>9.000</td>\n      <td>NaN</td>\n      <td>NaN</td>\n      <td>2655.0</td>\n      <td>23895.000</td>\n    </tr>\n    <tr>\n      <th>1970-12-31</th>\n      <td>NaT</td>\n      <td>NaT</td>\n      <td>None</td>\n      <td>0.0</td>\n      <td>0.111111</td>\n      <td>0.111111</td>\n      <td>646.0</td>\n      <td>10.000</td>\n      <td>9.000</td>\n      <td>NaN</td>\n      <td>2655.0</td>\n      <td>26550.000</td>\n    </tr>\n    <tr>\n      <th>1971-01-29</th>\n      <td>NaT</td>\n      <td>NaT</td>\n      <td>None</td>\n      <td>0.0</td>\n      <td>-0.100000</td>\n      <td>-0.100000</td>\n      <td>636.0</td>\n      <td>9.000</td>\n      <td>10.000</td>\n      <td>NaN</td>\n      <td>2655.0</td>\n      <td>23895.000</td>\n    </tr>\n    <tr>\n      <th>1971-02-26</th>\n      <td>NaT</td>\n      <td>NaT</td>\n      <td>None</td>\n      <td>0.0</td>\n      <td>0.236111</td>\n      <td>0.236111</td>\n      <td>2155.0</td>\n      <td>11.125</td>\n      <td>9.000</td>\n      <td>NaN</td>\n      <td>2655.0</td>\n      <td>29536.875</td>\n    </tr>\n    <tr>\n      <th>1971-03-31</th>\n      <td>NaT</td>\n      <td>NaT</td>\n      <td>None</td>\n      <td>0.0</td>\n      <td>-0.123596</td>\n      <td>-0.123596</td>\n      <td>2062.0</td>\n      <td>9.750</td>\n      <td>11.125</td>\n      <td>NaN</td>\n      <td>2655.0</td>\n      <td>25886.250</td>\n    </tr>\n  </tbody>\n</table>\n</div>"
     },
     "metadata": {},
     "execution_count": 10
    }
   ],
   "source": [
    "\n",
    "df.head()"
   ]
  },
  {
   "cell_type": "code",
   "execution_count": 11,
   "metadata": {},
   "outputs": [],
   "source": [
    "for i in range(1,13):\n",
    "     df['div_' + str(i) + '_month_ago'] = df.groupby('CUSIP').DIVAMT.apply(lambda x: x.shift(i))"
   ]
  },
  {
   "cell_type": "code",
   "execution_count": 14,
   "metadata": {},
   "outputs": [],
   "source": [
    "for i in range(1,13):\n",
    "     exec('df_' + str(i) + '_ago = df[ (df[\\'div_' + str(i) + '_month_ago\\'].isna() == False) & (df[\\'div_' + str(i) + '_month_ago\\'] != 0) & (df[\\'RET\\'].isna() == False)]')"
   ]
  },
  {
   "cell_type": "code",
   "execution_count": 15,
   "metadata": {},
   "outputs": [
    {
     "output_type": "stream",
     "name": "stdout",
     "text": [
      "1.1264949036207816\n",
      "1.2294391616393203\n",
      "1.4363564801995683\n",
      "1.0811057094766203\n",
      "1.2358596968897466\n",
      "1.4570698740263153\n",
      "1.102909578856663\n",
      "1.2189892419991226\n",
      "1.417228553692812\n",
      "1.0835303649321808\n",
      "1.2217992375250566\n",
      "1.4626582599263955\n"
     ]
    }
   ],
   "source": [
    "for i in range(1,13):\n",
    "    exec('mean_ret = pd.to_numeric(df_' + str(i) + '_ago[\\'RET\\'], errors=\\'coerce\\').mean() * 100')\n",
    "    print(mean_ret)"
   ]
  },
  {
   "cell_type": "code",
   "execution_count": 16,
   "metadata": {},
   "outputs": [
    {
     "output_type": "stream",
     "name": "stdout",
     "text": [
      "10.038192195954853\n",
      "10.11997804749717\n",
      "9.949919344166714\n",
      "10.164469661298016\n",
      "10.26301635373456\n",
      "10.067609113613027\n",
      "10.246807799857315\n",
      "10.359213454878159\n",
      "10.174604914558726\n",
      "10.424048733398124\n",
      "10.496321937510155\n",
      "10.258599778065939\n"
     ]
    }
   ],
   "source": [
    "for i in range(1,13):\n",
    "    exec('sd_ret = pd.to_numeric(df_' + str(i) + '_ago[\\'RET\\'], errors=\\'coerce\\').std() * 100')\n",
    "    print(sd_ret)"
   ]
  },
  {
   "cell_type": "code",
   "execution_count": 50,
   "metadata": {},
   "outputs": [
    {
     "output_type": "execute_result",
     "data": {
      "text/plain": [
       "                    DCLRDT RCRDDT DISTCD  DIVAMT        RET        VOL  \\\n",
       "CUSIP    date                                                            \n",
       "00003210 1970-11-30    NaT    NaT   None     0.0          C      318.0   \n",
       "         1970-12-31    NaT    NaT   None     0.0   0.111111      646.0   \n",
       "         1971-01-29    NaT    NaT   None     0.0  -0.100000      636.0   \n",
       "         1971-02-26    NaT    NaT   None     0.0   0.236111     2155.0   \n",
       "         1971-03-31    NaT    NaT   None     0.0  -0.123596     2062.0   \n",
       "...                    ...    ...    ...     ...        ...        ...   \n",
       "N5946510 2011-08-31    NaT    NaT   None     0.0  -0.089113  2419635.0   \n",
       "         2011-09-30    NaT    NaT   None     0.0  -0.181205  1672860.0   \n",
       "         2011-10-31    NaT    NaT   None     0.0   0.151854  1538552.0   \n",
       "         2011-11-30    NaT    NaT   None     0.0  -0.002044  1220142.0   \n",
       "         2011-12-30    NaT    NaT   None     0.0   0.098822  1185432.0   \n",
       "\n",
       "                        PRC  PRC_t-1  SPREAD    SHROUT  ...  div_3_month_ago  \\\n",
       "CUSIP    date                                           ...                    \n",
       "00003210 1970-11-30   9.000      NaN     NaN    2655.0  ...              NaN   \n",
       "         1970-12-31  10.000    9.000     NaN    2655.0  ...              NaN   \n",
       "         1971-01-29   9.000   10.000     NaN    2655.0  ...              NaN   \n",
       "         1971-02-26  11.125    9.000     NaN    2655.0  ...              0.0   \n",
       "         1971-03-31   9.750   11.125     NaN    2655.0  ...              0.0   \n",
       "...                     ...      ...     ...       ...  ...              ...   \n",
       "N5946510 2011-08-31  20.750   22.780     NaN  426263.0  ...              0.0   \n",
       "         2011-09-30  16.990   20.750     NaN  426485.0  ...              0.0   \n",
       "         2011-10-31  19.570   16.990     NaN  426512.0  ...              0.0   \n",
       "         2011-11-30  19.530   19.570     NaN  426512.0  ...              0.0   \n",
       "         2011-12-30  21.460   19.530     NaN  426678.0  ...              0.0   \n",
       "\n",
       "                    div_4_month_ago  div_5_month_ago  div_6_month_ago  \\\n",
       "CUSIP    date                                                           \n",
       "00003210 1970-11-30             NaN              NaN              NaN   \n",
       "         1970-12-31             NaN              NaN              NaN   \n",
       "         1971-01-29             NaN              NaN              NaN   \n",
       "         1971-02-26             NaN              NaN              NaN   \n",
       "         1971-03-31             0.0              NaN              NaN   \n",
       "...                             ...              ...              ...   \n",
       "N5946510 2011-08-31             0.0              0.0              0.0   \n",
       "         2011-09-30             0.0              0.0              0.0   \n",
       "         2011-10-31             0.0              0.0              0.0   \n",
       "         2011-11-30             0.0              0.0              0.0   \n",
       "         2011-12-30             0.0              0.0              0.0   \n",
       "\n",
       "                     div_7_month_ago  div_8_month_ago  div_9_month_ago  \\\n",
       "CUSIP    date                                                            \n",
       "00003210 1970-11-30              NaN              NaN              NaN   \n",
       "         1970-12-31              NaN              NaN              NaN   \n",
       "         1971-01-29              NaN              NaN              NaN   \n",
       "         1971-02-26              NaN              NaN              NaN   \n",
       "         1971-03-31              NaN              NaN              NaN   \n",
       "...                              ...              ...              ...   \n",
       "N5946510 2011-08-31              0.0              0.0              0.0   \n",
       "         2011-09-30              0.0              0.0              0.0   \n",
       "         2011-10-31              0.0              0.0              0.0   \n",
       "         2011-11-30              0.0              0.0              0.0   \n",
       "         2011-12-30              0.0              0.0              0.0   \n",
       "\n",
       "                     div_10_month_ago  div_11_month_ago  div_12_month_ago  \n",
       "CUSIP    date                                                              \n",
       "00003210 1970-11-30               NaN               NaN               NaN  \n",
       "         1970-12-31               NaN               NaN               NaN  \n",
       "         1971-01-29               NaN               NaN               NaN  \n",
       "         1971-02-26               NaN               NaN               NaN  \n",
       "         1971-03-31               NaN               NaN               NaN  \n",
       "...                               ...               ...               ...  \n",
       "N5946510 2011-08-31               0.0               0.0               0.0  \n",
       "         2011-09-30               0.0               0.0               0.0  \n",
       "         2011-10-31               0.0               0.0               0.0  \n",
       "         2011-11-30               0.0               0.0               0.0  \n",
       "         2011-12-30               0.0               0.0               0.0  \n",
       "\n",
       "[2079762 rows x 24 columns]"
      ],
      "text/html": "<div>\n<style scoped>\n    .dataframe tbody tr th:only-of-type {\n        vertical-align: middle;\n    }\n\n    .dataframe tbody tr th {\n        vertical-align: top;\n    }\n\n    .dataframe thead th {\n        text-align: right;\n    }\n</style>\n<table border=\"1\" class=\"dataframe\">\n  <thead>\n    <tr style=\"text-align: right;\">\n      <th></th>\n      <th></th>\n      <th>DCLRDT</th>\n      <th>RCRDDT</th>\n      <th>DISTCD</th>\n      <th>DIVAMT</th>\n      <th>RET</th>\n      <th>VOL</th>\n      <th>PRC</th>\n      <th>PRC_t-1</th>\n      <th>SPREAD</th>\n      <th>SHROUT</th>\n      <th>...</th>\n      <th>div_3_month_ago</th>\n      <th>div_4_month_ago</th>\n      <th>div_5_month_ago</th>\n      <th>div_6_month_ago</th>\n      <th>div_7_month_ago</th>\n      <th>div_8_month_ago</th>\n      <th>div_9_month_ago</th>\n      <th>div_10_month_ago</th>\n      <th>div_11_month_ago</th>\n      <th>div_12_month_ago</th>\n    </tr>\n    <tr>\n      <th>CUSIP</th>\n      <th>date</th>\n      <th></th>\n      <th></th>\n      <th></th>\n      <th></th>\n      <th></th>\n      <th></th>\n      <th></th>\n      <th></th>\n      <th></th>\n      <th></th>\n      <th></th>\n      <th></th>\n      <th></th>\n      <th></th>\n      <th></th>\n      <th></th>\n      <th></th>\n      <th></th>\n      <th></th>\n      <th></th>\n      <th></th>\n    </tr>\n  </thead>\n  <tbody>\n    <tr>\n      <th rowspan=\"5\" valign=\"top\">00003210</th>\n      <th>1970-11-30</th>\n      <td>NaT</td>\n      <td>NaT</td>\n      <td>None</td>\n      <td>0.0</td>\n      <td>C</td>\n      <td>318.0</td>\n      <td>9.000</td>\n      <td>NaN</td>\n      <td>NaN</td>\n      <td>2655.0</td>\n      <td>...</td>\n      <td>NaN</td>\n      <td>NaN</td>\n      <td>NaN</td>\n      <td>NaN</td>\n      <td>NaN</td>\n      <td>NaN</td>\n      <td>NaN</td>\n      <td>NaN</td>\n      <td>NaN</td>\n      <td>NaN</td>\n    </tr>\n    <tr>\n      <th>1970-12-31</th>\n      <td>NaT</td>\n      <td>NaT</td>\n      <td>None</td>\n      <td>0.0</td>\n      <td>0.111111</td>\n      <td>646.0</td>\n      <td>10.000</td>\n      <td>9.000</td>\n      <td>NaN</td>\n      <td>2655.0</td>\n      <td>...</td>\n      <td>NaN</td>\n      <td>NaN</td>\n      <td>NaN</td>\n      <td>NaN</td>\n      <td>NaN</td>\n      <td>NaN</td>\n      <td>NaN</td>\n      <td>NaN</td>\n      <td>NaN</td>\n      <td>NaN</td>\n    </tr>\n    <tr>\n      <th>1971-01-29</th>\n      <td>NaT</td>\n      <td>NaT</td>\n      <td>None</td>\n      <td>0.0</td>\n      <td>-0.100000</td>\n      <td>636.0</td>\n      <td>9.000</td>\n      <td>10.000</td>\n      <td>NaN</td>\n      <td>2655.0</td>\n      <td>...</td>\n      <td>NaN</td>\n      <td>NaN</td>\n      <td>NaN</td>\n      <td>NaN</td>\n      <td>NaN</td>\n      <td>NaN</td>\n      <td>NaN</td>\n      <td>NaN</td>\n      <td>NaN</td>\n      <td>NaN</td>\n    </tr>\n    <tr>\n      <th>1971-02-26</th>\n      <td>NaT</td>\n      <td>NaT</td>\n      <td>None</td>\n      <td>0.0</td>\n      <td>0.236111</td>\n      <td>2155.0</td>\n      <td>11.125</td>\n      <td>9.000</td>\n      <td>NaN</td>\n      <td>2655.0</td>\n      <td>...</td>\n      <td>0.0</td>\n      <td>NaN</td>\n      <td>NaN</td>\n      <td>NaN</td>\n      <td>NaN</td>\n      <td>NaN</td>\n      <td>NaN</td>\n      <td>NaN</td>\n      <td>NaN</td>\n      <td>NaN</td>\n    </tr>\n    <tr>\n      <th>1971-03-31</th>\n      <td>NaT</td>\n      <td>NaT</td>\n      <td>None</td>\n      <td>0.0</td>\n      <td>-0.123596</td>\n      <td>2062.0</td>\n      <td>9.750</td>\n      <td>11.125</td>\n      <td>NaN</td>\n      <td>2655.0</td>\n      <td>...</td>\n      <td>0.0</td>\n      <td>0.0</td>\n      <td>NaN</td>\n      <td>NaN</td>\n      <td>NaN</td>\n      <td>NaN</td>\n      <td>NaN</td>\n      <td>NaN</td>\n      <td>NaN</td>\n      <td>NaN</td>\n    </tr>\n    <tr>\n      <th>...</th>\n      <th>...</th>\n      <td>...</td>\n      <td>...</td>\n      <td>...</td>\n      <td>...</td>\n      <td>...</td>\n      <td>...</td>\n      <td>...</td>\n      <td>...</td>\n      <td>...</td>\n      <td>...</td>\n      <td>...</td>\n      <td>...</td>\n      <td>...</td>\n      <td>...</td>\n      <td>...</td>\n      <td>...</td>\n      <td>...</td>\n      <td>...</td>\n      <td>...</td>\n      <td>...</td>\n      <td>...</td>\n    </tr>\n    <tr>\n      <th rowspan=\"5\" valign=\"top\">N5946510</th>\n      <th>2011-08-31</th>\n      <td>NaT</td>\n      <td>NaT</td>\n      <td>None</td>\n      <td>0.0</td>\n      <td>-0.089113</td>\n      <td>2419635.0</td>\n      <td>20.750</td>\n      <td>22.780</td>\n      <td>NaN</td>\n      <td>426263.0</td>\n      <td>...</td>\n      <td>0.0</td>\n      <td>0.0</td>\n      <td>0.0</td>\n      <td>0.0</td>\n      <td>0.0</td>\n      <td>0.0</td>\n      <td>0.0</td>\n      <td>0.0</td>\n      <td>0.0</td>\n      <td>0.0</td>\n    </tr>\n    <tr>\n      <th>2011-09-30</th>\n      <td>NaT</td>\n      <td>NaT</td>\n      <td>None</td>\n      <td>0.0</td>\n      <td>-0.181205</td>\n      <td>1672860.0</td>\n      <td>16.990</td>\n      <td>20.750</td>\n      <td>NaN</td>\n      <td>426485.0</td>\n      <td>...</td>\n      <td>0.0</td>\n      <td>0.0</td>\n      <td>0.0</td>\n      <td>0.0</td>\n      <td>0.0</td>\n      <td>0.0</td>\n      <td>0.0</td>\n      <td>0.0</td>\n      <td>0.0</td>\n      <td>0.0</td>\n    </tr>\n    <tr>\n      <th>2011-10-31</th>\n      <td>NaT</td>\n      <td>NaT</td>\n      <td>None</td>\n      <td>0.0</td>\n      <td>0.151854</td>\n      <td>1538552.0</td>\n      <td>19.570</td>\n      <td>16.990</td>\n      <td>NaN</td>\n      <td>426512.0</td>\n      <td>...</td>\n      <td>0.0</td>\n      <td>0.0</td>\n      <td>0.0</td>\n      <td>0.0</td>\n      <td>0.0</td>\n      <td>0.0</td>\n      <td>0.0</td>\n      <td>0.0</td>\n      <td>0.0</td>\n      <td>0.0</td>\n    </tr>\n    <tr>\n      <th>2011-11-30</th>\n      <td>NaT</td>\n      <td>NaT</td>\n      <td>None</td>\n      <td>0.0</td>\n      <td>-0.002044</td>\n      <td>1220142.0</td>\n      <td>19.530</td>\n      <td>19.570</td>\n      <td>NaN</td>\n      <td>426512.0</td>\n      <td>...</td>\n      <td>0.0</td>\n      <td>0.0</td>\n      <td>0.0</td>\n      <td>0.0</td>\n      <td>0.0</td>\n      <td>0.0</td>\n      <td>0.0</td>\n      <td>0.0</td>\n      <td>0.0</td>\n      <td>0.0</td>\n    </tr>\n    <tr>\n      <th>2011-12-30</th>\n      <td>NaT</td>\n      <td>NaT</td>\n      <td>None</td>\n      <td>0.0</td>\n      <td>0.098822</td>\n      <td>1185432.0</td>\n      <td>21.460</td>\n      <td>19.530</td>\n      <td>NaN</td>\n      <td>426678.0</td>\n      <td>...</td>\n      <td>0.0</td>\n      <td>0.0</td>\n      <td>0.0</td>\n      <td>0.0</td>\n      <td>0.0</td>\n      <td>0.0</td>\n      <td>0.0</td>\n      <td>0.0</td>\n      <td>0.0</td>\n      <td>0.0</td>\n    </tr>\n  </tbody>\n</table>\n<p>2079762 rows × 24 columns</p>\n</div>"
     },
     "metadata": {},
     "execution_count": 50
    }
   ],
   "source": []
  },
  {
   "cell_type": "code",
   "execution_count": null,
   "metadata": {},
   "outputs": [],
   "source": []
  }
 ]
}